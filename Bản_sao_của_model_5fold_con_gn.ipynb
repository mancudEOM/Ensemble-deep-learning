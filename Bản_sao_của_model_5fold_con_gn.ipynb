{
  "cells": [
    {
      "cell_type": "markdown",
      "metadata": {
        "id": "view-in-github",
        "colab_type": "text"
      },
      "source": [
        "<a href=\"https://colab.research.google.com/github/mancudEOM/Ensemble-deep-learning/blob/main/B%E1%BA%A3n_sao_c%E1%BB%A7a_model_5fold_con_gn.ipynb\" target=\"_parent\"><img src=\"https://colab.research.google.com/assets/colab-badge.svg\" alt=\"Open In Colab\"/></a>"
      ]
    },
    {
      "cell_type": "code",
      "execution_count": 44,
      "metadata": {
        "colab": {
          "base_uri": "https://localhost:8080/"
        },
        "id": "re2cPhu8Glvf",
        "outputId": "08da1fee-4712-48c8-9227-b2706555a3ac"
      },
      "outputs": [
        {
          "output_type": "stream",
          "name": "stdout",
          "text": [
            "Drive already mounted at /content/drive; to attempt to forcibly remount, call drive.mount(\"/content/drive\", force_remount=True).\n"
          ]
        }
      ],
      "source": [
        "  from google.colab import drive\n",
        "  drive.mount('/content/drive')\n",
        "\n"
      ]
    },
    {
      "cell_type": "code",
      "execution_count": 45,
      "metadata": {
        "colab": {
          "base_uri": "https://localhost:8080/"
        },
        "id": "16aNt0njGqgR",
        "outputId": "42c85540-584b-4089-fb05-4339efef3260"
      },
      "outputs": [
        {
          "output_type": "stream",
          "name": "stdout",
          "text": [
            "drive  sample_data\n"
          ]
        }
      ],
      "source": [
        "  !ls\n"
      ]
    },
    {
      "cell_type": "code",
      "execution_count": 46,
      "metadata": {
        "id": "6kpNIXuzGskg"
      },
      "outputs": [],
      "source": [
        "  import sys\n",
        "  root_path = '/content/drive/My Drive/Groundnut_Leaf_dataset/' # This is the path to where in google drive the code is stored!\n",
        "  sys.path.append(root_path)"
      ]
    },
    {
      "cell_type": "markdown",
      "metadata": {
        "id": "qMNSUzIxL7JZ"
      },
      "source": [
        "# THÊM TẤT CẢ CÁC THƯ VIỆN CẦN THIẾT"
      ]
    },
    {
      "cell_type": "code",
      "execution_count": 47,
      "metadata": {
        "id": "NJq2Vm2hHTWR",
        "colab": {
          "base_uri": "https://localhost:8080/"
        },
        "outputId": "f6ce2836-aa2a-4edb-a76f-d442bb532d1b"
      },
      "outputs": [
        {
          "output_type": "stream",
          "name": "stderr",
          "text": [
            "/usr/local/lib/python3.10/dist-packages/tensorflow/python/client/session.py:1769: UserWarning:\n",
            "\n",
            "An interactive session is already active. This can cause out-of-memory errors in some cases. You must explicitly call `InteractiveSession.close()` to release resources held by the other session(s).\n",
            "\n"
          ]
        }
      ],
      "source": [
        "import numpy as np\n",
        "from sklearn.metrics import accuracy_score, f1_score, precision_score, confusion_matrix\n",
        "from sklearn.model_selection import StratifiedKFold\n",
        "from PIL import Image\n",
        "import random\n",
        "import tensorflow as tf\n",
        "from tensorflow.keras.models import Sequential\n",
        "from keras.preprocessing.image import ImageDataGenerator\n",
        "from tensorflow.keras.preprocessing.image import ImageDataGenerator\n",
        "from tensorflow.keras.layers import Dense, Dropout, Flatten, Conv2D, MaxPooling2D\n",
        "\n",
        "from tensorflow.compat.v1 import ConfigProto\n",
        "from tensorflow.compat.v1 import InteractiveSession\n",
        "import warnings\n",
        "import os\n",
        "import shutil\n",
        "from PIL import ImageFile\n",
        "warnings.simplefilter('error', Image.DecompressionBombWarning)\n",
        "ImageFile.LOAD_TRUNCATED_IMAGES = True\n",
        "Image.MAX_IMAGE_PIXELS = 1000000000\n",
        "config = ConfigProto()\n",
        "config.gpu_options.allow_growth = True\n",
        "session = InteractiveSession(config=config)"
      ]
    },
    {
      "cell_type": "markdown",
      "metadata": {
        "id": "QYpc-VdEMGBS"
      },
      "source": [
        "# Khởi tạo các biến cần thiết"
      ]
    },
    {
      "cell_type": "code",
      "execution_count": 48,
      "metadata": {
        "id": "iCy2O5d9Jxq6"
      },
      "outputs": [],
      "source": [
        "datasetFolderName=root_path+'dataset'\n",
        "MODEL_FILENAME=root_path+\"model_cv.h5\"\n",
        "sourceFiles=[]\n",
        "classLabels=['early_leaf_spot_1','early_rust_1','healthy_leaf_1',\n",
        "              'late_leaf_spot_1','nutrition_deficiency_1','rust_1']\n",
        "X=[]\n",
        "Y=[]\n",
        "\n",
        "img_rows, img_cols =  224, 224\n",
        "# input image dimensions\n",
        "#img_rows, img_cols =  224, 224 # input image dimensions\n",
        "train_path=datasetFolderName+'/train/'\n",
        "validation_path=datasetFolderName+'/validation/'\n",
        "test_path=datasetFolderName+'/test/'"
      ]
    },
    {
      "cell_type": "markdown",
      "metadata": {
        "id": "LyAnSQTbMblZ"
      },
      "source": [
        "# KFOLD train-test-validation"
      ]
    },
    {
      "cell_type": "code",
      "execution_count": 49,
      "metadata": {
        "id": "RgfHPIHbJ4rR"
      },
      "outputs": [],
      "source": [
        "def transferBetweenFolders(source, dest, splitRate):\n",
        "    global sourceFiles\n",
        "    sourceFiles=os.listdir(source)\n",
        "    if(len(sourceFiles)!=0):\n",
        "        transferFileNumbers=int(len(sourceFiles)*splitRate)\n",
        "        transferIndex=random.sample(range(0, len(sourceFiles)), transferFileNumbers)\n",
        "        for eachIndex in transferIndex:\n",
        "            shutil.move(source+str(sourceFiles[eachIndex]), dest+str(sourceFiles[eachIndex]))\n",
        "    else:\n",
        "        print(\"No file moved. Source empty!\")\n",
        "\n",
        "def transferAllClassBetweenFolders(source, dest, splitRate):\n",
        "    for label in classLabels:\n",
        "        transferBetweenFolders(datasetFolderName+'/'+source+'/'+label+'/',\n",
        "                               datasetFolderName+'/'+dest+'/'+label+'/',\n",
        "                               splitRate)"
      ]
    },
    {
      "cell_type": "code",
      "execution_count": 50,
      "metadata": {
        "id": "stSX_AiNKleb"
      },
      "outputs": [],
      "source": [
        "#transferAllClassBetweenFolders('test', 'train', 1.0)"
      ]
    },
    {
      "cell_type": "code",
      "execution_count": 51,
      "metadata": {
        "id": "Z6o8gWE-N-rq"
      },
      "outputs": [],
      "source": [
        "transferAllClassBetweenFolders('validation', 'train', 1.0)"
      ]
    },
    {
      "cell_type": "code",
      "execution_count": 52,
      "metadata": {
        "id": "arE4ro1JKqIh"
      },
      "outputs": [],
      "source": [
        "#transferAllClassBetweenFolders('train', 'test', 0.20)"
      ]
    },
    {
      "cell_type": "code",
      "execution_count": 53,
      "metadata": {
        "id": "73VhRSA2K0fp"
      },
      "outputs": [],
      "source": [
        "def prepareNameWithLabels(folderName):\n",
        "    sourceFiles=os.listdir(datasetFolderName+'/train/'+folderName)\n",
        "    for val in sourceFiles:\n",
        "        X.append(val)\n",
        "        for i in range(len(classLabels)):\n",
        "          if(folderName==classLabels[i]):\n",
        "              Y.append(i)"
      ]
    },
    {
      "cell_type": "code",
      "execution_count": 54,
      "metadata": {
        "id": "u6pP6P3YK2Ub"
      },
      "outputs": [],
      "source": [
        "# Organize file names and class labels in X and Y variables\n",
        "for i in range(len(classLabels)):\n",
        "  prepareNameWithLabels(classLabels[i])"
      ]
    },
    {
      "cell_type": "code",
      "execution_count": 55,
      "metadata": {
        "id": "WZHmT5JgK3xa"
      },
      "outputs": [],
      "source": [
        "X=np.asarray(X)\n",
        "Y=np.asarray(Y)"
      ]
    },
    {
      "cell_type": "code",
      "execution_count": 56,
      "metadata": {
        "colab": {
          "base_uri": "https://localhost:8080/"
        },
        "id": "MzTCDvyoM28y",
        "outputId": "35db5dd1-1894-4c08-c6f1-5802392b8a52"
      },
      "outputs": [
        {
          "output_type": "stream",
          "name": "stdout",
          "text": [
            "['IMG_09858.jpg' 'IMG_4096.jpg' 'dr_28_4372.jpg' ... 'dr_21_8287.jpg'\n",
            " 'dr_41_2719.jpg' 'dr_13_3101.jpg']\n",
            "[0 0 0 ... 5 5 5]\n"
          ]
        }
      ],
      "source": [
        "print(X)\n",
        "print(Y)"
      ]
    },
    {
      "cell_type": "code",
      "execution_count": 57,
      "metadata": {
        "id": "WtnpSQSxX-67"
      },
      "outputs": [],
      "source": [
        "batch_size = 16\n",
        "IMG_SIZE = (224, 224, 3)\n",
        "number_of_class_labels = len(classLabels)"
      ]
    },
    {
      "cell_type": "code",
      "execution_count": 58,
      "metadata": {
        "id": "OKucCyffZ5cD"
      },
      "outputs": [],
      "source": [
        "import tensorflow.keras as keras"
      ]
    },
    {
      "cell_type": "code",
      "execution_count": 59,
      "metadata": {
        "id": "zWFE6eJxZvCD"
      },
      "outputs": [],
      "source": [
        "# Create a data augmentation stage with horizontal flipping, rotations, zooms\n",
        "data_augmentation = keras.Sequential(\n",
        "    [\n",
        "        keras.layers.Rescaling(1./ 255),\n",
        "        keras.layers.RandomFlip(),\n",
        "        keras.layers.RandomRotation(0.2),\n",
        "        keras.layers.RandomZoom(0.2,0.3)\n",
        "    ]\n",
        ")"
      ]
    },
    {
      "cell_type": "code",
      "execution_count": 60,
      "metadata": {
        "id": "A929RzhDZ7wR"
      },
      "outputs": [],
      "source": [
        "#pre_trained_layers = keras.applications.ResNet50V2(weights=\"imagenet\", include_top=False,\n",
        "#           input_tensor=keras.Input(shape=IMG_SIZE))"
      ]
    },
    {
      "cell_type": "code",
      "execution_count": 61,
      "metadata": {
        "id": "MRoc6m_k7kpj"
      },
      "outputs": [],
      "source": [
        "#pre_trained_layers = tf.keras.applications.MobileNetV2(weights=\"imagenet\", include_top=False,\n",
        "#            input_tensor=keras.Input(shape=IMG_SIZE))"
      ]
    },
    {
      "cell_type": "code",
      "execution_count": 62,
      "metadata": {
        "id": "wbD80LCePblH"
      },
      "outputs": [],
      "source": [
        "\n",
        "#pre_trained_layers = keras.applications.Xception(weights=\"imagenet\", include_top=False,\n",
        "#         input_tensor=keras.Input(shape=IMG_SIZE))"
      ]
    },
    {
      "cell_type": "code",
      "execution_count": 63,
      "metadata": {
        "id": "kFkcL4A1JffX"
      },
      "outputs": [],
      "source": [
        "#pre_trained_layers = tf.keras.applications.InceptionV3(weights=\"imagenet\", include_top=False,\n",
        "#           input_tensor=keras.Input(shape=IMG_SIZE))"
      ]
    },
    {
      "cell_type": "code",
      "execution_count": 64,
      "metadata": {
        "id": "V-K3rsDLaLWL"
      },
      "outputs": [],
      "source": [
        "#pre_trained_layers.summary()\n"
      ]
    },
    {
      "cell_type": "code",
      "execution_count": 65,
      "metadata": {
        "id": "q-xZEOqCLWIb"
      },
      "outputs": [],
      "source": [
        "\n",
        "from tensorflow.keras.models import Model, load_model\n",
        "from tensorflow.keras.layers import Input, Average\n",
        "from keras.models import Model\n",
        "from keras.layers import Input, Dense\n",
        "import tensorflow as tf"
      ]
    },
    {
      "cell_type": "code",
      "execution_count": 66,
      "metadata": {
        "id": "GTVtq8kOc-6p"
      },
      "outputs": [],
      "source": [
        "class WeightedAverageLayer(tf.keras.layers.Layer):\n",
        "    def __init__(self, w1, w2, w3, **kwargs):\n",
        "        super(WeightedAverageLayer, self).__init__(**kwargs)\n",
        "        self.w1 = w1\n",
        "        self.w2 = w2\n",
        "        self.w3 = w3\n",
        "\n",
        "    def call(self, inputs):\n",
        "        return self.w1 * inputs[0] + self.w2 * inputs[1] + self.w3 * inputs[2]"
      ]
    },
    {
      "cell_type": "code",
      "execution_count": 67,
      "metadata": {
        "id": "e7mWjTIVnUi9"
      },
      "outputs": [],
      "source": [
        "class MajorVoting(tf.keras.layers.Layer):\n",
        "    def __init__(self, w1, w2, w3, **kwargs):\n",
        "        super(MajorVoting, self).__init__(**kwargs)\n",
        "        self.w1 = w1\n",
        "        self.w2 = w2\n",
        "        self.w3 = w3\n",
        "\n",
        "    def call(self, inputs):\n",
        "        return np.argmax(input[0],input[1],input[2], axis=1)"
      ]
    },
    {
      "cell_type": "code",
      "execution_count": 68,
      "metadata": {
        "id": "a2XCfosOtrum"
      },
      "outputs": [],
      "source": [
        "from tensorflow.keras.layers import Concatenate"
      ]
    },
    {
      "cell_type": "code",
      "execution_count": 69,
      "metadata": {
        "id": "R2Oq0Kl4IUFm"
      },
      "outputs": [],
      "source": [
        "# Disable scientific notation for clarity\n",
        "np.set_printoptions(suppress=True)\n",
        "# Load the model\n",
        "model_1 =load_model(root_path+\"model_5fold_MobileNetV2_GN07mm.h5\",\n",
        "                    compile=False)\n",
        "model_1 = Model(inputs=model_1.inputs,\n",
        "                outputs=model_1.outputs,\n",
        "                name='model_5fold_MobileNetV2_GN07mm')\n",
        "model_2 = load_model(root_path+\"model_5fold_ResNet50V2_GN07.h5\",\n",
        "                     compile=False)\n",
        "model_2 = Model(inputs=model_1.inputs,\n",
        "                outputs=model_1.outputs,\n",
        "                name='model_5fold_ResNet50V2_GN07')\n",
        "model_3 = load_model(root_path+\"model_5fold_InceptionV3_GN07mm.h5\",\n",
        "                     compile=False)\n",
        "model_3 = Model(inputs=model_1.inputs,\n",
        "                outputs=model_1.outputs,\n",
        "                name='model_5fold_InceptionV3_GN07mm')\n",
        "models = [model_1, model_2, model_3]\n",
        "model_input = Input(shape=(224, 224, 3))\n",
        "model_outputs = [model(model_input) for model in models]\n",
        "#ensemble_output = Average()(model_outputs)\n",
        "#ensemble_output = WeightedAverageLayer(0.1, 0.575, 0.325)(model_outputs)\n",
        "\n",
        "ensemble_output = Concatenate()(model_outputs)\n",
        "ensemble_output = Dense(32, activation='relu')(ensemble_output)\n",
        "ensemble_output = Dropout(0.3)(ensemble_output)\n",
        "ensemble_output = Dense(6, activation='softmax', name='output')(ensemble_output)\n",
        "ensemble_model= Model(inputs=model_input, outputs=ensemble_output, name='ensemble')\n"
      ]
    },
    {
      "cell_type": "code",
      "execution_count": 70,
      "metadata": {
        "id": "MU_j6dypcPwp"
      },
      "outputs": [],
      "source": [
        "\n",
        "#Creating custom model\n",
        "\n"
      ]
    },
    {
      "cell_type": "code",
      "execution_count": 71,
      "metadata": {
        "id": "41gFu9xKb0CU"
      },
      "outputs": [],
      "source": [
        "EPOCHS = 5\n",
        "LR = 1e-3\n",
        "ensemble_model.compile(optimizer=keras.optimizers.Adam(learning_rate=LR),\n",
        "              loss=tf.keras.losses.SparseCategoricalCrossentropy(),\n",
        "              metrics=['accuracy'])"
      ]
    },
    {
      "cell_type": "code",
      "execution_count": 72,
      "metadata": {
        "id": "XCFHANKAcmVS"
      },
      "outputs": [],
      "source": [
        "#printing summary of custom model\n",
        "#ensemble_model.build((1,224,224,3))\n",
        "#ensemble_model.summary()"
      ]
    },
    {
      "cell_type": "code",
      "execution_count": 73,
      "metadata": {
        "id": "AMvex2WIc1hi"
      },
      "outputs": [],
      "source": [
        "from tensorflow.keras.callbacks import ReduceLROnPlateau"
      ]
    },
    {
      "cell_type": "code",
      "execution_count": 74,
      "metadata": {
        "id": "LM1NDxA1cnxB"
      },
      "outputs": [],
      "source": [
        "# Callback -> Reduce Learning Rate on Plateau\n",
        "callback = ReduceLROnPlateau(monitor='val_loss', factor=0.1, patience=3, verbose=1, mode='auto',\n",
        "                             min_delta=0.000001, cooldown=0, min_lr=0.000001)"
      ]
    },
    {
      "cell_type": "code",
      "execution_count": 75,
      "metadata": {
        "colab": {
          "base_uri": "https://localhost:8080/"
        },
        "id": "h6-FwHIUaRPh",
        "outputId": "6267b7db-a48a-493e-9cf6-1f83d0bf2a1c"
      },
      "outputs": [
        {
          "output_type": "stream",
          "name": "stdout",
          "text": [
            "No file moved. Source empty!\n",
            "No file moved. Source empty!\n",
            "No file moved. Source empty!\n",
            "No file moved. Source empty!\n",
            "No file moved. Source empty!\n",
            "No file moved. Source empty!\n",
            "Results for fold 1\n",
            "Found 1584 files belonging to 6 classes.\n",
            "Found 396 files belonging to 6 classes.\n",
            "Epoch 1/5\n",
            "99/99 [==============================] - 70s 250ms/step - loss: 1.5419 - accuracy: 0.4444 - val_loss: 1.3973 - val_accuracy: 0.5960 - lr: 0.0010\n",
            "Epoch 2/5\n",
            "99/99 [==============================] - 24s 236ms/step - loss: 1.1688 - accuracy: 0.6117 - val_loss: 1.9076 - val_accuracy: 0.3359 - lr: 0.0010\n",
            "Epoch 3/5\n",
            "99/99 [==============================] - 24s 235ms/step - loss: 1.0040 - accuracy: 0.6124 - val_loss: 2.3125 - val_accuracy: 0.2273 - lr: 0.0010\n",
            "Epoch 4/5\n",
            "99/99 [==============================] - ETA: 0s - loss: 1.0004 - accuracy: 0.6111\n",
            "Epoch 4: ReduceLROnPlateau reducing learning rate to 0.00010000000474974513.\n",
            "99/99 [==============================] - 23s 226ms/step - loss: 1.0004 - accuracy: 0.6111 - val_loss: 2.9263 - val_accuracy: 0.2222 - lr: 0.0010\n",
            "Epoch 5/5\n",
            "99/99 [==============================] - 23s 225ms/step - loss: 0.8342 - accuracy: 0.6989 - val_loss: 2.0345 - val_accuracy: 0.3864 - lr: 1.0000e-04\n",
            "25/25 [==============================] - 2s 72ms/step - loss: 2.0345 - accuracy: 0.3864\n",
            "Results for fold 2\n",
            "Found 1584 files belonging to 6 classes.\n",
            "Found 396 files belonging to 6 classes.\n",
            "Epoch 1/5\n",
            "99/99 [==============================] - 23s 223ms/step - loss: 0.7895 - accuracy: 0.7014 - val_loss: 1.3103 - val_accuracy: 0.5480 - lr: 1.0000e-04\n",
            "Epoch 2/5\n",
            "99/99 [==============================] - 23s 226ms/step - loss: 0.7506 - accuracy: 0.7241 - val_loss: 0.7978 - val_accuracy: 0.6667 - lr: 1.0000e-04\n",
            "Epoch 3/5\n",
            "99/99 [==============================] - 22s 223ms/step - loss: 0.7322 - accuracy: 0.7229 - val_loss: 0.7141 - val_accuracy: 0.7020 - lr: 1.0000e-04\n",
            "Epoch 4/5\n",
            "99/99 [==============================] - 23s 234ms/step - loss: 0.6997 - accuracy: 0.7260 - val_loss: 0.5973 - val_accuracy: 0.7551 - lr: 1.0000e-04\n",
            "Epoch 5/5\n",
            "99/99 [==============================] - 23s 225ms/step - loss: 0.7029 - accuracy: 0.7437 - val_loss: 0.6268 - val_accuracy: 0.7475 - lr: 1.0000e-04\n",
            "25/25 [==============================] - 2s 61ms/step - loss: 0.6268 - accuracy: 0.7475\n",
            "Results for fold 3\n",
            "Found 1584 files belonging to 6 classes.\n",
            "Found 396 files belonging to 6 classes.\n",
            "Epoch 1/5\n",
            "99/99 [==============================] - 23s 228ms/step - loss: 0.6769 - accuracy: 0.7481 - val_loss: 0.6176 - val_accuracy: 0.7803 - lr: 1.0000e-04\n",
            "Epoch 2/5\n",
            "99/99 [==============================] - 22s 222ms/step - loss: 0.6689 - accuracy: 0.7468 - val_loss: 0.5941 - val_accuracy: 0.7929 - lr: 1.0000e-04\n",
            "Epoch 3/5\n",
            "99/99 [==============================] - 22s 220ms/step - loss: 0.6648 - accuracy: 0.7443 - val_loss: 0.6295 - val_accuracy: 0.7778 - lr: 1.0000e-04\n",
            "Epoch 4/5\n",
            "99/99 [==============================] - 23s 231ms/step - loss: 0.6168 - accuracy: 0.7708 - val_loss: 0.5779 - val_accuracy: 0.7955 - lr: 1.0000e-04\n",
            "Epoch 5/5\n",
            "99/99 [==============================] - 24s 238ms/step - loss: 0.6439 - accuracy: 0.7462 - val_loss: 0.5758 - val_accuracy: 0.7955 - lr: 1.0000e-04\n",
            "25/25 [==============================] - 2s 63ms/step - loss: 0.5758 - accuracy: 0.7955\n",
            "Results for fold 4\n",
            "Found 1584 files belonging to 6 classes.\n",
            "Found 396 files belonging to 6 classes.\n",
            "Epoch 1/5\n",
            "99/99 [==============================] - 24s 235ms/step - loss: 0.6443 - accuracy: 0.7664 - val_loss: 0.6850 - val_accuracy: 0.7146 - lr: 1.0000e-04\n",
            "Epoch 2/5\n",
            "99/99 [==============================] - 22s 218ms/step - loss: 0.6331 - accuracy: 0.7468 - val_loss: 0.5003 - val_accuracy: 0.8157 - lr: 1.0000e-04\n",
            "Epoch 3/5\n",
            "99/99 [==============================] - 22s 218ms/step - loss: 0.6175 - accuracy: 0.7500 - val_loss: 0.5026 - val_accuracy: 0.8106 - lr: 1.0000e-04\n",
            "Epoch 4/5\n",
            "99/99 [==============================] - 23s 229ms/step - loss: 0.6050 - accuracy: 0.7639 - val_loss: 0.4956 - val_accuracy: 0.8106 - lr: 1.0000e-04\n",
            "Epoch 5/5\n",
            "99/99 [==============================] - 22s 219ms/step - loss: 0.5751 - accuracy: 0.7866 - val_loss: 0.4945 - val_accuracy: 0.8182 - lr: 1.0000e-04\n",
            "25/25 [==============================] - 2s 60ms/step - loss: 0.4945 - accuracy: 0.8182\n",
            "Results for fold 5\n",
            "Found 1584 files belonging to 6 classes.\n",
            "Found 396 files belonging to 6 classes.\n",
            "Epoch 1/5\n",
            "99/99 [==============================] - 23s 230ms/step - loss: 0.5673 - accuracy: 0.7721 - val_loss: 0.4686 - val_accuracy: 0.8232 - lr: 1.0000e-04\n",
            "Epoch 2/5\n",
            "99/99 [==============================] - 22s 221ms/step - loss: 0.5514 - accuracy: 0.7841 - val_loss: 0.4603 - val_accuracy: 0.8157 - lr: 1.0000e-04\n",
            "Epoch 3/5\n",
            "99/99 [==============================] - 22s 219ms/step - loss: 0.5467 - accuracy: 0.7746 - val_loss: 0.4641 - val_accuracy: 0.8207 - lr: 1.0000e-04\n",
            "Epoch 4/5\n",
            "99/99 [==============================] - 23s 228ms/step - loss: 0.5417 - accuracy: 0.7696 - val_loss: 0.4694 - val_accuracy: 0.8131 - lr: 1.0000e-04\n",
            "Epoch 5/5\n",
            "99/99 [==============================] - ETA: 0s - loss: 0.5378 - accuracy: 0.7759\n",
            "Epoch 5: ReduceLROnPlateau reducing learning rate to 1.0000000474974514e-05.\n",
            "99/99 [==============================] - 22s 220ms/step - loss: 0.5378 - accuracy: 0.7759 - val_loss: 0.5523 - val_accuracy: 0.7803 - lr: 1.0000e-04\n",
            "25/25 [==============================] - 2s 59ms/step - loss: 0.5523 - accuracy: 0.7803\n"
          ]
        }
      ],
      "source": [
        "skf = StratifiedKFold(n_splits=5, shuffle=True)\n",
        "skf.get_n_splits(X, Y)\n",
        "fold_num = 0\n",
        "for train_index, val_index in skf.split(X, Y):\n",
        "    # First cut all images from validation to train (if any exists)\n",
        "    transferAllClassBetweenFolders('validation', 'train', 1.0)\n",
        "    fold_num += 1\n",
        "    print(\"Results for fold\", fold_num)\n",
        "    X_train, X_val = X[train_index], X[val_index]\n",
        "    Y_train, Y_val = Y[train_index], Y[val_index]\n",
        "    # Move validation images of this fold from train folder to the validation folder\n",
        "    for each_index in range(len(X_val)):\n",
        "        class_label = ''\n",
        "        for i in range(len(classLabels)):\n",
        "            if(Y_val[each_index] == i):\n",
        "                class_label = classLabels[i]\n",
        "        # Then, copy the validation images to the validation folder\n",
        "        shutil.move(os.path.join(datasetFolderName, 'train', class_label, X_val[each_index]),\n",
        "                    os.path.join(datasetFolderName, 'validation', class_label, X_val[each_index]))\n",
        "\n",
        "\n",
        "\n",
        "    # Start ImageClassification Model\n",
        "    #creating train data set\n",
        "\n",
        "    train_generator = tf.keras.utils.image_dataset_from_directory(\n",
        "        train_path,\n",
        "        image_size=(IMG_SIZE[0], IMG_SIZE[1]),\n",
        "        batch_size=batch_size,\n",
        "        )\n",
        "\n",
        "    validation_generator = tf.keras.utils.image_dataset_from_directory(\n",
        "        validation_path,\n",
        "        image_size=(IMG_SIZE[0], IMG_SIZE[1]),\n",
        "        batch_size=batch_size,\n",
        "\n",
        "          # only data, no labels\n",
        "        shuffle=False\n",
        "        )\n",
        "\n",
        "    history = ensemble_model.fit(train_generator, epochs=EPOCHS, validation_data=validation_generator, callbacks=callback)\n",
        "    ensemble_model.evaluate(validation_generator)"
      ]
    },
    {
      "cell_type": "code",
      "execution_count": 76,
      "metadata": {
        "id": "jJurHyH7k6Ny"
      },
      "outputs": [],
      "source": [
        "from sklearn.metrics import classification_report, roc_curve, roc_auc_score\n",
        "import pandas as pd\n",
        "import plotly.graph_objects as go\n",
        "import plotly.express as px\n",
        "import matplotlib.pyplot as plt"
      ]
    },
    {
      "cell_type": "code",
      "execution_count": 77,
      "metadata": {
        "id": "TOQlD_ZTko2y",
        "colab": {
          "base_uri": "https://localhost:8080/",
          "height": 457
        },
        "outputId": "06db9592-07e9-4341-d1f0-f8c1e6567a09"
      },
      "outputs": [
        {
          "output_type": "display_data",
          "data": {
            "text/plain": [
              "<Figure size 640x480 with 1 Axes>"
            ],
            "image/png": "[encoded data removed]"
          },
          "metadata": {}
        }
      ],
      "source": [
        "plt.title(\"Loss\", fontdict={'fontsize':18})\n",
        "plt.plot(history.history['loss'],label='train')\n",
        "plt.plot(history.history['val_loss'],label='test')\n",
        "plt.legend()\n",
        "plt.show()"
      ]
    },
    {
      "cell_type": "code",
      "execution_count": 78,
      "metadata": {
        "id": "7pwYMz2Bkyt5",
        "colab": {
          "base_uri": "https://localhost:8080/",
          "height": 457
        },
        "outputId": "ccf4447f-8045-4f0d-f7a6-1da3a80fcf69"
      },
      "outputs": [
        {
          "output_type": "display_data",
          "data": {
            "text/plain": [
              "<Figure size 640x480 with 1 Axes>"
            ],
            "image/png": "[encoded data removed]"
          },
          "metadata": {}
        }
      ],
      "source": [
        "plt.title(\"Accuracy\", fontdict={'fontsize':18})\n",
        "plt.plot(history.history['accuracy'],label='train')\n",
        "plt.plot(history.history['val_accuracy'],label='test')\n",
        "plt.legend()\n",
        "plt.show()"
      ]
    },
    {
      "cell_type": "code",
      "execution_count": 79,
      "metadata": {
        "id": "93F3DoWUk7Oa"
      },
      "outputs": [],
      "source": [
        "Y_train = []\n",
        "X_train = []\n",
        "for data in train_generator:\n",
        "    X_train.extend(data[0].numpy())\n",
        "    Y_train.extend(data[1].numpy())\n",
        "Y_train = np.array(Y_train)\n",
        "X_train = np.array(X_train)"
      ]
    },
    {
      "cell_type": "code",
      "execution_count": 80,
      "metadata": {
        "id": "IAbUM7JblMA6",
        "colab": {
          "base_uri": "https://localhost:8080/"
        },
        "outputId": "6e7da749-5c24-459d-af64-9c8b9a6f6ab7"
      },
      "outputs": [
        {
          "output_type": "stream",
          "name": "stdout",
          "text": [
            "50/50 [==============================] - 8s 105ms/step\n"
          ]
        }
      ],
      "source": [
        "y_train_pred_prob = ensemble_model.predict(X_train)\n",
        "y_train_pred = [np.argmax(i) for i in y_train_pred_prob]"
      ]
    },
    {
      "cell_type": "code",
      "execution_count": 81,
      "metadata": {
        "id": "ubgm_cWxlUrD",
        "colab": {
          "base_uri": "https://localhost:8080/"
        },
        "outputId": "35202341-230c-4e27-f988-771fa69a2a74"
      },
      "outputs": [
        {
          "output_type": "execute_result",
          "data": {
            "text/plain": [
              "(1584, 6)"
            ]
          },
          "metadata": {},
          "execution_count": 81
        }
      ],
      "source": [
        "y_train_pred_prob.shape"
      ]
    },
    {
      "cell_type": "code",
      "execution_count": 82,
      "metadata": {
        "id": "A5Ywk5jrlVYi"
      },
      "outputs": [],
      "source": [
        "#function to plot roc-auc curve\n",
        "def roc_auc_curve(y_scores, y_true):\n",
        "    # One hot encode the labels in order to plot them\n",
        "    y_onehot = pd.get_dummies(y_true, columns=classLabels)\n",
        "\n",
        "    # Create an empty figure, and iteratively add new lines\n",
        "    # every time we compute a new class\n",
        "    fig = go.Figure()\n",
        "    fig.add_shape(\n",
        "        type='line', line=dict(dash='dash'),\n",
        "        x0=0, x1=1, y0=0, y1=1\n",
        "    )\n",
        "\n",
        "    for i in range(y_scores.shape[1]):\n",
        "        y_true = y_onehot.iloc[:, i]\n",
        "        y_score = y_scores[:, i]\n",
        "\n",
        "        fpr, tpr, _ = roc_curve(y_true, y_score)\n",
        "        auc_score = roc_auc_score(y_true, y_score)\n",
        "\n",
        "        name = f\"{classLabels[i]} (AUC={auc_score:.2f})\"\n",
        "        fig.add_trace(go.Scatter(x=fpr, y=tpr, name=name, mode='lines'))\n",
        "\n",
        "    fig.update_layout(\n",
        "        title=\"ROC Curve\",\n",
        "        xaxis_title='False Positive Rate',\n",
        "        yaxis_title='True Positive Rate',\n",
        "        yaxis=dict(scaleanchor=\"x\", scaleratio=1),\n",
        "        xaxis=dict(constrain='domain'),\n",
        "        width=900, height=800\n",
        "    )\n",
        "\n",
        "    return fig"
      ]
    },
    {
      "cell_type": "code",
      "execution_count": 83,
      "metadata": {
        "id": "YlYX57A4lj1J"
      },
      "outputs": [],
      "source": [
        "import seaborn as sb"
      ]
    },
    {
      "cell_type": "code",
      "execution_count": 84,
      "metadata": {
        "id": "sZZQfWeDl9wq",
        "colab": {
          "base_uri": "https://localhost:8080/",
          "height": 451
        },
        "outputId": "3cec1263-5f79-44b4-a2b4-4b8883dce79f"
      },
      "outputs": [
        {
          "output_type": "display_data",
          "data": {
            "text/plain": [
              "<Figure size 2500x700 with 2 Axes>"
            ],
            "image/png": "[encoded data removed]"
          },
          "metadata": {}
        }
      ],
      "source": [
        "plt.figure(figsize=(25,7))\n",
        "sb.heatmap(tf.math.confusion_matrix(labels=Y_train,predictions=y_train_pred),annot=True,fmt='.1f', cmap='hot_r')\n",
        "plt.xlabel('Predicted Values')\n",
        "plt.ylabel('Actual Values')\n",
        "plt.title('Confusion Matrix (Training)')\n",
        "plt.tight_layout()\n",
        "plt.show()"
      ]
    },
    {
      "cell_type": "code",
      "execution_count": 85,
      "metadata": {
        "id": "iLpnqOcGmEks",
        "colab": {
          "base_uri": "https://localhost:8080/"
        },
        "outputId": "e1f42fd7-0222-4f5d-b2cd-bc96965e2ac7"
      },
      "outputs": [
        {
          "output_type": "stream",
          "name": "stdout",
          "text": [
            "Classification Report for Training\n",
            "              precision    recall  f1-score   support\n",
            "\n",
            "           0       0.40      0.01      0.01       265\n",
            "           1       1.00      0.97      0.98       214\n",
            "           2       0.97      0.77      0.86       293\n",
            "           3       0.54      0.96      0.69       298\n",
            "           4       0.76      1.00      0.86       251\n",
            "           5       0.97      1.00      0.98       263\n",
            "\n",
            "    accuracy                           0.78      1584\n",
            "   macro avg       0.77      0.78      0.73      1584\n",
            "weighted avg       0.76      0.78      0.72      1584\n",
            "\n"
          ]
        }
      ],
      "source": [
        "print(\"Classification Report for Training\")\n",
        "print(classification_report(Y_train, y_train_pred))"
      ]
    },
    {
      "cell_type": "code",
      "execution_count": 86,
      "metadata": {
        "id": "mu3MhzQnmKR5",
        "colab": {
          "base_uri": "https://localhost:8080/"
        },
        "outputId": "9ae4cfd7-cc63-4173-c8ef-c2f11fa12f85"
      },
      "outputs": [
        {
          "output_type": "stream",
          "name": "stdout",
          "text": [
            "Found 2451 files belonging to 6 classes.\n"
          ]
        }
      ],
      "source": [
        "roc_auc_curve(y_train_pred_prob, Y_train)\n",
        "X_test = []\n",
        "y_test = []\n",
        "test_generator = tf.keras.utils.image_dataset_from_directory(\n",
        "        test_path,\n",
        "        image_size=(IMG_SIZE[0], IMG_SIZE[1]),\n",
        "        batch_size=batch_size,\n",
        "\n",
        "          # only data, no labels\n",
        "        #shuffle=False\n",
        "        )\n",
        "for data in test_generator:\n",
        "    X_test.extend(data[0].numpy())\n",
        "    y_test.extend(data[1].numpy())\n",
        "X_test = np.array(X_test)\n",
        "y_test = np.array(y_test)"
      ]
    },
    {
      "cell_type": "code",
      "execution_count": 87,
      "metadata": {
        "id": "peCIJs3KmT5a",
        "colab": {
          "base_uri": "https://localhost:8080/"
        },
        "outputId": "99509b45-21d0-4946-ae62-11a5a251221f"
      },
      "outputs": [
        {
          "output_type": "stream",
          "name": "stdout",
          "text": [
            "77/77 [==============================] - 15s 191ms/step\n"
          ]
        }
      ],
      "source": [
        "y_test_pred_prob = ensemble_model.predict(X_test)\n",
        "y_test_pred = [np.argmax(i) for i in y_test_pred_prob]"
      ]
    },
    {
      "cell_type": "code",
      "execution_count": 88,
      "metadata": {
        "id": "an7a0Ymplmh5",
        "colab": {
          "base_uri": "https://localhost:8080/"
        },
        "outputId": "04ecea56-0381-47ca-f3a1-1edae13deee1"
      },
      "outputs": [
        {
          "output_type": "execute_result",
          "data": {
            "text/plain": [
              "array([0, 1, 2, 3, 4, 5], dtype=int32)"
            ]
          },
          "metadata": {},
          "execution_count": 88
        }
      ],
      "source": [
        "np.unique(y_test)"
      ]
    },
    {
      "cell_type": "code",
      "execution_count": 89,
      "metadata": {
        "id": "AxCwvhHVk-vY",
        "colab": {
          "base_uri": "https://localhost:8080/",
          "height": 451
        },
        "outputId": "7bfb58f4-b41f-42c2-e1ff-fae63094f3b3"
      },
      "outputs": [
        {
          "output_type": "display_data",
          "data": {
            "text/plain": [
              "<Figure size 2500x700 with 2 Axes>"
            ],
            "image/png": "[encoded data removed]"
          },
          "metadata": {}
        }
      ],
      "source": [
        "plt.figure(figsize=(25,7))\n",
        "sb.heatmap(tf.math.confusion_matrix(labels=y_test,predictions=y_test_pred),annot=True,fmt='.1f', cmap='hot_r')\n",
        "plt.xlabel('Predicted Values')\n",
        "plt.ylabel('Actual Values')\n",
        "plt.title('Confusion Matrix')\n",
        "plt.tight_layout()\n",
        "plt.show()"
      ]
    },
    {
      "cell_type": "code",
      "execution_count": 90,
      "metadata": {
        "id": "LFm0u6zSmaGj",
        "colab": {
          "base_uri": "https://localhost:8080/"
        },
        "outputId": "dbeeb858-a5f6-4d35-a698-a5396481915f"
      },
      "outputs": [
        {
          "output_type": "stream",
          "name": "stdout",
          "text": [
            "Classification Report for Test\n",
            "              precision    recall  f1-score   support\n",
            "\n",
            "           0       1.00      0.01      0.02       409\n",
            "           1       1.00      0.78      0.88       409\n",
            "           2       0.91      0.83      0.87       409\n",
            "           3       0.55      1.00      0.71       405\n",
            "           4       0.80      1.00      0.89       410\n",
            "           5       0.82      1.00      0.90       409\n",
            "\n",
            "    accuracy                           0.77      2451\n",
            "   macro avg       0.85      0.77      0.71      2451\n",
            "weighted avg       0.85      0.77      0.71      2451\n",
            "\n"
          ]
        }
      ],
      "source": [
        "print(\"Classification Report for Test\")\n",
        "print(classification_report(y_test, y_test_pred))"
      ]
    },
    {
      "cell_type": "code",
      "execution_count": 91,
      "metadata": {
        "id": "LGL2Ta5xmf5r",
        "colab": {
          "base_uri": "https://localhost:8080/",
          "height": 817
        },
        "outputId": "7c020880-dd7e-46d3-f9c8-2efc7819ee01"
      },
      "outputs": [
        {
          "output_type": "display_data",
          "data": {
            "text/html": [
              "<html>\n",
              "<head><meta charset=\"utf-8\" /></head>\n",
              "<body>\n",
              "    <div>            <script src=\"https://cdnjs.cloudflare.com/ajax/libs/mathjax/2.7.5/MathJax.js?config=TeX-AMS-MML_SVG\"></script><script type=\"text/javascript\">if (window.MathJax && window.MathJax.Hub && window.MathJax.Hub.Config) {window.MathJax.Hub.Config({SVG: {font: \"STIX-Web\"}});}</script>                <script type=\"text/javascript\">window.PlotlyConfig = {MathJaxConfig: 'local'};</script>\n",
              "        <script charset=\"utf-8\" src=\"https://cdn.plot.ly/plotly-2.24.1.min.js\"></script>                <div id=\"b0b1fcab-1da9-4bbb-ba47-ae95828eae52\" class=\"plotly-graph-div\" style=\"height:800px; width:900px;\"></div>            <script type=\"text/javascript\">                                    window.PLOTLYENV=window.PLOTLYENV || {};                                    if (document.getElementById(\"b0b1fcab-1da9-4bbb-ba47-ae95828eae52\")) {                    Plotly.newPlot(                        \"b0b1fcab-1da9-4bbb-ba47-ae95828eae52\",                        [{\"mode\":\"lines\",\"name\":\"early_leaf_spot_1 (AUC=0.89)\",\"x\":[0.0,0.0,0.0,0.0,0.0,0.0,0.0,0.0,0.0009794319294809011,0.0019588638589618022,0.0034280117531831538,0.1909892262487757,0.19196865817825662,0.19343780607247796,0.19343780607247796,0.19539666993143975,0.19539666993143975,0.19686581782566112,0.19686581782566112,0.19833496571988246,0.19833496571988246,0.19931439764936337,0.19931439764936337,0.20959843290891284,0.20959843290891284,0.23114593535749264,0.23114593535749264,0.31929480901077373,0.31929480901077373,0.3246816846229187,0.3246816846229187,0.33006856023506365,0.33006856023506365,0.3379040156709109,0.3379040156709109,0.34084231145935356,0.34084231145935356,0.3525954946131244,0.3525954946131244,0.36190009794319294,0.36190009794319294,0.36581782566111654,0.36581782566111654,0.366307541625857,0.366307541625857,0.3672869735553379,0.3672869735553379,0.3731635651322233,0.3731635651322233,0.3746327130264447,0.3746327130264447,0.37757100881488737,0.37757100881488737,0.3785504407443683,0.3785504407443683,0.38491674828599415,0.38491674828599415,0.3883447600391773,0.3883447600391773,0.38981390793339865,0.38981390793339865,0.3907933398628795,0.3907933398628795,0.39275220372184133,0.39275220372184133,0.4040156709108717,0.4040156709108717,0.40450538687561216,0.40450538687561216,0.4049951028403526,0.4049951028403526,0.4828599412340842,0.4838393731635651,0.48481880509304603,0.48579823702252695,0.4926542605288932,0.49363369245837413,0.5,0.5009794319294809,0.5044074436826641,0.5058765915768854,0.5117531831537708,0.5132223310479922,0.515181194906954,0.5161606268364348,0.519588638589618,0.5215475024485798,0.5220372184133203,0.5230166503428012,0.5239960822722821,0.524975514201763,0.5254652301665035,0.5264446620959843,0.5269343780607247,0.5298726738491675,0.5303623898139079,0.5328109696376102,0.5342801175318316,0.5381978452497551,0.5386875612144956,0.5430950048971597,0.5440744368266406,0.5465230166503428,0.5484818805093046,0.558765915768854,0.5999020568070519,0.5999020568070519,0.6038197845249755,0.6038197845249755,0.6312438785504407,0.6322233104799216,0.6351616062683644,0.6361410381978453,0.6376101860920667,0.6385896180215475,0.6405484818805093,0.6415279138099902,0.643486777668952,0.6439764936336925,0.6449559255631734,0.6464250734573947,0.6469147894221352,0.6483839373163565,0.6523016650342801,0.6552399608227228,0.6571988246816847,0.6596474045053868,0.6611165523996082,0.6640548481880509,0.6650342801175319,0.6694417238001958,0.6723800195886386,0.6753183153770813,0.6777668952007836,0.6811949069539667,0.6831537708129285,0.6919686581782566,0.708619000979432,0.7247796278158668,0.7389813907933399,0.7659157688540646,0.7982370225269344,0.806562193927522,0.9647404505386875,0.9657198824681684,0.9662095984329089,0.9681684622918707,0.975024485798237,0.9760039177277179,0.9872673849167483,0.9882468168462292,0.9955925563173359,0.9965719882468168,0.9970617042115573,0.9980411361410382,1.0],\"y\":[0.0,0.0024449877750611247,0.10268948655256724,0.1100244498777506,0.11735941320293398,0.1271393643031785,0.13202933985330073,0.1393643031784841,0.17114914425427874,0.1882640586797066,0.20048899755501223,0.7799511002444988,0.78239608801956,0.7995110024449877,0.8019559902200489,0.8068459657701712,0.8092909535452323,0.8092909535452323,0.8117359413202934,0.8117359413202934,0.9193154034229829,0.9193154034229829,0.921760391198044,0.921760391198044,0.9242053789731052,0.9242053789731052,0.9266503667481663,0.9266503667481663,0.9315403422982885,0.9315403422982885,0.9339853300733496,0.9339853300733496,0.9364303178484108,0.9364303178484108,0.9388753056234719,0.9388753056234719,0.941320293398533,0.941320293398533,0.9462102689486552,0.9462102689486552,0.9511002444987775,0.9511002444987775,0.9535452322738386,0.9535452322738386,0.9559902200488998,0.9559902200488998,0.9584352078239609,0.9584352078239609,0.960880195599022,0.960880195599022,0.9633251833740831,0.9633251833740831,0.9657701711491442,0.9657701711491442,0.9682151589242054,0.9682151589242054,0.9706601466992665,0.9706601466992665,0.9731051344743277,0.9731051344743277,0.9755501222493888,0.9755501222493888,0.980440097799511,0.980440097799511,0.9853300733496333,0.9853300733496333,0.9877750611246944,0.9877750611246944,0.9926650366748166,0.9926650366748166,0.9951100244498777,0.9951100244498777,0.9951100244498777,0.9951100244498777,0.9951100244498777,0.9951100244498777,0.9951100244498777,0.9951100244498777,0.9951100244498777,0.9951100244498777,0.9951100244498777,0.9951100244498777,0.9951100244498777,0.9951100244498777,0.9951100244498777,0.9951100244498777,0.9951100244498777,0.9951100244498777,0.9951100244498777,0.9951100244498777,0.9951100244498777,0.9951100244498777,0.9951100244498777,0.9951100244498777,0.9951100244498777,0.9951100244498777,0.9951100244498777,0.9951100244498777,0.9951100244498777,0.9951100244498777,0.9951100244498777,0.9951100244498777,0.9951100244498777,0.9951100244498777,0.9951100244498777,0.9951100244498777,0.9975550122249389,0.9975550122249389,1.0,1.0,1.0,1.0,1.0,1.0,1.0,1.0,1.0,1.0,1.0,1.0,1.0,1.0,1.0,1.0,1.0,1.0,1.0,1.0,1.0,1.0,1.0,1.0,1.0,1.0,1.0,1.0,1.0,1.0,1.0,1.0,1.0,1.0,1.0,1.0,1.0,1.0,1.0,1.0,1.0,1.0,1.0,1.0,1.0,1.0,1.0,1.0],\"type\":\"scatter\"},{\"mode\":\"lines\",\"name\":\"early_rust_1 (AUC=1.00)\",\"x\":[0.0,0.0,0.0,0.0004897159647404506,0.0004897159647404506,0.0009794319294809011,0.0009794319294809011,0.0014691478942213516,0.0014691478942213516,0.0019588638589618022,0.0019588638589618022,0.002448579823702253,0.002448579823702253,0.002938295788442703,0.002938295788442703,0.0034280117531831538,0.0034280117531831538,0.004897159647404506,0.004897159647404506,0.0053868756121449556,0.0053868756121449556,0.0068560235063663075,0.0068560235063663075,0.007345739471106758,0.007345739471106758,0.007835455435847209,0.007835455435847209,0.00881488736532811,0.00881488736532811,0.00930460333006856,0.00930460333006856,0.01028403525954946,0.01028403525954946,0.010773751224289911,0.010773751224289911,0.011263467189030362,0.011263467189030362,0.011753183153770812,0.011753183153770812,0.012242899118511263,0.012242899118511263,0.014201762977473066,0.014201762977473066,0.01909892262487757,0.01909892262487757,0.020078354554358472,0.020078354554358472,0.1346718903036239,0.1356513222331048,0.1665034280117532,0.16748285994123407,0.17286973555337903,0.17384916748285995,0.17531831537708129,0.1762977473065622,0.18364348677766895,0.18462291870714986,0.18560235063663075,0.18756121449559254,0.19049951028403525,0.19147894221351616,0.19196865817825662,0.1929480901077375,0.19343780607247796,0.19441723800195887,0.2179236043095005,0.21890303623898139,0.22037218413320275,0.2218413320274241,0.2238001958863859,0.22526934378060726,0.2296767874632713,0.23555337904015672,0.23702252693437806,0.24877571008814886,0.2507345739471107,0.25220372184133205,0.2541625857002938,0.2546523016650343,0.257590597453477,0.2605288932419197,0.26199804113614106,0.2624877571008815,0.26346718903036237,0.2654260528893242,0.267384916748286,0.27081292850146915,0.272771792360431,0.27375122428991183,0.2752203721841332,0.2776689520078355,0.27864838393731634,0.2801175318315377,0.2840352595494613,0.2850146914789422,0.4603330068560235,0.46131243878550443,0.46865817825661116,0.46963761018609207,0.4701273261508325,0.4715964740450539,0.4745347698334966,0.4764936336924584,0.47698334965719885,0.47845249755142016,0.4789422135161606,0.47992164544564153,0.480411361410382,0.4813907933398629,0.4853085210577865,0.4877571008814887,0.4892262487757101,0.49167482859941236,0.49461312438785504,0.49657198824681686,0.4990205680705191,0.5,0.7928501469147894,0.8050930460333007,0.8060724779627816,0.8168462291870715,0.8178256611165524,0.8222331047992164,0.8232125367286973,0.8266405484818805,0.8276199804113614,0.8285994123408423,0.8305582761998042,0.8310479921645446,0.8325171400587659,0.8330068560235063,0.8359451518119491,0.8364348677766895,0.8383937316356513,0.8388834476003918,0.8403525954946132,0.8413320274240941,0.846718903036239,0.8472086190009794,0.8486777668952008,0.8491674828599413,0.8501469147894222,0.8516160626836435,0.8525954946131243,0.8540646425073457,0.8560235063663075,0.8599412340842312,0.861900097943193,0.8648383937316356,0.866307541625857,0.8667972575905974,0.8697355533790402,0.8707149853085211,0.8746327130264446,0.876101860920666,0.8829578844270323,0.8839373163565132,0.885896180215475,0.9045053868756121,0.910871694417238,0.9260528893241919,0.9378060724779628,0.9598432908912831,0.9618021547502449,0.9941234084231146,1.0],\"y\":[0.0,0.0024449877750611247,0.6552567237163814,0.6552567237163814,0.8190709046454768,0.8190709046454768,0.8753056234718827,0.8753056234718827,0.8875305623471883,0.8875305623471883,0.8997555012224939,0.8997555012224939,0.9364303178484108,0.9364303178484108,0.9388753056234719,0.9388753056234719,0.9437652811735942,0.9437652811735942,0.9462102689486552,0.9462102689486552,0.9559902200488998,0.9559902200488998,0.9584352078239609,0.9584352078239609,0.960880195599022,0.960880195599022,0.9633251833740831,0.9633251833740831,0.9657701711491442,0.9657701711491442,0.9731051344743277,0.9731051344743277,0.980440097799511,0.980440097799511,0.9828850855745721,0.9828850855745721,0.9853300733496333,0.9853300733496333,0.9877750611246944,0.9877750611246944,0.9926650366748166,0.9926650366748166,0.9951100244498777,0.9951100244498777,0.9975550122249389,0.9975550122249389,1.0,1.0,1.0,1.0,1.0,1.0,1.0,1.0,1.0,1.0,1.0,1.0,1.0,1.0,1.0,1.0,1.0,1.0,1.0,1.0,1.0,1.0,1.0,1.0,1.0,1.0,1.0,1.0,1.0,1.0,1.0,1.0,1.0,1.0,1.0,1.0,1.0,1.0,1.0,1.0,1.0,1.0,1.0,1.0,1.0,1.0,1.0,1.0,1.0,1.0,1.0,1.0,1.0,1.0,1.0,1.0,1.0,1.0,1.0,1.0,1.0,1.0,1.0,1.0,1.0,1.0,1.0,1.0,1.0,1.0,1.0,1.0,1.0,1.0,1.0,1.0,1.0,1.0,1.0,1.0,1.0,1.0,1.0,1.0,1.0,1.0,1.0,1.0,1.0,1.0,1.0,1.0,1.0,1.0,1.0,1.0,1.0,1.0,1.0,1.0,1.0,1.0,1.0,1.0,1.0,1.0,1.0,1.0,1.0,1.0,1.0,1.0,1.0,1.0,1.0,1.0,1.0,1.0,1.0,1.0],\"type\":\"scatter\"},{\"mode\":\"lines\",\"name\":\"healthy_leaf_1 (AUC=0.98)\",\"x\":[0.0,0.0,0.0,0.0,0.0,0.0,0.0,0.0,0.0,0.0,0.0,0.0,0.0,0.0,0.0,0.0,0.0,0.0,0.0,0.0,0.0,0.0,0.0,0.0,0.0,0.0,0.0,0.0,0.0,0.0,0.0,0.0004897159647404506,0.0004897159647404506,0.0009794319294809011,0.0009794319294809011,0.0014691478942213516,0.0014691478942213516,0.002938295788442703,0.002938295788442703,0.0034280117531831538,0.0034280117531831538,0.004897159647404506,0.004897159647404506,0.0053868756121449556,0.0053868756121449556,0.005876591576885406,0.005876591576885406,0.006366307541625857,0.006366307541625857,0.0068560235063663075,0.0068560235063663075,0.007345739471106758,0.007345739471106758,0.00832517140058766,0.00832517140058766,0.00930460333006856,0.00930460333006856,0.012732615083251714,0.012732615083251714,0.014201762977473066,0.014201762977473066,0.014691478942213516,0.014691478942213516,0.015181194906953967,0.015181194906953967,0.015670910871694418,0.015670910871694418,0.01665034280117532,0.01665034280117532,0.017140058765915768,0.017140058765915768,0.01762977473065622,0.01762977473065622,0.01811949069539667,0.01811949069539667,0.021547502448579822,0.021547502448579822,0.023996082272282077,0.023996082272282077,0.02742409402546523,0.02742409402546523,0.02840352595494613,0.02840352595494613,0.029872673849167482,0.029872673849167482,0.030362389813907934,0.030362389813907934,0.034280117531831536,0.034280117531831536,0.040156709108716944,0.040156709108716944,0.050930460333006855,0.050930460333006855,0.06758080313418217,0.06758080313418217,0.0910871694417238,0.0910871694417238,0.09353574926542606,0.09353574926542606,0.11067580803134182,0.11067580803134182,0.11851126346718903,0.11851126346718903,0.12634671890303623,0.12634671890303623,0.14201762977473065,0.14201762977473065,0.1474045053868756,0.1474045053868756,0.16111655239960823,0.16111655239960823,0.16601371204701273,0.16601371204701273,0.17189030362389815,0.17189030362389815,0.17482859941234083,0.17482859941234083,0.17678746327130265,0.17678746327130265,0.17874632713026445,0.17874632713026445,0.18168462291870716,0.18168462291870716,0.18364348677766895,0.18364348677766895,0.18560235063663075,0.18560235063663075,0.1860920666013712,0.1860920666013712,0.18707149853085211,0.18707149853085211,0.188050930460333,0.188050930460333,0.18854064642507345,0.18854064642507345,0.19000979431929482,0.19000979431929482,0.19049951028403525,0.19049951028403525,0.19196865817825662,0.19196865817825662,0.19245837414299707,0.19245837414299707,0.222820763956905,0.2238001958863859,0.2247796278158668,0.2257590597453477,0.22820763956904996,0.22918707149853085,0.23016650342801176,0.23114593535749264,0.232615083251714,0.2335945151811949,0.23555337904015672,0.23702252693437806,0.24094025465230168,0.24289911851126347,0.2443682664054848,0.2463271302644466,0.24730656219392752,0.24877571008814886,0.25024485798237023,0.2517140058765916,0.25612144955925564,0.25710088148873655,0.2580803134182174,0.2605288932419197,0.26199804113614106,0.2639569049951028,0.2678746327130264,0.26983349657198824,0.2713026444662096,0.2761998041136141,0.2781586679725759,0.2840352595494613,0.2908912830558276,0.30264446620959845,0.3095004897159647,0.3099902056807052,0.3178256611165524,0.3246816846229187,0.3452497551420176,0.34916748285994126,0.3516160626836435,0.3555337904015671,0.36092066601371203,0.3932419196865818,0.44662095984329087,0.4476003917727718,0.44809010773751223,0.4495592556317336,0.4524975514201763,0.4544564152791381,0.45592556317335947,0.45690499510284033,0.45886385896180215,0.4603330068560235,0.460822722820764,0.46278158667972574,0.4632713026444662,0.46474045053868757,0.46963761018609207,0.470617042115573,0.4745347698334966,0.4779627815866797,0.7708129285014691,0.94564152791381,0.9466209598432909,0.9965719882468168,0.9980411361410382,1.0],\"y\":[0.0,0.061124694376528114,0.09535452322738386,0.13691931540342298,0.18581907090464547,0.20048899755501223,0.2200488997555012,0.22982885085574573,0.24205378973105135,0.2567237163814181,0.2665036674816626,0.2787286063569682,0.28361858190709044,0.2860635696821516,0.29095354523227385,0.30073349633251834,0.3105134474327628,0.3202933985330073,0.3251833740831296,0.33007334963325186,0.3374083129584352,0.3422982885085575,0.3643031784841076,0.3691931540342298,0.3765281173594132,0.38141809290953543,0.39853300733496333,0.4034229828850856,0.4156479217603912,0.42053789731051344,0.7188264058679706,0.7188264058679706,0.7237163814180929,0.7237163814180929,0.7408312958435208,0.7408312958435208,0.7530562347188264,0.7530562347188264,0.7555012224938875,0.7555012224938875,0.7652811735941321,0.7652811735941321,0.7897310513447433,0.7897310513447433,0.7921760391198044,0.7921760391198044,0.7970660146699267,0.7970660146699267,0.7995110024449877,0.7995110024449877,0.8019559902200489,0.8019559902200489,0.8092909535452323,0.8092909535452323,0.8117359413202934,0.8117359413202934,0.8166259168704156,0.8166259168704156,0.8215158924205379,0.8215158924205379,0.8264058679706602,0.8264058679706602,0.8288508557457213,0.8288508557457213,0.8312958435207825,0.8312958435207825,0.8361858190709046,0.8361858190709046,0.8386308068459658,0.8386308068459658,0.8410757946210269,0.8410757946210269,0.8459657701711492,0.8459657701711492,0.8484107579462102,0.8484107579462102,0.8557457212713936,0.8557457212713936,0.8581907090464548,0.8581907090464548,0.8606356968215159,0.8606356968215159,0.863080684596577,0.863080684596577,0.8655256723716381,0.8655256723716381,0.8704156479217604,0.8704156479217604,0.8753056234718827,0.8753056234718827,0.8777506112469438,0.8777506112469438,0.8801955990220048,0.8801955990220048,0.882640586797066,0.882640586797066,0.8850855745721271,0.8850855745721271,0.8875305623471883,0.8875305623471883,0.8924205378973105,0.8924205378973105,0.8948655256723717,0.8948655256723717,0.8973105134474327,0.8973105134474327,0.8997555012224939,0.8997555012224939,0.902200488997555,0.902200488997555,0.9046454767726161,0.9046454767726161,0.9070904645476773,0.9070904645476773,0.9095354523227384,0.9095354523227384,0.9119804400977995,0.9119804400977995,0.9144254278728606,0.9144254278728606,0.921760391198044,0.921760391198044,0.9242053789731052,0.9242053789731052,0.9290953545232273,0.9290953545232273,0.9315403422982885,0.9315403422982885,0.9339853300733496,0.9339853300733496,0.9535452322738386,0.9535452322738386,0.9682151589242054,0.9682151589242054,0.9731051344743277,0.9731051344743277,0.980440097799511,0.980440097799511,0.9828850855745721,0.9828850855745721,0.9951100244498777,0.9951100244498777,1.0,1.0,1.0,1.0,1.0,1.0,1.0,1.0,1.0,1.0,1.0,1.0,1.0,1.0,1.0,1.0,1.0,1.0,1.0,1.0,1.0,1.0,1.0,1.0,1.0,1.0,1.0,1.0,1.0,1.0,1.0,1.0,1.0,1.0,1.0,1.0,1.0,1.0,1.0,1.0,1.0,1.0,1.0,1.0,1.0,1.0,1.0,1.0,1.0,1.0,1.0,1.0,1.0,1.0,1.0,1.0,1.0,1.0,1.0,1.0,1.0,1.0,1.0,1.0,1.0,1.0,1.0,1.0,1.0],\"type\":\"scatter\"},{\"mode\":\"lines\",\"name\":\"late_leaf_spot_1 (AUC=0.93)\",\"x\":[0.0,0.0039100684261974585,0.12463343108504399,0.12609970674486803,0.12805474095796676,0.13098729227761485,0.13391984359726294,0.13440860215053763,0.1348973607038123,0.1348973607038123,0.13685239491691104,0.13685239491691104,0.13734115347018572,0.13734115347018572,0.1378299120234604,0.1378299120234604,0.13831867057673508,0.13880742913000976,0.13978494623655913,0.14076246334310852,0.14222873900293256,0.14320625610948193,0.14565004887585534,0.14565004887585534,0.14613880742913002,0.14613880742913002,0.14858260019550343,0.14858260019550343,0.49560117302052786,0.4965786901270772,0.5053763440860215,0.5063538611925709,0.5083088954056696,0.509286412512219,0.5117302052785924,0.5127077223851417,0.5131964809384164,0.5146627565982405,0.5171065493646139,0.5175953079178885,0.5185728250244379,0.520039100684262,0.5224828934506354,0.5234604105571847,0.5259042033235581,0.5263929618768328,0.5298142717497556,0.530791788856305,0.5347018572825024,0.5381231671554252,0.5405669599217986,0.5420332355816226,0.5478983382209188,0.5508308895405669,0.5518084066471163,0.552297165200391,0.5542521994134897,0.5547409579667644,0.5610948191593352,0.581622678396872,0.5889540566959922,0.613880742913001,0.678396871945259,0.6837732160312805,0.7067448680351907,0.70772238514174,0.7717497556207233,0.7727272727272727,0.7927663734115347,0.793743890518084,0.7956989247311828,0.7966764418377321,0.7971652003910068,0.7991202346041055,0.8020527859237536,0.803030303030303,0.8035190615835777,0.804496578690127,0.8059628543499511,0.8069403714565004,0.8093841642228738,0.8103616813294232,0.8274682306940372,0.8284457478005866,0.9398826979472141,0.9418377321603129,0.9437927663734116,0.944770283479961,0.9452590420332356,0.946236559139785,0.9486803519061584,0.9496578690127078,0.9501466275659824,0.9511241446725318,0.9521016617790812,0.9530791788856305,0.9560117302052786,0.956989247311828,0.9599217986314761,0.9613880742913001,0.9623655913978495,0.9633431085043989,0.9638318670576735,0.9657869012707723,0.9667644183773216,0.967741935483871,0.969208211143695,0.9696969696969697,0.9706744868035191,0.9721407624633431,0.9726295210166178,0.9740957966764419,0.9745845552297165,0.9775171065493646,0.9780058651026393,0.979960899315738,0.9804496578690127,0.9858260019550342,0.9868035190615836,0.9872922776148583,0.989247311827957,0.9897360703812317,1.0],\"y\":[0.0,0.014814814814814815,0.9654320987654321,0.9703703703703703,0.9728395061728395,0.9777777777777777,0.9777777777777777,0.980246913580247,0.980246913580247,0.9827160493827161,0.9827160493827161,0.9851851851851852,0.9851851851851852,0.9876543209876543,0.9876543209876543,0.9901234567901235,0.9901234567901235,0.9925925925925926,0.9925925925925926,0.9925925925925926,0.9925925925925926,0.9925925925925926,0.9925925925925926,0.9950617283950617,0.9950617283950617,0.9975308641975309,0.9975308641975309,1.0,1.0,1.0,1.0,1.0,1.0,1.0,1.0,1.0,1.0,1.0,1.0,1.0,1.0,1.0,1.0,1.0,1.0,1.0,1.0,1.0,1.0,1.0,1.0,1.0,1.0,1.0,1.0,1.0,1.0,1.0,1.0,1.0,1.0,1.0,1.0,1.0,1.0,1.0,1.0,1.0,1.0,1.0,1.0,1.0,1.0,1.0,1.0,1.0,1.0,1.0,1.0,1.0,1.0,1.0,1.0,1.0,1.0,1.0,1.0,1.0,1.0,1.0,1.0,1.0,1.0,1.0,1.0,1.0,1.0,1.0,1.0,1.0,1.0,1.0,1.0,1.0,1.0,1.0,1.0,1.0,1.0,1.0,1.0,1.0,1.0,1.0,1.0,1.0,1.0,1.0,1.0,1.0,1.0,1.0,1.0],\"type\":\"scatter\"},{\"mode\":\"lines\",\"name\":\"nutrition_deficiency_1 (AUC=1.00)\",\"x\":[0.0,0.0,0.0,0.0,0.0,0.0,0.0,0.0,0.0,0.0,0.0,0.0,0.0,0.0,0.0,0.0,0.0,0.0,0.0,0.0,0.0,0.0,0.0,0.0,0.0,0.0,0.0,0.0,0.32190102890739836,0.32288094071533563,0.33317001469867713,0.3351298383145517,0.33610975012248895,0.3370896619304263,0.33806957373836355,0.3390494855463008,0.3400293973542381,0.3410093091621754,0.3419892209701127,0.34394904458598724,0.3444390004899559,0.3454189122978932,0.3473787359137678,0.3493385595296423,0.35178833904948553,0.3547280744732974,0.3557079862812347,0.3606075453209211,0.3699167074963253,0.3708966193042626,0.4473297403233709,0.4487996080352768,0.44928956393924546,0.45026947574718273,0.4532092111709946,0.45467907888290054,0.4566389024987751,0.4576188143067124,0.45957863792258696,0.4600685938265556,0.4639882410583048,0.466438020578148,0.46986771190592846,0.4723174914257717,0.47525722684958355,0.47770700636942676,0.47868691817736403,0.7716805487506124,0.9593336599706026,0.9603135717785399,0.9647231749142577,0.965703086722195,0.9784419402253797,0.979421852033317,0.9838314551690348,0.984811366976972,0.9955903968642822,0.9965703086722195,0.9970602645761881,0.9980401763841255,1.0],\"y\":[0.0,0.16097560975609757,0.5804878048780487,0.6804878048780488,0.748780487804878,0.8073170731707318,0.8292682926829268,0.8536585365853658,0.8609756097560975,0.8707317073170732,0.8853658536585366,0.8951219512195122,0.9024390243902439,0.9073170731707317,0.9146341463414634,0.926829268292683,0.9317073170731708,0.9365853658536586,0.9414634146341463,0.9512195121951219,0.9560975609756097,0.9609756097560975,0.9707317073170731,0.9829268292682927,0.9878048780487805,0.9926829268292683,0.9975609756097561,1.0,1.0,1.0,1.0,1.0,1.0,1.0,1.0,1.0,1.0,1.0,1.0,1.0,1.0,1.0,1.0,1.0,1.0,1.0,1.0,1.0,1.0,1.0,1.0,1.0,1.0,1.0,1.0,1.0,1.0,1.0,1.0,1.0,1.0,1.0,1.0,1.0,1.0,1.0,1.0,1.0,1.0,1.0,1.0,1.0,1.0,1.0,1.0,1.0,1.0,1.0,1.0,1.0,1.0],\"type\":\"scatter\"},{\"mode\":\"lines\",\"name\":\"rust_1 (AUC=1.00)\",\"x\":[0.0,0.0,0.0,0.0,0.0,0.0,0.0,0.0,0.0,0.0,0.0,0.0,0.0,0.0,0.0,0.0,0.0,0.0,0.0,0.0,0.0,0.0,0.0,0.0,0.0,0.0,0.0,0.0,0.0,0.0,0.0,0.0,0.0,0.0,0.0,0.0,0.0,0.0,0.0,0.0,0.0,0.0,0.0,0.0,0.0,0.0,0.0,0.0,0.0,0.0,0.0,0.0,0.0,0.0,0.0,0.0,0.0,0.0,0.0004897159647404506,0.0004897159647404506,0.0009794319294809011,0.0009794319294809011,0.0014691478942213516,0.0014691478942213516,0.002448579823702253,0.002448579823702253,0.002938295788442703,0.002938295788442703,0.0034280117531831538,0.0034280117531831538,0.0039177277179236044,0.0039177277179236044,0.0053868756121449556,0.0053868756121449556,0.0068560235063663075,0.0068560235063663075,0.007345739471106758,0.007345739471106758,0.007835455435847209,0.007835455435847209,0.00832517140058766,0.00832517140058766,0.00881488736532811,0.00881488736532811,0.010773751224289911,0.010773751224289911,0.011263467189030362,0.011263467189030362,0.012242899118511263,0.012242899118511263,0.012732615083251714,0.012732615083251714,0.020078354554358472,0.020078354554358472,0.023016650342801176,0.023016650342801176,0.02497551420176298,0.02497551420176298,0.03623898139079334,0.03623898139079334,0.05778648383937316,0.05778648383937316,0.2957884427032321,0.2972575905974535,0.30019588638589617,0.3011753183153771,0.3031341821743389,0.3060724779627816,0.3070519098922625,0.30852105778648387,0.311949069539667,0.31341821743388837,0.32027424094025464,0.618511263467189,0.682664054848188,0.683643486777669,0.6885406464250735,0.6904995102840352,0.6914789422135161,0.6929480901077375,0.6949069539666993,0.6963761018609207,0.6968658178256611,0.6978452497551421,0.6983349657198825,0.6998041136141038,0.7002938295788442,0.7027424094025465,0.7047012732615083,0.7071498530852106,0.7100881488736532,0.7110675808031341,0.7115572967678746,0.7135161606268364,0.7149853085210578,0.7193927522037218,0.7203721841332027,0.7218413320274241,0.7247796278158668,0.7257590597453477,0.7296767874632712,0.7345739471106758,0.7355533790401567,0.7384916748285995,0.7531831537708129,0.7698334965719883,0.7722820763956905,0.8041136141038198,0.8153770812928501,0.8476983349657199,0.8589618021547503,0.8599412340842312,0.9236043095004897,0.9245837414299706,0.9397649363369246,0.9417238001958864,0.9441723800195886,0.9461312438785504,0.9476003917727718,0.9485798237022527,0.9495592556317336,0.9505386875612145,0.9520078354554359,0.9539666993143977,0.9549461312438785,0.9564152791380999,0.9573947110675808,0.9588638589618022,0.9598432908912831,0.960822722820764,0.9637610186092067,0.9647404505386875,0.9657198824681684,0.9662095984329089,0.9671890303623898,0.9691478942213516,0.9696376101860921,0.9735553379040157,0.9740450538687562,0.9769833496571988,0.9779627815866797,0.9799216454456415,0.9809010773751224,0.9867776689520078,0.9877571008814887,1.0],\"y\":[0.0,0.0024449877750611247,0.007334963325183374,0.017114914425427872,0.022004889975550123,0.02689486552567237,0.029339853300733496,0.03667481662591687,0.04156479217603912,0.04645476772616137,0.0488997555012225,0.06356968215158924,0.07579462102689487,0.07823960880195599,0.08312958435207823,0.08557457212713937,0.09535452322738386,0.097799511002445,0.10757946210268948,0.1100244498777506,0.11491442542787286,0.1198044009779951,0.12469437652811736,0.1271393643031785,0.13447432762836187,0.1466992665036675,0.15158924205378974,0.15403422982885084,0.1687041564792176,0.17359413202933985,0.1784841075794621,0.18092909535452323,0.20048899755501223,0.20293398533007334,0.2078239608801956,0.21026894865525672,0.21515892420537897,0.23227383863080683,0.2371638141809291,0.2665036674816626,0.2713936430317848,0.30317848410757947,0.3080684596577017,0.32273838630806845,0.3276283618581907,0.34474327628361856,0.34963325183374083,0.3643031784841076,0.3691931540342298,0.3740831295843521,0.37897310513447435,0.38875305623471884,0.39364303178484106,0.39853300733496333,0.4034229828850856,0.4572127139364303,0.4669926650366748,0.8924205378973105,0.8924205378973105,0.8973105134474327,0.8973105134474327,0.9315403422982885,0.9315403422982885,0.9388753056234719,0.9388753056234719,0.941320293398533,0.941320293398533,0.9437652811735942,0.9437652811735942,0.9462102689486552,0.9462102689486552,0.9486552567237164,0.9486552567237164,0.9535452322738386,0.9535452322738386,0.9559902200488998,0.9559902200488998,0.960880195599022,0.960880195599022,0.9633251833740831,0.9633251833740831,0.9657701711491442,0.9657701711491442,0.9731051344743277,0.9731051344743277,0.9755501222493888,0.9755501222493888,0.9828850855745721,0.9828850855745721,0.9853300733496333,0.9853300733496333,0.9877750611246944,0.9877750611246944,0.9902200488997555,0.9902200488997555,0.9926650366748166,0.9926650366748166,0.9951100244498777,0.9951100244498777,0.9975550122249389,0.9975550122249389,1.0,1.0,1.0,1.0,1.0,1.0,1.0,1.0,1.0,1.0,1.0,1.0,1.0,1.0,1.0,1.0,1.0,1.0,1.0,1.0,1.0,1.0,1.0,1.0,1.0,1.0,1.0,1.0,1.0,1.0,1.0,1.0,1.0,1.0,1.0,1.0,1.0,1.0,1.0,1.0,1.0,1.0,1.0,1.0,1.0,1.0,1.0,1.0,1.0,1.0,1.0,1.0,1.0,1.0,1.0,1.0,1.0,1.0,1.0,1.0,1.0,1.0,1.0,1.0,1.0,1.0,1.0,1.0,1.0,1.0,1.0,1.0,1.0,1.0,1.0,1.0,1.0,1.0,1.0,1.0,1.0,1.0,1.0,1.0,1.0],\"type\":\"scatter\"}],                        {\"template\":{\"data\":{\"histogram2dcontour\":[{\"type\":\"histogram2dcontour\",\"colorbar\":{\"outlinewidth\":0,\"ticks\":\"\"},\"colorscale\":[[0.0,\"#0d0887\"],[0.1111111111111111,\"#46039f\"],[0.2222222222222222,\"#7201a8\"],[0.3333333333333333,\"#9c179e\"],[0.4444444444444444,\"#bd3786\"],[0.5555555555555556,\"#d8576b\"],[0.6666666666666666,\"#ed7953\"],[0.7777777777777778,\"#fb9f3a\"],[0.8888888888888888,\"#fdca26\"],[1.0,\"#f0f921\"]]}],\"choropleth\":[{\"type\":\"choropleth\",\"colorbar\":{\"outlinewidth\":0,\"ticks\":\"\"}}],\"histogram2d\":[{\"type\":\"histogram2d\",\"colorbar\":{\"outlinewidth\":0,\"ticks\":\"\"},\"colorscale\":[[0.0,\"#0d0887\"],[0.1111111111111111,\"#46039f\"],[0.2222222222222222,\"#7201a8\"],[0.3333333333333333,\"#9c179e\"],[0.4444444444444444,\"#bd3786\"],[0.5555555555555556,\"#d8576b\"],[0.6666666666666666,\"#ed7953\"],[0.7777777777777778,\"#fb9f3a\"],[0.8888888888888888,\"#fdca26\"],[1.0,\"#f0f921\"]]}],\"heatmap\":[{\"type\":\"heatmap\",\"colorbar\":{\"outlinewidth\":0,\"ticks\":\"\"},\"colorscale\":[[0.0,\"#0d0887\"],[0.1111111111111111,\"#46039f\"],[0.2222222222222222,\"#7201a8\"],[0.3333333333333333,\"#9c179e\"],[0.4444444444444444,\"#bd3786\"],[0.5555555555555556,\"#d8576b\"],[0.6666666666666666,\"#ed7953\"],[0.7777777777777778,\"#fb9f3a\"],[0.8888888888888888,\"#fdca26\"],[1.0,\"#f0f921\"]]}],\"heatmapgl\":[{\"type\":\"heatmapgl\",\"colorbar\":{\"outlinewidth\":0,\"ticks\":\"\"},\"colorscale\":[[0.0,\"#0d0887\"],[0.1111111111111111,\"#46039f\"],[0.2222222222222222,\"#7201a8\"],[0.3333333333333333,\"#9c179e\"],[0.4444444444444444,\"#bd3786\"],[0.5555555555555556,\"#d8576b\"],[0.6666666666666666,\"#ed7953\"],[0.7777777777777778,\"#fb9f3a\"],[0.8888888888888888,\"#fdca26\"],[1.0,\"#f0f921\"]]}],\"contourcarpet\":[{\"type\":\"contourcarpet\",\"colorbar\":{\"outlinewidth\":0,\"ticks\":\"\"}}],\"contour\":[{\"type\":\"contour\",\"colorbar\":{\"outlinewidth\":0,\"ticks\":\"\"},\"colorscale\":[[0.0,\"#0d0887\"],[0.1111111111111111,\"#46039f\"],[0.2222222222222222,\"#7201a8\"],[0.3333333333333333,\"#9c179e\"],[0.4444444444444444,\"#bd3786\"],[0.5555555555555556,\"#d8576b\"],[0.6666666666666666,\"#ed7953\"],[0.7777777777777778,\"#fb9f3a\"],[0.8888888888888888,\"#fdca26\"],[1.0,\"#f0f921\"]]}],\"surface\":[{\"type\":\"surface\",\"colorbar\":{\"outlinewidth\":0,\"ticks\":\"\"},\"colorscale\":[[0.0,\"#0d0887\"],[0.1111111111111111,\"#46039f\"],[0.2222222222222222,\"#7201a8\"],[0.3333333333333333,\"#9c179e\"],[0.4444444444444444,\"#bd3786\"],[0.5555555555555556,\"#d8576b\"],[0.6666666666666666,\"#ed7953\"],[0.7777777777777778,\"#fb9f3a\"],[0.8888888888888888,\"#fdca26\"],[1.0,\"#f0f921\"]]}],\"mesh3d\":[{\"type\":\"mesh3d\",\"colorbar\":{\"outlinewidth\":0,\"ticks\":\"\"}}],\"scatter\":[{\"fillpattern\":{\"fillmode\":\"overlay\",\"size\":10,\"solidity\":0.2},\"type\":\"scatter\"}],\"parcoords\":[{\"type\":\"parcoords\",\"line\":{\"colorbar\":{\"outlinewidth\":0,\"ticks\":\"\"}}}],\"scatterpolargl\":[{\"type\":\"scatterpolargl\",\"marker\":{\"colorbar\":{\"outlinewidth\":0,\"ticks\":\"\"}}}],\"bar\":[{\"error_x\":{\"color\":\"#2a3f5f\"},\"error_y\":{\"color\":\"#2a3f5f\"},\"marker\":{\"line\":{\"color\":\"#E5ECF6\",\"width\":0.5},\"pattern\":{\"fillmode\":\"overlay\",\"size\":10,\"solidity\":0.2}},\"type\":\"bar\"}],\"scattergeo\":[{\"type\":\"scattergeo\",\"marker\":{\"colorbar\":{\"outlinewidth\":0,\"ticks\":\"\"}}}],\"scatterpolar\":[{\"type\":\"scatterpolar\",\"marker\":{\"colorbar\":{\"outlinewidth\":0,\"ticks\":\"\"}}}],\"histogram\":[{\"marker\":{\"pattern\":{\"fillmode\":\"overlay\",\"size\":10,\"solidity\":0.2}},\"type\":\"histogram\"}],\"scattergl\":[{\"type\":\"scattergl\",\"marker\":{\"colorbar\":{\"outlinewidth\":0,\"ticks\":\"\"}}}],\"scatter3d\":[{\"type\":\"scatter3d\",\"line\":{\"colorbar\":{\"outlinewidth\":0,\"ticks\":\"\"}},\"marker\":{\"colorbar\":{\"outlinewidth\":0,\"ticks\":\"\"}}}],\"scattermapbox\":[{\"type\":\"scattermapbox\",\"marker\":{\"colorbar\":{\"outlinewidth\":0,\"ticks\":\"\"}}}],\"scatterternary\":[{\"type\":\"scatterternary\",\"marker\":{\"colorbar\":{\"outlinewidth\":0,\"ticks\":\"\"}}}],\"scattercarpet\":[{\"type\":\"scattercarpet\",\"marker\":{\"colorbar\":{\"outlinewidth\":0,\"ticks\":\"\"}}}],\"carpet\":[{\"aaxis\":{\"endlinecolor\":\"#2a3f5f\",\"gridcolor\":\"white\",\"linecolor\":\"white\",\"minorgridcolor\":\"white\",\"startlinecolor\":\"#2a3f5f\"},\"baxis\":{\"endlinecolor\":\"#2a3f5f\",\"gridcolor\":\"white\",\"linecolor\":\"white\",\"minorgridcolor\":\"white\",\"startlinecolor\":\"#2a3f5f\"},\"type\":\"carpet\"}],\"table\":[{\"cells\":{\"fill\":{\"color\":\"#EBF0F8\"},\"line\":{\"color\":\"white\"}},\"header\":{\"fill\":{\"color\":\"#C8D4E3\"},\"line\":{\"color\":\"white\"}},\"type\":\"table\"}],\"barpolar\":[{\"marker\":{\"line\":{\"color\":\"#E5ECF6\",\"width\":0.5},\"pattern\":{\"fillmode\":\"overlay\",\"size\":10,\"solidity\":0.2}},\"type\":\"barpolar\"}],\"pie\":[{\"automargin\":true,\"type\":\"pie\"}]},\"layout\":{\"autotypenumbers\":\"strict\",\"colorway\":[\"#636efa\",\"#EF553B\",\"#00cc96\",\"#ab63fa\",\"#FFA15A\",\"#19d3f3\",\"#FF6692\",\"#B6E880\",\"#FF97FF\",\"#FECB52\"],\"font\":{\"color\":\"#2a3f5f\"},\"hovermode\":\"closest\",\"hoverlabel\":{\"align\":\"left\"},\"paper_bgcolor\":\"white\",\"plot_bgcolor\":\"#E5ECF6\",\"polar\":{\"bgcolor\":\"#E5ECF6\",\"angularaxis\":{\"gridcolor\":\"white\",\"linecolor\":\"white\",\"ticks\":\"\"},\"radialaxis\":{\"gridcolor\":\"white\",\"linecolor\":\"white\",\"ticks\":\"\"}},\"ternary\":{\"bgcolor\":\"#E5ECF6\",\"aaxis\":{\"gridcolor\":\"white\",\"linecolor\":\"white\",\"ticks\":\"\"},\"baxis\":{\"gridcolor\":\"white\",\"linecolor\":\"white\",\"ticks\":\"\"},\"caxis\":{\"gridcolor\":\"white\",\"linecolor\":\"white\",\"ticks\":\"\"}},\"coloraxis\":{\"colorbar\":{\"outlinewidth\":0,\"ticks\":\"\"}},\"colorscale\":{\"sequential\":[[0.0,\"#0d0887\"],[0.1111111111111111,\"#46039f\"],[0.2222222222222222,\"#7201a8\"],[0.3333333333333333,\"#9c179e\"],[0.4444444444444444,\"#bd3786\"],[0.5555555555555556,\"#d8576b\"],[0.6666666666666666,\"#ed7953\"],[0.7777777777777778,\"#fb9f3a\"],[0.8888888888888888,\"#fdca26\"],[1.0,\"#f0f921\"]],\"sequentialminus\":[[0.0,\"#0d0887\"],[0.1111111111111111,\"#46039f\"],[0.2222222222222222,\"#7201a8\"],[0.3333333333333333,\"#9c179e\"],[0.4444444444444444,\"#bd3786\"],[0.5555555555555556,\"#d8576b\"],[0.6666666666666666,\"#ed7953\"],[0.7777777777777778,\"#fb9f3a\"],[0.8888888888888888,\"#fdca26\"],[1.0,\"#f0f921\"]],\"diverging\":[[0,\"#8e0152\"],[0.1,\"#c51b7d\"],[0.2,\"#de77ae\"],[0.3,\"#f1b6da\"],[0.4,\"#fde0ef\"],[0.5,\"#f7f7f7\"],[0.6,\"#e6f5d0\"],[0.7,\"#b8e186\"],[0.8,\"#7fbc41\"],[0.9,\"#4d9221\"],[1,\"#276419\"]]},\"xaxis\":{\"gridcolor\":\"white\",\"linecolor\":\"white\",\"ticks\":\"\",\"title\":{\"standoff\":15},\"zerolinecolor\":\"white\",\"automargin\":true,\"zerolinewidth\":2},\"yaxis\":{\"gridcolor\":\"white\",\"linecolor\":\"white\",\"ticks\":\"\",\"title\":{\"standoff\":15},\"zerolinecolor\":\"white\",\"automargin\":true,\"zerolinewidth\":2},\"scene\":{\"xaxis\":{\"backgroundcolor\":\"#E5ECF6\",\"gridcolor\":\"white\",\"linecolor\":\"white\",\"showbackground\":true,\"ticks\":\"\",\"zerolinecolor\":\"white\",\"gridwidth\":2},\"yaxis\":{\"backgroundcolor\":\"#E5ECF6\",\"gridcolor\":\"white\",\"linecolor\":\"white\",\"showbackground\":true,\"ticks\":\"\",\"zerolinecolor\":\"white\",\"gridwidth\":2},\"zaxis\":{\"backgroundcolor\":\"#E5ECF6\",\"gridcolor\":\"white\",\"linecolor\":\"white\",\"showbackground\":true,\"ticks\":\"\",\"zerolinecolor\":\"white\",\"gridwidth\":2}},\"shapedefaults\":{\"line\":{\"color\":\"#2a3f5f\"}},\"annotationdefaults\":{\"arrowcolor\":\"#2a3f5f\",\"arrowhead\":0,\"arrowwidth\":1},\"geo\":{\"bgcolor\":\"white\",\"landcolor\":\"#E5ECF6\",\"subunitcolor\":\"white\",\"showland\":true,\"showlakes\":true,\"lakecolor\":\"white\"},\"title\":{\"x\":0.05},\"mapbox\":{\"style\":\"light\"}}},\"shapes\":[{\"line\":{\"dash\":\"dash\"},\"type\":\"line\",\"x0\":0,\"x1\":1,\"y0\":0,\"y1\":1}],\"yaxis\":{\"title\":{\"text\":\"True Positive Rate\"},\"scaleanchor\":\"x\",\"scaleratio\":1},\"xaxis\":{\"title\":{\"text\":\"False Positive Rate\"},\"constrain\":\"domain\"},\"title\":{\"text\":\"ROC Curve\"},\"width\":900,\"height\":800},                        {\"responsive\": true}                    ).then(function(){\n",
              "                            \n",
              "var gd = document.getElementById('b0b1fcab-1da9-4bbb-ba47-ae95828eae52');\n",
              "var x = new MutationObserver(function (mutations, observer) {{\n",
              "        var display = window.getComputedStyle(gd).display;\n",
              "        if (!display || display === 'none') {{\n",
              "            console.log([gd, 'removed!']);\n",
              "            Plotly.purge(gd);\n",
              "            observer.disconnect();\n",
              "        }}\n",
              "}});\n",
              "\n",
              "// Listen for the removal of the full notebook cells\n",
              "var notebookContainer = gd.closest('#notebook-container');\n",
              "if (notebookContainer) {{\n",
              "    x.observe(notebookContainer, {childList: true});\n",
              "}}\n",
              "\n",
              "// Listen for the clearing of the current output cell\n",
              "var outputEl = gd.closest('.output');\n",
              "if (outputEl) {{\n",
              "    x.observe(outputEl, {childList: true});\n",
              "}}\n",
              "\n",
              "                        })                };                            </script>        </div>\n",
              "</body>\n",
              "</html>"
            ]
          },
          "metadata": {}
        }
      ],
      "source": [
        "roc_auc_curve(y_test_pred_prob, y_test)"
      ]
    },
    {
      "cell_type": "code",
      "execution_count": 92,
      "metadata": {
        "id": "AymS4krnmhuC"
      },
      "outputs": [],
      "source": [
        "from tensorflow.keras.models import save_model\n"
      ]
    },
    {
      "cell_type": "code",
      "execution_count": 92,
      "metadata": {
        "id": "NpBMqfV0QNVF"
      },
      "outputs": [],
      "source": []
    },
    {
      "cell_type": "code",
      "execution_count": 93,
      "metadata": {
        "id": "kJi_fTcE_QH6",
        "colab": {
          "base_uri": "https://localhost:8080/",
          "height": 521
        },
        "outputId": "202aaf90-b886-43e2-fb85-303885e39c6d"
      },
      "outputs": [
        {
          "output_type": "stream",
          "name": "stderr",
          "text": [
            "WARNING:tensorflow:Found duplicated `Variable`s in Model's `weights`. This is usually caused by `Variable`s being shared by Layers in the Model. These `Variable`s will be treated as separate `Variable`s when the Model is restored. To avoid this, please save with `save_format=\"tf\"`.\n"
          ]
        },
        {
          "output_type": "error",
          "ename": "ValueError",
          "evalue": "ignored",
          "traceback": [
            "\u001b[0;31m---------------------------------------------------------------------------\u001b[0m",
            "\u001b[0;31mValueError\u001b[0m                                Traceback (most recent call last)",
            "\u001b[0;32m<ipython-input-93-39254aa65243>\u001b[0m in \u001b[0;36m<cell line: 2>\u001b[0;34m()\u001b[0m\n\u001b[1;32m      1\u001b[0m \u001b[0mMODEL_FILENAMEs\u001b[0m\u001b[0;34m=\u001b[0m\u001b[0mroot_path\u001b[0m\u001b[0;34m+\u001b[0m\u001b[0;34m\"model_5fold_EA_MR50IV5425.h5\"\u001b[0m\u001b[0;34m\u001b[0m\u001b[0;34m\u001b[0m\u001b[0m\n\u001b[0;32m----> 2\u001b[0;31m \u001b[0mensemble_model\u001b[0m\u001b[0;34m.\u001b[0m\u001b[0msave\u001b[0m\u001b[0;34m(\u001b[0m\u001b[0mMODEL_FILENAMEs\u001b[0m\u001b[0;34m)\u001b[0m\u001b[0;34m\u001b[0m\u001b[0;34m\u001b[0m\u001b[0m\n\u001b[0m",
            "\u001b[0;32m/usr/local/lib/python3.10/dist-packages/keras/utils/traceback_utils.py\u001b[0m in \u001b[0;36merror_handler\u001b[0;34m(*args, **kwargs)\u001b[0m\n\u001b[1;32m     68\u001b[0m             \u001b[0;31m# To get the full stack trace, call:\u001b[0m\u001b[0;34m\u001b[0m\u001b[0;34m\u001b[0m\u001b[0m\n\u001b[1;32m     69\u001b[0m             \u001b[0;31m# `tf.debugging.disable_traceback_filtering()`\u001b[0m\u001b[0;34m\u001b[0m\u001b[0;34m\u001b[0m\u001b[0m\n\u001b[0;32m---> 70\u001b[0;31m             \u001b[0;32mraise\u001b[0m \u001b[0me\u001b[0m\u001b[0;34m.\u001b[0m\u001b[0mwith_traceback\u001b[0m\u001b[0;34m(\u001b[0m\u001b[0mfiltered_tb\u001b[0m\u001b[0;34m)\u001b[0m \u001b[0;32mfrom\u001b[0m \u001b[0;32mNone\u001b[0m\u001b[0;34m\u001b[0m\u001b[0;34m\u001b[0m\u001b[0m\n\u001b[0m\u001b[1;32m     71\u001b[0m         \u001b[0;32mfinally\u001b[0m\u001b[0;34m:\u001b[0m\u001b[0;34m\u001b[0m\u001b[0;34m\u001b[0m\u001b[0m\n\u001b[1;32m     72\u001b[0m             \u001b[0;32mdel\u001b[0m \u001b[0mfiltered_tb\u001b[0m\u001b[0;34m\u001b[0m\u001b[0;34m\u001b[0m\u001b[0m\n",
            "\u001b[0;32m/usr/local/lib/python3.10/dist-packages/h5py/_hl/group.py\u001b[0m in \u001b[0;36mcreate_dataset\u001b[0;34m(self, name, shape, dtype, data, **kwds)\u001b[0m\n\u001b[1;32m    181\u001b[0m                     \u001b[0mgroup\u001b[0m \u001b[0;34m=\u001b[0m \u001b[0mself\u001b[0m\u001b[0;34m.\u001b[0m\u001b[0mrequire_group\u001b[0m\u001b[0;34m(\u001b[0m\u001b[0mparent_path\u001b[0m\u001b[0;34m)\u001b[0m\u001b[0;34m\u001b[0m\u001b[0;34m\u001b[0m\u001b[0m\n\u001b[1;32m    182\u001b[0m \u001b[0;34m\u001b[0m\u001b[0m\n\u001b[0;32m--> 183\u001b[0;31m             \u001b[0mdsid\u001b[0m \u001b[0;34m=\u001b[0m \u001b[0mdataset\u001b[0m\u001b[0;34m.\u001b[0m\u001b[0mmake_new_dset\u001b[0m\u001b[0;34m(\u001b[0m\u001b[0mgroup\u001b[0m\u001b[0;34m,\u001b[0m \u001b[0mshape\u001b[0m\u001b[0;34m,\u001b[0m \u001b[0mdtype\u001b[0m\u001b[0;34m,\u001b[0m \u001b[0mdata\u001b[0m\u001b[0;34m,\u001b[0m \u001b[0mname\u001b[0m\u001b[0;34m,\u001b[0m \u001b[0;34m**\u001b[0m\u001b[0mkwds\u001b[0m\u001b[0;34m)\u001b[0m\u001b[0;34m\u001b[0m\u001b[0;34m\u001b[0m\u001b[0m\n\u001b[0m\u001b[1;32m    184\u001b[0m             \u001b[0mdset\u001b[0m \u001b[0;34m=\u001b[0m \u001b[0mdataset\u001b[0m\u001b[0;34m.\u001b[0m\u001b[0mDataset\u001b[0m\u001b[0;34m(\u001b[0m\u001b[0mdsid\u001b[0m\u001b[0;34m)\u001b[0m\u001b[0;34m\u001b[0m\u001b[0;34m\u001b[0m\u001b[0m\n\u001b[1;32m    185\u001b[0m             \u001b[0;32mreturn\u001b[0m \u001b[0mdset\u001b[0m\u001b[0;34m\u001b[0m\u001b[0;34m\u001b[0m\u001b[0m\n",
            "\u001b[0;32m/usr/local/lib/python3.10/dist-packages/h5py/_hl/dataset.py\u001b[0m in \u001b[0;36mmake_new_dset\u001b[0;34m(parent, shape, dtype, data, name, chunks, compression, shuffle, fletcher32, maxshape, compression_opts, fillvalue, scaleoffset, track_times, external, track_order, dcpl, dapl, efile_prefix, virtual_prefix, allow_unknown_filter, rdcc_nslots, rdcc_nbytes, rdcc_w0)\u001b[0m\n\u001b[1;32m    161\u001b[0m         \u001b[0msid\u001b[0m \u001b[0;34m=\u001b[0m \u001b[0mh5s\u001b[0m\u001b[0;34m.\u001b[0m\u001b[0mcreate_simple\u001b[0m\u001b[0;34m(\u001b[0m\u001b[0mshape\u001b[0m\u001b[0;34m,\u001b[0m \u001b[0mmaxshape\u001b[0m\u001b[0;34m)\u001b[0m\u001b[0;34m\u001b[0m\u001b[0;34m\u001b[0m\u001b[0m\n\u001b[1;32m    162\u001b[0m \u001b[0;34m\u001b[0m\u001b[0m\n\u001b[0;32m--> 163\u001b[0;31m     \u001b[0mdset_id\u001b[0m \u001b[0;34m=\u001b[0m \u001b[0mh5d\u001b[0m\u001b[0;34m.\u001b[0m\u001b[0mcreate\u001b[0m\u001b[0;34m(\u001b[0m\u001b[0mparent\u001b[0m\u001b[0;34m.\u001b[0m\u001b[0mid\u001b[0m\u001b[0;34m,\u001b[0m \u001b[0mname\u001b[0m\u001b[0;34m,\u001b[0m \u001b[0mtid\u001b[0m\u001b[0;34m,\u001b[0m \u001b[0msid\u001b[0m\u001b[0;34m,\u001b[0m \u001b[0mdcpl\u001b[0m\u001b[0;34m=\u001b[0m\u001b[0mdcpl\u001b[0m\u001b[0;34m,\u001b[0m \u001b[0mdapl\u001b[0m\u001b[0;34m=\u001b[0m\u001b[0mdapl\u001b[0m\u001b[0;34m)\u001b[0m\u001b[0;34m\u001b[0m\u001b[0;34m\u001b[0m\u001b[0m\n\u001b[0m\u001b[1;32m    164\u001b[0m \u001b[0;34m\u001b[0m\u001b[0m\n\u001b[1;32m    165\u001b[0m     \u001b[0;32mif\u001b[0m \u001b[0;34m(\u001b[0m\u001b[0mdata\u001b[0m \u001b[0;32mis\u001b[0m \u001b[0;32mnot\u001b[0m \u001b[0;32mNone\u001b[0m\u001b[0;34m)\u001b[0m \u001b[0;32mand\u001b[0m \u001b[0;34m(\u001b[0m\u001b[0;32mnot\u001b[0m \u001b[0misinstance\u001b[0m\u001b[0;34m(\u001b[0m\u001b[0mdata\u001b[0m\u001b[0;34m,\u001b[0m \u001b[0mEmpty\u001b[0m\u001b[0;34m)\u001b[0m\u001b[0;34m)\u001b[0m\u001b[0;34m:\u001b[0m\u001b[0;34m\u001b[0m\u001b[0;34m\u001b[0m\u001b[0m\n",
            "\u001b[0;32mh5py/_objects.pyx\u001b[0m in \u001b[0;36mh5py._objects.with_phil.wrapper\u001b[0;34m()\u001b[0m\n",
            "\u001b[0;32mh5py/_objects.pyx\u001b[0m in \u001b[0;36mh5py._objects.with_phil.wrapper\u001b[0;34m()\u001b[0m\n",
            "\u001b[0;32mh5py/h5d.pyx\u001b[0m in \u001b[0;36mh5py.h5d.create\u001b[0;34m()\u001b[0m\n",
            "\u001b[0;31mValueError\u001b[0m: Unable to create dataset (name already exists)"
          ]
        }
      ],
      "source": [
        "MODEL_FILENAMEs=root_path+\"model_5fold_EA_MR50IV5425.h5\"\n",
        "ensemble_model.save(MODEL_FILENAMEs)"
      ]
    },
    {
      "cell_type": "code",
      "execution_count": null,
      "metadata": {
        "id": "Ihx8KZ7b3XgH"
      },
      "outputs": [],
      "source": []
    }
  ],
  "metadata": {
    "accelerator": "GPU",
    "colab": {
      "provenance": [],
      "include_colab_link": true
    },
    "gpuClass": "standard",
    "kernelspec": {
      "display_name": "Python 3",
      "name": "python3"
    },
    "language_info": {
      "name": "python"
    }
  },
  "nbformat": 4,
  "nbformat_minor": 0
}