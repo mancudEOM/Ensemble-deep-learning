{
  "nbformat": 4,
  "nbformat_minor": 0,
  "metadata": {
    "colab": {
      "provenance": [],
      "gpuType": "T4",
      "toc_visible": true,
      "include_colab_link": true
    },
    "kernelspec": {
      "name": "python3",
      "display_name": "Python 3"
    },
    "language_info": {
      "name": "python"
    },
    "gpuClass": "standard",
    "accelerator": "GPU"
  },
  "cells": [
    {
      "cell_type": "markdown",
      "metadata": {
        "id": "view-in-github",
        "colab_type": "text"
      },
      "source": [
        "<a href=\"https://colab.research.google.com/github/mancudEOM/Ensemble-deep-learning/blob/main/model_5fold_EA_MR50IV3010475425.ipynb\" target=\"_parent\"><img src=\"https://colab.research.google.com/assets/colab-badge.svg\" alt=\"Open In Colab\"/></a>"
      ]
    },
    {
      "cell_type": "code",
      "execution_count": 50,
      "metadata": {
        "id": "re2cPhu8Glvf",
        "colab": {
          "base_uri": "https://localhost:8080/"
        },
        "outputId": "58fcba16-f64b-4c86-a850-491ee3d30961"
      },
      "outputs": [
        {
          "output_type": "stream",
          "name": "stdout",
          "text": [
            "Drive already mounted at /content/drive; to attempt to forcibly remount, call drive.mount(\"/content/drive\", force_remount=True).\n"
          ]
        }
      ],
      "source": [
        "  from google.colab import drive\n",
        "  drive.mount('/content/drive')\n",
        "\n"
      ]
    },
    {
      "cell_type": "code",
      "source": [
        "  !ls\n"
      ],
      "metadata": {
        "id": "16aNt0njGqgR",
        "colab": {
          "base_uri": "https://localhost:8080/"
        },
        "outputId": "d3a4928c-b6d9-475b-da5a-19a79b5ae6f6"
      },
      "execution_count": 51,
      "outputs": [
        {
          "output_type": "stream",
          "name": "stdout",
          "text": [
            "drive  sample_data\n"
          ]
        }
      ]
    },
    {
      "cell_type": "code",
      "source": [
        "  import sys\n",
        "  root_path = '/content/drive/My Drive/Groundnut_Leaf_dataset/' # This is the path to where in google drive the code is stored!\n",
        "  sys.path.append(root_path)"
      ],
      "metadata": {
        "id": "6kpNIXuzGskg"
      },
      "execution_count": 52,
      "outputs": []
    },
    {
      "cell_type": "markdown",
      "source": [
        "# THÊM TẤT CẢ CÁC THƯ VIỆN CẦN THIẾT"
      ],
      "metadata": {
        "id": "qMNSUzIxL7JZ"
      }
    },
    {
      "cell_type": "code",
      "source": [
        "import numpy as np\n",
        "from sklearn.metrics import accuracy_score, f1_score, precision_score, confusion_matrix\n",
        "from sklearn.model_selection import StratifiedKFold\n",
        "from PIL import Image\n",
        "import random\n",
        "import tensorflow as tf\n",
        "from tensorflow.keras.models import Sequential\n",
        "from keras.preprocessing.image import ImageDataGenerator\n",
        "from tensorflow.keras.preprocessing.image import ImageDataGenerator\n",
        "from tensorflow.keras.layers import Dense, Dropout, Flatten, Conv2D, MaxPooling2D\n",
        "\n",
        "from tensorflow.compat.v1 import ConfigProto\n",
        "from tensorflow.compat.v1 import InteractiveSession\n",
        "import warnings\n",
        "import os\n",
        "import shutil\n",
        "from PIL import ImageFile\n",
        "warnings.simplefilter('error', Image.DecompressionBombWarning)\n",
        "ImageFile.LOAD_TRUNCATED_IMAGES = True\n",
        "Image.MAX_IMAGE_PIXELS = 1000000000\n",
        "config = ConfigProto()\n",
        "config.gpu_options.allow_growth = True\n",
        "session = InteractiveSession(config=config)"
      ],
      "metadata": {
        "id": "NJq2Vm2hHTWR",
        "colab": {
          "base_uri": "https://localhost:8080/"
        },
        "outputId": "730f23ef-c3bd-4405-d494-23e5f1f3b20a"
      },
      "execution_count": 53,
      "outputs": [
        {
          "output_type": "stream",
          "name": "stderr",
          "text": [
            "/usr/local/lib/python3.10/dist-packages/tensorflow/python/client/session.py:1769: UserWarning:\n",
            "\n",
            "An interactive session is already active. This can cause out-of-memory errors in some cases. You must explicitly call `InteractiveSession.close()` to release resources held by the other session(s).\n",
            "\n"
          ]
        }
      ]
    },
    {
      "cell_type": "markdown",
      "source": [
        "# Khởi tạo các biến cần thiết"
      ],
      "metadata": {
        "id": "QYpc-VdEMGBS"
      }
    },
    {
      "cell_type": "code",
      "source": [
        "datasetFolderName=root_path+'dataset'\n",
        "MODEL_FILENAME=root_path+\"model_cv.h5\"\n",
        "sourceFiles=[]\n",
        "classLabels=['early_leaf_spot_1','early_rust_1','healthy_leaf_1',\n",
        "              'late_leaf_spot_1','nutrition_deficiency_1','rust_1']\n",
        "X=[]\n",
        "Y=[]\n",
        "\n",
        "img_rows, img_cols =  224, 224\n",
        "# input image dimensions\n",
        "#img_rows, img_cols =  224, 224 # input image dimensions\n",
        "train_path=datasetFolderName+'/train/'\n",
        "validation_path=datasetFolderName+'/validation/'\n",
        "test_path=datasetFolderName+'/test/'"
      ],
      "metadata": {
        "id": "iCy2O5d9Jxq6"
      },
      "execution_count": 54,
      "outputs": []
    },
    {
      "cell_type": "markdown",
      "source": [
        "# KFOLD train-test-validation"
      ],
      "metadata": {
        "id": "LyAnSQTbMblZ"
      }
    },
    {
      "cell_type": "code",
      "source": [
        "def transferBetweenFolders(source, dest, splitRate):\n",
        "    global sourceFiles\n",
        "    sourceFiles=os.listdir(source)\n",
        "    if(len(sourceFiles)!=0):\n",
        "        transferFileNumbers=int(len(sourceFiles)*splitRate)\n",
        "        transferIndex=random.sample(range(0, len(sourceFiles)), transferFileNumbers)\n",
        "        for eachIndex in transferIndex:\n",
        "            shutil.move(source+str(sourceFiles[eachIndex]), dest+str(sourceFiles[eachIndex]))\n",
        "    else:\n",
        "        print(\"No file moved. Source empty!\")\n",
        "\n",
        "def transferAllClassBetweenFolders(source, dest, splitRate):\n",
        "    for label in classLabels:\n",
        "        transferBetweenFolders(datasetFolderName+'/'+source+'/'+label+'/',\n",
        "                               datasetFolderName+'/'+dest+'/'+label+'/',\n",
        "                               splitRate)"
      ],
      "metadata": {
        "id": "RgfHPIHbJ4rR"
      },
      "execution_count": 55,
      "outputs": []
    },
    {
      "cell_type": "code",
      "source": [
        "#transferAllClassBetweenFolders('test', 'train', 1.0)"
      ],
      "metadata": {
        "id": "stSX_AiNKleb"
      },
      "execution_count": 56,
      "outputs": []
    },
    {
      "cell_type": "code",
      "source": [
        "transferAllClassBetweenFolders('validation', 'train', 1.0)"
      ],
      "metadata": {
        "id": "Z6o8gWE-N-rq"
      },
      "execution_count": 57,
      "outputs": []
    },
    {
      "cell_type": "code",
      "source": [
        "#transferAllClassBetweenFolders('train', 'test', 0.20)"
      ],
      "metadata": {
        "id": "arE4ro1JKqIh"
      },
      "execution_count": 58,
      "outputs": []
    },
    {
      "cell_type": "code",
      "source": [
        "def prepareNameWithLabels(folderName):\n",
        "    sourceFiles=os.listdir(datasetFolderName+'/train/'+folderName)\n",
        "    for val in sourceFiles:\n",
        "        X.append(val)\n",
        "        for i in range(len(classLabels)):\n",
        "          if(folderName==classLabels[i]):\n",
        "              Y.append(i)"
      ],
      "metadata": {
        "id": "73VhRSA2K0fp"
      },
      "execution_count": 59,
      "outputs": []
    },
    {
      "cell_type": "code",
      "source": [
        "# Organize file names and class labels in X and Y variables\n",
        "for i in range(len(classLabels)):\n",
        "  prepareNameWithLabels(classLabels[i])"
      ],
      "metadata": {
        "id": "u6pP6P3YK2Ub"
      },
      "execution_count": 60,
      "outputs": []
    },
    {
      "cell_type": "code",
      "source": [
        "X=np.asarray(X)\n",
        "Y=np.asarray(Y)"
      ],
      "metadata": {
        "id": "WZHmT5JgK3xa"
      },
      "execution_count": 61,
      "outputs": []
    },
    {
      "cell_type": "code",
      "source": [
        "print(X)\n",
        "print(Y)"
      ],
      "metadata": {
        "id": "MzTCDvyoM28y",
        "colab": {
          "base_uri": "https://localhost:8080/"
        },
        "outputId": "3c476051-4e7d-4dba-a7ce-15d89680ea72"
      },
      "execution_count": 62,
      "outputs": [
        {
          "output_type": "stream",
          "name": "stdout",
          "text": [
            "['IMG_2788.jpg' 'IMG_3466.jpg' 'IMG_4096.jpg' ... 'dr_25_7962.jpg'\n",
            " 'dr_21_8287.jpg' 'dr_41_2719.jpg']\n",
            "[0 0 0 ... 5 5 5]\n"
          ]
        }
      ]
    },
    {
      "cell_type": "code",
      "source": [
        "batch_size = 16\n",
        "IMG_SIZE = (224, 224, 3)\n",
        "number_of_class_labels = len(classLabels)"
      ],
      "metadata": {
        "id": "WtnpSQSxX-67"
      },
      "execution_count": 63,
      "outputs": []
    },
    {
      "cell_type": "code",
      "source": [
        "import tensorflow.keras as keras"
      ],
      "metadata": {
        "id": "OKucCyffZ5cD"
      },
      "execution_count": 64,
      "outputs": []
    },
    {
      "cell_type": "code",
      "source": [
        "# Create a data augmentation stage with horizontal flipping, rotations, zooms\n",
        "data_augmentation = keras.Sequential(\n",
        "    [\n",
        "        keras.layers.Rescaling(1./ 255),\n",
        "        keras.layers.RandomFlip(),\n",
        "        keras.layers.RandomRotation(0.2),\n",
        "        keras.layers.RandomZoom(0.2,0.3)\n",
        "    ]\n",
        ")"
      ],
      "metadata": {
        "id": "zWFE6eJxZvCD"
      },
      "execution_count": 65,
      "outputs": []
    },
    {
      "cell_type": "code",
      "source": [
        "#pre_trained_layers = keras.applications.ResNet50V2(weights=\"imagenet\", include_top=False,\n",
        "#           input_tensor=keras.Input(shape=IMG_SIZE))"
      ],
      "metadata": {
        "id": "A929RzhDZ7wR"
      },
      "execution_count": 66,
      "outputs": []
    },
    {
      "cell_type": "code",
      "source": [
        "#pre_trained_layers = tf.keras.applications.MobileNetV2(weights=\"imagenet\", include_top=False,\n",
        "#            input_tensor=keras.Input(shape=IMG_SIZE))"
      ],
      "metadata": {
        "id": "MRoc6m_k7kpj"
      },
      "execution_count": 67,
      "outputs": []
    },
    {
      "cell_type": "code",
      "source": [
        "\n",
        "#pre_trained_layers = keras.applications.Xception(weights=\"imagenet\", include_top=False,\n",
        "#         input_tensor=keras.Input(shape=IMG_SIZE))"
      ],
      "metadata": {
        "id": "wbD80LCePblH"
      },
      "execution_count": 68,
      "outputs": []
    },
    {
      "cell_type": "code",
      "source": [
        "#pre_trained_layers = tf.keras.applications.InceptionV3(weights=\"imagenet\", include_top=False,\n",
        "#           input_tensor=keras.Input(shape=IMG_SIZE))"
      ],
      "metadata": {
        "id": "kFkcL4A1JffX"
      },
      "execution_count": 69,
      "outputs": []
    },
    {
      "cell_type": "code",
      "source": [
        "#pre_trained_layers.summary()\n"
      ],
      "metadata": {
        "id": "V-K3rsDLaLWL"
      },
      "execution_count": 70,
      "outputs": []
    },
    {
      "cell_type": "code",
      "source": [
        "\n",
        "from tensorflow.keras.models import Model, load_model\n",
        "from tensorflow.keras.layers import Input, Average\n",
        "from keras.models import Model\n",
        "from keras.layers import Input, Dense\n",
        "import tensorflow as tf"
      ],
      "metadata": {
        "id": "q-xZEOqCLWIb"
      },
      "execution_count": 71,
      "outputs": []
    },
    {
      "cell_type": "code",
      "source": [
        "class WeightedAverageLayer(tf.keras.layers.Layer):\n",
        "    def __init__(self, w1, w2, w3, **kwargs):\n",
        "        super(WeightedAverageLayer, self).__init__(**kwargs)\n",
        "        self.w1 = w1\n",
        "        self.w2 = w2\n",
        "        self.w3 = w3\n",
        "\n",
        "    def call(self, inputs):\n",
        "        return self.w1 * inputs[0] + self.w2 * inputs[1] + self.w3 * inputs[2]"
      ],
      "metadata": {
        "id": "GTVtq8kOc-6p"
      },
      "execution_count": 72,
      "outputs": []
    },
    {
      "cell_type": "code",
      "source": [
        "class MajorVoting(tf.keras.layers.Layer):\n",
        "    def __init__(self, w1, w2, w3, **kwargs):\n",
        "        super(MajorVoting, self).__init__(**kwargs)\n",
        "        self.w1 = w1\n",
        "        self.w2 = w2\n",
        "        self.w3 = w3\n",
        "\n",
        "    def call(self, inputs):\n",
        "        return np.argmax(input[0],input[1],input[2], axis=1)"
      ],
      "metadata": {
        "id": "e7mWjTIVnUi9"
      },
      "execution_count": 73,
      "outputs": []
    },
    {
      "cell_type": "code",
      "source": [
        "# Disable scientific notation for clarity\n",
        "np.set_printoptions(suppress=True)\n",
        "# Load the model\n",
        "model_1 =load_model(root_path+\"model_5fold_MobileNetV2_GN07mm.h5\",\n",
        "                    compile=False)\n",
        "model_1 = Model(inputs=model_1.inputs,\n",
        "                outputs=model_1.outputs,\n",
        "                name='model_5fold_MobileNetV2_GN07mm')\n",
        "model_2 = load_model(root_path+\"model_5fold_ResNet50V2_GN07.h5\",\n",
        "                     compile=False)\n",
        "model_2 = Model(inputs=model_1.inputs,\n",
        "                outputs=model_1.outputs,\n",
        "                name='model_5fold_ResNet50V2_GN07')\n",
        "model_3 = load_model(root_path+\"model_5fold_InceptionV3_GN07mm.h5\",\n",
        "                     compile=False)\n",
        "model_3 = Model(inputs=model_1.inputs,\n",
        "                outputs=model_1.outputs,\n",
        "                name='model_5fold_InceptionV3_GN07mm')\n",
        "models = [model_1, model_2, model_3]\n",
        "model_input = Input(shape=(224, 224, 3))\n",
        "model_outputs = [model(model_input) for model in models]\n",
        "#ensemble_output = Average()(model_outputs)\n",
        "ensemble_output = WeightedAverageLayer(0.1, 0.475, 0.425)(model_outputs)\n",
        "ensemble_model= Model(inputs=model_input, outputs=ensemble_output, name='ensemble')\n"
      ],
      "metadata": {
        "id": "R2Oq0Kl4IUFm"
      },
      "execution_count": 74,
      "outputs": []
    },
    {
      "cell_type": "code",
      "source": [
        "\n",
        "#Creating custom model\n",
        "\n"
      ],
      "metadata": {
        "id": "MU_j6dypcPwp"
      },
      "execution_count": 75,
      "outputs": []
    },
    {
      "cell_type": "code",
      "source": [
        "EPOCHS = 5\n",
        "LR = 1e-3\n",
        "ensemble_model.compile(optimizer=keras.optimizers.Adam(learning_rate=LR),\n",
        "              loss=tf.keras.losses.SparseCategoricalCrossentropy(),\n",
        "              metrics=['accuracy'])"
      ],
      "metadata": {
        "id": "41gFu9xKb0CU"
      },
      "execution_count": 76,
      "outputs": []
    },
    {
      "cell_type": "code",
      "source": [
        "#printing summary of custom model\n",
        "#ensemble_model.build((1,224,224,3))\n",
        "#ensemble_model.summary()"
      ],
      "metadata": {
        "id": "XCFHANKAcmVS"
      },
      "execution_count": 77,
      "outputs": []
    },
    {
      "cell_type": "code",
      "source": [
        "from tensorflow.keras.callbacks import ReduceLROnPlateau"
      ],
      "metadata": {
        "id": "AMvex2WIc1hi"
      },
      "execution_count": 78,
      "outputs": []
    },
    {
      "cell_type": "code",
      "source": [
        "# Callback -> Reduce Learning Rate on Plateau\n",
        "callback = ReduceLROnPlateau(monitor='val_loss', factor=0.1, patience=3, verbose=1, mode='auto',\n",
        "                             min_delta=0.000001, cooldown=0, min_lr=0.000001)"
      ],
      "metadata": {
        "id": "LM1NDxA1cnxB"
      },
      "execution_count": 79,
      "outputs": []
    },
    {
      "cell_type": "code",
      "source": [
        "skf = StratifiedKFold(n_splits=5, shuffle=True)\n",
        "skf.get_n_splits(X, Y)\n",
        "fold_num = 0\n",
        "for train_index, val_index in skf.split(X, Y):\n",
        "    # First cut all images from validation to train (if any exists)\n",
        "    transferAllClassBetweenFolders('validation', 'train', 1.0)\n",
        "    fold_num += 1\n",
        "    print(\"Results for fold\", fold_num)\n",
        "    X_train, X_val = X[train_index], X[val_index]\n",
        "    Y_train, Y_val = Y[train_index], Y[val_index]\n",
        "    # Move validation images of this fold from train folder to the validation folder\n",
        "    for each_index in range(len(X_val)):\n",
        "        class_label = ''\n",
        "        for i in range(len(classLabels)):\n",
        "            if(Y_val[each_index] == i):\n",
        "                class_label = classLabels[i]\n",
        "        # Then, copy the validation images to the validation folder\n",
        "        shutil.move(os.path.join(datasetFolderName, 'train', class_label, X_val[each_index]),\n",
        "                    os.path.join(datasetFolderName, 'validation', class_label, X_val[each_index]))\n",
        "\n",
        "\n",
        "\n",
        "    # Start ImageClassification Model\n",
        "    #creating train data set\n",
        "\n",
        "    train_generator = tf.keras.utils.image_dataset_from_directory(\n",
        "        train_path,\n",
        "        image_size=(IMG_SIZE[0], IMG_SIZE[1]),\n",
        "        batch_size=batch_size,\n",
        "        )\n",
        "\n",
        "    validation_generator = tf.keras.utils.image_dataset_from_directory(\n",
        "        validation_path,\n",
        "        image_size=(IMG_SIZE[0], IMG_SIZE[1]),\n",
        "        batch_size=batch_size,\n",
        "\n",
        "          # only data, no labels\n",
        "        shuffle=False\n",
        "        )\n",
        "\n",
        "    history = ensemble_model.fit(train_generator, epochs=EPOCHS, validation_data=validation_generator, callbacks=callback)\n",
        "    ensemble_model.evaluate(validation_generator)"
      ],
      "metadata": {
        "id": "h6-FwHIUaRPh",
        "colab": {
          "base_uri": "https://localhost:8080/"
        },
        "outputId": "321777d8-c16e-4c20-ac73-65e685d1037f"
      },
      "execution_count": 80,
      "outputs": [
        {
          "output_type": "stream",
          "name": "stdout",
          "text": [
            "No file moved. Source empty!\n",
            "No file moved. Source empty!\n",
            "No file moved. Source empty!\n",
            "No file moved. Source empty!\n",
            "No file moved. Source empty!\n",
            "No file moved. Source empty!\n",
            "Results for fold 1\n",
            "Found 1584 files belonging to 6 classes.\n",
            "Found 396 files belonging to 6 classes.\n",
            "Epoch 1/5\n",
            "99/99 [==============================] - 65s 238ms/step - loss: 0.4228 - accuracy: 0.8586 - val_loss: 5.6391 - val_accuracy: 0.4318 - lr: 0.0010\n",
            "Epoch 2/5\n",
            "99/99 [==============================] - 27s 266ms/step - loss: 0.3176 - accuracy: 0.8832 - val_loss: 4.7325 - val_accuracy: 0.5581 - lr: 0.0010\n",
            "Epoch 3/5\n",
            "99/99 [==============================] - 22s 221ms/step - loss: 0.3213 - accuracy: 0.8889 - val_loss: 2.4748 - val_accuracy: 0.6389 - lr: 0.0010\n",
            "Epoch 4/5\n",
            "99/99 [==============================] - 22s 217ms/step - loss: 0.2885 - accuracy: 0.8952 - val_loss: 3.4315 - val_accuracy: 0.5783 - lr: 0.0010\n",
            "Epoch 5/5\n",
            "99/99 [==============================] - 22s 219ms/step - loss: 0.2912 - accuracy: 0.9047 - val_loss: 5.7103 - val_accuracy: 0.4419 - lr: 0.0010\n",
            "25/25 [==============================] - 2s 59ms/step - loss: 5.7103 - accuracy: 0.4419\n",
            "Results for fold 2\n",
            "Found 1584 files belonging to 6 classes.\n",
            "Found 396 files belonging to 6 classes.\n",
            "Epoch 1/5\n",
            "99/99 [==============================] - 22s 219ms/step - loss: 0.2857 - accuracy: 0.8914 - val_loss: 5.1909 - val_accuracy: 0.5202 - lr: 0.0010\n",
            "Epoch 2/5\n",
            "99/99 [==============================] - 22s 216ms/step - loss: 0.2575 - accuracy: 0.9129 - val_loss: 2.3323 - val_accuracy: 0.7020 - lr: 0.0010\n",
            "Epoch 3/5\n",
            "99/99 [==============================] - 22s 218ms/step - loss: 0.2281 - accuracy: 0.9167 - val_loss: 1.0204 - val_accuracy: 0.7879 - lr: 0.0010\n",
            "Epoch 4/5\n",
            "99/99 [==============================] - 23s 229ms/step - loss: 0.1730 - accuracy: 0.9337 - val_loss: 0.6773 - val_accuracy: 0.8131 - lr: 0.0010\n",
            "Epoch 5/5\n",
            "99/99 [==============================] - 22s 216ms/step - loss: 0.2509 - accuracy: 0.9148 - val_loss: 1.1166 - val_accuracy: 0.7348 - lr: 0.0010\n",
            "25/25 [==============================] - 2s 59ms/step - loss: 1.1166 - accuracy: 0.7348\n",
            "Results for fold 3\n",
            "Found 1584 files belonging to 6 classes.\n",
            "Found 396 files belonging to 6 classes.\n",
            "Epoch 1/5\n",
            "99/99 [==============================] - 22s 218ms/step - loss: 0.2593 - accuracy: 0.9167 - val_loss: 1.2901 - val_accuracy: 0.6692 - lr: 0.0010\n",
            "Epoch 2/5\n",
            "99/99 [==============================] - 22s 219ms/step - loss: 0.2077 - accuracy: 0.9280 - val_loss: 1.2431 - val_accuracy: 0.7803 - lr: 0.0010\n",
            "Epoch 3/5\n",
            "99/99 [==============================] - 22s 217ms/step - loss: 0.1785 - accuracy: 0.9299 - val_loss: 0.5745 - val_accuracy: 0.8737 - lr: 0.0010\n",
            "Epoch 4/5\n",
            "99/99 [==============================] - 22s 220ms/step - loss: 0.1988 - accuracy: 0.9299 - val_loss: 1.8157 - val_accuracy: 0.7197 - lr: 0.0010\n",
            "Epoch 5/5\n",
            "99/99 [==============================] - 22s 215ms/step - loss: 0.1513 - accuracy: 0.9501 - val_loss: 1.1597 - val_accuracy: 0.8030 - lr: 0.0010\n",
            "25/25 [==============================] - 2s 58ms/step - loss: 1.1597 - accuracy: 0.8030\n",
            "Results for fold 4\n",
            "Found 1584 files belonging to 6 classes.\n",
            "Found 396 files belonging to 6 classes.\n",
            "Epoch 1/5\n",
            "99/99 [==============================] - 22s 221ms/step - loss: 0.2185 - accuracy: 0.9242 - val_loss: 1.2098 - val_accuracy: 0.7500 - lr: 0.0010\n",
            "Epoch 2/5\n",
            "99/99 [==============================] - 22s 220ms/step - loss: 0.1512 - accuracy: 0.9438 - val_loss: 0.9882 - val_accuracy: 0.8409 - lr: 0.0010\n",
            "Epoch 3/5\n",
            "99/99 [==============================] - 22s 215ms/step - loss: 0.2066 - accuracy: 0.9287 - val_loss: 1.6906 - val_accuracy: 0.7854 - lr: 0.0010\n",
            "Epoch 4/5\n",
            "99/99 [==============================] - 22s 219ms/step - loss: 0.1448 - accuracy: 0.9501 - val_loss: 0.5617 - val_accuracy: 0.8965 - lr: 0.0010\n",
            "Epoch 5/5\n",
            "99/99 [==============================] - 23s 231ms/step - loss: 0.1958 - accuracy: 0.9331 - val_loss: 0.7366 - val_accuracy: 0.8283 - lr: 0.0010\n",
            "25/25 [==============================] - 2s 61ms/step - loss: 0.7366 - accuracy: 0.8283\n",
            "Results for fold 5\n",
            "Found 1584 files belonging to 6 classes.\n",
            "Found 396 files belonging to 6 classes.\n",
            "Epoch 1/5\n",
            "99/99 [==============================] - 22s 218ms/step - loss: 0.1541 - accuracy: 0.9508 - val_loss: 1.3809 - val_accuracy: 0.7904 - lr: 0.0010\n",
            "Epoch 2/5\n",
            "99/99 [==============================] - 22s 219ms/step - loss: 0.1698 - accuracy: 0.9268 - val_loss: 1.5366 - val_accuracy: 0.7753 - lr: 0.0010\n",
            "Epoch 3/5\n",
            "99/99 [==============================] - 22s 221ms/step - loss: 0.1833 - accuracy: 0.9331 - val_loss: 1.0818 - val_accuracy: 0.7854 - lr: 0.0010\n",
            "Epoch 4/5\n",
            "99/99 [==============================] - 22s 216ms/step - loss: 0.1703 - accuracy: 0.9375 - val_loss: 1.9650 - val_accuracy: 0.6187 - lr: 0.0010\n",
            "Epoch 5/5\n",
            "99/99 [==============================] - 22s 219ms/step - loss: 0.1475 - accuracy: 0.9426 - val_loss: 0.5365 - val_accuracy: 0.8687 - lr: 0.0010\n",
            "25/25 [==============================] - 2s 59ms/step - loss: 0.5365 - accuracy: 0.8687\n"
          ]
        }
      ]
    },
    {
      "cell_type": "code",
      "source": [
        "from sklearn.metrics import classification_report, roc_curve, roc_auc_score\n",
        "import pandas as pd\n",
        "import plotly.graph_objects as go\n",
        "import plotly.express as px\n",
        "import matplotlib.pyplot as plt"
      ],
      "metadata": {
        "id": "jJurHyH7k6Ny"
      },
      "execution_count": 81,
      "outputs": []
    },
    {
      "cell_type": "code",
      "source": [
        "plt.title(\"Loss\", fontdict={'fontsize':18})\n",
        "plt.plot(history.history['loss'],label='train')\n",
        "plt.plot(history.history['val_loss'],label='test')\n",
        "plt.legend()\n",
        "plt.show()"
      ],
      "metadata": {
        "id": "TOQlD_ZTko2y",
        "colab": {
          "base_uri": "https://localhost:8080/",
          "height": 457
        },
        "outputId": "240d8421-88f9-48e9-b5a7-ef801171f742"
      },
      "execution_count": 82,
      "outputs": [
        {
          "output_type": "display_data",
          "data": {
            "text/plain": [
              "<Figure size 640x480 with 1 Axes>"
            ],
            "image/png": "[encoded data removed]"
          },
          "metadata": {}
        }
      ]
    },
    {
      "cell_type": "code",
      "source": [
        "plt.title(\"Accuracy\", fontdict={'fontsize':18})\n",
        "plt.plot(history.history['accuracy'],label='train')\n",
        "plt.plot(history.history['val_accuracy'],label='test')\n",
        "plt.legend()\n",
        "plt.show()"
      ],
      "metadata": {
        "id": "7pwYMz2Bkyt5",
        "colab": {
          "base_uri": "https://localhost:8080/",
          "height": 457
        },
        "outputId": "ac707464-5256-43dd-bee2-4a293c69461c"
      },
      "execution_count": 83,
      "outputs": [
        {
          "output_type": "display_data",
          "data": {
            "text/plain": [
              "<Figure size 640x480 with 1 Axes>"
            ],
            "image/png": "[encoded data removed]"
          },
          "metadata": {}
        }
      ]
    },
    {
      "cell_type": "code",
      "source": [
        "Y_train = []\n",
        "X_train = []\n",
        "for data in train_generator:\n",
        "    X_train.extend(data[0].numpy())\n",
        "    Y_train.extend(data[1].numpy())\n",
        "Y_train = np.array(Y_train)\n",
        "X_train = np.array(X_train)"
      ],
      "metadata": {
        "id": "93F3DoWUk7Oa"
      },
      "execution_count": 84,
      "outputs": []
    },
    {
      "cell_type": "code",
      "source": [
        "y_train_pred_prob = ensemble_model.predict(X_train)\n",
        "y_train_pred = [np.argmax(i) for i in y_train_pred_prob]"
      ],
      "metadata": {
        "id": "IAbUM7JblMA6",
        "colab": {
          "base_uri": "https://localhost:8080/"
        },
        "outputId": "98d10733-2672-4024-83a5-4a94560c765d"
      },
      "execution_count": 85,
      "outputs": [
        {
          "output_type": "stream",
          "name": "stdout",
          "text": [
            "50/50 [==============================] - 8s 102ms/step\n"
          ]
        }
      ]
    },
    {
      "cell_type": "code",
      "source": [
        "y_train_pred_prob.shape"
      ],
      "metadata": {
        "id": "ubgm_cWxlUrD",
        "colab": {
          "base_uri": "https://localhost:8080/"
        },
        "outputId": "8412bc85-fb1d-42bc-c556-5421cf9856a2"
      },
      "execution_count": 86,
      "outputs": [
        {
          "output_type": "execute_result",
          "data": {
            "text/plain": [
              "(1584, 6)"
            ]
          },
          "metadata": {},
          "execution_count": 86
        }
      ]
    },
    {
      "cell_type": "code",
      "source": [
        "#function to plot roc-auc curve\n",
        "def roc_auc_curve(y_scores, y_true):\n",
        "    # One hot encode the labels in order to plot them\n",
        "    y_onehot = pd.get_dummies(y_true, columns=classLabels)\n",
        "\n",
        "    # Create an empty figure, and iteratively add new lines\n",
        "    # every time we compute a new class\n",
        "    fig = go.Figure()\n",
        "    fig.add_shape(\n",
        "        type='line', line=dict(dash='dash'),\n",
        "        x0=0, x1=1, y0=0, y1=1\n",
        "    )\n",
        "\n",
        "    for i in range(y_scores.shape[1]):\n",
        "        y_true = y_onehot.iloc[:, i]\n",
        "        y_score = y_scores[:, i]\n",
        "\n",
        "        fpr, tpr, _ = roc_curve(y_true, y_score)\n",
        "        auc_score = roc_auc_score(y_true, y_score)\n",
        "\n",
        "        name = f\"{classLabels[i]} (AUC={auc_score:.2f})\"\n",
        "        fig.add_trace(go.Scatter(x=fpr, y=tpr, name=name, mode='lines'))\n",
        "\n",
        "    fig.update_layout(\n",
        "        title=\"ROC Curve\",\n",
        "        xaxis_title='False Positive Rate',\n",
        "        yaxis_title='True Positive Rate',\n",
        "        yaxis=dict(scaleanchor=\"x\", scaleratio=1),\n",
        "        xaxis=dict(constrain='domain'),\n",
        "        width=900, height=800\n",
        "    )\n",
        "\n",
        "    return fig"
      ],
      "metadata": {
        "id": "A5Ywk5jrlVYi"
      },
      "execution_count": 87,
      "outputs": []
    },
    {
      "cell_type": "code",
      "source": [
        "import seaborn as sb"
      ],
      "metadata": {
        "id": "YlYX57A4lj1J"
      },
      "execution_count": 88,
      "outputs": []
    },
    {
      "cell_type": "code",
      "source": [
        "plt.figure(figsize=(25,7))\n",
        "sb.heatmap(tf.math.confusion_matrix(labels=Y_train,predictions=y_train_pred),annot=True,fmt='.1f', cmap='hot_r')\n",
        "plt.xlabel('Predicted Values')\n",
        "plt.ylabel('Actual Values')\n",
        "plt.title('Confusion Matrix (Training)')\n",
        "plt.tight_layout()\n",
        "plt.show()"
      ],
      "metadata": {
        "id": "sZZQfWeDl9wq",
        "colab": {
          "base_uri": "https://localhost:8080/",
          "height": 367
        },
        "outputId": "4aa7633a-9c80-45d8-dd23-d4f7c6918f4b"
      },
      "execution_count": 89,
      "outputs": [
        {
          "output_type": "display_data",
          "data": {
            "text/plain": [
              "<Figure size 2500x700 with 2 Axes>"
            ],
            "image/png": "[encoded data removed]"
          },
          "metadata": {}
        }
      ]
    },
    {
      "cell_type": "code",
      "source": [
        "print(\"Classification Report for Training\")\n",
        "print(classification_report(Y_train, y_train_pred))"
      ],
      "metadata": {
        "id": "iLpnqOcGmEks",
        "colab": {
          "base_uri": "https://localhost:8080/"
        },
        "outputId": "4a42b5ac-7735-4b31-c0d8-8dfcffeee09b"
      },
      "execution_count": 90,
      "outputs": [
        {
          "output_type": "stream",
          "name": "stdout",
          "text": [
            "Classification Report for Training\n",
            "              precision    recall  f1-score   support\n",
            "\n",
            "           0       0.69      1.00      0.82       265\n",
            "           1       0.90      1.00      0.95       214\n",
            "           2       0.96      0.86      0.90       293\n",
            "           3       0.98      0.67      0.79       298\n",
            "           4       0.87      0.93      0.90       251\n",
            "           5       1.00      0.89      0.94       263\n",
            "\n",
            "    accuracy                           0.88      1584\n",
            "   macro avg       0.90      0.89      0.88      1584\n",
            "weighted avg       0.90      0.88      0.88      1584\n",
            "\n"
          ]
        }
      ]
    },
    {
      "cell_type": "code",
      "source": [
        "roc_auc_curve(y_train_pred_prob, Y_train)\n",
        "X_test = []\n",
        "y_test = []\n",
        "test_generator = tf.keras.utils.image_dataset_from_directory(\n",
        "        test_path,\n",
        "        image_size=(IMG_SIZE[0], IMG_SIZE[1]),\n",
        "        batch_size=batch_size,\n",
        "\n",
        "          # only data, no labels\n",
        "        #shuffle=False\n",
        "        )\n",
        "for data in test_generator:\n",
        "    X_test.extend(data[0].numpy())\n",
        "    y_test.extend(data[1].numpy())\n",
        "X_test = np.array(X_test)\n",
        "y_test = np.array(y_test)"
      ],
      "metadata": {
        "id": "mu3MhzQnmKR5",
        "colab": {
          "base_uri": "https://localhost:8080/"
        },
        "outputId": "6a424544-0b15-4ae7-ab61-0c1e272e9763"
      },
      "execution_count": 91,
      "outputs": [
        {
          "output_type": "stream",
          "name": "stdout",
          "text": [
            "Found 2451 files belonging to 6 classes.\n"
          ]
        }
      ]
    },
    {
      "cell_type": "code",
      "source": [
        "y_test_pred_prob = ensemble_model.predict(X_test)\n",
        "y_test_pred = [np.argmax(i) for i in y_test_pred_prob]"
      ],
      "metadata": {
        "id": "peCIJs3KmT5a",
        "colab": {
          "base_uri": "https://localhost:8080/"
        },
        "outputId": "a65e01ab-c73f-41e4-c435-8ab42a63010e"
      },
      "execution_count": 92,
      "outputs": [
        {
          "output_type": "stream",
          "name": "stdout",
          "text": [
            "77/77 [==============================] - 8s 101ms/step\n"
          ]
        }
      ]
    },
    {
      "cell_type": "code",
      "source": [
        "np.unique(y_test)"
      ],
      "metadata": {
        "id": "an7a0Ymplmh5",
        "colab": {
          "base_uri": "https://localhost:8080/"
        },
        "outputId": "67e1eb43-880b-4c7d-ef38-160dabb51cd3"
      },
      "execution_count": 93,
      "outputs": [
        {
          "output_type": "execute_result",
          "data": {
            "text/plain": [
              "array([0, 1, 2, 3, 4, 5], dtype=int32)"
            ]
          },
          "metadata": {},
          "execution_count": 93
        }
      ]
    },
    {
      "cell_type": "code",
      "source": [
        "plt.figure(figsize=(25,7))\n",
        "sb.heatmap(tf.math.confusion_matrix(labels=y_test,predictions=y_test_pred),annot=True,fmt='.1f', cmap='hot_r')\n",
        "plt.xlabel('Predicted Values')\n",
        "plt.ylabel('Actual Values')\n",
        "plt.title('Confusion Matrix')\n",
        "plt.tight_layout()\n",
        "plt.show()"
      ],
      "metadata": {
        "id": "AxCwvhHVk-vY",
        "colab": {
          "base_uri": "https://localhost:8080/",
          "height": 367
        },
        "outputId": "a8df0f33-9e92-4cd9-9dda-2cca069b3fa9"
      },
      "execution_count": 94,
      "outputs": [
        {
          "output_type": "display_data",
          "data": {
            "text/plain": [
              "<Figure size 2500x700 with 2 Axes>"
            ],
            "image/png": "[encoded data removed]"
          },
          "metadata": {}
        }
      ]
    },
    {
      "cell_type": "code",
      "source": [
        "print(\"Classification Report for Test\")\n",
        "print(classification_report(y_test, y_test_pred))"
      ],
      "metadata": {
        "id": "LFm0u6zSmaGj",
        "colab": {
          "base_uri": "https://localhost:8080/"
        },
        "outputId": "1ba86e5c-6541-4602-896a-302edac3b6a6"
      },
      "execution_count": 95,
      "outputs": [
        {
          "output_type": "stream",
          "name": "stdout",
          "text": [
            "Classification Report for Test\n",
            "              precision    recall  f1-score   support\n",
            "\n",
            "           0       0.74      0.98      0.84       409\n",
            "           1       0.77      1.00      0.87       409\n",
            "           2       0.98      0.78      0.87       409\n",
            "           3       0.97      0.63      0.77       405\n",
            "           4       0.81      0.98      0.89       410\n",
            "           5       1.00      0.71      0.83       409\n",
            "\n",
            "    accuracy                           0.85      2451\n",
            "   macro avg       0.88      0.85      0.84      2451\n",
            "weighted avg       0.88      0.85      0.84      2451\n",
            "\n"
          ]
        }
      ]
    },
    {
      "cell_type": "code",
      "source": [
        "roc_auc_curve(y_test_pred_prob, y_test)"
      ],
      "metadata": {
        "id": "LGL2Ta5xmf5r",
        "colab": {
          "base_uri": "https://localhost:8080/",
          "height": 817
        },
        "outputId": "0946ff58-80e2-4a93-a074-8d54d3cacb0c"
      },
      "execution_count": 96,
      "outputs": [
        {
          "output_type": "display_data",
          "data": {
            "text/html": [
              "<html>\n",
              "<head><meta charset=\"utf-8\" /></head>\n",
              "<body>\n",
              "    <div>            <script src=\"https://cdnjs.cloudflare.com/ajax/libs/mathjax/2.7.5/MathJax.js?config=TeX-AMS-MML_SVG\"></script><script type=\"text/javascript\">if (window.MathJax && window.MathJax.Hub && window.MathJax.Hub.Config) {window.MathJax.Hub.Config({SVG: {font: \"STIX-Web\"}});}</script>                <script type=\"text/javascript\">window.PlotlyConfig = {MathJaxConfig: 'local'};</script>\n",
              "        <script src=\"https://cdn.plot.ly/plotly-2.18.2.min.js\"></script>                <div id=\"4b2aea51-36cf-4432-a710-9dd5bbd29837\" class=\"plotly-graph-div\" style=\"height:800px; width:900px;\"></div>            <script type=\"text/javascript\">                                    window.PLOTLYENV=window.PLOTLYENV || {};                                    if (document.getElementById(\"4b2aea51-36cf-4432-a710-9dd5bbd29837\")) {                    Plotly.newPlot(                        \"4b2aea51-36cf-4432-a710-9dd5bbd29837\",                        [{\"mode\":\"lines\",\"name\":\"early_leaf_spot_1 (AUC=0.99)\",\"x\":[0.0,0.0,0.0,0.0,0.0,0.0,0.0,0.0,0.0,0.0,0.0,0.0,0.0,0.0,0.0,0.0,0.0,0.0,0.0,0.0,0.0,0.0,0.0,0.0,0.0,0.0,0.0,0.0,0.0,0.0,0.0,0.0,0.0,0.0,0.0004897159647404506,0.0004897159647404506,0.0009794319294809011,0.0009794319294809011,0.0014691478942213516,0.0014691478942213516,0.0019588638589618022,0.0019588638589618022,0.002448579823702253,0.002448579823702253,0.002938295788442703,0.002938295788442703,0.0034280117531831538,0.0034280117531831538,0.0039177277179236044,0.0039177277179236044,0.004407443682664055,0.004407443682664055,0.004897159647404506,0.004897159647404506,0.0053868756121449556,0.0053868756121449556,0.006366307541625857,0.006366307541625857,0.0068560235063663075,0.0068560235063663075,0.007345739471106758,0.007345739471106758,0.00832517140058766,0.00832517140058766,0.00930460333006856,0.00930460333006856,0.009794319294809012,0.009794319294809012,0.01028403525954946,0.01028403525954946,0.011263467189030362,0.011263467189030362,0.013712047012732615,0.013712047012732615,0.014691478942213516,0.014691478942213516,0.015181194906953967,0.015181194906953967,0.01762977473065622,0.01762977473065622,0.01860920666013712,0.01860920666013712,0.01909892262487757,0.01909892262487757,0.02056807051909892,0.02056807051909892,0.021547502448579822,0.021547502448579822,0.022037218413320275,0.022037218413320275,0.023506366307541625,0.023506366307541625,0.02889324191968658,0.02889324191968658,0.029382957884427033,0.029382957884427033,0.029872673849167482,0.029872673849167482,0.030362389813907934,0.030362389813907934,0.031341821743388835,0.031341821743388835,0.03819784524975514,0.03819784524975514,0.039177277179236046,0.039177277179236046,0.044564152791381,0.044564152791381,0.0455435847208619,0.0455435847208619,0.05435847208619001,0.05435847208619001,0.05533790401567091,0.05533790401567091,0.056317335945151814,0.056317335945151814,0.059255631733594515,0.059255631733594515,0.062193927522037215,0.062193927522037215,0.06317335945151811,0.06317335945151811,0.06660137120470128,0.06660137120470128,0.07247796278158668,0.07247796278158668,0.07688540646425074,0.07688540646425074,0.0881488736532811,0.0881488736532811,0.11704211557296768,0.11704211557296768,0.11998041136141038,0.11998041136141038,0.12193927522037218,0.12193927522037218,0.1831537708129285,0.1831537708129285,0.4671890303623898,0.4671890303623898,1.0],\"y\":[0.0,0.19559902200489,0.254278728606357,0.2860635696821516,0.3080684596577017,0.3276283618581907,0.3422982885085575,0.3545232273838631,0.3594132029339853,0.37163814180929094,0.38141809290953543,0.3960880195599022,0.39853300733496333,0.4083129584352078,0.41075794621026895,0.4180929095354523,0.4229828850855746,0.4254278728606357,0.43031784841075793,0.43765281173594134,0.44254278728606355,0.44987775061124696,0.45232273838630804,0.45965770171149145,0.46454767726161367,0.4718826405867971,0.48166259168704156,0.4963325183374083,0.5012224938875306,0.511002444987775,0.5158924205378973,0.684596577017115,0.6894865525672371,0.6992665036674817,0.6992665036674817,0.7286063569682152,0.7286063569682152,0.7530562347188264,0.7530562347188264,0.784841075794621,0.784841075794621,0.8288508557457213,0.8288508557457213,0.8386308068459658,0.8386308068459658,0.843520782396088,0.843520782396088,0.8484107579462102,0.8484107579462102,0.8508557457212714,0.8508557457212714,0.8533007334963325,0.8533007334963325,0.8557457212713936,0.8557457212713936,0.8581907090464548,0.8581907090464548,0.8606356968215159,0.8606356968215159,0.863080684596577,0.863080684596577,0.8655256723716381,0.8655256723716381,0.8679706601466992,0.8679706601466992,0.8777506112469438,0.8777506112469438,0.8801955990220048,0.8801955990220048,0.8850855745721271,0.8850855745721271,0.8924205378973105,0.8924205378973105,0.8948655256723717,0.8948655256723717,0.8997555012224939,0.8997555012224939,0.902200488997555,0.902200488997555,0.9046454767726161,0.9046454767726161,0.9119804400977995,0.9119804400977995,0.9168704156479217,0.9168704156479217,0.921760391198044,0.921760391198044,0.9290953545232273,0.9290953545232273,0.9315403422982885,0.9315403422982885,0.9339853300733496,0.9339853300733496,0.9388753056234719,0.9388753056234719,0.941320293398533,0.941320293398533,0.9437652811735942,0.9437652811735942,0.9462102689486552,0.9462102689486552,0.9486552567237164,0.9486552567237164,0.9511002444987775,0.9511002444987775,0.9535452322738386,0.9535452322738386,0.9559902200488998,0.9559902200488998,0.9584352078239609,0.9584352078239609,0.960880195599022,0.960880195599022,0.9633251833740831,0.9633251833740831,0.9657701711491442,0.9657701711491442,0.9682151589242054,0.9682151589242054,0.9706601466992665,0.9706601466992665,0.9779951100244498,0.9779951100244498,0.980440097799511,0.980440097799511,0.9828850855745721,0.9828850855745721,0.9853300733496333,0.9853300733496333,0.9877750611246944,0.9877750611246944,0.9902200488997555,0.9902200488997555,0.9926650366748166,0.9926650366748166,0.9951100244498777,0.9951100244498777,0.9975550122249389,0.9975550122249389,1.0,1.0],\"type\":\"scatter\"},{\"mode\":\"lines\",\"name\":\"early_rust_1 (AUC=1.00)\",\"x\":[0.0,0.0,0.0,0.0,0.0,0.0,0.0004897159647404506,0.0004897159647404506,0.0004897159647404506,0.0004897159647404506,0.0004897159647404506,0.0004897159647404506,0.0004897159647404506,0.0004897159647404506,0.0004897159647404506,0.0004897159647404506,0.0004897159647404506,0.0004897159647404506,0.0004897159647404506,0.0004897159647404506,0.0004897159647404506,0.0004897159647404506,0.0004897159647404506,0.0009794319294809011,0.0009794319294809011,0.0009794319294809011,0.0009794319294809011,0.0014691478942213516,0.0014691478942213516,0.0014691478942213516,0.0014691478942213516,0.0019588638589618022,0.0019588638589618022,0.002448579823702253,0.002448579823702253,0.002938295788442703,0.002938295788442703,0.0034280117531831538,0.0034280117531831538,0.0039177277179236044,0.0039177277179236044,0.006366307541625857,0.006366307541625857,0.007345739471106758,0.007345739471106758,0.007835455435847209,0.007835455435847209,0.00832517140058766,0.00832517140058766,0.009794319294809012,0.009794319294809012,0.01028403525954946,0.01028403525954946,0.010773751224289911,0.010773751224289911,0.011753183153770812,0.011753183153770812,0.012732615083251714,0.012732615083251714,0.015181194906953967,0.015181194906953967,0.015670910871694418,0.015670910871694418,0.01665034280117532,0.01665034280117532,0.017140058765915768,0.017140058765915768,0.01811949069539667,0.01811949069539667,0.01860920666013712,0.01860920666013712,0.01909892262487757,0.01909892262487757,0.020078354554358472,0.020078354554358472,0.02056807051909892,0.02056807051909892,0.022037218413320275,0.022037218413320275,1.0],\"y\":[0.0,0.48655256723716384,0.5501222493887531,0.5647921760391198,0.5819070904645477,0.5916870415647921,0.6014669926650367,0.6112469437652812,0.6259168704156479,0.6332518337408313,0.6454767726161369,0.6528117359413202,0.6601466992665037,0.6748166259168704,0.687041564792176,0.6919315403422983,0.6968215158924206,0.7041564792176039,0.7163814180929096,0.7212713936430318,0.7310513447432763,0.7359413202933985,0.7383863080684596,0.7383863080684596,0.7457212713936431,0.7506112469437652,0.7726161369193154,0.7726161369193154,0.7750611246943765,0.7799511002444988,0.8166259168704156,0.8166259168704156,0.8337408312958435,0.8337408312958435,0.8386308068459658,0.8386308068459658,0.8679706601466992,0.8679706601466992,0.8704156479217604,0.8704156479217604,0.8924205378973105,0.8924205378973105,0.8973105134474327,0.8973105134474327,0.9046454767726161,0.9046454767726161,0.9144254278728606,0.9144254278728606,0.9168704156479217,0.9168704156479217,0.9193154034229829,0.9193154034229829,0.921760391198044,0.921760391198044,0.9242053789731052,0.9242053789731052,0.9266503667481663,0.9266503667481663,0.9290953545232273,0.9290953545232273,0.9462102689486552,0.9462102689486552,0.9486552567237164,0.9486552567237164,0.9511002444987775,0.9511002444987775,0.9706601466992665,0.9706601466992665,0.9731051344743277,0.9731051344743277,0.980440097799511,0.980440097799511,0.9926650366748166,0.9926650366748166,0.9951100244498777,0.9951100244498777,0.9975550122249389,0.9975550122249389,1.0,1.0],\"type\":\"scatter\"},{\"mode\":\"lines\",\"name\":\"healthy_leaf_1 (AUC=1.00)\",\"x\":[0.0,0.0,0.0,0.0004897159647404506,0.0004897159647404506,0.0009794319294809011,0.0009794319294809011,0.0014691478942213516,0.0014691478942213516,0.0019588638589618022,0.0019588638589618022,0.002448579823702253,0.002448579823702253,0.002938295788442703,0.002938295788442703,0.0039177277179236044,0.0039177277179236044,0.004407443682664055,0.004407443682664055,0.004897159647404506,0.004897159647404506,0.0053868756121449556,0.0053868756121449556,0.005876591576885406,0.005876591576885406,0.006366307541625857,0.006366307541625857,0.0068560235063663075,0.0068560235063663075,0.007345739471106758,0.007345739471106758,0.007835455435847209,0.007835455435847209,0.00832517140058766,0.00832517140058766,0.00881488736532811,0.00881488736532811,0.009794319294809012,0.009794319294809012,0.01028403525954946,0.01028403525954946,0.010773751224289911,0.010773751224289911,0.011753183153770812,0.011753183153770812,0.012242899118511263,0.012242899118511263,0.012732615083251714,0.012732615083251714,0.013222331047992164,0.013222331047992164,0.013712047012732615,0.013712047012732615,0.014201762977473066,0.014201762977473066,0.014691478942213516,0.014691478942213516,0.01811949069539667,0.01811949069539667,0.01909892262487757,0.01909892262487757,0.019588638589618023,0.019588638589618023,0.021547502448579822,0.021547502448579822,0.059745347698334964,0.059745347698334964,1.0],\"y\":[0.0,0.0024449877750611247,0.11491442542787286,0.11491442542787286,0.3374083129584352,0.3374083129584352,0.4963325183374083,0.4963325183374083,0.7041564792176039,0.7041564792176039,0.7726161369193154,0.7726161369193154,0.784841075794621,0.784841075794621,0.8019559902200489,0.8019559902200489,0.8068459657701712,0.8068459657701712,0.8361858190709046,0.8361858190709046,0.8484107579462102,0.8484107579462102,0.8557457212713936,0.8557457212713936,0.8581907090464548,0.8581907090464548,0.882640586797066,0.882640586797066,0.9046454767726161,0.9046454767726161,0.9070904645476773,0.9070904645476773,0.9144254278728606,0.9144254278728606,0.9168704156479217,0.9168704156479217,0.9193154034229829,0.9193154034229829,0.9266503667481663,0.9266503667481663,0.9315403422982885,0.9315403422982885,0.9339853300733496,0.9339853300733496,0.941320293398533,0.941320293398533,0.9462102689486552,0.9462102689486552,0.9633251833740831,0.9633251833740831,0.9779951100244498,0.9779951100244498,0.980440097799511,0.980440097799511,0.9853300733496333,0.9853300733496333,0.9877750611246944,0.9877750611246944,0.9902200488997555,0.9902200488997555,0.9926650366748166,0.9926650366748166,0.9951100244498777,0.9951100244498777,0.9975550122249389,0.9975550122249389,1.0,1.0],\"type\":\"scatter\"},{\"mode\":\"lines\",\"name\":\"late_leaf_spot_1 (AUC=0.99)\",\"x\":[0.0,0.0,0.0,0.0,0.0,0.0004887585532746823,0.0004887585532746823,0.0009775171065493646,0.0009775171065493646,0.001466275659824047,0.001466275659824047,0.0019550342130987292,0.0019550342130987292,0.0024437927663734115,0.0024437927663734115,0.002932551319648094,0.002932551319648094,0.0039100684261974585,0.0039100684261974585,0.004887585532746823,0.004887585532746823,0.005376344086021506,0.005376344086021506,0.005865102639296188,0.005865102639296188,0.006842619745845552,0.006842619745845552,0.007331378299120235,0.007331378299120235,0.008797653958944282,0.008797653958944282,0.010752688172043012,0.010752688172043012,0.011241446725317693,0.011241446725317693,0.011730205278592375,0.011730205278592375,0.012218963831867057,0.012218963831867057,0.013196480938416423,0.013196480938416423,0.014173998044965786,0.014173998044965786,0.01466275659824047,0.01466275659824047,0.015151515151515152,0.015151515151515152,0.01710654936461388,0.01710654936461388,0.017595307917888565,0.017595307917888565,0.018084066471163247,0.018084066471163247,0.01857282502443793,0.01857282502443793,0.01906158357771261,0.01906158357771261,0.019550342130987292,0.019550342130987292,0.020527859237536656,0.020527859237536656,0.022482893450635387,0.022482893450635387,0.02297165200391007,0.02297165200391007,0.024437927663734114,0.024437927663734114,0.024926686217008796,0.024926686217008796,0.026392961876832845,0.026392961876832845,0.026881720430107527,0.026881720430107527,0.02785923753665689,0.02785923753665689,0.028347996089931573,0.028347996089931573,0.028836754643206255,0.028836754643206255,0.029814271749755622,0.029814271749755622,0.030303030303030304,0.030303030303030304,0.03176930596285435,0.03176930596285435,0.03274682306940371,0.03274682306940371,0.03372434017595308,0.03372434017595308,0.03567937438905181,0.03567937438905181,0.03763440860215054,0.03763440860215054,0.039100684261974585,0.039100684261974585,0.039589442815249266,0.039589442815249266,0.04056695992179863,0.04056695992179863,0.04398826979472141,0.04398826979472141,0.044965786901270774,0.044965786901270774,0.045454545454545456,0.045454545454545456,0.0469208211143695,0.0469208211143695,0.047898338220918865,0.047898338220918865,0.04887585532746823,0.04887585532746823,0.04936461388074291,0.04936461388074291,0.05083088954056696,0.05083088954056696,0.05278592375366569,0.05278592375366569,0.054252199413489736,0.054252199413489736,0.05767350928641251,0.05767350928641251,0.05913978494623656,0.05913978494623656,0.06109481915933529,0.06109481915933529,0.06304985337243402,0.06304985337243402,0.06451612903225806,0.06451612903225806,0.06500488758553274,0.06500488758553274,0.06549364613880743,0.06549364613880743,0.06842619745845552,0.06842619745845552,0.07086999022482894,0.07086999022482894,0.07282502443792767,0.07282502443792767,0.0747800586510264,0.0747800586510264,0.09188660801564028,0.09188660801564028,0.10557184750733138,0.10557184750733138,0.12218963831867058,0.12218963831867058,0.15151515151515152,0.15151515151515152,1.0],\"y\":[0.0,0.0024691358024691358,0.007407407407407408,0.012345679012345678,0.44938271604938274,0.44938271604938274,0.5407407407407407,0.5407407407407407,0.582716049382716,0.582716049382716,0.5851851851851851,0.5851851851851851,0.5925925925925926,0.5925925925925926,0.5950617283950618,0.5950617283950618,0.6222222222222222,0.6222222222222222,0.6320987654320988,0.6320987654320988,0.6419753086419753,0.6419753086419753,0.6444444444444445,0.6444444444444445,0.6518518518518519,0.6518518518518519,0.6617283950617284,0.6617283950617284,0.6666666666666666,0.6666666666666666,0.6691358024691358,0.6691358024691358,0.674074074074074,0.674074074074074,0.6765432098765433,0.6765432098765433,0.6962962962962963,0.6962962962962963,0.7086419753086419,0.7086419753086419,0.7135802469135802,0.7135802469135802,0.7160493827160493,0.7160493827160493,0.7185185185185186,0.7185185185185186,0.7333333333333333,0.7333333333333333,0.7358024691358025,0.7358024691358025,0.745679012345679,0.745679012345679,0.7703703703703704,0.7703703703703704,0.7876543209876543,0.7876543209876543,0.7925925925925926,0.7925925925925926,0.8,0.8,0.8024691358024691,0.8024691358024691,0.8049382716049382,0.8049382716049382,0.8148148148148148,0.8148148148148148,0.8246913580246914,0.8246913580246914,0.8345679012345679,0.8345679012345679,0.837037037037037,0.837037037037037,0.8395061728395061,0.8395061728395061,0.8444444444444444,0.8444444444444444,0.8469135802469135,0.8469135802469135,0.8493827160493828,0.8493827160493828,0.8518518518518519,0.8518518518518519,0.8617283950617284,0.8617283950617284,0.8666666666666667,0.8666666666666667,0.8839506172839506,0.8839506172839506,0.891358024691358,0.891358024691358,0.8938271604938272,0.8938271604938272,0.8987654320987655,0.8987654320987655,0.9012345679012346,0.9012345679012346,0.9061728395061729,0.9061728395061729,0.908641975308642,0.908641975308642,0.9111111111111111,0.9111111111111111,0.9185185185185185,0.9185185185185185,0.9234567901234568,0.9234567901234568,0.9259259259259259,0.9259259259259259,0.928395061728395,0.928395061728395,0.9308641975308642,0.9308641975308642,0.9382716049382716,0.9382716049382716,0.9432098765432099,0.9432098765432099,0.9506172839506173,0.9506172839506173,0.9530864197530864,0.9530864197530864,0.9580246913580247,0.9580246913580247,0.9604938271604938,0.9604938271604938,0.9629629629629629,0.9629629629629629,0.9679012345679012,0.9679012345679012,0.9728395061728395,0.9728395061728395,0.9753086419753086,0.9753086419753086,0.9777777777777777,0.9777777777777777,0.9827160493827161,0.9827160493827161,0.9851851851851852,0.9851851851851852,0.9876543209876543,0.9876543209876543,0.9901234567901235,0.9901234567901235,0.9925925925925926,0.9925925925925926,0.9950617283950617,0.9950617283950617,0.9975308641975309,0.9975308641975309,1.0,1.0],\"type\":\"scatter\"},{\"mode\":\"lines\",\"name\":\"nutrition_deficiency_1 (AUC=0.99)\",\"x\":[0.0,0.0,0.0,0.0,0.0,0.0,0.0,0.0,0.0,0.0,0.0,0.0,0.0,0.0,0.0,0.0,0.0,0.0,0.0,0.0,0.0,0.0004899559039686428,0.0004899559039686428,0.0004899559039686428,0.0004899559039686428,0.0009799118079372856,0.0009799118079372856,0.0014698677119059284,0.0014698677119059284,0.0019598236158745713,0.0019598236158745713,0.002939735423811857,0.002939735423811857,0.0034296913277804997,0.0034296913277804997,0.0039196472317491425,0.0039196472317491425,0.004409603135717786,0.004409603135717786,0.004899559039686428,0.004899559039686428,0.005389514943655071,0.005389514943655071,0.005879470847623714,0.005879470847623714,0.006859382655560999,0.006859382655560999,0.008329250367466928,0.008329250367466928,0.009309162175404213,0.009309162175404213,0.009799118079372856,0.009799118079372856,0.0102890739833415,0.0102890739833415,0.010779029887310143,0.010779029887310143,0.01224889759921607,0.01224889759921607,0.012738853503184714,0.012738853503184714,0.013718765311121999,0.013718765311121999,0.014208721215090642,0.014208721215090642,0.014698677119059285,0.014698677119059285,0.015188633023027927,0.015188633023027927,0.016168544830965213,0.016168544830965213,0.016658500734933857,0.016658500734933857,0.017638412542871143,0.017638412542871143,0.020088192062714356,0.020088192062714356,0.02253797158255757,0.02253797158255757,0.02596766291033807,0.02596766291033807,0.026947574718275354,0.026947574718275354,0.02792748652621264,0.02792748652621264,0.02939735423811857,0.02939735423811857,0.029887310142087214,0.029887310142087214,0.030867221950024497,0.030867221950024497,0.03184713375796178,0.03184713375796178,0.03331700146986771,0.03331700146986771,0.03478686918177364,0.03478686918177364,0.035276825085742286,0.035276825085742286,0.03723664870161685,0.03723664870161685,0.037726604605585495,0.037726604605585495,0.03870651641352278,0.03870651641352278,0.039196472317491425,0.039196472317491425,0.03968642822146007,0.03968642822146007,0.04017638412542871,0.04017638412542871,0.041156295933366,0.041156295933366,0.04262616364527193,0.04262616364527193,0.04311611954924057,0.04311611954924057,0.043606075453209214,0.043606075453209214,0.04654581087702107,0.04654581087702107,0.04997550220480157,0.04997550220480157,0.054875061244487995,0.054875061244487995,0.056344928956393925,0.056344928956393925,0.059284664380205784,0.059284664380205784,0.06222439980401764,0.06222439980401764,0.06271435570798628,0.06271435570798628,0.07594316511513964,0.07594316511513964,0.10975012248897599,0.10975012248897599,1.0],\"y\":[0.0,0.00975609756097561,0.014634146341463415,0.024390243902439025,0.041463414634146344,0.046341463414634146,0.05365853658536585,0.05609756097560976,0.06585365853658537,0.07317073170731707,0.07804878048780488,0.09268292682926829,0.11219512195121951,0.11707317073170732,0.12195121951219512,0.12926829268292683,0.13414634146341464,0.13902439024390245,0.14634146341463414,0.15121951219512195,0.44878048780487806,0.44878048780487806,0.48048780487804876,0.4853658536585366,0.7390243902439024,0.7390243902439024,0.7585365853658537,0.7585365853658537,0.7609756097560976,0.7609756097560976,0.7878048780487805,0.7878048780487805,0.7926829268292683,0.7926829268292683,0.8,0.8,0.8048780487804879,0.8048780487804879,0.8073170731707318,0.8073170731707318,0.8121951219512196,0.8121951219512196,0.8219512195121951,0.8219512195121951,0.8268292682926829,0.8268292682926829,0.8292682926829268,0.8292682926829268,0.8317073170731707,0.8317073170731707,0.8341463414634146,0.8341463414634146,0.8414634146341463,0.8414634146341463,0.8439024390243902,0.8439024390243902,0.8463414634146341,0.8463414634146341,0.8512195121951219,0.8512195121951219,0.8560975609756097,0.8560975609756097,0.8585365853658536,0.8585365853658536,0.8682926829268293,0.8682926829268293,0.8707317073170732,0.8707317073170732,0.8780487804878049,0.8780487804878049,0.8829268292682927,0.8829268292682927,0.8902439024390244,0.8902439024390244,0.8951219512195122,0.8951219512195122,0.8975609756097561,0.8975609756097561,0.9024390243902439,0.9024390243902439,0.9048780487804878,0.9048780487804878,0.9073170731707317,0.9073170731707317,0.9170731707317074,0.9170731707317074,0.9195121951219513,0.9195121951219513,0.9219512195121952,0.9219512195121952,0.9243902439024391,0.9243902439024391,0.926829268292683,0.926829268292683,0.9292682926829269,0.9292682926829269,0.9317073170731708,0.9317073170731708,0.9341463414634147,0.9341463414634147,0.9365853658536586,0.9365853658536586,0.9512195121951219,0.9512195121951219,0.9536585365853658,0.9536585365853658,0.9560975609756097,0.9560975609756097,0.9585365853658536,0.9585365853658536,0.9609756097560975,0.9609756097560975,0.9634146341463414,0.9634146341463414,0.9682926829268292,0.9682926829268292,0.973170731707317,0.973170731707317,0.975609756097561,0.975609756097561,0.9780487804878049,0.9780487804878049,0.9804878048780488,0.9804878048780488,0.9829268292682927,0.9829268292682927,0.9853658536585366,0.9853658536585366,0.9878048780487805,0.9878048780487805,0.9926829268292683,0.9926829268292683,0.9951219512195122,0.9951219512195122,0.9975609756097561,0.9975609756097561,1.0,1.0],\"type\":\"scatter\"},{\"mode\":\"lines\",\"name\":\"rust_1 (AUC=1.00)\",\"x\":[0.0,0.0,0.0,0.0,0.0,0.0,0.0,0.0,0.0,0.0,0.0,0.0,0.0,0.0,0.0,0.0,0.0,0.0,0.0,0.0,0.0,0.0,0.0,0.0004897159647404506,0.0004897159647404506,0.0009794319294809011,0.0009794319294809011,0.0014691478942213516,0.0014691478942213516,0.0039177277179236044,0.0039177277179236044,0.011263467189030362,0.011263467189030362,0.021057786483839373,0.021057786483839373,0.10381978452497552,0.10381978452497552,1.0],\"y\":[0.0,0.02444987775061125,0.034229828850855744,0.04645476772616137,0.061124694376528114,0.07334963325183375,0.08312958435207823,0.08801955990220049,0.09290953545232274,0.09535452322738386,0.10024449877750612,0.1198044009779951,0.12469437652811736,0.1295843520782396,0.13447432762836187,0.14180929095354522,0.1491442542787286,0.15892420537897312,0.19070904645476772,0.19559902200489,0.2591687041564792,0.26405867970660146,0.980440097799511,0.980440097799511,0.9828850855745721,0.9828850855745721,0.9877750611246944,0.9877750611246944,0.9902200488997555,0.9902200488997555,0.9926650366748166,0.9926650366748166,0.9951100244498777,0.9951100244498777,0.9975550122249389,0.9975550122249389,1.0,1.0],\"type\":\"scatter\"}],                        {\"template\":{\"data\":{\"histogram2dcontour\":[{\"type\":\"histogram2dcontour\",\"colorbar\":{\"outlinewidth\":0,\"ticks\":\"\"},\"colorscale\":[[0.0,\"#0d0887\"],[0.1111111111111111,\"#46039f\"],[0.2222222222222222,\"#7201a8\"],[0.3333333333333333,\"#9c179e\"],[0.4444444444444444,\"#bd3786\"],[0.5555555555555556,\"#d8576b\"],[0.6666666666666666,\"#ed7953\"],[0.7777777777777778,\"#fb9f3a\"],[0.8888888888888888,\"#fdca26\"],[1.0,\"#f0f921\"]]}],\"choropleth\":[{\"type\":\"choropleth\",\"colorbar\":{\"outlinewidth\":0,\"ticks\":\"\"}}],\"histogram2d\":[{\"type\":\"histogram2d\",\"colorbar\":{\"outlinewidth\":0,\"ticks\":\"\"},\"colorscale\":[[0.0,\"#0d0887\"],[0.1111111111111111,\"#46039f\"],[0.2222222222222222,\"#7201a8\"],[0.3333333333333333,\"#9c179e\"],[0.4444444444444444,\"#bd3786\"],[0.5555555555555556,\"#d8576b\"],[0.6666666666666666,\"#ed7953\"],[0.7777777777777778,\"#fb9f3a\"],[0.8888888888888888,\"#fdca26\"],[1.0,\"#f0f921\"]]}],\"heatmap\":[{\"type\":\"heatmap\",\"colorbar\":{\"outlinewidth\":0,\"ticks\":\"\"},\"colorscale\":[[0.0,\"#0d0887\"],[0.1111111111111111,\"#46039f\"],[0.2222222222222222,\"#7201a8\"],[0.3333333333333333,\"#9c179e\"],[0.4444444444444444,\"#bd3786\"],[0.5555555555555556,\"#d8576b\"],[0.6666666666666666,\"#ed7953\"],[0.7777777777777778,\"#fb9f3a\"],[0.8888888888888888,\"#fdca26\"],[1.0,\"#f0f921\"]]}],\"heatmapgl\":[{\"type\":\"heatmapgl\",\"colorbar\":{\"outlinewidth\":0,\"ticks\":\"\"},\"colorscale\":[[0.0,\"#0d0887\"],[0.1111111111111111,\"#46039f\"],[0.2222222222222222,\"#7201a8\"],[0.3333333333333333,\"#9c179e\"],[0.4444444444444444,\"#bd3786\"],[0.5555555555555556,\"#d8576b\"],[0.6666666666666666,\"#ed7953\"],[0.7777777777777778,\"#fb9f3a\"],[0.8888888888888888,\"#fdca26\"],[1.0,\"#f0f921\"]]}],\"contourcarpet\":[{\"type\":\"contourcarpet\",\"colorbar\":{\"outlinewidth\":0,\"ticks\":\"\"}}],\"contour\":[{\"type\":\"contour\",\"colorbar\":{\"outlinewidth\":0,\"ticks\":\"\"},\"colorscale\":[[0.0,\"#0d0887\"],[0.1111111111111111,\"#46039f\"],[0.2222222222222222,\"#7201a8\"],[0.3333333333333333,\"#9c179e\"],[0.4444444444444444,\"#bd3786\"],[0.5555555555555556,\"#d8576b\"],[0.6666666666666666,\"#ed7953\"],[0.7777777777777778,\"#fb9f3a\"],[0.8888888888888888,\"#fdca26\"],[1.0,\"#f0f921\"]]}],\"surface\":[{\"type\":\"surface\",\"colorbar\":{\"outlinewidth\":0,\"ticks\":\"\"},\"colorscale\":[[0.0,\"#0d0887\"],[0.1111111111111111,\"#46039f\"],[0.2222222222222222,\"#7201a8\"],[0.3333333333333333,\"#9c179e\"],[0.4444444444444444,\"#bd3786\"],[0.5555555555555556,\"#d8576b\"],[0.6666666666666666,\"#ed7953\"],[0.7777777777777778,\"#fb9f3a\"],[0.8888888888888888,\"#fdca26\"],[1.0,\"#f0f921\"]]}],\"mesh3d\":[{\"type\":\"mesh3d\",\"colorbar\":{\"outlinewidth\":0,\"ticks\":\"\"}}],\"scatter\":[{\"fillpattern\":{\"fillmode\":\"overlay\",\"size\":10,\"solidity\":0.2},\"type\":\"scatter\"}],\"parcoords\":[{\"type\":\"parcoords\",\"line\":{\"colorbar\":{\"outlinewidth\":0,\"ticks\":\"\"}}}],\"scatterpolargl\":[{\"type\":\"scatterpolargl\",\"marker\":{\"colorbar\":{\"outlinewidth\":0,\"ticks\":\"\"}}}],\"bar\":[{\"error_x\":{\"color\":\"#2a3f5f\"},\"error_y\":{\"color\":\"#2a3f5f\"},\"marker\":{\"line\":{\"color\":\"#E5ECF6\",\"width\":0.5},\"pattern\":{\"fillmode\":\"overlay\",\"size\":10,\"solidity\":0.2}},\"type\":\"bar\"}],\"scattergeo\":[{\"type\":\"scattergeo\",\"marker\":{\"colorbar\":{\"outlinewidth\":0,\"ticks\":\"\"}}}],\"scatterpolar\":[{\"type\":\"scatterpolar\",\"marker\":{\"colorbar\":{\"outlinewidth\":0,\"ticks\":\"\"}}}],\"histogram\":[{\"marker\":{\"pattern\":{\"fillmode\":\"overlay\",\"size\":10,\"solidity\":0.2}},\"type\":\"histogram\"}],\"scattergl\":[{\"type\":\"scattergl\",\"marker\":{\"colorbar\":{\"outlinewidth\":0,\"ticks\":\"\"}}}],\"scatter3d\":[{\"type\":\"scatter3d\",\"line\":{\"colorbar\":{\"outlinewidth\":0,\"ticks\":\"\"}},\"marker\":{\"colorbar\":{\"outlinewidth\":0,\"ticks\":\"\"}}}],\"scattermapbox\":[{\"type\":\"scattermapbox\",\"marker\":{\"colorbar\":{\"outlinewidth\":0,\"ticks\":\"\"}}}],\"scatterternary\":[{\"type\":\"scatterternary\",\"marker\":{\"colorbar\":{\"outlinewidth\":0,\"ticks\":\"\"}}}],\"scattercarpet\":[{\"type\":\"scattercarpet\",\"marker\":{\"colorbar\":{\"outlinewidth\":0,\"ticks\":\"\"}}}],\"carpet\":[{\"aaxis\":{\"endlinecolor\":\"#2a3f5f\",\"gridcolor\":\"white\",\"linecolor\":\"white\",\"minorgridcolor\":\"white\",\"startlinecolor\":\"#2a3f5f\"},\"baxis\":{\"endlinecolor\":\"#2a3f5f\",\"gridcolor\":\"white\",\"linecolor\":\"white\",\"minorgridcolor\":\"white\",\"startlinecolor\":\"#2a3f5f\"},\"type\":\"carpet\"}],\"table\":[{\"cells\":{\"fill\":{\"color\":\"#EBF0F8\"},\"line\":{\"color\":\"white\"}},\"header\":{\"fill\":{\"color\":\"#C8D4E3\"},\"line\":{\"color\":\"white\"}},\"type\":\"table\"}],\"barpolar\":[{\"marker\":{\"line\":{\"color\":\"#E5ECF6\",\"width\":0.5},\"pattern\":{\"fillmode\":\"overlay\",\"size\":10,\"solidity\":0.2}},\"type\":\"barpolar\"}],\"pie\":[{\"automargin\":true,\"type\":\"pie\"}]},\"layout\":{\"autotypenumbers\":\"strict\",\"colorway\":[\"#636efa\",\"#EF553B\",\"#00cc96\",\"#ab63fa\",\"#FFA15A\",\"#19d3f3\",\"#FF6692\",\"#B6E880\",\"#FF97FF\",\"#FECB52\"],\"font\":{\"color\":\"#2a3f5f\"},\"hovermode\":\"closest\",\"hoverlabel\":{\"align\":\"left\"},\"paper_bgcolor\":\"white\",\"plot_bgcolor\":\"#E5ECF6\",\"polar\":{\"bgcolor\":\"#E5ECF6\",\"angularaxis\":{\"gridcolor\":\"white\",\"linecolor\":\"white\",\"ticks\":\"\"},\"radialaxis\":{\"gridcolor\":\"white\",\"linecolor\":\"white\",\"ticks\":\"\"}},\"ternary\":{\"bgcolor\":\"#E5ECF6\",\"aaxis\":{\"gridcolor\":\"white\",\"linecolor\":\"white\",\"ticks\":\"\"},\"baxis\":{\"gridcolor\":\"white\",\"linecolor\":\"white\",\"ticks\":\"\"},\"caxis\":{\"gridcolor\":\"white\",\"linecolor\":\"white\",\"ticks\":\"\"}},\"coloraxis\":{\"colorbar\":{\"outlinewidth\":0,\"ticks\":\"\"}},\"colorscale\":{\"sequential\":[[0.0,\"#0d0887\"],[0.1111111111111111,\"#46039f\"],[0.2222222222222222,\"#7201a8\"],[0.3333333333333333,\"#9c179e\"],[0.4444444444444444,\"#bd3786\"],[0.5555555555555556,\"#d8576b\"],[0.6666666666666666,\"#ed7953\"],[0.7777777777777778,\"#fb9f3a\"],[0.8888888888888888,\"#fdca26\"],[1.0,\"#f0f921\"]],\"sequentialminus\":[[0.0,\"#0d0887\"],[0.1111111111111111,\"#46039f\"],[0.2222222222222222,\"#7201a8\"],[0.3333333333333333,\"#9c179e\"],[0.4444444444444444,\"#bd3786\"],[0.5555555555555556,\"#d8576b\"],[0.6666666666666666,\"#ed7953\"],[0.7777777777777778,\"#fb9f3a\"],[0.8888888888888888,\"#fdca26\"],[1.0,\"#f0f921\"]],\"diverging\":[[0,\"#8e0152\"],[0.1,\"#c51b7d\"],[0.2,\"#de77ae\"],[0.3,\"#f1b6da\"],[0.4,\"#fde0ef\"],[0.5,\"#f7f7f7\"],[0.6,\"#e6f5d0\"],[0.7,\"#b8e186\"],[0.8,\"#7fbc41\"],[0.9,\"#4d9221\"],[1,\"#276419\"]]},\"xaxis\":{\"gridcolor\":\"white\",\"linecolor\":\"white\",\"ticks\":\"\",\"title\":{\"standoff\":15},\"zerolinecolor\":\"white\",\"automargin\":true,\"zerolinewidth\":2},\"yaxis\":{\"gridcolor\":\"white\",\"linecolor\":\"white\",\"ticks\":\"\",\"title\":{\"standoff\":15},\"zerolinecolor\":\"white\",\"automargin\":true,\"zerolinewidth\":2},\"scene\":{\"xaxis\":{\"backgroundcolor\":\"#E5ECF6\",\"gridcolor\":\"white\",\"linecolor\":\"white\",\"showbackground\":true,\"ticks\":\"\",\"zerolinecolor\":\"white\",\"gridwidth\":2},\"yaxis\":{\"backgroundcolor\":\"#E5ECF6\",\"gridcolor\":\"white\",\"linecolor\":\"white\",\"showbackground\":true,\"ticks\":\"\",\"zerolinecolor\":\"white\",\"gridwidth\":2},\"zaxis\":{\"backgroundcolor\":\"#E5ECF6\",\"gridcolor\":\"white\",\"linecolor\":\"white\",\"showbackground\":true,\"ticks\":\"\",\"zerolinecolor\":\"white\",\"gridwidth\":2}},\"shapedefaults\":{\"line\":{\"color\":\"#2a3f5f\"}},\"annotationdefaults\":{\"arrowcolor\":\"#2a3f5f\",\"arrowhead\":0,\"arrowwidth\":1},\"geo\":{\"bgcolor\":\"white\",\"landcolor\":\"#E5ECF6\",\"subunitcolor\":\"white\",\"showland\":true,\"showlakes\":true,\"lakecolor\":\"white\"},\"title\":{\"x\":0.05},\"mapbox\":{\"style\":\"light\"}}},\"shapes\":[{\"line\":{\"dash\":\"dash\"},\"type\":\"line\",\"x0\":0,\"x1\":1,\"y0\":0,\"y1\":1}],\"yaxis\":{\"title\":{\"text\":\"True Positive Rate\"},\"scaleanchor\":\"x\",\"scaleratio\":1},\"xaxis\":{\"title\":{\"text\":\"False Positive Rate\"},\"constrain\":\"domain\"},\"title\":{\"text\":\"ROC Curve\"},\"width\":900,\"height\":800},                        {\"responsive\": true}                    ).then(function(){\n",
              "                            \n",
              "var gd = document.getElementById('4b2aea51-36cf-4432-a710-9dd5bbd29837');\n",
              "var x = new MutationObserver(function (mutations, observer) {{\n",
              "        var display = window.getComputedStyle(gd).display;\n",
              "        if (!display || display === 'none') {{\n",
              "            console.log([gd, 'removed!']);\n",
              "            Plotly.purge(gd);\n",
              "            observer.disconnect();\n",
              "        }}\n",
              "}});\n",
              "\n",
              "// Listen for the removal of the full notebook cells\n",
              "var notebookContainer = gd.closest('#notebook-container');\n",
              "if (notebookContainer) {{\n",
              "    x.observe(notebookContainer, {childList: true});\n",
              "}}\n",
              "\n",
              "// Listen for the clearing of the current output cell\n",
              "var outputEl = gd.closest('.output');\n",
              "if (outputEl) {{\n",
              "    x.observe(outputEl, {childList: true});\n",
              "}}\n",
              "\n",
              "                        })                };                            </script>        </div>\n",
              "</body>\n",
              "</html>"
            ]
          },
          "metadata": {}
        }
      ]
    },
    {
      "cell_type": "code",
      "source": [
        "from tensorflow.keras.models import save_model\n"
      ],
      "metadata": {
        "id": "AymS4krnmhuC"
      },
      "execution_count": 97,
      "outputs": []
    },
    {
      "cell_type": "code",
      "source": [
        "MODEL_FILENAMEs=root_path+\"model_5fold_EA_MR50IV3010475425.h5\"\n",
        "ensemble_model.save(MODEL_FILENAMEs)"
      ],
      "metadata": {
        "id": "kJi_fTcE_QH6",
        "colab": {
          "base_uri": "https://localhost:8080/"
        },
        "outputId": "9beebf87-e234-49d5-da55-165b2f47a02c"
      },
      "execution_count": 98,
      "outputs": [
        {
          "output_type": "stream",
          "name": "stderr",
          "text": [
            "WARNING:tensorflow:Found duplicated `Variable`s in Model's `weights`. This is usually caused by `Variable`s being shared by Layers in the Model. These `Variable`s will be treated as separate `Variable`s when the Model is restored. To avoid this, please save with `save_format=\"tf\"`.\n"
          ]
        }
      ]
    },
    {
      "cell_type": "code",
      "source": [],
      "metadata": {
        "id": "Ihx8KZ7b3XgH"
      },
      "execution_count": 98,
      "outputs": []
    }
  ]
}