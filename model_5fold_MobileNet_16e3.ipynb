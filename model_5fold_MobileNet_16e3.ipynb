{
  "cells": [
    {
      "cell_type": "markdown",
      "metadata": {
        "id": "view-in-github",
        "colab_type": "text"
      },
      "source": [
        "<a href=\"https://colab.research.google.com/github/mancudEOM/Ensemble-deep-learning/blob/main/model_5fold_MobileNet_16e3.ipynb\" target=\"_parent\"><img src=\"https://colab.research.google.com/assets/colab-badge.svg\" alt=\"Open In Colab\"/></a>"
      ]
    },
    {
      "cell_type": "code",
      "execution_count": 1,
      "metadata": {
        "colab": {
          "base_uri": "https://localhost:8080/"
        },
        "id": "re2cPhu8Glvf",
        "outputId": "2bc239e0-459e-4204-cfa3-293158bc136c"
      },
      "outputs": [
        {
          "output_type": "stream",
          "name": "stdout",
          "text": [
            "Drive already mounted at /content/drive; to attempt to forcibly remount, call drive.mount(\"/content/drive\", force_remount=True).\n"
          ]
        }
      ],
      "source": [
        "  from google.colab import drive\n",
        "  drive.mount('/content/drive')\n",
        "\n"
      ]
    },
    {
      "cell_type": "code",
      "execution_count": 2,
      "metadata": {
        "colab": {
          "base_uri": "https://localhost:8080/"
        },
        "id": "16aNt0njGqgR",
        "outputId": "9d656743-1343-4e88-97d4-ea45ead53c32"
      },
      "outputs": [
        {
          "output_type": "stream",
          "name": "stdout",
          "text": [
            "drive  sample_data\n"
          ]
        }
      ],
      "source": [
        "  !ls\n"
      ]
    },
    {
      "cell_type": "code",
      "execution_count": 3,
      "metadata": {
        "id": "6kpNIXuzGskg"
      },
      "outputs": [],
      "source": [
        "  import sys\n",
        "  root_path = '/content/drive/My Drive/Mulberry Leaf Dataset/' # This is the path to where in google drive the code is stored!\n",
        "  sys.path.append(root_path)"
      ]
    },
    {
      "cell_type": "markdown",
      "metadata": {
        "id": "qMNSUzIxL7JZ"
      },
      "source": [
        "# THÊM TẤT CẢ CÁC THƯ VIỆN CẦN THIẾT"
      ]
    },
    {
      "cell_type": "code",
      "execution_count": 4,
      "metadata": {
        "id": "NJq2Vm2hHTWR"
      },
      "outputs": [],
      "source": [
        "import numpy as np\n",
        "from sklearn.metrics import accuracy_score, f1_score, precision_score, confusion_matrix\n",
        "from sklearn.model_selection import StratifiedKFold\n",
        "from PIL import Image\n",
        "import random\n",
        "import tensorflow as tf\n",
        "from tensorflow.keras.models import Sequential\n",
        "from keras.preprocessing.image import ImageDataGenerator\n",
        "from tensorflow.keras.preprocessing.image import ImageDataGenerator\n",
        "from tensorflow.keras.layers import Dense, Dropout, Flatten, Conv2D, MaxPooling2D\n",
        "\n",
        "from tensorflow.compat.v1 import ConfigProto\n",
        "from tensorflow.compat.v1 import InteractiveSession\n",
        "import warnings\n",
        "import os\n",
        "import shutil\n",
        "from PIL import ImageFile\n",
        "warnings.simplefilter('error', Image.DecompressionBombWarning)\n",
        "ImageFile.LOAD_TRUNCATED_IMAGES = True\n",
        "Image.MAX_IMAGE_PIXELS = 1000000000\n",
        "config = ConfigProto()\n",
        "config.gpu_options.allow_growth = True\n",
        "session = InteractiveSession(config=config)"
      ]
    },
    {
      "cell_type": "markdown",
      "source": [],
      "metadata": {
        "id": "dRoRYDVdlr-Q"
      }
    },
    {
      "cell_type": "markdown",
      "metadata": {
        "id": "QYpc-VdEMGBS"
      },
      "source": [
        "# Khởi tạo các biến cần thiết"
      ]
    },
    {
      "cell_type": "code",
      "execution_count": 5,
      "metadata": {
        "id": "iCy2O5d9Jxq6"
      },
      "outputs": [],
      "source": [
        "datasetFolderName=root_path+'dataset'\n",
        "MODEL_FILENAME=root_path+\"model_cv.h5\"\n",
        "sourceFiles=[]\n",
        "classLabels=['01 ChiangMai60','02 RedKing','03 WhiteKing',\n",
        "             '04 BlackOodTurkey','05 TaiwanStraberry','06 BlackAustralia',\n",
        "             '07 Buriram60','08 Kamphaengsaeng42','09 TaiwanMeacho','10 ChiangMaiBuriram60']\n",
        "X=[]\n",
        "Y=[]\n",
        "\n",
        "img_rows, img_cols =  224, 224\n",
        "# input image dimensions\n",
        "#img_rows, img_cols =  224, 224 # input image dimensions\n",
        "train_path=datasetFolderName+'/train/'\n",
        "validation_path=datasetFolderName+'/validation/'\n",
        "test_path=datasetFolderName+'/test/'"
      ]
    },
    {
      "cell_type": "markdown",
      "metadata": {
        "id": "LyAnSQTbMblZ"
      },
      "source": [
        "# KFOLD train-test-validation"
      ]
    },
    {
      "cell_type": "code",
      "execution_count": 6,
      "metadata": {
        "id": "RgfHPIHbJ4rR"
      },
      "outputs": [],
      "source": [
        "def transferBetweenFolders(source, dest, splitRate):\n",
        "    global sourceFiles\n",
        "    sourceFiles=os.listdir(source)\n",
        "    if(len(sourceFiles)!=0):\n",
        "        transferFileNumbers=int(len(sourceFiles)*splitRate)\n",
        "        transferIndex=random.sample(range(0, len(sourceFiles)), transferFileNumbers)\n",
        "        for eachIndex in transferIndex:\n",
        "            shutil.move(source+str(sourceFiles[eachIndex]), dest+str(sourceFiles[eachIndex]))\n",
        "    else:\n",
        "        print(\"No file moved. Source empty!\")\n",
        "\n",
        "def transferAllClassBetweenFolders(source, dest, splitRate):\n",
        "    for label in classLabels:\n",
        "        transferBetweenFolders(datasetFolderName+'/'+source+'/'+label+'/',\n",
        "                               datasetFolderName+'/'+dest+'/'+label+'/',\n",
        "                               splitRate)"
      ]
    },
    {
      "cell_type": "code",
      "execution_count": 7,
      "metadata": {
        "id": "stSX_AiNKleb"
      },
      "outputs": [],
      "source": [
        "transferAllClassBetweenFolders('test', 'train', 1.0)"
      ]
    },
    {
      "cell_type": "code",
      "execution_count": 8,
      "metadata": {
        "id": "Z6o8gWE-N-rq"
      },
      "outputs": [],
      "source": [
        "transferAllClassBetweenFolders('validation', 'train', 1.0)"
      ]
    },
    {
      "cell_type": "code",
      "execution_count": 9,
      "metadata": {
        "id": "arE4ro1JKqIh"
      },
      "outputs": [],
      "source": [
        "transferAllClassBetweenFolders('train', 'test', 0.20)"
      ]
    },
    {
      "cell_type": "code",
      "execution_count": 10,
      "metadata": {
        "id": "73VhRSA2K0fp"
      },
      "outputs": [],
      "source": [
        "def prepareNameWithLabels(folderName):\n",
        "    sourceFiles=os.listdir(datasetFolderName+'/train/'+folderName)\n",
        "    for val in sourceFiles:\n",
        "        X.append(val)\n",
        "        for i in range(len(classLabels)):\n",
        "          if(folderName==classLabels[i]):\n",
        "              Y.append(i)"
      ]
    },
    {
      "cell_type": "code",
      "execution_count": 11,
      "metadata": {
        "id": "u6pP6P3YK2Ub"
      },
      "outputs": [],
      "source": [
        "# Organize file names and class labels in X and Y variables\n",
        "for i in range(len(classLabels)):\n",
        "  prepareNameWithLabels(classLabels[i])"
      ]
    },
    {
      "cell_type": "code",
      "execution_count": 12,
      "metadata": {
        "id": "WZHmT5JgK3xa"
      },
      "outputs": [],
      "source": [
        "X=np.asarray(X)\n",
        "Y=np.asarray(Y)"
      ]
    },
    {
      "cell_type": "code",
      "execution_count": 13,
      "metadata": {
        "colab": {
          "base_uri": "https://localhost:8080/"
        },
        "id": "MzTCDvyoM28y",
        "outputId": "106e1889-3643-41c6-d151-dfac7b4b2bb7"
      },
      "outputs": [
        {
          "output_type": "stream",
          "name": "stdout",
          "text": [
            "['20191207_134315.jpg' 'IMG_20191207_133413.jpg' '20191207_141311.jpg' ...\n",
            " 'DSC_0362.JPG' 'DSC_0389.JPG' 'DSC_0029.JPG']\n",
            "[0 0 0 ... 9 9 9]\n"
          ]
        }
      ],
      "source": [
        "print(X)\n",
        "print(Y)"
      ]
    },
    {
      "cell_type": "code",
      "execution_count": 14,
      "metadata": {
        "id": "WtnpSQSxX-67"
      },
      "outputs": [],
      "source": [
        "batch_size = 16\n",
        "IMG_SIZE = (224, 224, 3)\n",
        "number_of_class_labels = len(classLabels)"
      ]
    },
    {
      "cell_type": "code",
      "execution_count": 15,
      "metadata": {
        "id": "OKucCyffZ5cD"
      },
      "outputs": [],
      "source": [
        "import tensorflow.keras as keras"
      ]
    },
    {
      "cell_type": "code",
      "execution_count": 16,
      "metadata": {
        "id": "zWFE6eJxZvCD"
      },
      "outputs": [],
      "source": [
        "# Create a data augmentation stage with horizontal flipping, rotations, zooms\n",
        "data_augmentation = keras.Sequential(\n",
        "    [\n",
        "        keras.layers.Rescaling(1./ 255),\n",
        "        keras.layers.RandomFlip(),\n",
        "        keras.layers.RandomRotation(0.2),\n",
        "        keras.layers.RandomZoom(0.2,0.3)\n",
        "    ]\n",
        ")"
      ]
    },
    {
      "cell_type": "code",
      "execution_count": 17,
      "metadata": {
        "id": "A929RzhDZ7wR"
      },
      "outputs": [],
      "source": [
        "#ResNet50V2 layers except for the last global average pooling and final dense layer.\n",
        "#pre_trained_layers = keras.applications.ResNet50V2(weights=\"imagenet\", include_top=False,\n",
        " #          input_tensor=keras.Input(shape=IMG_SIZE))"
      ]
    },
    {
      "cell_type": "code",
      "execution_count": 18,
      "metadata": {
        "id": "wbD80LCePblH",
        "colab": {
          "base_uri": "https://localhost:8080/"
        },
        "outputId": "e867ff76-f290-4f64-f0a6-6fe539bc64de"
      },
      "outputs": [
        {
          "output_type": "stream",
          "name": "stderr",
          "text": [
            "WARNING:tensorflow:`input_shape` is undefined or non-square, or `rows` is not in [128, 160, 192, 224]. Weights for input shape (224, 224) will be loaded as the default.\n"
          ]
        },
        {
          "output_type": "stream",
          "name": "stdout",
          "text": [
            "Downloading data from https://storage.googleapis.com/tensorflow/keras-applications/mobilenet/mobilenet_1_0_224_tf_no_top.h5\n",
            "17225924/17225924 [==============================] - 1s 0us/step\n"
          ]
        }
      ],
      "source": [
        "\n",
        "pre_trained_layers = keras.applications.MobileNet(weights=\"imagenet\", include_top=False,\n",
        "         input_tensor=keras.Input(shape=IMG_SIZE))"
      ]
    },
    {
      "cell_type": "code",
      "execution_count": 19,
      "metadata": {
        "id": "kFkcL4A1JffX"
      },
      "outputs": [],
      "source": [
        "#pre_trained_layers = tf.keras.applications.ResNet152(weights=\"imagenet\", include_top=False,\n",
        "#          input_tensor=keras.Input(shape=IMG_SIZE))"
      ]
    },
    {
      "cell_type": "code",
      "execution_count": 20,
      "metadata": {
        "colab": {
          "base_uri": "https://localhost:8080/"
        },
        "id": "V-K3rsDLaLWL",
        "outputId": "5ccab3b2-6401-4631-d203-98685ecefb41"
      },
      "outputs": [
        {
          "output_type": "stream",
          "name": "stdout",
          "text": [
            "Model: \"mobilenet_1.00_224\"\n",
            "_________________________________________________________________\n",
            " Layer (type)                Output Shape              Param #   \n",
            "=================================================================\n",
            " input_1 (InputLayer)        [(None, 224, 224, 3)]     0         \n",
            "                                                                 \n",
            " conv1 (Conv2D)              (None, 112, 112, 32)      864       \n",
            "                                                                 \n",
            " conv1_bn (BatchNormalizatio  (None, 112, 112, 32)     128       \n",
            " n)                                                              \n",
            "                                                                 \n",
            " conv1_relu (ReLU)           (None, 112, 112, 32)      0         \n",
            "                                                                 \n",
            " conv_dw_1 (DepthwiseConv2D)  (None, 112, 112, 32)     288       \n",
            "                                                                 \n",
            " conv_dw_1_bn (BatchNormaliz  (None, 112, 112, 32)     128       \n",
            " ation)                                                          \n",
            "                                                                 \n",
            " conv_dw_1_relu (ReLU)       (None, 112, 112, 32)      0         \n",
            "                                                                 \n",
            " conv_pw_1 (Conv2D)          (None, 112, 112, 64)      2048      \n",
            "                                                                 \n",
            " conv_pw_1_bn (BatchNormaliz  (None, 112, 112, 64)     256       \n",
            " ation)                                                          \n",
            "                                                                 \n",
            " conv_pw_1_relu (ReLU)       (None, 112, 112, 64)      0         \n",
            "                                                                 \n",
            " conv_pad_2 (ZeroPadding2D)  (None, 113, 113, 64)      0         \n",
            "                                                                 \n",
            " conv_dw_2 (DepthwiseConv2D)  (None, 56, 56, 64)       576       \n",
            "                                                                 \n",
            " conv_dw_2_bn (BatchNormaliz  (None, 56, 56, 64)       256       \n",
            " ation)                                                          \n",
            "                                                                 \n",
            " conv_dw_2_relu (ReLU)       (None, 56, 56, 64)        0         \n",
            "                                                                 \n",
            " conv_pw_2 (Conv2D)          (None, 56, 56, 128)       8192      \n",
            "                                                                 \n",
            " conv_pw_2_bn (BatchNormaliz  (None, 56, 56, 128)      512       \n",
            " ation)                                                          \n",
            "                                                                 \n",
            " conv_pw_2_relu (ReLU)       (None, 56, 56, 128)       0         \n",
            "                                                                 \n",
            " conv_dw_3 (DepthwiseConv2D)  (None, 56, 56, 128)      1152      \n",
            "                                                                 \n",
            " conv_dw_3_bn (BatchNormaliz  (None, 56, 56, 128)      512       \n",
            " ation)                                                          \n",
            "                                                                 \n",
            " conv_dw_3_relu (ReLU)       (None, 56, 56, 128)       0         \n",
            "                                                                 \n",
            " conv_pw_3 (Conv2D)          (None, 56, 56, 128)       16384     \n",
            "                                                                 \n",
            " conv_pw_3_bn (BatchNormaliz  (None, 56, 56, 128)      512       \n",
            " ation)                                                          \n",
            "                                                                 \n",
            " conv_pw_3_relu (ReLU)       (None, 56, 56, 128)       0         \n",
            "                                                                 \n",
            " conv_pad_4 (ZeroPadding2D)  (None, 57, 57, 128)       0         \n",
            "                                                                 \n",
            " conv_dw_4 (DepthwiseConv2D)  (None, 28, 28, 128)      1152      \n",
            "                                                                 \n",
            " conv_dw_4_bn (BatchNormaliz  (None, 28, 28, 128)      512       \n",
            " ation)                                                          \n",
            "                                                                 \n",
            " conv_dw_4_relu (ReLU)       (None, 28, 28, 128)       0         \n",
            "                                                                 \n",
            " conv_pw_4 (Conv2D)          (None, 28, 28, 256)       32768     \n",
            "                                                                 \n",
            " conv_pw_4_bn (BatchNormaliz  (None, 28, 28, 256)      1024      \n",
            " ation)                                                          \n",
            "                                                                 \n",
            " conv_pw_4_relu (ReLU)       (None, 28, 28, 256)       0         \n",
            "                                                                 \n",
            " conv_dw_5 (DepthwiseConv2D)  (None, 28, 28, 256)      2304      \n",
            "                                                                 \n",
            " conv_dw_5_bn (BatchNormaliz  (None, 28, 28, 256)      1024      \n",
            " ation)                                                          \n",
            "                                                                 \n",
            " conv_dw_5_relu (ReLU)       (None, 28, 28, 256)       0         \n",
            "                                                                 \n",
            " conv_pw_5 (Conv2D)          (None, 28, 28, 256)       65536     \n",
            "                                                                 \n",
            " conv_pw_5_bn (BatchNormaliz  (None, 28, 28, 256)      1024      \n",
            " ation)                                                          \n",
            "                                                                 \n",
            " conv_pw_5_relu (ReLU)       (None, 28, 28, 256)       0         \n",
            "                                                                 \n",
            " conv_pad_6 (ZeroPadding2D)  (None, 29, 29, 256)       0         \n",
            "                                                                 \n",
            " conv_dw_6 (DepthwiseConv2D)  (None, 14, 14, 256)      2304      \n",
            "                                                                 \n",
            " conv_dw_6_bn (BatchNormaliz  (None, 14, 14, 256)      1024      \n",
            " ation)                                                          \n",
            "                                                                 \n",
            " conv_dw_6_relu (ReLU)       (None, 14, 14, 256)       0         \n",
            "                                                                 \n",
            " conv_pw_6 (Conv2D)          (None, 14, 14, 512)       131072    \n",
            "                                                                 \n",
            " conv_pw_6_bn (BatchNormaliz  (None, 14, 14, 512)      2048      \n",
            " ation)                                                          \n",
            "                                                                 \n",
            " conv_pw_6_relu (ReLU)       (None, 14, 14, 512)       0         \n",
            "                                                                 \n",
            " conv_dw_7 (DepthwiseConv2D)  (None, 14, 14, 512)      4608      \n",
            "                                                                 \n",
            " conv_dw_7_bn (BatchNormaliz  (None, 14, 14, 512)      2048      \n",
            " ation)                                                          \n",
            "                                                                 \n",
            " conv_dw_7_relu (ReLU)       (None, 14, 14, 512)       0         \n",
            "                                                                 \n",
            " conv_pw_7 (Conv2D)          (None, 14, 14, 512)       262144    \n",
            "                                                                 \n",
            " conv_pw_7_bn (BatchNormaliz  (None, 14, 14, 512)      2048      \n",
            " ation)                                                          \n",
            "                                                                 \n",
            " conv_pw_7_relu (ReLU)       (None, 14, 14, 512)       0         \n",
            "                                                                 \n",
            " conv_dw_8 (DepthwiseConv2D)  (None, 14, 14, 512)      4608      \n",
            "                                                                 \n",
            " conv_dw_8_bn (BatchNormaliz  (None, 14, 14, 512)      2048      \n",
            " ation)                                                          \n",
            "                                                                 \n",
            " conv_dw_8_relu (ReLU)       (None, 14, 14, 512)       0         \n",
            "                                                                 \n",
            " conv_pw_8 (Conv2D)          (None, 14, 14, 512)       262144    \n",
            "                                                                 \n",
            " conv_pw_8_bn (BatchNormaliz  (None, 14, 14, 512)      2048      \n",
            " ation)                                                          \n",
            "                                                                 \n",
            " conv_pw_8_relu (ReLU)       (None, 14, 14, 512)       0         \n",
            "                                                                 \n",
            " conv_dw_9 (DepthwiseConv2D)  (None, 14, 14, 512)      4608      \n",
            "                                                                 \n",
            " conv_dw_9_bn (BatchNormaliz  (None, 14, 14, 512)      2048      \n",
            " ation)                                                          \n",
            "                                                                 \n",
            " conv_dw_9_relu (ReLU)       (None, 14, 14, 512)       0         \n",
            "                                                                 \n",
            " conv_pw_9 (Conv2D)          (None, 14, 14, 512)       262144    \n",
            "                                                                 \n",
            " conv_pw_9_bn (BatchNormaliz  (None, 14, 14, 512)      2048      \n",
            " ation)                                                          \n",
            "                                                                 \n",
            " conv_pw_9_relu (ReLU)       (None, 14, 14, 512)       0         \n",
            "                                                                 \n",
            " conv_dw_10 (DepthwiseConv2D  (None, 14, 14, 512)      4608      \n",
            " )                                                               \n",
            "                                                                 \n",
            " conv_dw_10_bn (BatchNormali  (None, 14, 14, 512)      2048      \n",
            " zation)                                                         \n",
            "                                                                 \n",
            " conv_dw_10_relu (ReLU)      (None, 14, 14, 512)       0         \n",
            "                                                                 \n",
            " conv_pw_10 (Conv2D)         (None, 14, 14, 512)       262144    \n",
            "                                                                 \n",
            " conv_pw_10_bn (BatchNormali  (None, 14, 14, 512)      2048      \n",
            " zation)                                                         \n",
            "                                                                 \n",
            " conv_pw_10_relu (ReLU)      (None, 14, 14, 512)       0         \n",
            "                                                                 \n",
            " conv_dw_11 (DepthwiseConv2D  (None, 14, 14, 512)      4608      \n",
            " )                                                               \n",
            "                                                                 \n",
            " conv_dw_11_bn (BatchNormali  (None, 14, 14, 512)      2048      \n",
            " zation)                                                         \n",
            "                                                                 \n",
            " conv_dw_11_relu (ReLU)      (None, 14, 14, 512)       0         \n",
            "                                                                 \n",
            " conv_pw_11 (Conv2D)         (None, 14, 14, 512)       262144    \n",
            "                                                                 \n",
            " conv_pw_11_bn (BatchNormali  (None, 14, 14, 512)      2048      \n",
            " zation)                                                         \n",
            "                                                                 \n",
            " conv_pw_11_relu (ReLU)      (None, 14, 14, 512)       0         \n",
            "                                                                 \n",
            " conv_pad_12 (ZeroPadding2D)  (None, 15, 15, 512)      0         \n",
            "                                                                 \n",
            " conv_dw_12 (DepthwiseConv2D  (None, 7, 7, 512)        4608      \n",
            " )                                                               \n",
            "                                                                 \n",
            " conv_dw_12_bn (BatchNormali  (None, 7, 7, 512)        2048      \n",
            " zation)                                                         \n",
            "                                                                 \n",
            " conv_dw_12_relu (ReLU)      (None, 7, 7, 512)         0         \n",
            "                                                                 \n",
            " conv_pw_12 (Conv2D)         (None, 7, 7, 1024)        524288    \n",
            "                                                                 \n",
            " conv_pw_12_bn (BatchNormali  (None, 7, 7, 1024)       4096      \n",
            " zation)                                                         \n",
            "                                                                 \n",
            " conv_pw_12_relu (ReLU)      (None, 7, 7, 1024)        0         \n",
            "                                                                 \n",
            " conv_dw_13 (DepthwiseConv2D  (None, 7, 7, 1024)       9216      \n",
            " )                                                               \n",
            "                                                                 \n",
            " conv_dw_13_bn (BatchNormali  (None, 7, 7, 1024)       4096      \n",
            " zation)                                                         \n",
            "                                                                 \n",
            " conv_dw_13_relu (ReLU)      (None, 7, 7, 1024)        0         \n",
            "                                                                 \n",
            " conv_pw_13 (Conv2D)         (None, 7, 7, 1024)        1048576   \n",
            "                                                                 \n",
            " conv_pw_13_bn (BatchNormali  (None, 7, 7, 1024)       4096      \n",
            " zation)                                                         \n",
            "                                                                 \n",
            " conv_pw_13_relu (ReLU)      (None, 7, 7, 1024)        0         \n",
            "                                                                 \n",
            "=================================================================\n",
            "Total params: 3,228,864\n",
            "Trainable params: 3,206,976\n",
            "Non-trainable params: 21,888\n",
            "_________________________________________________________________\n"
          ]
        }
      ],
      "source": [
        "pre_trained_layers.summary()"
      ]
    },
    {
      "cell_type": "code",
      "execution_count": 21,
      "metadata": {
        "id": "MU_j6dypcPwp"
      },
      "outputs": [],
      "source": [
        "#Creating custom model\n",
        "model = keras.Sequential([\n",
        "    data_augmentation,                                                    # data augmentations\n",
        "    pre_trained_layers,                                                   # ResNet pre-trained layers\n",
        "    keras.layers.GlobalAveragePooling2D(),                                # Adding Global average Pooling 2d\n",
        "    tf.keras.layers.Dropout(0.3),\n",
        "    keras.layers.Dense(number_of_class_labels, activation='softmax', name='output')  # Final Dense Layer with 30 neurons\n",
        "])"
      ]
    },
    {
      "cell_type": "code",
      "execution_count": 22,
      "metadata": {
        "id": "41gFu9xKb0CU"
      },
      "outputs": [],
      "source": [
        "EPOCHS = 5\n",
        "LR = 1e-3\n",
        "model.compile(optimizer=keras.optimizers.Adam(learning_rate=LR),\n",
        "              loss=tf.keras.losses.SparseCategoricalCrossentropy(),\n",
        "              metrics=['accuracy'])"
      ]
    },
    {
      "cell_type": "code",
      "execution_count": 23,
      "metadata": {
        "colab": {
          "base_uri": "https://localhost:8080/"
        },
        "id": "XCFHANKAcmVS",
        "outputId": "4641bf74-7903-4b9c-c54c-5b9514d7fb53"
      },
      "outputs": [
        {
          "output_type": "stream",
          "name": "stdout",
          "text": [
            "Model: \"sequential_1\"\n",
            "_________________________________________________________________\n",
            " Layer (type)                Output Shape              Param #   \n",
            "=================================================================\n",
            " sequential (Sequential)     (1, 224, 224, 3)          0         \n",
            "                                                                 \n",
            " mobilenet_1.00_224 (Functio  (None, 7, 7, 1024)       3228864   \n",
            " nal)                                                            \n",
            "                                                                 \n",
            " global_average_pooling2d (G  (1, 1024)                0         \n",
            " lobalAveragePooling2D)                                          \n",
            "                                                                 \n",
            " dropout (Dropout)           (1, 1024)                 0         \n",
            "                                                                 \n",
            " output (Dense)              (1, 10)                   10250     \n",
            "                                                                 \n",
            "=================================================================\n",
            "Total params: 3,239,114\n",
            "Trainable params: 3,217,226\n",
            "Non-trainable params: 21,888\n",
            "_________________________________________________________________\n"
          ]
        }
      ],
      "source": [
        "#printing summary of custom model\n",
        "model.build((1,224,224,3))\n",
        "model.summary()"
      ]
    },
    {
      "cell_type": "code",
      "execution_count": 24,
      "metadata": {
        "id": "AMvex2WIc1hi"
      },
      "outputs": [],
      "source": [
        "from tensorflow.keras.callbacks import ReduceLROnPlateau"
      ]
    },
    {
      "cell_type": "code",
      "execution_count": 25,
      "metadata": {
        "id": "LM1NDxA1cnxB"
      },
      "outputs": [],
      "source": [
        "# Callback -> Reduce Learning Rate on Plateau\n",
        "callback = ReduceLROnPlateau(monitor='val_loss', factor=0.1, patience=3, verbose=1, mode='auto',\n",
        "                             min_delta=0.0001, cooldown=0, min_lr=0.00001)"
      ]
    },
    {
      "cell_type": "code",
      "execution_count": 26,
      "metadata": {
        "id": "h6-FwHIUaRPh",
        "colab": {
          "base_uri": "https://localhost:8080/"
        },
        "outputId": "ca76dd55-0615-4db4-a352-e69977212a71"
      },
      "outputs": [
        {
          "output_type": "stream",
          "name": "stdout",
          "text": [
            "No file moved. Source empty!\n",
            "No file moved. Source empty!\n",
            "No file moved. Source empty!\n",
            "No file moved. Source empty!\n",
            "No file moved. Source empty!\n",
            "No file moved. Source empty!\n",
            "No file moved. Source empty!\n",
            "No file moved. Source empty!\n",
            "No file moved. Source empty!\n",
            "No file moved. Source empty!\n",
            "Results for fold 1\n",
            "Found 3368 files belonging to 10 classes.\n",
            "Found 843 files belonging to 10 classes.\n",
            "Epoch 1/5\n",
            "211/211 [==============================] - 50s 131ms/step - loss: 1.2342 - accuracy: 0.6131 - val_loss: 4.9040 - val_accuracy: 0.3642 - lr: 0.0010\n",
            "Epoch 2/5\n",
            "211/211 [==============================] - 25s 115ms/step - loss: 0.6895 - accuracy: 0.7743 - val_loss: 6.6837 - val_accuracy: 0.2835 - lr: 0.0010\n",
            "Epoch 3/5\n",
            "211/211 [==============================] - 26s 120ms/step - loss: 0.5826 - accuracy: 0.8103 - val_loss: 3.6817 - val_accuracy: 0.4923 - lr: 0.0010\n",
            "Epoch 4/5\n",
            "211/211 [==============================] - 24s 109ms/step - loss: 0.5024 - accuracy: 0.8314 - val_loss: 1.4351 - val_accuracy: 0.6892 - lr: 0.0010\n",
            "Epoch 5/5\n",
            "211/211 [==============================] - 23s 106ms/step - loss: 0.4100 - accuracy: 0.8584 - val_loss: 1.5421 - val_accuracy: 0.6477 - lr: 0.0010\n",
            "53/53 [==============================] - 6s 108ms/step - loss: 1.5421 - accuracy: 0.6477\n",
            "Results for fold 2\n",
            "Found 3369 files belonging to 10 classes.\n",
            "Found 842 files belonging to 10 classes.\n",
            "Epoch 1/5\n",
            "211/211 [==============================] - 27s 127ms/step - loss: 0.4317 - accuracy: 0.8549 - val_loss: 0.8486 - val_accuracy: 0.7696 - lr: 0.0010\n",
            "Epoch 2/5\n",
            "211/211 [==============================] - 25s 115ms/step - loss: 0.4246 - accuracy: 0.8563 - val_loss: 1.1665 - val_accuracy: 0.7292 - lr: 0.0010\n",
            "Epoch 3/5\n",
            "211/211 [==============================] - 25s 117ms/step - loss: 0.3479 - accuracy: 0.8860 - val_loss: 1.1057 - val_accuracy: 0.7815 - lr: 0.0010\n",
            "Epoch 4/5\n",
            "210/211 [============================>.] - ETA: 0s - loss: 0.3398 - accuracy: 0.8815\n",
            "Epoch 4: ReduceLROnPlateau reducing learning rate to 0.00010000000474974513.\n",
            "211/211 [==============================] - 25s 118ms/step - loss: 0.3396 - accuracy: 0.8816 - val_loss: 2.1863 - val_accuracy: 0.5784 - lr: 0.0010\n",
            "Epoch 5/5\n",
            "211/211 [==============================] - 24s 111ms/step - loss: 0.2413 - accuracy: 0.9196 - val_loss: 0.5043 - val_accuracy: 0.8266 - lr: 1.0000e-04\n",
            "53/53 [==============================] - 4s 66ms/step - loss: 0.5043 - accuracy: 0.8266\n",
            "Results for fold 3\n",
            "Found 3369 files belonging to 10 classes.\n",
            "Found 842 files belonging to 10 classes.\n",
            "Epoch 1/5\n",
            "211/211 [==============================] - 25s 114ms/step - loss: 0.1783 - accuracy: 0.9433 - val_loss: 0.3813 - val_accuracy: 0.8634 - lr: 1.0000e-04\n",
            "Epoch 2/5\n",
            "211/211 [==============================] - 24s 113ms/step - loss: 0.1602 - accuracy: 0.9498 - val_loss: 0.2809 - val_accuracy: 0.9014 - lr: 1.0000e-04\n",
            "Epoch 3/5\n",
            "211/211 [==============================] - 30s 141ms/step - loss: 0.1437 - accuracy: 0.9516 - val_loss: 0.2901 - val_accuracy: 0.9014 - lr: 1.0000e-04\n",
            "Epoch 4/5\n",
            "211/211 [==============================] - 25s 118ms/step - loss: 0.1276 - accuracy: 0.9567 - val_loss: 0.2300 - val_accuracy: 0.9240 - lr: 1.0000e-04\n",
            "Epoch 5/5\n",
            "211/211 [==============================] - 23s 108ms/step - loss: 0.1449 - accuracy: 0.9486 - val_loss: 0.2153 - val_accuracy: 0.9299 - lr: 1.0000e-04\n",
            "53/53 [==============================] - 5s 98ms/step - loss: 0.2153 - accuracy: 0.9299\n",
            "Results for fold 4\n",
            "Found 3369 files belonging to 10 classes.\n",
            "Found 842 files belonging to 10 classes.\n",
            "Epoch 1/5\n",
            "211/211 [==============================] - 25s 113ms/step - loss: 0.1104 - accuracy: 0.9614 - val_loss: 0.1543 - val_accuracy: 0.9454 - lr: 1.0000e-04\n",
            "Epoch 2/5\n",
            "211/211 [==============================] - 25s 115ms/step - loss: 0.1182 - accuracy: 0.9605 - val_loss: 0.1924 - val_accuracy: 0.9371 - lr: 1.0000e-04\n",
            "Epoch 3/5\n",
            "211/211 [==============================] - 26s 122ms/step - loss: 0.1159 - accuracy: 0.9584 - val_loss: 0.2008 - val_accuracy: 0.9394 - lr: 1.0000e-04\n",
            "Epoch 4/5\n",
            "210/211 [============================>.] - ETA: 0s - loss: 0.1064 - accuracy: 0.9634\n",
            "Epoch 4: ReduceLROnPlateau reducing learning rate to 1.0000000474974514e-05.\n",
            "211/211 [==============================] - 23s 106ms/step - loss: 0.1072 - accuracy: 0.9629 - val_loss: 0.2006 - val_accuracy: 0.9454 - lr: 1.0000e-04\n",
            "Epoch 5/5\n",
            "211/211 [==============================] - 25s 114ms/step - loss: 0.1124 - accuracy: 0.9623 - val_loss: 0.1348 - val_accuracy: 0.9596 - lr: 1.0000e-05\n",
            "53/53 [==============================] - 5s 97ms/step - loss: 0.1348 - accuracy: 0.9596\n",
            "Results for fold 5\n",
            "Found 3369 files belonging to 10 classes.\n",
            "Found 842 files belonging to 10 classes.\n",
            "Epoch 1/5\n",
            "211/211 [==============================] - 25s 115ms/step - loss: 0.0980 - accuracy: 0.9653 - val_loss: 0.1182 - val_accuracy: 0.9525 - lr: 1.0000e-05\n",
            "Epoch 2/5\n",
            "211/211 [==============================] - 25s 118ms/step - loss: 0.0841 - accuracy: 0.9742 - val_loss: 0.1314 - val_accuracy: 0.9501 - lr: 1.0000e-05\n",
            "Epoch 3/5\n",
            "211/211 [==============================] - 25s 117ms/step - loss: 0.0815 - accuracy: 0.9709 - val_loss: 0.1474 - val_accuracy: 0.9466 - lr: 1.0000e-05\n",
            "Epoch 4/5\n",
            "210/211 [============================>.] - ETA: 0s - loss: 0.0878 - accuracy: 0.9705\n",
            "Epoch 4: ReduceLROnPlateau reducing learning rate to 1e-05.\n",
            "211/211 [==============================] - 25s 115ms/step - loss: 0.0876 - accuracy: 0.9706 - val_loss: 0.1437 - val_accuracy: 0.9454 - lr: 1.0000e-05\n",
            "Epoch 5/5\n",
            "211/211 [==============================] - 25s 115ms/step - loss: 0.0752 - accuracy: 0.9730 - val_loss: 0.1399 - val_accuracy: 0.9477 - lr: 1.0000e-05\n",
            "53/53 [==============================] - 5s 91ms/step - loss: 0.1399 - accuracy: 0.9477\n"
          ]
        }
      ],
      "source": [
        "skf = StratifiedKFold(n_splits=5, shuffle=True)\n",
        "skf.get_n_splits(X, Y)\n",
        "fold_num = 0\n",
        "for train_index, val_index in skf.split(X, Y):\n",
        "    # First cut all images from validation to train (if any exists)\n",
        "    transferAllClassBetweenFolders('validation', 'train', 1.0)\n",
        "    fold_num += 1\n",
        "    print(\"Results for fold\", fold_num)\n",
        "    X_train, X_val = X[train_index], X[val_index]\n",
        "    Y_train, Y_val = Y[train_index], Y[val_index]\n",
        "    # Move validation images of this fold from train folder to the validation folder\n",
        "    for each_index in range(len(X_val)):\n",
        "        class_label = ''\n",
        "        for i in range(len(classLabels)):\n",
        "            if(Y_val[each_index] == i):\n",
        "                class_label = classLabels[i]\n",
        "        # Then, copy the validation images to the validation folder\n",
        "        shutil.move(os.path.join(datasetFolderName, 'train', class_label, X_val[each_index]),\n",
        "                    os.path.join(datasetFolderName, 'validation', class_label, X_val[each_index]))\n",
        "\n",
        "\n",
        "\n",
        "    # Start ImageClassification Model\n",
        "    #creating train data set\n",
        "\n",
        "    train_generator = tf.keras.utils.image_dataset_from_directory(\n",
        "        train_path,\n",
        "        image_size=(IMG_SIZE[0], IMG_SIZE[1]),\n",
        "        batch_size=batch_size,\n",
        "        )\n",
        "\n",
        "    validation_generator = tf.keras.utils.image_dataset_from_directory(\n",
        "        validation_path,\n",
        "        image_size=(IMG_SIZE[0], IMG_SIZE[1]),\n",
        "        batch_size=batch_size,\n",
        "\n",
        "          # only data, no labels\n",
        "        shuffle=False\n",
        "        )\n",
        "\n",
        "    history = model.fit(train_generator, epochs=EPOCHS, validation_data=validation_generator, callbacks=callback)\n",
        "    model.evaluate(validation_generator)"
      ]
    },
    {
      "cell_type": "code",
      "execution_count": 27,
      "metadata": {
        "id": "jJurHyH7k6Ny"
      },
      "outputs": [],
      "source": [
        "from sklearn.metrics import classification_report, roc_curve, roc_auc_score\n",
        "import pandas as pd\n",
        "import plotly.graph_objects as go\n",
        "import plotly.express as px\n",
        "import matplotlib.pyplot as plt"
      ]
    },
    {
      "cell_type": "code",
      "execution_count": 28,
      "metadata": {
        "id": "TOQlD_ZTko2y",
        "colab": {
          "base_uri": "https://localhost:8080/",
          "height": 457
        },
        "outputId": "4d8cdf94-10df-4e6e-b1ec-fa7499c91a39"
      },
      "outputs": [
        {
          "output_type": "display_data",
          "data": {
            "text/plain": [
              "<Figure size 640x480 with 1 Axes>"
            ],
            "image/png": "[encoded data removed]"
          },
          "metadata": {}
        }
      ],
      "source": [
        "plt.title(\"Loss\", fontdict={'fontsize':18})\n",
        "plt.plot(history.history['loss'],label='train')\n",
        "plt.plot(history.history['val_loss'],label='validation')\n",
        "plt.legend()\n",
        "plt.show()"
      ]
    },
    {
      "cell_type": "code",
      "execution_count": 29,
      "metadata": {
        "id": "7pwYMz2Bkyt5",
        "colab": {
          "base_uri": "https://localhost:8080/",
          "height": 457
        },
        "outputId": "8f56823f-6a01-4183-ba16-c0b3fd0163cf"
      },
      "outputs": [
        {
          "output_type": "display_data",
          "data": {
            "text/plain": [
              "<Figure size 640x480 with 1 Axes>"
            ],
            "image/png": "[encoded data removed]"
          },
          "metadata": {}
        }
      ],
      "source": [
        "plt.title(\"Accuracy\", fontdict={'fontsize':18})\n",
        "plt.plot(history.history['accuracy'],label='train')\n",
        "plt.plot(history.history['val_accuracy'],label='validation')\n",
        "plt.legend()\n",
        "plt.show()"
      ]
    },
    {
      "cell_type": "code",
      "execution_count": 30,
      "metadata": {
        "id": "93F3DoWUk7Oa"
      },
      "outputs": [],
      "source": [
        "Y_train = []\n",
        "X_train = []\n",
        "for data in train_generator:\n",
        "    X_train.extend(data[0].numpy())\n",
        "    Y_train.extend(data[1].numpy())\n",
        "Y_train = np.array(Y_train)\n",
        "X_train = np.array(X_train)"
      ]
    },
    {
      "cell_type": "code",
      "execution_count": 31,
      "metadata": {
        "id": "IAbUM7JblMA6",
        "colab": {
          "base_uri": "https://localhost:8080/"
        },
        "outputId": "dbc43977-6db1-49c2-a4f1-8325f4188e12"
      },
      "outputs": [
        {
          "output_type": "stream",
          "name": "stdout",
          "text": [
            "106/106 [==============================] - 5s 36ms/step\n"
          ]
        }
      ],
      "source": [
        "y_train_pred_prob = model.predict(X_train)\n",
        "y_train_pred = [np.argmax(i) for i in y_train_pred_prob]"
      ]
    },
    {
      "cell_type": "code",
      "execution_count": 32,
      "metadata": {
        "id": "ubgm_cWxlUrD",
        "colab": {
          "base_uri": "https://localhost:8080/"
        },
        "outputId": "2f050b76-c8cf-4664-dc65-edd94ecf69b8"
      },
      "outputs": [
        {
          "output_type": "execute_result",
          "data": {
            "text/plain": [
              "(3369, 10)"
            ]
          },
          "metadata": {},
          "execution_count": 32
        }
      ],
      "source": [
        "y_train_pred_prob.shape"
      ]
    },
    {
      "cell_type": "code",
      "execution_count": 33,
      "metadata": {
        "id": "A5Ywk5jrlVYi"
      },
      "outputs": [],
      "source": [
        "#function to plot roc-auc curve\n",
        "def roc_auc_curve(y_scores, y_true):\n",
        "    # One hot encode the labels in order to plot them\n",
        "    y_onehot = pd.get_dummies(y_true, columns=classLabels)\n",
        "\n",
        "    # Create an empty figure, and iteratively add new lines\n",
        "    # every time we compute a new class\n",
        "    fig = go.Figure()\n",
        "    fig.add_shape(\n",
        "        type='line', line=dict(dash='dash'),\n",
        "        x0=0, x1=1, y0=0, y1=1\n",
        "    )\n",
        "\n",
        "    for i in range(y_scores.shape[1]):\n",
        "        y_true = y_onehot.iloc[:, i]\n",
        "        y_score = y_scores[:, i]\n",
        "\n",
        "        fpr, tpr, _ = roc_curve(y_true, y_score)\n",
        "        auc_score = roc_auc_score(y_true, y_score)\n",
        "\n",
        "        name = f\"{classLabels[i]} (AUC={auc_score:.2f})\"\n",
        "        fig.add_trace(go.Scatter(x=fpr, y=tpr, name=name, mode='lines'))\n",
        "\n",
        "    fig.update_layout(\n",
        "        title=\"ROC Curve\",\n",
        "        xaxis_title='False Positive Rate',\n",
        "        yaxis_title='True Positive Rate',\n",
        "        yaxis=dict(scaleanchor=\"x\", scaleratio=1),\n",
        "        xaxis=dict(constrain='domain'),\n",
        "        width=900, height=800\n",
        "    )\n",
        "\n",
        "    return fig"
      ]
    },
    {
      "cell_type": "code",
      "execution_count": 34,
      "metadata": {
        "id": "YlYX57A4lj1J"
      },
      "outputs": [],
      "source": [
        "import seaborn as sb"
      ]
    },
    {
      "cell_type": "code",
      "execution_count": 35,
      "metadata": {
        "id": "sZZQfWeDl9wq",
        "colab": {
          "base_uri": "https://localhost:8080/",
          "height": 367
        },
        "outputId": "aaac57d6-8c53-4615-c8ed-7cb439af4bde"
      },
      "outputs": [
        {
          "output_type": "display_data",
          "data": {
            "text/plain": [
              "<Figure size 2500x700 with 2 Axes>"
            ],
            "image/png": "[encoded data removed]"
          },
          "metadata": {}
        }
      ],
      "source": [
        "plt.figure(figsize=(25,7))\n",
        "sb.heatmap(tf.math.confusion_matrix(labels=Y_train,predictions=y_train_pred),annot=True,fmt='.1f', cmap='hot_r')\n",
        "plt.xlabel('Predicted Values')\n",
        "plt.ylabel('Actual Values')\n",
        "plt.title('Confusion Matrix (Training)')\n",
        "plt.tight_layout()\n",
        "plt.show()"
      ]
    },
    {
      "cell_type": "code",
      "execution_count": 36,
      "metadata": {
        "id": "iLpnqOcGmEks",
        "colab": {
          "base_uri": "https://localhost:8080/"
        },
        "outputId": "74a573b4-2f9f-4fdb-f63d-443907933727"
      },
      "outputs": [
        {
          "output_type": "stream",
          "name": "stdout",
          "text": [
            "Classification Report for Training\n",
            "              precision    recall  f1-score   support\n",
            "\n",
            "           0       1.00      0.94      0.97       320\n",
            "           1       0.99      0.93      0.96       224\n",
            "           2       1.00      0.84      0.91       347\n",
            "           3       0.92      0.98      0.95       320\n",
            "           4       0.96      0.99      0.97       313\n",
            "           5       1.00      0.84      0.91       408\n",
            "           6       0.85      1.00      0.92       220\n",
            "           7       1.00      0.96      0.98       320\n",
            "           8       0.86      1.00      0.93       410\n",
            "           9       0.93      1.00      0.96       487\n",
            "\n",
            "    accuracy                           0.95      3369\n",
            "   macro avg       0.95      0.95      0.95      3369\n",
            "weighted avg       0.95      0.95      0.95      3369\n",
            "\n"
          ]
        }
      ],
      "source": [
        "print(\"Classification Report for Training\")\n",
        "print(classification_report(Y_train, y_train_pred))"
      ]
    },
    {
      "cell_type": "code",
      "execution_count": 37,
      "metadata": {
        "id": "mu3MhzQnmKR5",
        "colab": {
          "base_uri": "https://localhost:8080/"
        },
        "outputId": "3525969e-cb34-4abb-9e69-4a561dd3d46b"
      },
      "outputs": [
        {
          "output_type": "stream",
          "name": "stdout",
          "text": [
            "Found 1051 files belonging to 10 classes.\n"
          ]
        }
      ],
      "source": [
        "roc_auc_curve(y_train_pred_prob, Y_train)\n",
        "X_test = []\n",
        "y_test = []\n",
        "test_generator = tf.keras.utils.image_dataset_from_directory(\n",
        "        test_path,\n",
        "        image_size=(IMG_SIZE[0], IMG_SIZE[1]),\n",
        "        batch_size=batch_size,\n",
        "\n",
        "          # only data, no labels\n",
        "        #shuffle=False\n",
        "        )\n",
        "for data in test_generator:\n",
        "    X_test.extend(data[0].numpy())\n",
        "    y_test.extend(data[1].numpy())\n",
        "X_test = np.array(X_test)\n",
        "y_test = np.array(y_test)"
      ]
    },
    {
      "cell_type": "code",
      "execution_count": 38,
      "metadata": {
        "id": "peCIJs3KmT5a",
        "colab": {
          "base_uri": "https://localhost:8080/"
        },
        "outputId": "cc6da3ff-1a2e-4e01-f7ad-754d0b91787e"
      },
      "outputs": [
        {
          "output_type": "stream",
          "name": "stdout",
          "text": [
            "33/33 [==============================] - 2s 47ms/step\n"
          ]
        }
      ],
      "source": [
        "y_test_pred_prob = model.predict(X_test)\n",
        "y_test_pred = [np.argmax(i) for i in y_test_pred_prob]"
      ]
    },
    {
      "cell_type": "code",
      "execution_count": 39,
      "metadata": {
        "id": "an7a0Ymplmh5",
        "colab": {
          "base_uri": "https://localhost:8080/"
        },
        "outputId": "5c1af5cd-1ce8-4f8e-f735-d19e3b86cef3"
      },
      "outputs": [
        {
          "output_type": "execute_result",
          "data": {
            "text/plain": [
              "array([0, 1, 2, 3, 4, 5, 6, 7, 8, 9], dtype=int32)"
            ]
          },
          "metadata": {},
          "execution_count": 39
        }
      ],
      "source": [
        "np.unique(y_test)"
      ]
    },
    {
      "cell_type": "code",
      "execution_count": 40,
      "metadata": {
        "id": "AxCwvhHVk-vY",
        "colab": {
          "base_uri": "https://localhost:8080/",
          "height": 367
        },
        "outputId": "494b2885-b498-4b21-e08f-c78d38757eb1"
      },
      "outputs": [
        {
          "output_type": "display_data",
          "data": {
            "text/plain": [
              "<Figure size 2500x700 with 2 Axes>"
            ],
            "image/png": "[encoded data removed]"
          },
          "metadata": {}
        }
      ],
      "source": [
        "plt.figure(figsize=(25,7))\n",
        "sb.heatmap(tf.math.confusion_matrix(labels=y_test,predictions=y_test_pred),annot=True,fmt='.1f', cmap='hot_r')\n",
        "plt.xlabel('Predicted Values')\n",
        "plt.ylabel('Actual Values')\n",
        "plt.title('Confusion Matrix')\n",
        "plt.tight_layout()\n",
        "plt.show()"
      ]
    },
    {
      "cell_type": "code",
      "execution_count": 41,
      "metadata": {
        "id": "LFm0u6zSmaGj",
        "colab": {
          "base_uri": "https://localhost:8080/"
        },
        "outputId": "fab04b8a-a2d5-4642-fb69-bffbb31b9f15"
      },
      "outputs": [
        {
          "output_type": "stream",
          "name": "stdout",
          "text": [
            "Classification Report for Test\n",
            "              precision    recall  f1-score   support\n",
            "\n",
            "           0       1.00      0.88      0.94       100\n",
            "           1       0.98      0.89      0.93        70\n",
            "           2       1.00      0.74      0.85       108\n",
            "           3       0.85      0.99      0.92       100\n",
            "           4       0.93      0.96      0.94        97\n",
            "           5       0.99      0.77      0.87       127\n",
            "           6       0.80      0.97      0.88        69\n",
            "           7       1.00      0.95      0.97       100\n",
            "           8       0.81      0.99      0.89       128\n",
            "           9       0.89      1.00      0.94       152\n",
            "\n",
            "    accuracy                           0.91      1051\n",
            "   macro avg       0.93      0.91      0.91      1051\n",
            "weighted avg       0.93      0.91      0.91      1051\n",
            "\n"
          ]
        }
      ],
      "source": [
        "print(\"Classification Report for Test\")\n",
        "print(classification_report(y_test, y_test_pred))"
      ]
    },
    {
      "cell_type": "code",
      "execution_count": 42,
      "metadata": {
        "id": "LGL2Ta5xmf5r",
        "colab": {
          "base_uri": "https://localhost:8080/",
          "height": 817
        },
        "outputId": "fffc21eb-4a69-480a-f794-980e800fac47"
      },
      "outputs": [
        {
          "output_type": "display_data",
          "data": {
            "text/html": [
              "<html>\n",
              "<head><meta charset=\"utf-8\" /></head>\n",
              "<body>\n",
              "    <div>            <script src=\"https://cdnjs.cloudflare.com/ajax/libs/mathjax/2.7.5/MathJax.js?config=TeX-AMS-MML_SVG\"></script><script type=\"text/javascript\">if (window.MathJax && window.MathJax.Hub && window.MathJax.Hub.Config) {window.MathJax.Hub.Config({SVG: {font: \"STIX-Web\"}});}</script>                <script type=\"text/javascript\">window.PlotlyConfig = {MathJaxConfig: 'local'};</script>\n",
              "        <script src=\"https://cdn.plot.ly/plotly-2.18.2.min.js\"></script>                <div id=\"6f4f3648-de96-4a5f-afce-01b6ab9445bd\" class=\"plotly-graph-div\" style=\"height:800px; width:900px;\"></div>            <script type=\"text/javascript\">                                    window.PLOTLYENV=window.PLOTLYENV || {};                                    if (document.getElementById(\"6f4f3648-de96-4a5f-afce-01b6ab9445bd\")) {                    Plotly.newPlot(                        \"6f4f3648-de96-4a5f-afce-01b6ab9445bd\",                        [{\"mode\":\"lines\",\"name\":\"01 ChiangMai60 (AUC=1.00)\",\"x\":[0.0,0.0,0.0,0.0,0.0,0.0,0.0,0.002103049421661409,0.002103049421661409,0.0031545741324921135,0.0031545741324921135,0.007360672975814932,0.007360672975814932,0.025236593059936908,0.025236593059936908,1.0],\"y\":[0.0,0.02,0.03,0.05,0.11,0.13,0.95,0.95,0.96,0.96,0.98,0.98,0.99,0.99,1.0,1.0],\"type\":\"scatter\"},{\"mode\":\"lines\",\"name\":\"02 RedKing (AUC=1.00)\",\"x\":[0.0,0.0,0.0,0.0,0.0,0.0010193679918450561,0.0010193679918450561,0.0020387359836901123,0.0020387359836901123,0.0030581039755351682,0.0030581039755351682,0.0050968399592252805,0.0050968399592252805,0.009174311926605505,0.009174311926605505,1.0],\"y\":[0.0,0.02857142857142857,0.12857142857142856,0.15714285714285714,0.6714285714285714,0.6714285714285714,0.9285714285714286,0.9285714285714286,0.9428571428571428,0.9428571428571428,0.9714285714285714,0.9714285714285714,0.9857142857142858,0.9857142857142858,1.0,1.0],\"type\":\"scatter\"},{\"mode\":\"lines\",\"name\":\"03 WhiteKing (AUC=1.00)\",\"x\":[0.0,0.0,0.0,0.0010604453870625664,0.0010604453870625664,0.0021208907741251328,0.0021208907741251328,0.003181336161187699,0.003181336161187699,0.009544008483563097,0.009544008483563097,0.010604453870625663,0.010604453870625663,0.016967126193001062,0.016967126193001062,0.021208907741251327,0.021208907741251327,0.030752916224814422,0.030752916224814422,0.03711558854718982,0.03711558854718982,0.03817603393425239,0.03817603393425239,0.05620360551431601,0.05620360551431601,0.21739130434782608,0.21739130434782608,1.0],\"y\":[0.0,0.018518518518518517,0.8518518518518519,0.8518518518518519,0.8611111111111112,0.8611111111111112,0.8703703703703703,0.8703703703703703,0.8888888888888888,0.8888888888888888,0.9074074074074074,0.9074074074074074,0.9351851851851852,0.9351851851851852,0.9444444444444444,0.9444444444444444,0.9537037037037037,0.9537037037037037,0.9629629629629629,0.9629629629629629,0.9722222222222222,0.9722222222222222,0.9814814814814815,0.9814814814814815,0.9907407407407407,0.9907407407407407,1.0,1.0],\"type\":\"scatter\"},{\"mode\":\"lines\",\"name\":\"04 BlackOodTurkey (AUC=1.00)\",\"x\":[0.0,0.0,0.0,0.0,0.0,0.0010515247108307045,0.0010515247108307045,0.005257623554153523,0.005257623554153523,0.006309148264984227,0.006309148264984227,0.010515247108307046,0.010515247108307046,0.019978969505783387,0.019978969505783387,1.0],\"y\":[0.0,0.02,0.04,0.06,0.91,0.91,0.95,0.95,0.96,0.96,0.97,0.97,0.99,0.99,1.0,1.0],\"type\":\"scatter\"},{\"mode\":\"lines\",\"name\":\"05 TaiwanStraberry (AUC=1.00)\",\"x\":[0.0,0.0,0.0,0.0,0.0,0.0,0.0020964360587002098,0.0020964360587002098,0.0031446540880503146,0.0031446540880503146,0.005241090146750524,0.005241090146750524,0.010482180293501049,0.010482180293501049,0.016771488469601678,0.016771488469601678,1.0],\"y\":[0.0,0.030927835051546393,0.061855670103092786,0.4948453608247423,0.5154639175257731,0.9072164948453608,0.9072164948453608,0.9278350515463918,0.9278350515463918,0.9484536082474226,0.9484536082474226,0.9587628865979382,0.9587628865979382,0.979381443298969,0.979381443298969,1.0,1.0],\"type\":\"scatter\"},{\"mode\":\"lines\",\"name\":\"06 BlackAustralia (AUC=1.00)\",\"x\":[0.0,0.0,0.0,0.0010822510822510823,0.0010822510822510823,0.0021645021645021645,0.0021645021645021645,0.003246753246753247,0.003246753246753247,0.005411255411255411,0.005411255411255411,0.006493506493506494,0.006493506493506494,0.007575757575757576,0.007575757575757576,0.00974025974025974,0.00974025974025974,0.08008658008658008,0.08008658008658008,1.0],\"y\":[0.0,0.007874015748031496,0.5118110236220472,0.5118110236220472,0.8110236220472441,0.8110236220472441,0.8582677165354331,0.8582677165354331,0.937007874015748,0.937007874015748,0.9448818897637795,0.9448818897637795,0.9606299212598425,0.9606299212598425,0.984251968503937,0.984251968503937,0.9921259842519685,0.9921259842519685,1.0,1.0],\"type\":\"scatter\"},{\"mode\":\"lines\",\"name\":\"07 Buriram60 (AUC=1.00)\",\"x\":[0.0,0.0,0.0,0.0,0.0,0.0010183299389002036,0.0010183299389002036,0.002036659877800407,0.002036659877800407,0.003054989816700611,0.003054989816700611,0.004073319755600814,0.004073319755600814,0.0050916496945010185,0.0050916496945010185,0.006109979633401222,0.006109979633401222,0.007128309572301426,0.007128309572301426,0.008146639511201629,0.008146639511201629,0.018329938900203666,0.018329938900203666,0.032586558044806514,0.032586558044806514,1.0],\"y\":[0.0,0.014492753623188406,0.028985507246376812,0.057971014492753624,0.6231884057971014,0.6231884057971014,0.7681159420289855,0.7681159420289855,0.782608695652174,0.782608695652174,0.8260869565217391,0.8260869565217391,0.8695652173913043,0.8695652173913043,0.8840579710144928,0.8840579710144928,0.9130434782608695,0.9130434782608695,0.9565217391304348,0.9565217391304348,0.9710144927536232,0.9710144927536232,0.9855072463768116,0.9855072463768116,1.0,1.0],\"type\":\"scatter\"},{\"mode\":\"lines\",\"name\":\"08 Kamphaengsaeng42 (AUC=1.00)\",\"x\":[0.0,0.0,0.0,0.0,0.0,0.0,0.0,0.0010515247108307045,0.0010515247108307045,1.0],\"y\":[0.0,0.08,0.15,0.21,0.23,0.29,0.99,0.99,1.0,1.0],\"type\":\"scatter\"},{\"mode\":\"lines\",\"name\":\"09 TaiwanMeacho (AUC=1.00)\",\"x\":[0.0,0.0,0.0,0.0,0.0,0.0,0.0,0.0,0.0,0.0,0.0,0.0,0.0,0.0,0.0,0.0,0.0,0.0010834236186348862,0.0010834236186348862,0.0021668472372697724,0.0021668472372697724,0.0032502708559046588,0.0032502708559046588,0.005417118093174431,0.005417118093174431,0.00866738894907909,0.00866738894907909,0.009750812567713976,0.009750812567713976,0.010834236186348862,0.010834236186348862,0.011917659804983749,0.011917659804983749,0.014084507042253521,0.014084507042253521,0.018418201516793065,0.018418201516793065,0.021668472372697724,0.021668472372697724,0.028169014084507043,0.028169014084507043,0.030335861321776816,0.030335861321776816,0.05200433369447454,0.05200433369447454,1.0],\"y\":[0.0,0.0625,0.09375,0.1171875,0.125,0.140625,0.1484375,0.1640625,0.171875,0.1875,0.203125,0.21875,0.2890625,0.3046875,0.3828125,0.3984375,0.796875,0.796875,0.828125,0.828125,0.8671875,0.8671875,0.875,0.875,0.8828125,0.8828125,0.890625,0.890625,0.90625,0.90625,0.9140625,0.9140625,0.9453125,0.9453125,0.953125,0.953125,0.96875,0.96875,0.9765625,0.9765625,0.984375,0.984375,0.9921875,0.9921875,1.0,1.0],\"type\":\"scatter\"},{\"mode\":\"lines\",\"name\":\"10 ChiangMaiBuriram60 (AUC=1.00)\",\"x\":[0.0,0.0,0.0,0.0,0.0,0.0,0.0,0.0,0.0,0.0,0.0,0.0,0.0,0.0,0.0,0.0,0.0,0.0,0.0,0.0,0.0,0.0,0.0011123470522803114,0.0011123470522803114,0.002224694104560623,0.002224694104560623,0.010011123470522803,0.010011123470522803,0.017797552836484983,0.017797552836484983,1.0],\"y\":[0.0,0.2236842105263158,0.29605263157894735,0.32894736842105265,0.34868421052631576,0.3618421052631579,0.39473684210526316,0.40789473684210525,0.4144736842105263,0.4407894736842105,0.4605263157894737,0.46710526315789475,0.48026315789473684,0.4868421052631579,0.5131578947368421,0.5460526315789473,0.5592105263157895,0.6578947368421053,0.6776315789473685,0.6907894736842105,0.7039473684210527,0.9605263157894737,0.9605263157894737,0.9736842105263158,0.9736842105263158,0.9868421052631579,0.9868421052631579,0.993421052631579,0.993421052631579,1.0,1.0],\"type\":\"scatter\"}],                        {\"template\":{\"data\":{\"histogram2dcontour\":[{\"type\":\"histogram2dcontour\",\"colorbar\":{\"outlinewidth\":0,\"ticks\":\"\"},\"colorscale\":[[0.0,\"#0d0887\"],[0.1111111111111111,\"#46039f\"],[0.2222222222222222,\"#7201a8\"],[0.3333333333333333,\"#9c179e\"],[0.4444444444444444,\"#bd3786\"],[0.5555555555555556,\"#d8576b\"],[0.6666666666666666,\"#ed7953\"],[0.7777777777777778,\"#fb9f3a\"],[0.8888888888888888,\"#fdca26\"],[1.0,\"#f0f921\"]]}],\"choropleth\":[{\"type\":\"choropleth\",\"colorbar\":{\"outlinewidth\":0,\"ticks\":\"\"}}],\"histogram2d\":[{\"type\":\"histogram2d\",\"colorbar\":{\"outlinewidth\":0,\"ticks\":\"\"},\"colorscale\":[[0.0,\"#0d0887\"],[0.1111111111111111,\"#46039f\"],[0.2222222222222222,\"#7201a8\"],[0.3333333333333333,\"#9c179e\"],[0.4444444444444444,\"#bd3786\"],[0.5555555555555556,\"#d8576b\"],[0.6666666666666666,\"#ed7953\"],[0.7777777777777778,\"#fb9f3a\"],[0.8888888888888888,\"#fdca26\"],[1.0,\"#f0f921\"]]}],\"heatmap\":[{\"type\":\"heatmap\",\"colorbar\":{\"outlinewidth\":0,\"ticks\":\"\"},\"colorscale\":[[0.0,\"#0d0887\"],[0.1111111111111111,\"#46039f\"],[0.2222222222222222,\"#7201a8\"],[0.3333333333333333,\"#9c179e\"],[0.4444444444444444,\"#bd3786\"],[0.5555555555555556,\"#d8576b\"],[0.6666666666666666,\"#ed7953\"],[0.7777777777777778,\"#fb9f3a\"],[0.8888888888888888,\"#fdca26\"],[1.0,\"#f0f921\"]]}],\"heatmapgl\":[{\"type\":\"heatmapgl\",\"colorbar\":{\"outlinewidth\":0,\"ticks\":\"\"},\"colorscale\":[[0.0,\"#0d0887\"],[0.1111111111111111,\"#46039f\"],[0.2222222222222222,\"#7201a8\"],[0.3333333333333333,\"#9c179e\"],[0.4444444444444444,\"#bd3786\"],[0.5555555555555556,\"#d8576b\"],[0.6666666666666666,\"#ed7953\"],[0.7777777777777778,\"#fb9f3a\"],[0.8888888888888888,\"#fdca26\"],[1.0,\"#f0f921\"]]}],\"contourcarpet\":[{\"type\":\"contourcarpet\",\"colorbar\":{\"outlinewidth\":0,\"ticks\":\"\"}}],\"contour\":[{\"type\":\"contour\",\"colorbar\":{\"outlinewidth\":0,\"ticks\":\"\"},\"colorscale\":[[0.0,\"#0d0887\"],[0.1111111111111111,\"#46039f\"],[0.2222222222222222,\"#7201a8\"],[0.3333333333333333,\"#9c179e\"],[0.4444444444444444,\"#bd3786\"],[0.5555555555555556,\"#d8576b\"],[0.6666666666666666,\"#ed7953\"],[0.7777777777777778,\"#fb9f3a\"],[0.8888888888888888,\"#fdca26\"],[1.0,\"#f0f921\"]]}],\"surface\":[{\"type\":\"surface\",\"colorbar\":{\"outlinewidth\":0,\"ticks\":\"\"},\"colorscale\":[[0.0,\"#0d0887\"],[0.1111111111111111,\"#46039f\"],[0.2222222222222222,\"#7201a8\"],[0.3333333333333333,\"#9c179e\"],[0.4444444444444444,\"#bd3786\"],[0.5555555555555556,\"#d8576b\"],[0.6666666666666666,\"#ed7953\"],[0.7777777777777778,\"#fb9f3a\"],[0.8888888888888888,\"#fdca26\"],[1.0,\"#f0f921\"]]}],\"mesh3d\":[{\"type\":\"mesh3d\",\"colorbar\":{\"outlinewidth\":0,\"ticks\":\"\"}}],\"scatter\":[{\"fillpattern\":{\"fillmode\":\"overlay\",\"size\":10,\"solidity\":0.2},\"type\":\"scatter\"}],\"parcoords\":[{\"type\":\"parcoords\",\"line\":{\"colorbar\":{\"outlinewidth\":0,\"ticks\":\"\"}}}],\"scatterpolargl\":[{\"type\":\"scatterpolargl\",\"marker\":{\"colorbar\":{\"outlinewidth\":0,\"ticks\":\"\"}}}],\"bar\":[{\"error_x\":{\"color\":\"#2a3f5f\"},\"error_y\":{\"color\":\"#2a3f5f\"},\"marker\":{\"line\":{\"color\":\"#E5ECF6\",\"width\":0.5},\"pattern\":{\"fillmode\":\"overlay\",\"size\":10,\"solidity\":0.2}},\"type\":\"bar\"}],\"scattergeo\":[{\"type\":\"scattergeo\",\"marker\":{\"colorbar\":{\"outlinewidth\":0,\"ticks\":\"\"}}}],\"scatterpolar\":[{\"type\":\"scatterpolar\",\"marker\":{\"colorbar\":{\"outlinewidth\":0,\"ticks\":\"\"}}}],\"histogram\":[{\"marker\":{\"pattern\":{\"fillmode\":\"overlay\",\"size\":10,\"solidity\":0.2}},\"type\":\"histogram\"}],\"scattergl\":[{\"type\":\"scattergl\",\"marker\":{\"colorbar\":{\"outlinewidth\":0,\"ticks\":\"\"}}}],\"scatter3d\":[{\"type\":\"scatter3d\",\"line\":{\"colorbar\":{\"outlinewidth\":0,\"ticks\":\"\"}},\"marker\":{\"colorbar\":{\"outlinewidth\":0,\"ticks\":\"\"}}}],\"scattermapbox\":[{\"type\":\"scattermapbox\",\"marker\":{\"colorbar\":{\"outlinewidth\":0,\"ticks\":\"\"}}}],\"scatterternary\":[{\"type\":\"scatterternary\",\"marker\":{\"colorbar\":{\"outlinewidth\":0,\"ticks\":\"\"}}}],\"scattercarpet\":[{\"type\":\"scattercarpet\",\"marker\":{\"colorbar\":{\"outlinewidth\":0,\"ticks\":\"\"}}}],\"carpet\":[{\"aaxis\":{\"endlinecolor\":\"#2a3f5f\",\"gridcolor\":\"white\",\"linecolor\":\"white\",\"minorgridcolor\":\"white\",\"startlinecolor\":\"#2a3f5f\"},\"baxis\":{\"endlinecolor\":\"#2a3f5f\",\"gridcolor\":\"white\",\"linecolor\":\"white\",\"minorgridcolor\":\"white\",\"startlinecolor\":\"#2a3f5f\"},\"type\":\"carpet\"}],\"table\":[{\"cells\":{\"fill\":{\"color\":\"#EBF0F8\"},\"line\":{\"color\":\"white\"}},\"header\":{\"fill\":{\"color\":\"#C8D4E3\"},\"line\":{\"color\":\"white\"}},\"type\":\"table\"}],\"barpolar\":[{\"marker\":{\"line\":{\"color\":\"#E5ECF6\",\"width\":0.5},\"pattern\":{\"fillmode\":\"overlay\",\"size\":10,\"solidity\":0.2}},\"type\":\"barpolar\"}],\"pie\":[{\"automargin\":true,\"type\":\"pie\"}]},\"layout\":{\"autotypenumbers\":\"strict\",\"colorway\":[\"#636efa\",\"#EF553B\",\"#00cc96\",\"#ab63fa\",\"#FFA15A\",\"#19d3f3\",\"#FF6692\",\"#B6E880\",\"#FF97FF\",\"#FECB52\"],\"font\":{\"color\":\"#2a3f5f\"},\"hovermode\":\"closest\",\"hoverlabel\":{\"align\":\"left\"},\"paper_bgcolor\":\"white\",\"plot_bgcolor\":\"#E5ECF6\",\"polar\":{\"bgcolor\":\"#E5ECF6\",\"angularaxis\":{\"gridcolor\":\"white\",\"linecolor\":\"white\",\"ticks\":\"\"},\"radialaxis\":{\"gridcolor\":\"white\",\"linecolor\":\"white\",\"ticks\":\"\"}},\"ternary\":{\"bgcolor\":\"#E5ECF6\",\"aaxis\":{\"gridcolor\":\"white\",\"linecolor\":\"white\",\"ticks\":\"\"},\"baxis\":{\"gridcolor\":\"white\",\"linecolor\":\"white\",\"ticks\":\"\"},\"caxis\":{\"gridcolor\":\"white\",\"linecolor\":\"white\",\"ticks\":\"\"}},\"coloraxis\":{\"colorbar\":{\"outlinewidth\":0,\"ticks\":\"\"}},\"colorscale\":{\"sequential\":[[0.0,\"#0d0887\"],[0.1111111111111111,\"#46039f\"],[0.2222222222222222,\"#7201a8\"],[0.3333333333333333,\"#9c179e\"],[0.4444444444444444,\"#bd3786\"],[0.5555555555555556,\"#d8576b\"],[0.6666666666666666,\"#ed7953\"],[0.7777777777777778,\"#fb9f3a\"],[0.8888888888888888,\"#fdca26\"],[1.0,\"#f0f921\"]],\"sequentialminus\":[[0.0,\"#0d0887\"],[0.1111111111111111,\"#46039f\"],[0.2222222222222222,\"#7201a8\"],[0.3333333333333333,\"#9c179e\"],[0.4444444444444444,\"#bd3786\"],[0.5555555555555556,\"#d8576b\"],[0.6666666666666666,\"#ed7953\"],[0.7777777777777778,\"#fb9f3a\"],[0.8888888888888888,\"#fdca26\"],[1.0,\"#f0f921\"]],\"diverging\":[[0,\"#8e0152\"],[0.1,\"#c51b7d\"],[0.2,\"#de77ae\"],[0.3,\"#f1b6da\"],[0.4,\"#fde0ef\"],[0.5,\"#f7f7f7\"],[0.6,\"#e6f5d0\"],[0.7,\"#b8e186\"],[0.8,\"#7fbc41\"],[0.9,\"#4d9221\"],[1,\"#276419\"]]},\"xaxis\":{\"gridcolor\":\"white\",\"linecolor\":\"white\",\"ticks\":\"\",\"title\":{\"standoff\":15},\"zerolinecolor\":\"white\",\"automargin\":true,\"zerolinewidth\":2},\"yaxis\":{\"gridcolor\":\"white\",\"linecolor\":\"white\",\"ticks\":\"\",\"title\":{\"standoff\":15},\"zerolinecolor\":\"white\",\"automargin\":true,\"zerolinewidth\":2},\"scene\":{\"xaxis\":{\"backgroundcolor\":\"#E5ECF6\",\"gridcolor\":\"white\",\"linecolor\":\"white\",\"showbackground\":true,\"ticks\":\"\",\"zerolinecolor\":\"white\",\"gridwidth\":2},\"yaxis\":{\"backgroundcolor\":\"#E5ECF6\",\"gridcolor\":\"white\",\"linecolor\":\"white\",\"showbackground\":true,\"ticks\":\"\",\"zerolinecolor\":\"white\",\"gridwidth\":2},\"zaxis\":{\"backgroundcolor\":\"#E5ECF6\",\"gridcolor\":\"white\",\"linecolor\":\"white\",\"showbackground\":true,\"ticks\":\"\",\"zerolinecolor\":\"white\",\"gridwidth\":2}},\"shapedefaults\":{\"line\":{\"color\":\"#2a3f5f\"}},\"annotationdefaults\":{\"arrowcolor\":\"#2a3f5f\",\"arrowhead\":0,\"arrowwidth\":1},\"geo\":{\"bgcolor\":\"white\",\"landcolor\":\"#E5ECF6\",\"subunitcolor\":\"white\",\"showland\":true,\"showlakes\":true,\"lakecolor\":\"white\"},\"title\":{\"x\":0.05},\"mapbox\":{\"style\":\"light\"}}},\"shapes\":[{\"line\":{\"dash\":\"dash\"},\"type\":\"line\",\"x0\":0,\"x1\":1,\"y0\":0,\"y1\":1}],\"yaxis\":{\"title\":{\"text\":\"True Positive Rate\"},\"scaleanchor\":\"x\",\"scaleratio\":1},\"xaxis\":{\"title\":{\"text\":\"False Positive Rate\"},\"constrain\":\"domain\"},\"title\":{\"text\":\"ROC Curve\"},\"width\":900,\"height\":800},                        {\"responsive\": true}                    ).then(function(){\n",
              "                            \n",
              "var gd = document.getElementById('6f4f3648-de96-4a5f-afce-01b6ab9445bd');\n",
              "var x = new MutationObserver(function (mutations, observer) {{\n",
              "        var display = window.getComputedStyle(gd).display;\n",
              "        if (!display || display === 'none') {{\n",
              "            console.log([gd, 'removed!']);\n",
              "            Plotly.purge(gd);\n",
              "            observer.disconnect();\n",
              "        }}\n",
              "}});\n",
              "\n",
              "// Listen for the removal of the full notebook cells\n",
              "var notebookContainer = gd.closest('#notebook-container');\n",
              "if (notebookContainer) {{\n",
              "    x.observe(notebookContainer, {childList: true});\n",
              "}}\n",
              "\n",
              "// Listen for the clearing of the current output cell\n",
              "var outputEl = gd.closest('.output');\n",
              "if (outputEl) {{\n",
              "    x.observe(outputEl, {childList: true});\n",
              "}}\n",
              "\n",
              "                        })                };                            </script>        </div>\n",
              "</body>\n",
              "</html>"
            ]
          },
          "metadata": {}
        }
      ],
      "source": [
        "roc_auc_curve(y_test_pred_prob, y_test)"
      ]
    },
    {
      "cell_type": "code",
      "execution_count": 43,
      "metadata": {
        "id": "AymS4krnmhuC"
      },
      "outputs": [],
      "source": [
        "from tensorflow.keras.models import save_model\n"
      ]
    },
    {
      "cell_type": "code",
      "execution_count": 44,
      "metadata": {
        "id": "Bp4G0LZqm0Sq"
      },
      "outputs": [],
      "source": [
        "MODEL_FILENAMEs=root_path+\"model_5fold_MobileNet_16e3.h5\"\n",
        "model.save(MODEL_FILENAMEs)"
      ]
    }
  ],
  "metadata": {
    "accelerator": "GPU",
    "colab": {
      "provenance": [],
      "toc_visible": true,
      "gpuType": "T4",
      "include_colab_link": true
    },
    "kernelspec": {
      "display_name": "Python 3",
      "name": "python3"
    },
    "language_info": {
      "name": "python"
    }
  },
  "nbformat": 4,
  "nbformat_minor": 0
}