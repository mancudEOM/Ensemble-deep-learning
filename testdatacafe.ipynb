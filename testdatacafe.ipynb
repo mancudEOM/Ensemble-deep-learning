{
  "nbformat": 4,
  "nbformat_minor": 0,
  "metadata": {
    "colab": {
      "provenance": [],
      "mount_file_id": "1Qn0Mpbc5DhE18T8G_Wp87enmDoZWlRyV",
      "authorship_tag": "ABX9TyPp0gAt0WU/7CgBQKlYwcSS",
      "include_colab_link": true
    },
    "kernelspec": {
      "name": "python3",
      "display_name": "Python 3"
    },
    "language_info": {
      "name": "python"
    }
  },
  "cells": [
    {
      "cell_type": "markdown",
      "metadata": {
        "id": "view-in-github",
        "colab_type": "text"
      },
      "source": [
        "<a href=\"https://colab.research.google.com/github/mancudEOM/Ensemble-deep-learning/blob/main/testdatacafe.ipynb\" target=\"_parent\"><img src=\"https://colab.research.google.com/assets/colab-badge.svg\" alt=\"Open In Colab\"/></a>"
      ]
    },
    {
      "cell_type": "code",
      "execution_count": null,
      "metadata": {
        "colab": {
          "base_uri": "https://localhost:8080/"
        },
        "id": "TPlHMOzn-dOF",
        "outputId": "c1b601f2-090b-4839-a780-08df1422fcd5"
      },
      "outputs": [
        {
          "output_type": "stream",
          "name": "stdout",
          "text": [
            "Drive already mounted at /content/drive; to attempt to forcibly remount, call drive.mount(\"/content/drive\", force_remount=True).\n"
          ]
        }
      ],
      "source": [
        "  from google.colab import drive\n",
        "  drive.mount('/content/drive')"
      ]
    },
    {
      "cell_type": "code",
      "source": [
        "!ls"
      ],
      "metadata": {
        "colab": {
          "base_uri": "https://localhost:8080/"
        },
        "id": "NNMYdAqUj8LH",
        "outputId": "443d1ff3-4a0b-4066-d953-1b8b1f76453e"
      },
      "execution_count": null,
      "outputs": [
        {
          "output_type": "stream",
          "name": "stdout",
          "text": [
            "drive  model_5fold_NASNetMobile_16e3.tflite  sample_data\n"
          ]
        }
      ]
    },
    {
      "cell_type": "code",
      "source": [
        "  import sys\n",
        "  root_path = '/content/drive/My Drive/Mulberry Leaf Dataset/' # This is the path to where in google drive the code is stored!\n",
        "  sys.path.append(root_path)"
      ],
      "metadata": {
        "id": "bLva7VF3AHuZ"
      },
      "execution_count": null,
      "outputs": []
    },
    {
      "cell_type": "code",
      "source": [
        "from tensorflow.keras.models import Model, load_model\n",
        "from tensorflow.keras.layers import Input, Average\n",
        "from keras.models import Model\n",
        "from keras.layers import Input, Dense\n",
        "import tensorflow as tf"
      ],
      "metadata": {
        "id": "Sfm3POstsWiA"
      },
      "execution_count": null,
      "outputs": []
    },
    {
      "cell_type": "code",
      "source": [
        "datasetFolderName=root_path+'dataset'\n",
        "MODEL_FILENAME=root_path+\"model_cv.h5\"\n",
        "sourceFiles=[]\n",
        "classLabels=['01 ChiangMai60','02 RedKing','03 WhiteKing',\n",
        "             '04 BlackOodTurkey','05 TaiwanStraberry','06 BlackAustralia',\n",
        "             '07 Buriram60','08 Kamphaengsaeng42','09 TaiwanMeacho','10 ChiangMaiBuriram60']\n",
        "X=[]\n",
        "Y=[]\n",
        "\n",
        "img_rows, img_cols =  224, 224\n",
        "test_path=datasetFolderName+'/test/'+'/10 ChiangMaiBuriram60/'\n",
        "#+'Lot_2 (250).JPG'"
      ],
      "metadata": {
        "id": "o8uCd72HlcMf"
      },
      "execution_count": null,
      "outputs": []
    },
    {
      "cell_type": "code",
      "source": [
        "class WeightedAverageLayer(tf.keras.layers.Layer):\n",
        "    def __init__(self, w1, w2, w3, **kwargs):\n",
        "        super(WeightedAverageLayer, self).__init__(**kwargs)\n",
        "        self.w1 = w1\n",
        "        self.w2 = w2\n",
        "        self.w3 = w3\n",
        "\n",
        "    def call(self, inputs):\n",
        "        return self.w1 * inputs[0] + self.w2 * inputs[1] + self.w3 * inputs[2]"
      ],
      "metadata": {
        "id": "Ehpwr4lMr0kV"
      },
      "execution_count": null,
      "outputs": []
    },
    {
      "cell_type": "code",
      "source": [
        "np.set_printoptions(suppress=True)\n",
        "# Load the model\n",
        "model_1 =load_model(root_path+\"model_5fold_DenseNet121_16e3.h5\",\n",
        "                    compile=False)\n",
        "model_1 = Model(inputs=model_1.inputs,\n",
        "                outputs=model_1.outputs,\n",
        "                name='model_5fold_DenseNet121_16e3')\n",
        "model_2 = load_model(root_path+\"model_5fold_NASNetMobile_16e3.h5\",\n",
        "                     compile=False)\n",
        "model_2 = Model(inputs=model_1.inputs,\n",
        "                outputs=model_1.outputs,\n",
        "                name='model_5fold_NASNetMobile_16e3')\n",
        "model_3 = load_model(root_path+\"model_5fold_MobileNetV2_16e3_5.h5\",\n",
        "                     compile=False)\n",
        "model_3 = Model(inputs=model_1.inputs,\n",
        "                outputs=model_1.outputs,\n",
        "                name='model_5fold_MobileNetV2_16e3_5')\n",
        "models = [model_1, model_2, model_3]\n",
        "model_input = Input(shape=(224, 224, 3))\n",
        "model_outputs = [model(model_input) for model in models]\n",
        "#ensemble_output = Average()(model_outputs)\n",
        "ensemble_output = WeightedAverageLayer(0, 0, 1)(model_outputs)\n",
        "ensemble_model= Model(inputs=model_input, outputs=ensemble_output, name='ensemble')"
      ],
      "metadata": {
        "id": "jLPYMlVwr6qL"
      },
      "execution_count": null,
      "outputs": []
    },
    {
      "cell_type": "code",
      "source": [
        "from keras.models import load_model\n",
        "import cv2\n",
        "import numpy as np\n",
        "\n",
        "\n",
        "class_names = ['01 ChiangMai60','02 RedKing','03 WhiteKing',\n",
        "             '04 BlackOodTurkey','05 TaiwanStraberry','06 BlackAustralia',\n",
        "             '07 Buriram60','08 Kamphaengsaeng42','09 TaiwanMeacho','10 ChiangMaiBuriram60'] # fill the rest\n",
        "\n",
        "#model = load_model(root_path+\"model_5fold_DNMv2_10575325.h5\")\n",
        "\n",
        "ensemble_model.compile(loss='categorical_crossentropy',\n",
        "              optimizer='adam',\n",
        "              metrics=['accuracy'])\n",
        "\n",
        "img = cv2.imread(test_path+\"DSC_0003.JPG\")\n",
        "print(img)\n",
        "img = cv2.resize(img,(224,224))\n",
        "img = np.reshape(img,[1,224,224,3])\n",
        "\n",
        "classes = np.argmax(ensemble_model.predict(img), axis = -1)\n",
        "\n",
        "print(classes)\n",
        "\n",
        "names = [class_names[i] for i in classes]\n",
        "\n",
        "print(names)"
      ],
      "metadata": {
        "colab": {
          "base_uri": "https://localhost:8080/"
        },
        "id": "8kLxohgomwN2",
        "outputId": "3f66fa18-9663-4599-c40e-fc617bcc5c18"
      },
      "execution_count": null,
      "outputs": [
        {
          "output_type": "stream",
          "name": "stdout",
          "text": [
            "[[[238 213 209]\n",
            "  [255 238 235]\n",
            "  [255 251 249]\n",
            "  ...\n",
            "  [ 97  99  93]\n",
            "  [ 99 103  97]\n",
            "  [ 93 100  93]]\n",
            "\n",
            " [[237 212 208]\n",
            "  [255 238 235]\n",
            "  [255 251 248]\n",
            "  ...\n",
            "  [114 110 105]\n",
            "  [119 116 111]\n",
            "  [116 116 110]]\n",
            "\n",
            " [[237 212 208]\n",
            "  [255 238 235]\n",
            "  [255 251 248]\n",
            "  ...\n",
            "  [144 127 124]\n",
            "  [150 133 130]\n",
            "  [147 132 129]]\n",
            "\n",
            " ...\n",
            "\n",
            " [[ 41  62  37]\n",
            "  [ 39  63  39]\n",
            "  [ 35  66  45]\n",
            "  ...\n",
            "  [ 69  84  63]\n",
            "  [ 72  84  64]\n",
            "  [ 72  84  64]]\n",
            "\n",
            " [[ 36  58  33]\n",
            "  [ 35  61  37]\n",
            "  [ 35  68  47]\n",
            "  ...\n",
            "  [ 67  84  63]\n",
            "  [ 69  84  63]\n",
            "  [ 70  85  64]]\n",
            "\n",
            " [[ 31  56  30]\n",
            "  [ 32  61  36]\n",
            "  [ 34  70  48]\n",
            "  ...\n",
            "  [ 66  83  62]\n",
            "  [ 68  83  62]\n",
            "  [ 69  84  63]]]\n"
          ]
        },
        {
          "output_type": "stream",
          "name": "stderr",
          "text": [
            "WARNING:tensorflow:6 out of the last 6 calls to <function Model.make_predict_function.<locals>.predict_function at 0x7d7ec3cc5360> triggered tf.function retracing. Tracing is expensive and the excessive number of tracings could be due to (1) creating @tf.function repeatedly in a loop, (2) passing tensors with different shapes, (3) passing Python objects instead of tensors. For (1), please define your @tf.function outside of the loop. For (2), @tf.function has reduce_retracing=True option that can avoid unnecessary retracing. For (3), please refer to https://www.tensorflow.org/guide/function#controlling_retracing and https://www.tensorflow.org/api_docs/python/tf/function for  more details.\n"
          ]
        },
        {
          "output_type": "stream",
          "name": "stdout",
          "text": [
            "1/1 [==============================] - 6s 6s/step\n",
            "[2]\n",
            "['03 WhiteKing']\n"
          ]
        }
      ]
    },
    {
      "cell_type": "code",
      "source": [
        "from tensorflow.keras.models import save_model"
      ],
      "metadata": {
        "id": "wWbqLmoRdA1Z"
      },
      "execution_count": null,
      "outputs": []
    },
    {
      "cell_type": "code",
      "source": [
        "MODEL_FILENAMEs=root_path+\"model_5fold_DNMv2_10775125.h5\"\n",
        "ensemble_model.save(MODEL_FILENAMEs)"
      ],
      "metadata": {
        "colab": {
          "base_uri": "https://localhost:8080/"
        },
        "id": "eIW-pBRzdyUz",
        "outputId": "caf72e19-b729-4026-e513-279f497deb02"
      },
      "execution_count": null,
      "outputs": [
        {
          "output_type": "stream",
          "name": "stderr",
          "text": [
            "WARNING:tensorflow:Found duplicated `Variable`s in Model's `weights`. This is usually caused by `Variable`s being shared by Layers in the Model. These `Variable`s will be treated as separate `Variable`s when the Model is restored. To avoid this, please save with `save_format=\"tf\"`.\n"
          ]
        }
      ]
    },
    {
      "cell_type": "code",
      "source": [
        "#import tensorflow as tf\n",
        "\n",
        "#model = tf.keras.models.load_model(root_path+\"model_5fold_DNMv2_10775125.h5\")\n",
        "#converter = tf.lite.TFLiteConverter.from_keras_model(model)\n",
        "#tflite_model = converter.convert()\n",
        "#open(\"model_5fold_DNMv2_10775125.tflite\", \"wb\").write(tflite_model)"
      ],
      "metadata": {
        "id": "LWqWXnqrYp21"
      },
      "execution_count": null,
      "outputs": []
    },
    {
      "cell_type": "code",
      "source": [],
      "metadata": {
        "id": "t18RSrladXHR"
      },
      "execution_count": null,
      "outputs": []
    }
  ]
}