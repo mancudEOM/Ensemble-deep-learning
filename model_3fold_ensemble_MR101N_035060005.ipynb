{
  "nbformat": 4,
  "nbformat_minor": 0,
  "metadata": {
    "colab": {
      "provenance": [],
      "toc_visible": true,
      "gpuType": "T4",
      "include_colab_link": true
    },
    "kernelspec": {
      "name": "python3",
      "display_name": "Python 3"
    },
    "language_info": {
      "name": "python"
    },
    "gpuClass": "standard",
    "accelerator": "GPU"
  },
  "cells": [
    {
      "cell_type": "markdown",
      "metadata": {
        "id": "view-in-github",
        "colab_type": "text"
      },
      "source": [
        "<a href=\"https://colab.research.google.com/github/mancudEOM/Ensemble-deep-learning/blob/main/model_3fold_ensemble_MR101N_035060005.ipynb\" target=\"_parent\"><img src=\"https://colab.research.google.com/assets/colab-badge.svg\" alt=\"Open In Colab\"/></a>"
      ]
    },
    {
      "cell_type": "code",
      "execution_count": 51,
      "metadata": {
        "id": "re2cPhu8Glvf",
        "colab": {
          "base_uri": "https://localhost:8080/"
        },
        "outputId": "1ea609ea-a9ef-4dcd-fb9a-3f2f9aeb7410"
      },
      "outputs": [
        {
          "output_type": "stream",
          "name": "stdout",
          "text": [
            "Drive already mounted at /content/drive; to attempt to forcibly remount, call drive.mount(\"/content/drive\", force_remount=True).\n"
          ]
        }
      ],
      "source": [
        "  from google.colab import drive\n",
        "  drive.mount('/content/drive')\n",
        "\n"
      ]
    },
    {
      "cell_type": "code",
      "source": [
        "  !ls\n"
      ],
      "metadata": {
        "id": "16aNt0njGqgR",
        "colab": {
          "base_uri": "https://localhost:8080/"
        },
        "outputId": "f7b16e68-dda6-433a-bef5-518a0177ea3a"
      },
      "execution_count": 52,
      "outputs": [
        {
          "output_type": "stream",
          "name": "stdout",
          "text": [
            "drive  sample_data\n"
          ]
        }
      ]
    },
    {
      "cell_type": "code",
      "source": [
        "  import sys\n",
        "  root_path = '/content/drive/My Drive/COVID19_Pneumonia_Normal_Chest_Xray_PA_Dataset/' # This is the path to where in google drive the code is stored!\n",
        "  sys.path.append(root_path)"
      ],
      "metadata": {
        "id": "6kpNIXuzGskg"
      },
      "execution_count": 53,
      "outputs": []
    },
    {
      "cell_type": "markdown",
      "source": [
        "# THÊM TẤT CẢ CÁC THƯ VIỆN CẦN THIẾT"
      ],
      "metadata": {
        "id": "qMNSUzIxL7JZ"
      }
    },
    {
      "cell_type": "code",
      "source": [
        "import numpy as np\n",
        "from sklearn.metrics import accuracy_score, f1_score, precision_score, confusion_matrix\n",
        "from sklearn.model_selection import StratifiedKFold\n",
        "from PIL import Image\n",
        "import random\n",
        "import tensorflow as tf\n",
        "from tensorflow.keras.models import Sequential\n",
        "from keras.preprocessing.image import ImageDataGenerator\n",
        "from tensorflow.keras.preprocessing.image import ImageDataGenerator\n",
        "from tensorflow.keras.layers import Dense, Dropout, Flatten, Conv2D, MaxPooling2D\n",
        "\n",
        "from tensorflow.compat.v1 import ConfigProto\n",
        "from tensorflow.compat.v1 import InteractiveSession\n",
        "import warnings\n",
        "import os\n",
        "import shutil\n",
        "from PIL import ImageFile\n",
        "warnings.simplefilter('error', Image.DecompressionBombWarning)\n",
        "ImageFile.LOAD_TRUNCATED_IMAGES = True\n",
        "Image.MAX_IMAGE_PIXELS = 1000000000\n",
        "config = ConfigProto()\n",
        "config.gpu_options.allow_growth = True\n",
        "session = InteractiveSession(config=config)"
      ],
      "metadata": {
        "id": "NJq2Vm2hHTWR",
        "colab": {
          "base_uri": "https://localhost:8080/"
        },
        "outputId": "6cc88049-223d-4f7f-8c46-493ee1a164ae"
      },
      "execution_count": 54,
      "outputs": [
        {
          "output_type": "stream",
          "name": "stderr",
          "text": [
            "/usr/local/lib/python3.10/dist-packages/tensorflow/python/client/session.py:1769: UserWarning:\n",
            "\n",
            "An interactive session is already active. This can cause out-of-memory errors in some cases. You must explicitly call `InteractiveSession.close()` to release resources held by the other session(s).\n",
            "\n"
          ]
        }
      ]
    },
    {
      "cell_type": "markdown",
      "source": [
        "# Khởi tạo các biến cần thiết"
      ],
      "metadata": {
        "id": "QYpc-VdEMGBS"
      }
    },
    {
      "cell_type": "code",
      "source": [
        "datasetFolderName=root_path+'dataset'\n",
        "MODEL_FILENAME=root_path+\"model_cv.h5\"\n",
        "sourceFiles=[]\n",
        "classLabels=['covid','normal','pneumonia']\n",
        "X=[]\n",
        "Y=[]\n",
        "\n",
        "img_rows, img_cols =  224, 224\n",
        "# input image dimensions\n",
        "#img_rows, img_cols =  224, 224 # input image dimensions\n",
        "train_path=datasetFolderName+'/train/'\n",
        "validation_path=datasetFolderName+'/validation/'\n",
        "test_path=datasetFolderName+'/test/'"
      ],
      "metadata": {
        "id": "iCy2O5d9Jxq6"
      },
      "execution_count": 55,
      "outputs": []
    },
    {
      "cell_type": "markdown",
      "source": [
        "# KFOLD train-test-validation"
      ],
      "metadata": {
        "id": "LyAnSQTbMblZ"
      }
    },
    {
      "cell_type": "code",
      "source": [
        "def transferBetweenFolders(source, dest, splitRate):\n",
        "    global sourceFiles\n",
        "    sourceFiles=os.listdir(source)\n",
        "    if(len(sourceFiles)!=0):\n",
        "        transferFileNumbers=int(len(sourceFiles)*splitRate)\n",
        "        transferIndex=random.sample(range(0, len(sourceFiles)), transferFileNumbers)\n",
        "        for eachIndex in transferIndex:\n",
        "            shutil.move(source+str(sourceFiles[eachIndex]), dest+str(sourceFiles[eachIndex]))\n",
        "    else:\n",
        "        print(\"No file moved. Source empty!\")\n",
        "\n",
        "def transferAllClassBetweenFolders(source, dest, splitRate):\n",
        "    for label in classLabels:\n",
        "        transferBetweenFolders(datasetFolderName+'/'+source+'/'+label+'/',\n",
        "                               datasetFolderName+'/'+dest+'/'+label+'/',\n",
        "                               splitRate)"
      ],
      "metadata": {
        "id": "RgfHPIHbJ4rR"
      },
      "execution_count": 56,
      "outputs": []
    },
    {
      "cell_type": "code",
      "source": [
        "transferAllClassBetweenFolders('test', 'train', 1.0)"
      ],
      "metadata": {
        "id": "stSX_AiNKleb"
      },
      "execution_count": 57,
      "outputs": []
    },
    {
      "cell_type": "code",
      "source": [
        "transferAllClassBetweenFolders('validation', 'train', 1.0)"
      ],
      "metadata": {
        "id": "Z6o8gWE-N-rq"
      },
      "execution_count": 58,
      "outputs": []
    },
    {
      "cell_type": "code",
      "source": [
        "transferAllClassBetweenFolders('train', 'test', 0.20)"
      ],
      "metadata": {
        "id": "arE4ro1JKqIh"
      },
      "execution_count": 59,
      "outputs": []
    },
    {
      "cell_type": "code",
      "source": [
        "def prepareNameWithLabels(folderName):\n",
        "    sourceFiles=os.listdir(datasetFolderName+'/train/'+folderName)\n",
        "    for val in sourceFiles:\n",
        "        X.append(val)\n",
        "        for i in range(len(classLabels)):\n",
        "          if(folderName==classLabels[i]):\n",
        "              Y.append(i)"
      ],
      "metadata": {
        "id": "73VhRSA2K0fp"
      },
      "execution_count": 60,
      "outputs": []
    },
    {
      "cell_type": "code",
      "source": [
        "# Organize file names and class labels in X and Y variables\n",
        "for i in range(len(classLabels)):\n",
        "  prepareNameWithLabels(classLabels[i])"
      ],
      "metadata": {
        "id": "u6pP6P3YK2Ub"
      },
      "execution_count": 61,
      "outputs": []
    },
    {
      "cell_type": "code",
      "source": [
        "X=np.asarray(X)\n",
        "Y=np.asarray(Y)"
      ],
      "metadata": {
        "id": "WZHmT5JgK3xa"
      },
      "execution_count": 62,
      "outputs": []
    },
    {
      "cell_type": "code",
      "source": [
        "print(X)\n",
        "print(Y)"
      ],
      "metadata": {
        "id": "MzTCDvyoM28y",
        "colab": {
          "base_uri": "https://localhost:8080/"
        },
        "outputId": "180ff30b-33d3-4c16-9014-8199333f1274"
      },
      "execution_count": 63,
      "outputs": [
        {
          "output_type": "stream",
          "name": "stdout",
          "text": [
            "['23E99E2E-447C-46E5-8EB2-D35D12473C39-1068x801.png'\n",
            " '7C69C012-7479-493F-8722-ABC29C60A2DD-1068x1063.jpeg'\n",
            " '7AF6C1AF-D249-4BD2-8C26-449304105D03-1068x881.jpeg' ...\n",
            " 'person962_virus_1635.jpeg' 'person963_bacteria_2888.jpeg'\n",
            " 'person969_bacteria_2894.jpeg']\n",
            "[0 0 0 ... 2 2 2]\n"
          ]
        }
      ]
    },
    {
      "cell_type": "code",
      "source": [
        "batch_size = 64\n",
        "IMG_SIZE = (224, 224, 3)\n",
        "number_of_class_labels = len(classLabels)"
      ],
      "metadata": {
        "id": "WtnpSQSxX-67"
      },
      "execution_count": 64,
      "outputs": []
    },
    {
      "cell_type": "code",
      "source": [
        "import tensorflow.keras as keras"
      ],
      "metadata": {
        "id": "OKucCyffZ5cD"
      },
      "execution_count": 65,
      "outputs": []
    },
    {
      "cell_type": "code",
      "source": [
        "# Create a data augmentation stage with horizontal flipping, rotations, zooms\n",
        "data_augmentation = keras.Sequential(\n",
        "    [\n",
        "        keras.layers.Rescaling(1./ 255),\n",
        "        keras.layers.RandomFlip(),\n",
        "        keras.layers.RandomRotation(0.2),\n",
        "        keras.layers.RandomZoom(0.2,0.3)\n",
        "    ]\n",
        ")"
      ],
      "metadata": {
        "id": "zWFE6eJxZvCD"
      },
      "execution_count": 66,
      "outputs": []
    },
    {
      "cell_type": "code",
      "source": [
        "#pre_trained_layers = keras.applications.ResNet50V2(weights=\"imagenet\", include_top=False,\n",
        "#           input_tensor=keras.Input(shape=IMG_SIZE))"
      ],
      "metadata": {
        "id": "A929RzhDZ7wR"
      },
      "execution_count": 67,
      "outputs": []
    },
    {
      "cell_type": "code",
      "source": [
        "#pre_trained_layers = tf.keras.applications.MobileNetV2(weights=\"imagenet\", include_top=False,\n",
        "#            input_tensor=keras.Input(shape=IMG_SIZE))"
      ],
      "metadata": {
        "id": "MRoc6m_k7kpj"
      },
      "execution_count": 68,
      "outputs": []
    },
    {
      "cell_type": "code",
      "source": [
        "\n",
        "#pre_trained_layers = keras.applications.Xception(weights=\"imagenet\", include_top=False,\n",
        "#         input_tensor=keras.Input(shape=IMG_SIZE))"
      ],
      "metadata": {
        "id": "wbD80LCePblH"
      },
      "execution_count": 69,
      "outputs": []
    },
    {
      "cell_type": "code",
      "source": [
        "#pre_trained_layers = tf.keras.applications.InceptionV3(weights=\"imagenet\", include_top=False,\n",
        "#           input_tensor=keras.Input(shape=IMG_SIZE))"
      ],
      "metadata": {
        "id": "kFkcL4A1JffX"
      },
      "execution_count": 70,
      "outputs": []
    },
    {
      "cell_type": "code",
      "source": [
        "#pre_trained_layers.summary()\n"
      ],
      "metadata": {
        "id": "V-K3rsDLaLWL"
      },
      "execution_count": 71,
      "outputs": []
    },
    {
      "cell_type": "code",
      "source": [
        "\n",
        "from tensorflow.keras.models import Model, load_model\n",
        "from tensorflow.keras.layers import Input, Average\n",
        "from keras.models import Model\n",
        "from keras.layers import Input, Dense\n",
        "import tensorflow as tf"
      ],
      "metadata": {
        "id": "q-xZEOqCLWIb"
      },
      "execution_count": 72,
      "outputs": []
    },
    {
      "cell_type": "code",
      "source": [
        "class WeightedAverageLayer(tf.keras.layers.Layer):\n",
        "    def __init__(self, w1, w2, w3, **kwargs):\n",
        "        super(WeightedAverageLayer, self).__init__(**kwargs)\n",
        "        self.w1 = w1\n",
        "        self.w2 = w2\n",
        "        self.w3 = w3\n",
        "\n",
        "    def call(self, inputs):\n",
        "        return self.w1 * inputs[0] + self.w2 * inputs[1] + self.w3 * inputs[2]"
      ],
      "metadata": {
        "id": "GTVtq8kOc-6p"
      },
      "execution_count": 73,
      "outputs": []
    },
    {
      "cell_type": "code",
      "source": [
        "# Disable scientific notation for clarity\n",
        "np.set_printoptions(suppress=True)\n",
        "# Load the model\n",
        "model_1 =load_model(root_path+\"model_3fold_MobileNetV2_64e3_0207.h5\",\n",
        "                    compile=False)\n",
        "model_1 = Model(inputs=model_1.inputs,\n",
        "                outputs=model_1.outputs,\n",
        "                name='model_3fold_MobileNetV2_64e3_0207')\n",
        "model_2 = load_model(root_path+\"model_3fold_ResNet101_64e3_0207.h5\",\n",
        "                     compile=False)\n",
        "model_2 = Model(inputs=model_1.inputs,\n",
        "                outputs=model_1.outputs,\n",
        "                name='model_3fold_ResNet101_64e3_0207')\n",
        "model_3 = load_model(root_path+\"model_3fold_NASNetMobile_64e3_0207.h5\",\n",
        "                     compile=False)\n",
        "model_3 = Model(inputs=model_1.inputs,\n",
        "                outputs=model_1.outputs,\n",
        "                name='model_3fold_NASNetMobile_64e3_0207')\n",
        "models = [model_1, model_2, model_3]\n",
        "model_input = Input(shape=(224, 224, 3))\n",
        "model_outputs = [model(model_input) for model in models]\n",
        "#ensemble_output = Average()(model_outputs)\n",
        "ensemble_output = WeightedAverageLayer(0.35, 0.6, 0.05)(model_outputs)\n",
        "ensemble_model= Model(inputs=model_input, outputs=ensemble_output, name='ensemble')\n"
      ],
      "metadata": {
        "id": "R2Oq0Kl4IUFm"
      },
      "execution_count": 74,
      "outputs": []
    },
    {
      "cell_type": "code",
      "source": [
        "\n",
        "#Creating custom model\n",
        "\n"
      ],
      "metadata": {
        "id": "MU_j6dypcPwp"
      },
      "execution_count": 75,
      "outputs": []
    },
    {
      "cell_type": "code",
      "source": [
        "EPOCHS = 10\n",
        "LR = 1e-3\n",
        "ensemble_model.compile(optimizer=keras.optimizers.Adam(learning_rate=LR),\n",
        "              loss=tf.keras.losses.SparseCategoricalCrossentropy(),\n",
        "              metrics=['accuracy'])"
      ],
      "metadata": {
        "id": "41gFu9xKb0CU"
      },
      "execution_count": 76,
      "outputs": []
    },
    {
      "cell_type": "code",
      "source": [
        "#printing summary of custom model\n",
        "#ensemble_model.build((1,224,224,3))\n",
        "#ensemble_model.summary()"
      ],
      "metadata": {
        "id": "XCFHANKAcmVS"
      },
      "execution_count": 77,
      "outputs": []
    },
    {
      "cell_type": "code",
      "source": [
        "from tensorflow.keras.callbacks import ReduceLROnPlateau"
      ],
      "metadata": {
        "id": "AMvex2WIc1hi"
      },
      "execution_count": 78,
      "outputs": []
    },
    {
      "cell_type": "code",
      "source": [
        "# Callback -> Reduce Learning Rate on Plateau\n",
        "callback = ReduceLROnPlateau(monitor='val_loss', factor=0.1, patience=3, verbose=1, mode='auto',\n",
        "                             min_delta=0.000001, cooldown=0, min_lr=0.000001)"
      ],
      "metadata": {
        "id": "LM1NDxA1cnxB"
      },
      "execution_count": 79,
      "outputs": []
    },
    {
      "cell_type": "code",
      "source": [
        "skf = StratifiedKFold(n_splits=3, shuffle=True)\n",
        "skf.get_n_splits(X, Y)\n",
        "fold_num = 0\n",
        "for train_index, val_index in skf.split(X, Y):\n",
        "    # First cut all images from validation to train (if any exists)\n",
        "    transferAllClassBetweenFolders('validation', 'train', 1.0)\n",
        "    fold_num += 1\n",
        "    print(\"Results for fold\", fold_num)\n",
        "    X_train, X_val = X[train_index], X[val_index]\n",
        "    Y_train, Y_val = Y[train_index], Y[val_index]\n",
        "    # Move validation images of this fold from train folder to the validation folder\n",
        "    for each_index in range(len(X_val)):\n",
        "        class_label = ''\n",
        "        for i in range(len(classLabels)):\n",
        "            if(Y_val[each_index] == i):\n",
        "                class_label = classLabels[i]\n",
        "        # Then, copy the validation images to the validation folder\n",
        "        shutil.move(os.path.join(datasetFolderName, 'train', class_label, X_val[each_index]),\n",
        "                    os.path.join(datasetFolderName, 'validation', class_label, X_val[each_index]))\n",
        "\n",
        "\n",
        "\n",
        "    # Start ImageClassification Model\n",
        "    #creating train data set\n",
        "\n",
        "    train_generator = tf.keras.utils.image_dataset_from_directory(\n",
        "        train_path,\n",
        "        image_size=(IMG_SIZE[0], IMG_SIZE[1]),\n",
        "        batch_size=batch_size,\n",
        "        )\n",
        "\n",
        "    validation_generator = tf.keras.utils.image_dataset_from_directory(\n",
        "        validation_path,\n",
        "        image_size=(IMG_SIZE[0], IMG_SIZE[1]),\n",
        "        batch_size=batch_size,\n",
        "\n",
        "          # only data, no labels\n",
        "        shuffle=False\n",
        "        )\n",
        "\n",
        "    history = ensemble_model.fit(train_generator, epochs=EPOCHS, validation_data=validation_generator, callbacks=callback)\n",
        "    ensemble_model.evaluate(validation_generator)"
      ],
      "metadata": {
        "id": "h6-FwHIUaRPh",
        "colab": {
          "base_uri": "https://localhost:8080/"
        },
        "outputId": "1793b020-2862-4ead-bef0-5dc64ab46d35"
      },
      "execution_count": 80,
      "outputs": [
        {
          "output_type": "stream",
          "name": "stdout",
          "text": [
            "No file moved. Source empty!\n",
            "No file moved. Source empty!\n",
            "No file moved. Source empty!\n",
            "Results for fold 1\n",
            "Found 2440 files belonging to 3 classes.\n",
            "Found 1220 files belonging to 3 classes.\n",
            "Epoch 1/10\n",
            "39/39 [==============================] - 102s 1s/step - loss: 0.1833 - accuracy: 0.9398 - val_loss: 1.4562 - val_accuracy: 0.8238 - lr: 0.0010\n",
            "Epoch 2/10\n",
            "39/39 [==============================] - 54s 1s/step - loss: 0.2001 - accuracy: 0.9361 - val_loss: 5.2588 - val_accuracy: 0.5443 - lr: 0.0010\n",
            "Epoch 3/10\n",
            "39/39 [==============================] - 53s 1s/step - loss: 0.2231 - accuracy: 0.9299 - val_loss: 9.6196 - val_accuracy: 0.3697 - lr: 0.0010\n",
            "Epoch 4/10\n",
            "39/39 [==============================] - ETA: 0s - loss: 0.1879 - accuracy: 0.9381\n",
            "Epoch 4: ReduceLROnPlateau reducing learning rate to 0.00010000000474974513.\n",
            "39/39 [==============================] - 59s 1s/step - loss: 0.1879 - accuracy: 0.9381 - val_loss: 7.1716 - val_accuracy: 0.4410 - lr: 0.0010\n",
            "Epoch 5/10\n",
            "39/39 [==============================] - 53s 1s/step - loss: 0.1665 - accuracy: 0.9443 - val_loss: 6.2392 - val_accuracy: 0.4574 - lr: 1.0000e-04\n",
            "Epoch 6/10\n",
            "39/39 [==============================] - 59s 1s/step - loss: 0.1328 - accuracy: 0.9561 - val_loss: 4.4804 - val_accuracy: 0.5221 - lr: 1.0000e-04\n",
            "Epoch 7/10\n",
            "39/39 [==============================] - ETA: 0s - loss: 0.1312 - accuracy: 0.9566\n",
            "Epoch 7: ReduceLROnPlateau reducing learning rate to 1.0000000474974514e-05.\n",
            "39/39 [==============================] - 53s 1s/step - loss: 0.1312 - accuracy: 0.9566 - val_loss: 3.0466 - val_accuracy: 0.5934 - lr: 1.0000e-04\n",
            "Epoch 8/10\n",
            "39/39 [==============================] - 58s 1s/step - loss: 0.1257 - accuracy: 0.9590 - val_loss: 2.3152 - val_accuracy: 0.6508 - lr: 1.0000e-05\n",
            "Epoch 9/10\n",
            "39/39 [==============================] - 52s 1s/step - loss: 0.1273 - accuracy: 0.9619 - val_loss: 1.8317 - val_accuracy: 0.6918 - lr: 1.0000e-05\n",
            "Epoch 10/10\n",
            "39/39 [==============================] - ETA: 0s - loss: 0.1316 - accuracy: 0.9566\n",
            "Epoch 10: ReduceLROnPlateau reducing learning rate to 1.0000000656873453e-06.\n",
            "39/39 [==============================] - 58s 1s/step - loss: 0.1316 - accuracy: 0.9566 - val_loss: 1.4765 - val_accuracy: 0.7172 - lr: 1.0000e-05\n",
            "20/20 [==============================] - 14s 703ms/step - loss: 1.4765 - accuracy: 0.7172\n",
            "Results for fold 2\n",
            "Found 2440 files belonging to 3 classes.\n",
            "Found 1220 files belonging to 3 classes.\n",
            "Epoch 1/10\n",
            "39/39 [==============================] - 54s 1s/step - loss: 0.1363 - accuracy: 0.9566 - val_loss: 1.0887 - val_accuracy: 0.7746 - lr: 1.0000e-06\n",
            "Epoch 2/10\n",
            "39/39 [==============================] - 55s 1s/step - loss: 0.1351 - accuracy: 0.9533 - val_loss: 0.8869 - val_accuracy: 0.8033 - lr: 1.0000e-06\n",
            "Epoch 3/10\n",
            "39/39 [==============================] - 56s 1s/step - loss: 0.1375 - accuracy: 0.9541 - val_loss: 0.7457 - val_accuracy: 0.8172 - lr: 1.0000e-06\n",
            "Epoch 4/10\n",
            "39/39 [==============================] - 54s 1s/step - loss: 0.1361 - accuracy: 0.9533 - val_loss: 0.6514 - val_accuracy: 0.8328 - lr: 1.0000e-06\n",
            "Epoch 5/10\n",
            "39/39 [==============================] - 60s 1s/step - loss: 0.1326 - accuracy: 0.9541 - val_loss: 0.5898 - val_accuracy: 0.8434 - lr: 1.0000e-06\n",
            "Epoch 6/10\n",
            "39/39 [==============================] - 54s 1s/step - loss: 0.1325 - accuracy: 0.9574 - val_loss: 0.5559 - val_accuracy: 0.8500 - lr: 1.0000e-06\n",
            "Epoch 7/10\n",
            "39/39 [==============================] - 60s 1s/step - loss: 0.1315 - accuracy: 0.9557 - val_loss: 0.5410 - val_accuracy: 0.8492 - lr: 1.0000e-06\n",
            "Epoch 8/10\n",
            "39/39 [==============================] - 55s 1s/step - loss: 0.1381 - accuracy: 0.9566 - val_loss: 0.5405 - val_accuracy: 0.8549 - lr: 1.0000e-06\n",
            "Epoch 9/10\n",
            "39/39 [==============================] - 54s 1s/step - loss: 0.1276 - accuracy: 0.9598 - val_loss: 0.5481 - val_accuracy: 0.8566 - lr: 1.0000e-06\n",
            "Epoch 10/10\n",
            "39/39 [==============================] - 60s 1s/step - loss: 0.1374 - accuracy: 0.9545 - val_loss: 0.5591 - val_accuracy: 0.8525 - lr: 1.0000e-06\n",
            "20/20 [==============================] - 14s 721ms/step - loss: 0.5591 - accuracy: 0.8525\n",
            "Results for fold 3\n",
            "Found 2440 files belonging to 3 classes.\n",
            "Found 1220 files belonging to 3 classes.\n",
            "Epoch 1/10\n",
            "39/39 [==============================] - 54s 1s/step - loss: 0.1396 - accuracy: 0.9537 - val_loss: 0.5719 - val_accuracy: 0.8328 - lr: 1.0000e-06\n",
            "Epoch 2/10\n",
            "39/39 [==============================] - 55s 1s/step - loss: 0.1421 - accuracy: 0.9529 - val_loss: 0.5908 - val_accuracy: 0.8295 - lr: 1.0000e-06\n",
            "Epoch 3/10\n",
            "39/39 [==============================] - 56s 1s/step - loss: 0.1435 - accuracy: 0.9529 - val_loss: 0.6118 - val_accuracy: 0.8205 - lr: 1.0000e-06\n",
            "Epoch 4/10\n",
            "39/39 [==============================] - ETA: 0s - loss: 0.1496 - accuracy: 0.9480\n",
            "Epoch 4: ReduceLROnPlateau reducing learning rate to 1e-06.\n",
            "39/39 [==============================] - 57s 1s/step - loss: 0.1496 - accuracy: 0.9480 - val_loss: 0.6346 - val_accuracy: 0.8148 - lr: 1.0000e-06\n",
            "Epoch 5/10\n",
            "39/39 [==============================] - 56s 1s/step - loss: 0.1460 - accuracy: 0.9504 - val_loss: 0.6552 - val_accuracy: 0.8033 - lr: 1.0000e-06\n",
            "Epoch 6/10\n",
            "39/39 [==============================] - 56s 1s/step - loss: 0.1509 - accuracy: 0.9496 - val_loss: 0.6762 - val_accuracy: 0.7967 - lr: 1.0000e-06\n",
            "Epoch 7/10\n",
            "39/39 [==============================] - 55s 1s/step - loss: 0.1469 - accuracy: 0.9504 - val_loss: 0.6931 - val_accuracy: 0.7893 - lr: 1.0000e-06\n",
            "Epoch 8/10\n",
            "39/39 [==============================] - 54s 1s/step - loss: 0.1493 - accuracy: 0.9525 - val_loss: 0.7142 - val_accuracy: 0.7869 - lr: 1.0000e-06\n",
            "Epoch 9/10\n",
            "39/39 [==============================] - 61s 1s/step - loss: 0.1514 - accuracy: 0.9496 - val_loss: 0.7323 - val_accuracy: 0.7803 - lr: 1.0000e-06\n",
            "Epoch 10/10\n",
            "39/39 [==============================] - 56s 1s/step - loss: 0.1426 - accuracy: 0.9496 - val_loss: 0.7441 - val_accuracy: 0.7754 - lr: 1.0000e-06\n",
            "20/20 [==============================] - 14s 701ms/step - loss: 0.7441 - accuracy: 0.7754\n"
          ]
        }
      ]
    },
    {
      "cell_type": "code",
      "source": [
        "from sklearn.metrics import classification_report, roc_curve, roc_auc_score\n",
        "import pandas as pd\n",
        "import plotly.graph_objects as go\n",
        "import plotly.express as px\n",
        "import matplotlib.pyplot as plt"
      ],
      "metadata": {
        "id": "jJurHyH7k6Ny"
      },
      "execution_count": 81,
      "outputs": []
    },
    {
      "cell_type": "code",
      "source": [
        "plt.title(\"Loss\", fontdict={'fontsize':18})\n",
        "plt.plot(history.history['loss'],label='train')\n",
        "plt.plot(history.history['val_loss'],label='test')\n",
        "plt.legend()\n",
        "plt.show()"
      ],
      "metadata": {
        "id": "TOQlD_ZTko2y",
        "colab": {
          "base_uri": "https://localhost:8080/",
          "height": 457
        },
        "outputId": "35010097-4fa8-44b1-dece-9b4e153dddb6"
      },
      "execution_count": 82,
      "outputs": [
        {
          "output_type": "display_data",
          "data": {
            "text/plain": [
              "<Figure size 640x480 with 1 Axes>"
            ],
            "image/png": "[encoded data removed]"
          },
          "metadata": {}
        }
      ]
    },
    {
      "cell_type": "code",
      "source": [
        "plt.title(\"Accuracy\", fontdict={'fontsize':18})\n",
        "plt.plot(history.history['accuracy'],label='train')\n",
        "plt.plot(history.history['val_accuracy'],label='test')\n",
        "plt.legend()\n",
        "plt.show()"
      ],
      "metadata": {
        "id": "7pwYMz2Bkyt5",
        "colab": {
          "base_uri": "https://localhost:8080/",
          "height": 457
        },
        "outputId": "c4370192-af4e-455c-efd0-e10576ae568f"
      },
      "execution_count": 83,
      "outputs": [
        {
          "output_type": "display_data",
          "data": {
            "text/plain": [
              "<Figure size 640x480 with 1 Axes>"
            ],
            "image/png": "[encoded data removed]"
          },
          "metadata": {}
        }
      ]
    },
    {
      "cell_type": "code",
      "source": [
        "Y_train = []\n",
        "X_train = []\n",
        "for data in train_generator:\n",
        "    X_train.extend(data[0].numpy())\n",
        "    Y_train.extend(data[1].numpy())\n",
        "Y_train = np.array(Y_train)\n",
        "X_train = np.array(X_train)"
      ],
      "metadata": {
        "id": "93F3DoWUk7Oa"
      },
      "execution_count": 84,
      "outputs": []
    },
    {
      "cell_type": "code",
      "source": [
        "y_train_pred_prob = ensemble_model.predict(X_train)\n",
        "y_train_pred = [np.argmax(i) for i in y_train_pred_prob]"
      ],
      "metadata": {
        "id": "IAbUM7JblMA6",
        "colab": {
          "base_uri": "https://localhost:8080/"
        },
        "outputId": "3520a2b5-b54c-4b19-ce5f-491a8a0fc4a9"
      },
      "execution_count": 85,
      "outputs": [
        {
          "output_type": "stream",
          "name": "stdout",
          "text": [
            "77/77 [==============================] - 10s 100ms/step\n"
          ]
        }
      ]
    },
    {
      "cell_type": "code",
      "source": [
        "y_train_pred_prob.shape"
      ],
      "metadata": {
        "id": "ubgm_cWxlUrD",
        "colab": {
          "base_uri": "https://localhost:8080/"
        },
        "outputId": "17362619-1467-4eb1-d373-3a20ac97e1e6"
      },
      "execution_count": 86,
      "outputs": [
        {
          "output_type": "execute_result",
          "data": {
            "text/plain": [
              "(2440, 3)"
            ]
          },
          "metadata": {},
          "execution_count": 86
        }
      ]
    },
    {
      "cell_type": "code",
      "source": [
        "#function to plot roc-auc curve\n",
        "def roc_auc_curve(y_scores, y_true):\n",
        "    # One hot encode the labels in order to plot them\n",
        "    y_onehot = pd.get_dummies(y_true, columns=classLabels)\n",
        "\n",
        "    # Create an empty figure, and iteratively add new lines\n",
        "    # every time we compute a new class\n",
        "    fig = go.Figure()\n",
        "    fig.add_shape(\n",
        "        type='line', line=dict(dash='dash'),\n",
        "        x0=0, x1=1, y0=0, y1=1\n",
        "    )\n",
        "\n",
        "    for i in range(y_scores.shape[1]):\n",
        "        y_true = y_onehot.iloc[:, i]\n",
        "        y_score = y_scores[:, i]\n",
        "\n",
        "        fpr, tpr, _ = roc_curve(y_true, y_score)\n",
        "        auc_score = roc_auc_score(y_true, y_score)\n",
        "\n",
        "        name = f\"{classLabels[i]} (AUC={auc_score:.2f})\"\n",
        "        fig.add_trace(go.Scatter(x=fpr, y=tpr, name=name, mode='lines'))\n",
        "\n",
        "    fig.update_layout(\n",
        "        title=\"ROC Curve\",\n",
        "        xaxis_title='False Positive Rate',\n",
        "        yaxis_title='True Positive Rate',\n",
        "        yaxis=dict(scaleanchor=\"x\", scaleratio=1),\n",
        "        xaxis=dict(constrain='domain'),\n",
        "        width=900, height=800\n",
        "    )\n",
        "\n",
        "    return fig"
      ],
      "metadata": {
        "id": "A5Ywk5jrlVYi"
      },
      "execution_count": 87,
      "outputs": []
    },
    {
      "cell_type": "code",
      "source": [
        "import seaborn as sb"
      ],
      "metadata": {
        "id": "YlYX57A4lj1J"
      },
      "execution_count": 88,
      "outputs": []
    },
    {
      "cell_type": "code",
      "source": [
        "plt.figure(figsize=(25,7))\n",
        "sb.heatmap(tf.math.confusion_matrix(labels=Y_train,predictions=y_train_pred),annot=True,fmt='.1f', cmap='hot_r')\n",
        "plt.xlabel('Predicted Values')\n",
        "plt.ylabel('Actual Values')\n",
        "plt.title('Confusion Matrix (Training)')\n",
        "plt.tight_layout()\n",
        "plt.show()"
      ],
      "metadata": {
        "id": "sZZQfWeDl9wq",
        "colab": {
          "base_uri": "https://localhost:8080/",
          "height": 367
        },
        "outputId": "2a40e448-be44-4bcb-8751-1c2f1f2b3f5b"
      },
      "execution_count": 89,
      "outputs": [
        {
          "output_type": "display_data",
          "data": {
            "text/plain": [
              "<Figure size 2500x700 with 2 Axes>"
            ],
            "image/png": "[encoded data removed]"
          },
          "metadata": {}
        }
      ]
    },
    {
      "cell_type": "code",
      "source": [
        "print(\"Classification Report for Training\")\n",
        "print(classification_report(Y_train, y_train_pred))"
      ],
      "metadata": {
        "id": "iLpnqOcGmEks",
        "colab": {
          "base_uri": "https://localhost:8080/"
        },
        "outputId": "ca470b2b-bec6-4682-b928-f916d6e7653a"
      },
      "execution_count": 90,
      "outputs": [
        {
          "output_type": "stream",
          "name": "stdout",
          "text": [
            "Classification Report for Training\n",
            "              precision    recall  f1-score   support\n",
            "\n",
            "           0       0.63      1.00      0.77       814\n",
            "           1       0.91      0.44      0.59       813\n",
            "           2       0.94      0.89      0.91       813\n",
            "\n",
            "    accuracy                           0.77      2440\n",
            "   macro avg       0.83      0.77      0.76      2440\n",
            "weighted avg       0.83      0.77      0.76      2440\n",
            "\n"
          ]
        }
      ]
    },
    {
      "cell_type": "code",
      "source": [
        "roc_auc_curve(y_train_pred_prob, Y_train)\n",
        "X_test = []\n",
        "y_test = []\n",
        "test_generator = tf.keras.utils.image_dataset_from_directory(\n",
        "        test_path,\n",
        "        image_size=(IMG_SIZE[0], IMG_SIZE[1]),\n",
        "        batch_size=batch_size,\n",
        "\n",
        "          # only data, no labels\n",
        "        #shuffle=False\n",
        "        )\n",
        "for data in test_generator:\n",
        "    X_test.extend(data[0].numpy())\n",
        "    y_test.extend(data[1].numpy())\n",
        "X_test = np.array(X_test)\n",
        "y_test = np.array(y_test)"
      ],
      "metadata": {
        "id": "mu3MhzQnmKR5",
        "colab": {
          "base_uri": "https://localhost:8080/"
        },
        "outputId": "790edfcd-b1d9-44ec-d4bc-040543394b99"
      },
      "execution_count": 91,
      "outputs": [
        {
          "output_type": "stream",
          "name": "stdout",
          "text": [
            "Found 915 files belonging to 3 classes.\n"
          ]
        }
      ]
    },
    {
      "cell_type": "code",
      "source": [
        "y_test_pred_prob = ensemble_model.predict(X_test)\n",
        "y_test_pred = [np.argmax(i) for i in y_test_pred_prob]"
      ],
      "metadata": {
        "id": "peCIJs3KmT5a",
        "colab": {
          "base_uri": "https://localhost:8080/"
        },
        "outputId": "9e8b28f6-4e55-4ca4-e24d-c06f6d73c8e0"
      },
      "execution_count": 92,
      "outputs": [
        {
          "output_type": "stream",
          "name": "stdout",
          "text": [
            "29/29 [==============================] - 3s 103ms/step\n"
          ]
        }
      ]
    },
    {
      "cell_type": "code",
      "source": [
        "np.unique(y_test)"
      ],
      "metadata": {
        "id": "an7a0Ymplmh5",
        "colab": {
          "base_uri": "https://localhost:8080/"
        },
        "outputId": "28dc41cf-e303-4a7e-ed8b-5e7a432a3a01"
      },
      "execution_count": 93,
      "outputs": [
        {
          "output_type": "execute_result",
          "data": {
            "text/plain": [
              "array([0, 1, 2], dtype=int32)"
            ]
          },
          "metadata": {},
          "execution_count": 93
        }
      ]
    },
    {
      "cell_type": "code",
      "source": [
        "plt.figure(figsize=(25,7))\n",
        "sb.heatmap(tf.math.confusion_matrix(labels=y_test,predictions=y_test_pred),annot=True,fmt='.1f', cmap='hot_r')\n",
        "plt.xlabel('Predicted Values')\n",
        "plt.ylabel('Actual Values')\n",
        "plt.title('Confusion Matrix')\n",
        "plt.tight_layout()\n",
        "plt.show()"
      ],
      "metadata": {
        "id": "AxCwvhHVk-vY",
        "colab": {
          "base_uri": "https://localhost:8080/",
          "height": 367
        },
        "outputId": "a9d814d1-ca3b-4093-a92c-37eabe8853dc"
      },
      "execution_count": 94,
      "outputs": [
        {
          "output_type": "display_data",
          "data": {
            "text/plain": [
              "<Figure size 2500x700 with 2 Axes>"
            ],
            "image/png": "[encoded data removed]"
          },
          "metadata": {}
        }
      ]
    },
    {
      "cell_type": "code",
      "source": [
        "print(\"Classification Report for Test\")\n",
        "print(classification_report(y_test, y_test_pred))"
      ],
      "metadata": {
        "id": "LFm0u6zSmaGj",
        "colab": {
          "base_uri": "https://localhost:8080/"
        },
        "outputId": "a709c51b-1f44-41af-af4b-b21a093f1f8c"
      },
      "execution_count": 95,
      "outputs": [
        {
          "output_type": "stream",
          "name": "stdout",
          "text": [
            "Classification Report for Test\n",
            "              precision    recall  f1-score   support\n",
            "\n",
            "           0       0.62      0.99      0.76       305\n",
            "           1       0.92      0.41      0.56       305\n",
            "           2       0.91      0.89      0.90       305\n",
            "\n",
            "    accuracy                           0.76       915\n",
            "   macro avg       0.82      0.76      0.74       915\n",
            "weighted avg       0.82      0.76      0.74       915\n",
            "\n"
          ]
        }
      ]
    },
    {
      "cell_type": "code",
      "source": [
        "roc_auc_curve(y_test_pred_prob, y_test)"
      ],
      "metadata": {
        "id": "LGL2Ta5xmf5r",
        "colab": {
          "base_uri": "https://localhost:8080/",
          "height": 817
        },
        "outputId": "ea795180-2bc2-4797-8016-f76273a3ccd4"
      },
      "execution_count": 96,
      "outputs": [
        {
          "output_type": "display_data",
          "data": {
            "text/html": [
              "<html>\n",
              "<head><meta charset=\"utf-8\" /></head>\n",
              "<body>\n",
              "    <div>            <script src=\"https://cdnjs.cloudflare.com/ajax/libs/mathjax/2.7.5/MathJax.js?config=TeX-AMS-MML_SVG\"></script><script type=\"text/javascript\">if (window.MathJax && window.MathJax.Hub && window.MathJax.Hub.Config) {window.MathJax.Hub.Config({SVG: {font: \"STIX-Web\"}});}</script>                <script type=\"text/javascript\">window.PlotlyConfig = {MathJaxConfig: 'local'};</script>\n",
              "        <script src=\"https://cdn.plot.ly/plotly-2.18.2.min.js\"></script>                <div id=\"9f6608f8-f642-4f1b-a02f-0ab81d170d38\" class=\"plotly-graph-div\" style=\"height:800px; width:900px;\"></div>            <script type=\"text/javascript\">                                    window.PLOTLYENV=window.PLOTLYENV || {};                                    if (document.getElementById(\"9f6608f8-f642-4f1b-a02f-0ab81d170d38\")) {                    Plotly.newPlot(                        \"9f6608f8-f642-4f1b-a02f-0ab81d170d38\",                        [{\"mode\":\"lines\",\"name\":\"covid (AUC=0.99)\",\"x\":[0.0,0.0,0.0,0.0,0.0,0.0,0.0,0.0,0.0,0.0,0.0,0.0,0.0,0.0,0.0,0.0,0.0,0.0,0.0,0.0,0.0,0.0,0.0,0.0,0.0,0.0,0.0,0.0,0.0,0.0,0.0,0.0,0.0,0.0,0.0,0.0,0.0,0.0,0.0,0.0,0.0,0.0,0.001639344262295082,0.001639344262295082,0.001639344262295082,0.001639344262295082,0.003278688524590164,0.003278688524590164,0.003278688524590164,0.003278688524590164,0.004918032786885246,0.004918032786885246,0.006557377049180328,0.006557377049180328,0.00819672131147541,0.00819672131147541,0.009836065573770493,0.009836065573770493,0.011475409836065573,0.011475409836065573,0.014754098360655738,0.014754098360655738,0.018032786885245903,0.018032786885245903,0.019672131147540985,0.019672131147540985,0.021311475409836064,0.021311475409836064,0.022950819672131147,0.022950819672131147,0.02622950819672131,0.02622950819672131,0.03114754098360656,0.03114754098360656,0.036065573770491806,0.036065573770491806,0.03770491803278689,0.03770491803278689,0.04262295081967213,0.04262295081967213,0.04426229508196721,0.04426229508196721,0.04590163934426229,0.04590163934426229,0.04918032786885246,0.04918032786885246,0.05081967213114754,0.05081967213114754,0.05737704918032787,0.05737704918032787,0.060655737704918035,0.060655737704918035,0.06229508196721312,0.06229508196721312,0.07049180327868852,0.07049180327868852,0.07377049180327869,0.07377049180327869,0.07540983606557378,0.07540983606557378,0.07704918032786885,0.07704918032786885,0.08524590163934426,0.08524590163934426,0.09344262295081968,0.09344262295081968,0.09672131147540984,0.09672131147540984,0.09836065573770492,0.09836065573770492,0.10491803278688525,0.10491803278688525,0.16065573770491803,0.16065573770491803,0.18688524590163935,0.18688524590163935,0.19836065573770492,0.19836065573770492,0.22295081967213115,0.22295081967213115,0.32295081967213113,0.32295081967213113,0.33114754098360655,0.33114754098360655,0.38688524590163936,0.38688524590163936,0.4524590163934426,0.4524590163934426,1.0],\"y\":[0.0,0.07540983606557378,0.11147540983606558,0.16393442622950818,0.18032786885245902,0.1901639344262295,0.19672131147540983,0.20655737704918034,0.23278688524590163,0.2459016393442623,0.25573770491803277,0.25901639344262295,0.2721311475409836,0.2819672131147541,0.28852459016393445,0.2983606557377049,0.3114754098360656,0.31475409836065577,0.32459016393442625,0.32786885245901637,0.34098360655737703,0.35081967213114756,0.35737704918032787,0.36721311475409835,0.380327868852459,0.3836065573770492,0.3901639344262295,0.39344262295081966,0.4,0.42295081967213116,0.42950819672131146,0.4459016393442623,0.4524590163934426,0.4557377049180328,0.46557377049180326,0.4786885245901639,0.4918032786885246,0.5180327868852459,0.5245901639344263,0.5540983606557377,0.5606557377049181,0.5639344262295082,0.5639344262295082,0.5934426229508196,0.6065573770491803,0.7016393442622951,0.7016393442622951,0.7344262295081967,0.740983606557377,0.7672131147540984,0.7672131147540984,0.7770491803278688,0.7770491803278688,0.7934426229508197,0.7934426229508197,0.819672131147541,0.819672131147541,0.8295081967213115,0.8295081967213115,0.8459016393442623,0.8459016393442623,0.8557377049180328,0.8557377049180328,0.8590163934426229,0.8590163934426229,0.8721311475409836,0.8721311475409836,0.8786885245901639,0.8786885245901639,0.8819672131147541,0.8819672131147541,0.8852459016393442,0.8852459016393442,0.8885245901639345,0.8885245901639345,0.8918032786885246,0.8918032786885246,0.8950819672131147,0.8950819672131147,0.898360655737705,0.898360655737705,0.9081967213114754,0.9081967213114754,0.9114754098360656,0.9114754098360656,0.9180327868852459,0.9180327868852459,0.921311475409836,0.921311475409836,0.9245901639344263,0.9245901639344263,0.9344262295081968,0.9344262295081968,0.940983606557377,0.940983606557377,0.9442622950819672,0.9442622950819672,0.9475409836065574,0.9475409836065574,0.9508196721311475,0.9508196721311475,0.9540983606557377,0.9540983606557377,0.9606557377049181,0.9606557377049181,0.9639344262295082,0.9639344262295082,0.9672131147540983,0.9672131147540983,0.9704918032786886,0.9704918032786886,0.9737704918032787,0.9737704918032787,0.9770491803278688,0.9770491803278688,0.980327868852459,0.980327868852459,0.9836065573770492,0.9836065573770492,0.9868852459016394,0.9868852459016394,0.9901639344262295,0.9901639344262295,0.9934426229508196,0.9934426229508196,0.9967213114754099,0.9967213114754099,1.0,1.0],\"type\":\"scatter\"},{\"mode\":\"lines\",\"name\":\"normal (AUC=0.97)\",\"x\":[0.0,0.0,0.0,0.001639344262295082,0.001639344262295082,0.003278688524590164,0.003278688524590164,0.004918032786885246,0.004918032786885246,0.006557377049180328,0.006557377049180328,0.009836065573770493,0.009836065573770493,0.013114754098360656,0.013114754098360656,0.014754098360655738,0.014754098360655738,0.01639344262295082,0.01639344262295082,0.018032786885245903,0.018032786885245903,0.019672131147540985,0.019672131147540985,0.021311475409836064,0.021311475409836064,0.022950819672131147,0.022950819672131147,0.02622950819672131,0.02622950819672131,0.029508196721311476,0.029508196721311476,0.03114754098360656,0.03114754098360656,0.03442622950819672,0.03442622950819672,0.036065573770491806,0.036065573770491806,0.03770491803278689,0.03770491803278689,0.03934426229508197,0.03934426229508197,0.040983606557377046,0.040983606557377046,0.04262295081967213,0.04262295081967213,0.04426229508196721,0.04426229508196721,0.04590163934426229,0.04590163934426229,0.047540983606557376,0.047540983606557376,0.04918032786885246,0.04918032786885246,0.05081967213114754,0.05081967213114754,0.054098360655737705,0.054098360655737705,0.05573770491803279,0.05573770491803279,0.05901639344262295,0.05901639344262295,0.06229508196721312,0.06229508196721312,0.06393442622950819,0.06393442622950819,0.06557377049180328,0.06557377049180328,0.06721311475409836,0.06721311475409836,0.06885245901639345,0.06885245901639345,0.07049180327868852,0.07049180327868852,0.07377049180327869,0.07377049180327869,0.07540983606557378,0.07540983606557378,0.07704918032786885,0.07704918032786885,0.09508196721311475,0.09508196721311475,0.11639344262295082,0.11639344262295082,0.12295081967213115,0.12295081967213115,0.1540983606557377,0.1540983606557377,0.16393442622950818,0.16393442622950818,1.0],\"y\":[0.0,0.003278688524590164,0.16721311475409836,0.16721311475409836,0.2262295081967213,0.2262295081967213,0.26229508196721313,0.26229508196721313,0.28524590163934427,0.28524590163934427,0.3016393442622951,0.3016393442622951,0.3114754098360656,0.3114754098360656,0.32131147540983607,0.32131147540983607,0.3442622950819672,0.3442622950819672,0.4065573770491803,0.4065573770491803,0.4262295081967213,0.4262295081967213,0.4524590163934426,0.4524590163934426,0.46557377049180326,0.46557377049180326,0.4918032786885246,0.4918032786885246,0.580327868852459,0.580327868852459,0.6,0.6,0.6032786885245902,0.6032786885245902,0.6065573770491803,0.6065573770491803,0.6459016393442623,0.6459016393442623,0.6622950819672131,0.6622950819672131,0.6983606557377049,0.6983606557377049,0.7213114754098361,0.7213114754098361,0.7770491803278688,0.7770491803278688,0.7836065573770492,0.7836065573770492,0.7868852459016393,0.7868852459016393,0.7901639344262295,0.7901639344262295,0.7967213114754098,0.7967213114754098,0.8,0.8,0.8262295081967214,0.8262295081967214,0.8360655737704918,0.8360655737704918,0.839344262295082,0.839344262295082,0.8590163934426229,0.8590163934426229,0.8655737704918033,0.8655737704918033,0.8721311475409836,0.8721311475409836,0.9049180327868852,0.9049180327868852,0.921311475409836,0.921311475409836,0.9278688524590164,0.9278688524590164,0.9508196721311475,0.9508196721311475,0.9573770491803278,0.9573770491803278,0.9836065573770492,0.9836065573770492,0.9868852459016394,0.9868852459016394,0.9901639344262295,0.9901639344262295,0.9934426229508196,0.9934426229508196,0.9967213114754099,0.9967213114754099,1.0,1.0],\"type\":\"scatter\"},{\"mode\":\"lines\",\"name\":\"pneumonia (AUC=0.97)\",\"x\":[0.0,0.0,0.0,0.0,0.0,0.001639344262295082,0.001639344262295082,0.003278688524590164,0.003278688524590164,0.006557377049180328,0.006557377049180328,0.014754098360655738,0.014754098360655738,0.027868852459016394,0.027868852459016394,0.03278688524590164,0.03278688524590164,0.04590163934426229,0.04590163934426229,0.054098360655737705,0.054098360655737705,0.060655737704918035,0.060655737704918035,0.07704918032786885,0.07704918032786885,0.08032786885245902,0.08032786885245902,0.09016393442622951,0.09016393442622951,0.10327868852459017,0.10327868852459017,0.11639344262295082,0.11639344262295082,0.12950819672131147,0.12950819672131147,0.13278688524590163,0.13278688524590163,0.1360655737704918,0.1360655737704918,0.15081967213114755,0.15081967213114755,0.16065573770491803,0.16065573770491803,0.17540983606557378,0.17540983606557378,0.19836065573770492,0.19836065573770492,0.20655737704918034,0.20655737704918034,0.2180327868852459,0.2180327868852459,0.21967213114754097,0.21967213114754097,0.22131147540983606,0.22131147540983606,0.22459016393442624,0.22459016393442624,0.25081967213114753,0.25081967213114753,0.2819672131147541,0.2819672131147541,0.29508196721311475,0.29508196721311475,0.3377049180327869,0.3377049180327869,0.3622950819672131,0.3622950819672131,0.40327868852459015,0.40327868852459015,0.40491803278688526,0.40491803278688526,0.4081967213114754,0.4081967213114754,0.41475409836065574,0.41475409836065574,0.4278688524590164,0.4278688524590164,0.4540983606557377,0.4540983606557377,0.5344262295081967,0.5344262295081967,0.6065573770491803,0.6065573770491803,1.0],\"y\":[0.0,0.003278688524590164,0.3475409836065574,0.3540983606557377,0.8524590163934426,0.8524590163934426,0.8590163934426229,0.8590163934426229,0.8655737704918033,0.8655737704918033,0.8688524590163934,0.8688524590163934,0.8721311475409836,0.8721311475409836,0.8786885245901639,0.8786885245901639,0.8819672131147541,0.8819672131147541,0.8852459016393442,0.8852459016393442,0.8885245901639345,0.8885245901639345,0.8950819672131147,0.8950819672131147,0.898360655737705,0.898360655737705,0.9016393442622951,0.9016393442622951,0.9049180327868852,0.9049180327868852,0.9081967213114754,0.9081967213114754,0.9114754098360656,0.9114754098360656,0.9147540983606557,0.9147540983606557,0.9180327868852459,0.9180327868852459,0.921311475409836,0.921311475409836,0.9245901639344263,0.9245901639344263,0.9278688524590164,0.9278688524590164,0.9311475409836065,0.9311475409836065,0.9344262295081968,0.9344262295081968,0.9377049180327869,0.9377049180327869,0.940983606557377,0.940983606557377,0.9442622950819672,0.9442622950819672,0.9475409836065574,0.9475409836065574,0.9508196721311475,0.9508196721311475,0.9540983606557377,0.9540983606557377,0.9573770491803278,0.9573770491803278,0.9639344262295082,0.9639344262295082,0.9672131147540983,0.9672131147540983,0.9704918032786886,0.9704918032786886,0.9737704918032787,0.9737704918032787,0.9770491803278688,0.9770491803278688,0.980327868852459,0.980327868852459,0.9868852459016394,0.9868852459016394,0.9901639344262295,0.9901639344262295,0.9934426229508196,0.9934426229508196,0.9967213114754099,0.9967213114754099,1.0,1.0],\"type\":\"scatter\"}],                        {\"template\":{\"data\":{\"histogram2dcontour\":[{\"type\":\"histogram2dcontour\",\"colorbar\":{\"outlinewidth\":0,\"ticks\":\"\"},\"colorscale\":[[0.0,\"#0d0887\"],[0.1111111111111111,\"#46039f\"],[0.2222222222222222,\"#7201a8\"],[0.3333333333333333,\"#9c179e\"],[0.4444444444444444,\"#bd3786\"],[0.5555555555555556,\"#d8576b\"],[0.6666666666666666,\"#ed7953\"],[0.7777777777777778,\"#fb9f3a\"],[0.8888888888888888,\"#fdca26\"],[1.0,\"#f0f921\"]]}],\"choropleth\":[{\"type\":\"choropleth\",\"colorbar\":{\"outlinewidth\":0,\"ticks\":\"\"}}],\"histogram2d\":[{\"type\":\"histogram2d\",\"colorbar\":{\"outlinewidth\":0,\"ticks\":\"\"},\"colorscale\":[[0.0,\"#0d0887\"],[0.1111111111111111,\"#46039f\"],[0.2222222222222222,\"#7201a8\"],[0.3333333333333333,\"#9c179e\"],[0.4444444444444444,\"#bd3786\"],[0.5555555555555556,\"#d8576b\"],[0.6666666666666666,\"#ed7953\"],[0.7777777777777778,\"#fb9f3a\"],[0.8888888888888888,\"#fdca26\"],[1.0,\"#f0f921\"]]}],\"heatmap\":[{\"type\":\"heatmap\",\"colorbar\":{\"outlinewidth\":0,\"ticks\":\"\"},\"colorscale\":[[0.0,\"#0d0887\"],[0.1111111111111111,\"#46039f\"],[0.2222222222222222,\"#7201a8\"],[0.3333333333333333,\"#9c179e\"],[0.4444444444444444,\"#bd3786\"],[0.5555555555555556,\"#d8576b\"],[0.6666666666666666,\"#ed7953\"],[0.7777777777777778,\"#fb9f3a\"],[0.8888888888888888,\"#fdca26\"],[1.0,\"#f0f921\"]]}],\"heatmapgl\":[{\"type\":\"heatmapgl\",\"colorbar\":{\"outlinewidth\":0,\"ticks\":\"\"},\"colorscale\":[[0.0,\"#0d0887\"],[0.1111111111111111,\"#46039f\"],[0.2222222222222222,\"#7201a8\"],[0.3333333333333333,\"#9c179e\"],[0.4444444444444444,\"#bd3786\"],[0.5555555555555556,\"#d8576b\"],[0.6666666666666666,\"#ed7953\"],[0.7777777777777778,\"#fb9f3a\"],[0.8888888888888888,\"#fdca26\"],[1.0,\"#f0f921\"]]}],\"contourcarpet\":[{\"type\":\"contourcarpet\",\"colorbar\":{\"outlinewidth\":0,\"ticks\":\"\"}}],\"contour\":[{\"type\":\"contour\",\"colorbar\":{\"outlinewidth\":0,\"ticks\":\"\"},\"colorscale\":[[0.0,\"#0d0887\"],[0.1111111111111111,\"#46039f\"],[0.2222222222222222,\"#7201a8\"],[0.3333333333333333,\"#9c179e\"],[0.4444444444444444,\"#bd3786\"],[0.5555555555555556,\"#d8576b\"],[0.6666666666666666,\"#ed7953\"],[0.7777777777777778,\"#fb9f3a\"],[0.8888888888888888,\"#fdca26\"],[1.0,\"#f0f921\"]]}],\"surface\":[{\"type\":\"surface\",\"colorbar\":{\"outlinewidth\":0,\"ticks\":\"\"},\"colorscale\":[[0.0,\"#0d0887\"],[0.1111111111111111,\"#46039f\"],[0.2222222222222222,\"#7201a8\"],[0.3333333333333333,\"#9c179e\"],[0.4444444444444444,\"#bd3786\"],[0.5555555555555556,\"#d8576b\"],[0.6666666666666666,\"#ed7953\"],[0.7777777777777778,\"#fb9f3a\"],[0.8888888888888888,\"#fdca26\"],[1.0,\"#f0f921\"]]}],\"mesh3d\":[{\"type\":\"mesh3d\",\"colorbar\":{\"outlinewidth\":0,\"ticks\":\"\"}}],\"scatter\":[{\"fillpattern\":{\"fillmode\":\"overlay\",\"size\":10,\"solidity\":0.2},\"type\":\"scatter\"}],\"parcoords\":[{\"type\":\"parcoords\",\"line\":{\"colorbar\":{\"outlinewidth\":0,\"ticks\":\"\"}}}],\"scatterpolargl\":[{\"type\":\"scatterpolargl\",\"marker\":{\"colorbar\":{\"outlinewidth\":0,\"ticks\":\"\"}}}],\"bar\":[{\"error_x\":{\"color\":\"#2a3f5f\"},\"error_y\":{\"color\":\"#2a3f5f\"},\"marker\":{\"line\":{\"color\":\"#E5ECF6\",\"width\":0.5},\"pattern\":{\"fillmode\":\"overlay\",\"size\":10,\"solidity\":0.2}},\"type\":\"bar\"}],\"scattergeo\":[{\"type\":\"scattergeo\",\"marker\":{\"colorbar\":{\"outlinewidth\":0,\"ticks\":\"\"}}}],\"scatterpolar\":[{\"type\":\"scatterpolar\",\"marker\":{\"colorbar\":{\"outlinewidth\":0,\"ticks\":\"\"}}}],\"histogram\":[{\"marker\":{\"pattern\":{\"fillmode\":\"overlay\",\"size\":10,\"solidity\":0.2}},\"type\":\"histogram\"}],\"scattergl\":[{\"type\":\"scattergl\",\"marker\":{\"colorbar\":{\"outlinewidth\":0,\"ticks\":\"\"}}}],\"scatter3d\":[{\"type\":\"scatter3d\",\"line\":{\"colorbar\":{\"outlinewidth\":0,\"ticks\":\"\"}},\"marker\":{\"colorbar\":{\"outlinewidth\":0,\"ticks\":\"\"}}}],\"scattermapbox\":[{\"type\":\"scattermapbox\",\"marker\":{\"colorbar\":{\"outlinewidth\":0,\"ticks\":\"\"}}}],\"scatterternary\":[{\"type\":\"scatterternary\",\"marker\":{\"colorbar\":{\"outlinewidth\":0,\"ticks\":\"\"}}}],\"scattercarpet\":[{\"type\":\"scattercarpet\",\"marker\":{\"colorbar\":{\"outlinewidth\":0,\"ticks\":\"\"}}}],\"carpet\":[{\"aaxis\":{\"endlinecolor\":\"#2a3f5f\",\"gridcolor\":\"white\",\"linecolor\":\"white\",\"minorgridcolor\":\"white\",\"startlinecolor\":\"#2a3f5f\"},\"baxis\":{\"endlinecolor\":\"#2a3f5f\",\"gridcolor\":\"white\",\"linecolor\":\"white\",\"minorgridcolor\":\"white\",\"startlinecolor\":\"#2a3f5f\"},\"type\":\"carpet\"}],\"table\":[{\"cells\":{\"fill\":{\"color\":\"#EBF0F8\"},\"line\":{\"color\":\"white\"}},\"header\":{\"fill\":{\"color\":\"#C8D4E3\"},\"line\":{\"color\":\"white\"}},\"type\":\"table\"}],\"barpolar\":[{\"marker\":{\"line\":{\"color\":\"#E5ECF6\",\"width\":0.5},\"pattern\":{\"fillmode\":\"overlay\",\"size\":10,\"solidity\":0.2}},\"type\":\"barpolar\"}],\"pie\":[{\"automargin\":true,\"type\":\"pie\"}]},\"layout\":{\"autotypenumbers\":\"strict\",\"colorway\":[\"#636efa\",\"#EF553B\",\"#00cc96\",\"#ab63fa\",\"#FFA15A\",\"#19d3f3\",\"#FF6692\",\"#B6E880\",\"#FF97FF\",\"#FECB52\"],\"font\":{\"color\":\"#2a3f5f\"},\"hovermode\":\"closest\",\"hoverlabel\":{\"align\":\"left\"},\"paper_bgcolor\":\"white\",\"plot_bgcolor\":\"#E5ECF6\",\"polar\":{\"bgcolor\":\"#E5ECF6\",\"angularaxis\":{\"gridcolor\":\"white\",\"linecolor\":\"white\",\"ticks\":\"\"},\"radialaxis\":{\"gridcolor\":\"white\",\"linecolor\":\"white\",\"ticks\":\"\"}},\"ternary\":{\"bgcolor\":\"#E5ECF6\",\"aaxis\":{\"gridcolor\":\"white\",\"linecolor\":\"white\",\"ticks\":\"\"},\"baxis\":{\"gridcolor\":\"white\",\"linecolor\":\"white\",\"ticks\":\"\"},\"caxis\":{\"gridcolor\":\"white\",\"linecolor\":\"white\",\"ticks\":\"\"}},\"coloraxis\":{\"colorbar\":{\"outlinewidth\":0,\"ticks\":\"\"}},\"colorscale\":{\"sequential\":[[0.0,\"#0d0887\"],[0.1111111111111111,\"#46039f\"],[0.2222222222222222,\"#7201a8\"],[0.3333333333333333,\"#9c179e\"],[0.4444444444444444,\"#bd3786\"],[0.5555555555555556,\"#d8576b\"],[0.6666666666666666,\"#ed7953\"],[0.7777777777777778,\"#fb9f3a\"],[0.8888888888888888,\"#fdca26\"],[1.0,\"#f0f921\"]],\"sequentialminus\":[[0.0,\"#0d0887\"],[0.1111111111111111,\"#46039f\"],[0.2222222222222222,\"#7201a8\"],[0.3333333333333333,\"#9c179e\"],[0.4444444444444444,\"#bd3786\"],[0.5555555555555556,\"#d8576b\"],[0.6666666666666666,\"#ed7953\"],[0.7777777777777778,\"#fb9f3a\"],[0.8888888888888888,\"#fdca26\"],[1.0,\"#f0f921\"]],\"diverging\":[[0,\"#8e0152\"],[0.1,\"#c51b7d\"],[0.2,\"#de77ae\"],[0.3,\"#f1b6da\"],[0.4,\"#fde0ef\"],[0.5,\"#f7f7f7\"],[0.6,\"#e6f5d0\"],[0.7,\"#b8e186\"],[0.8,\"#7fbc41\"],[0.9,\"#4d9221\"],[1,\"#276419\"]]},\"xaxis\":{\"gridcolor\":\"white\",\"linecolor\":\"white\",\"ticks\":\"\",\"title\":{\"standoff\":15},\"zerolinecolor\":\"white\",\"automargin\":true,\"zerolinewidth\":2},\"yaxis\":{\"gridcolor\":\"white\",\"linecolor\":\"white\",\"ticks\":\"\",\"title\":{\"standoff\":15},\"zerolinecolor\":\"white\",\"automargin\":true,\"zerolinewidth\":2},\"scene\":{\"xaxis\":{\"backgroundcolor\":\"#E5ECF6\",\"gridcolor\":\"white\",\"linecolor\":\"white\",\"showbackground\":true,\"ticks\":\"\",\"zerolinecolor\":\"white\",\"gridwidth\":2},\"yaxis\":{\"backgroundcolor\":\"#E5ECF6\",\"gridcolor\":\"white\",\"linecolor\":\"white\",\"showbackground\":true,\"ticks\":\"\",\"zerolinecolor\":\"white\",\"gridwidth\":2},\"zaxis\":{\"backgroundcolor\":\"#E5ECF6\",\"gridcolor\":\"white\",\"linecolor\":\"white\",\"showbackground\":true,\"ticks\":\"\",\"zerolinecolor\":\"white\",\"gridwidth\":2}},\"shapedefaults\":{\"line\":{\"color\":\"#2a3f5f\"}},\"annotationdefaults\":{\"arrowcolor\":\"#2a3f5f\",\"arrowhead\":0,\"arrowwidth\":1},\"geo\":{\"bgcolor\":\"white\",\"landcolor\":\"#E5ECF6\",\"subunitcolor\":\"white\",\"showland\":true,\"showlakes\":true,\"lakecolor\":\"white\"},\"title\":{\"x\":0.05},\"mapbox\":{\"style\":\"light\"}}},\"shapes\":[{\"line\":{\"dash\":\"dash\"},\"type\":\"line\",\"x0\":0,\"x1\":1,\"y0\":0,\"y1\":1}],\"yaxis\":{\"title\":{\"text\":\"True Positive Rate\"},\"scaleanchor\":\"x\",\"scaleratio\":1},\"xaxis\":{\"title\":{\"text\":\"False Positive Rate\"},\"constrain\":\"domain\"},\"title\":{\"text\":\"ROC Curve\"},\"width\":900,\"height\":800},                        {\"responsive\": true}                    ).then(function(){\n",
              "                            \n",
              "var gd = document.getElementById('9f6608f8-f642-4f1b-a02f-0ab81d170d38');\n",
              "var x = new MutationObserver(function (mutations, observer) {{\n",
              "        var display = window.getComputedStyle(gd).display;\n",
              "        if (!display || display === 'none') {{\n",
              "            console.log([gd, 'removed!']);\n",
              "            Plotly.purge(gd);\n",
              "            observer.disconnect();\n",
              "        }}\n",
              "}});\n",
              "\n",
              "// Listen for the removal of the full notebook cells\n",
              "var notebookContainer = gd.closest('#notebook-container');\n",
              "if (notebookContainer) {{\n",
              "    x.observe(notebookContainer, {childList: true});\n",
              "}}\n",
              "\n",
              "// Listen for the clearing of the current output cell\n",
              "var outputEl = gd.closest('.output');\n",
              "if (outputEl) {{\n",
              "    x.observe(outputEl, {childList: true});\n",
              "}}\n",
              "\n",
              "                        })                };                            </script>        </div>\n",
              "</body>\n",
              "</html>"
            ]
          },
          "metadata": {}
        }
      ]
    },
    {
      "cell_type": "code",
      "source": [
        "from tensorflow.keras.models import save_model\n"
      ],
      "metadata": {
        "id": "AymS4krnmhuC"
      },
      "execution_count": 97,
      "outputs": []
    },
    {
      "cell_type": "code",
      "source": [
        "#MODEL_FILENAMEs=root_path+\"model_5fold_Xception03.h5\"\n",
        "#model.save(MODEL_FILENAMEs)"
      ],
      "metadata": {
        "id": "Bp4G0LZqm0Sq"
      },
      "execution_count": 98,
      "outputs": []
    },
    {
      "cell_type": "code",
      "source": [
        "MODEL_FILENAMEs=root_path+\"model_3fold_ensemble_MR101N_035060005.h5\"\n",
        "ensemble_model.save(MODEL_FILENAMEs)"
      ],
      "metadata": {
        "id": "kJi_fTcE_QH6",
        "colab": {
          "base_uri": "https://localhost:8080/"
        },
        "outputId": "28aa4391-018b-4d66-c217-47e49a4cb6c5"
      },
      "execution_count": 99,
      "outputs": [
        {
          "output_type": "stream",
          "name": "stderr",
          "text": [
            "WARNING:tensorflow:Found duplicated `Variable`s in Model's `weights`. This is usually caused by `Variable`s being shared by Layers in the Model. These `Variable`s will be treated as separate `Variable`s when the Model is restored. To avoid this, please save with `save_format=\"tf\"`.\n"
          ]
        }
      ]
    }
  ]
}