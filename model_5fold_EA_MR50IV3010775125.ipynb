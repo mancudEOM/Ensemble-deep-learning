{
  "nbformat": 4,
  "nbformat_minor": 0,
  "metadata": {
    "colab": {
      "provenance": [],
      "gpuType": "T4",
      "toc_visible": true,
      "include_colab_link": true
    },
    "kernelspec": {
      "name": "python3",
      "display_name": "Python 3"
    },
    "language_info": {
      "name": "python"
    },
    "gpuClass": "standard",
    "accelerator": "GPU"
  },
  "cells": [
    {
      "cell_type": "markdown",
      "metadata": {
        "id": "view-in-github",
        "colab_type": "text"
      },
      "source": [
        "<a href=\"https://colab.research.google.com/github/mancudEOM/Ensemble-deep-learning/blob/main/model_5fold_EA_MR50IV3010775125.ipynb\" target=\"_parent\"><img src=\"https://colab.research.google.com/assets/colab-badge.svg\" alt=\"Open In Colab\"/></a>"
      ]
    },
    {
      "cell_type": "code",
      "execution_count": 1,
      "metadata": {
        "id": "re2cPhu8Glvf",
        "colab": {
          "base_uri": "https://localhost:8080/"
        },
        "outputId": "d07a7aa6-8e8b-4bef-ca9f-43dc2c119a05"
      },
      "outputs": [
        {
          "output_type": "stream",
          "name": "stdout",
          "text": [
            "Drive already mounted at /content/drive; to attempt to forcibly remount, call drive.mount(\"/content/drive\", force_remount=True).\n"
          ]
        }
      ],
      "source": [
        "  from google.colab import drive\n",
        "  drive.mount('/content/drive')\n",
        "\n"
      ]
    },
    {
      "cell_type": "code",
      "source": [
        "  !ls\n"
      ],
      "metadata": {
        "id": "16aNt0njGqgR",
        "colab": {
          "base_uri": "https://localhost:8080/"
        },
        "outputId": "311e73f2-fee0-4d7c-846e-fbe29984dfc1"
      },
      "execution_count": 2,
      "outputs": [
        {
          "output_type": "stream",
          "name": "stdout",
          "text": [
            "drive  sample_data\n"
          ]
        }
      ]
    },
    {
      "cell_type": "code",
      "source": [
        "  import sys\n",
        "  root_path = '/content/drive/My Drive/Groundnut_Leaf_dataset/' # This is the path to where in google drive the code is stored!\n",
        "  sys.path.append(root_path)"
      ],
      "metadata": {
        "id": "6kpNIXuzGskg"
      },
      "execution_count": 3,
      "outputs": []
    },
    {
      "cell_type": "markdown",
      "source": [
        "# THÊM TẤT CẢ CÁC THƯ VIỆN CẦN THIẾT"
      ],
      "metadata": {
        "id": "qMNSUzIxL7JZ"
      }
    },
    {
      "cell_type": "code",
      "source": [
        "import numpy as np\n",
        "from sklearn.metrics import accuracy_score, f1_score, precision_score, confusion_matrix\n",
        "from sklearn.model_selection import StratifiedKFold\n",
        "from PIL import Image\n",
        "import random\n",
        "import tensorflow as tf\n",
        "from tensorflow.keras.models import Sequential\n",
        "from keras.preprocessing.image import ImageDataGenerator\n",
        "from tensorflow.keras.preprocessing.image import ImageDataGenerator\n",
        "from tensorflow.keras.layers import Dense, Dropout, Flatten, Conv2D, MaxPooling2D\n",
        "\n",
        "from tensorflow.compat.v1 import ConfigProto\n",
        "from tensorflow.compat.v1 import InteractiveSession\n",
        "import warnings\n",
        "import os\n",
        "import shutil\n",
        "from PIL import ImageFile\n",
        "warnings.simplefilter('error', Image.DecompressionBombWarning)\n",
        "ImageFile.LOAD_TRUNCATED_IMAGES = True\n",
        "Image.MAX_IMAGE_PIXELS = 1000000000\n",
        "config = ConfigProto()\n",
        "config.gpu_options.allow_growth = True\n",
        "session = InteractiveSession(config=config)"
      ],
      "metadata": {
        "id": "NJq2Vm2hHTWR"
      },
      "execution_count": 4,
      "outputs": []
    },
    {
      "cell_type": "markdown",
      "source": [
        "# Khởi tạo các biến cần thiết"
      ],
      "metadata": {
        "id": "QYpc-VdEMGBS"
      }
    },
    {
      "cell_type": "code",
      "source": [
        "datasetFolderName=root_path+'dataset'\n",
        "MODEL_FILENAME=root_path+\"model_cv.h5\"\n",
        "sourceFiles=[]\n",
        "classLabels=['early_leaf_spot_1','early_rust_1','healthy_leaf_1',\n",
        "              'late_leaf_spot_1','nutrition_deficiency_1','rust_1']\n",
        "X=[]\n",
        "Y=[]\n",
        "\n",
        "img_rows, img_cols =  224, 224\n",
        "# input image dimensions\n",
        "#img_rows, img_cols =  224, 224 # input image dimensions\n",
        "train_path=datasetFolderName+'/train/'\n",
        "validation_path=datasetFolderName+'/validation/'\n",
        "test_path=datasetFolderName+'/test/'"
      ],
      "metadata": {
        "id": "iCy2O5d9Jxq6"
      },
      "execution_count": 5,
      "outputs": []
    },
    {
      "cell_type": "markdown",
      "source": [
        "# KFOLD train-test-validation"
      ],
      "metadata": {
        "id": "LyAnSQTbMblZ"
      }
    },
    {
      "cell_type": "code",
      "source": [
        "def transferBetweenFolders(source, dest, splitRate):\n",
        "    global sourceFiles\n",
        "    sourceFiles=os.listdir(source)\n",
        "    if(len(sourceFiles)!=0):\n",
        "        transferFileNumbers=int(len(sourceFiles)*splitRate)\n",
        "        transferIndex=random.sample(range(0, len(sourceFiles)), transferFileNumbers)\n",
        "        for eachIndex in transferIndex:\n",
        "            shutil.move(source+str(sourceFiles[eachIndex]), dest+str(sourceFiles[eachIndex]))\n",
        "    else:\n",
        "        print(\"No file moved. Source empty!\")\n",
        "\n",
        "def transferAllClassBetweenFolders(source, dest, splitRate):\n",
        "    for label in classLabels:\n",
        "        transferBetweenFolders(datasetFolderName+'/'+source+'/'+label+'/',\n",
        "                               datasetFolderName+'/'+dest+'/'+label+'/',\n",
        "                               splitRate)"
      ],
      "metadata": {
        "id": "RgfHPIHbJ4rR"
      },
      "execution_count": 6,
      "outputs": []
    },
    {
      "cell_type": "code",
      "source": [
        "#transferAllClassBetweenFolders('test', 'train', 1.0)"
      ],
      "metadata": {
        "id": "stSX_AiNKleb"
      },
      "execution_count": 7,
      "outputs": []
    },
    {
      "cell_type": "code",
      "source": [
        "transferAllClassBetweenFolders('validation', 'train', 1.0)"
      ],
      "metadata": {
        "id": "Z6o8gWE-N-rq"
      },
      "execution_count": 8,
      "outputs": []
    },
    {
      "cell_type": "code",
      "source": [
        "#transferAllClassBetweenFolders('train', 'test', 0.20)"
      ],
      "metadata": {
        "id": "arE4ro1JKqIh"
      },
      "execution_count": 9,
      "outputs": []
    },
    {
      "cell_type": "code",
      "source": [
        "def prepareNameWithLabels(folderName):\n",
        "    sourceFiles=os.listdir(datasetFolderName+'/train/'+folderName)\n",
        "    for val in sourceFiles:\n",
        "        X.append(val)\n",
        "        for i in range(len(classLabels)):\n",
        "          if(folderName==classLabels[i]):\n",
        "              Y.append(i)"
      ],
      "metadata": {
        "id": "73VhRSA2K0fp"
      },
      "execution_count": 10,
      "outputs": []
    },
    {
      "cell_type": "code",
      "source": [
        "# Organize file names and class labels in X and Y variables\n",
        "for i in range(len(classLabels)):\n",
        "  prepareNameWithLabels(classLabels[i])"
      ],
      "metadata": {
        "id": "u6pP6P3YK2Ub"
      },
      "execution_count": 11,
      "outputs": []
    },
    {
      "cell_type": "code",
      "source": [
        "X=np.asarray(X)\n",
        "Y=np.asarray(Y)"
      ],
      "metadata": {
        "id": "WZHmT5JgK3xa"
      },
      "execution_count": 12,
      "outputs": []
    },
    {
      "cell_type": "code",
      "source": [
        "print(X)\n",
        "print(Y)"
      ],
      "metadata": {
        "id": "MzTCDvyoM28y",
        "colab": {
          "base_uri": "https://localhost:8080/"
        },
        "outputId": "095bc4bc-eadc-4ad8-98bd-e2254a024b5f"
      },
      "execution_count": 13,
      "outputs": [
        {
          "output_type": "stream",
          "name": "stdout",
          "text": [
            "['IMG_3093.jpg' 'dr_57_8163.jpg' 'dr_79_630.jpg' ... 'dr_49_3970.jpg'\n",
            " 'dr_21_8287.jpg' 'dr_13_3101.jpg']\n",
            "[0 0 0 ... 5 5 5]\n"
          ]
        }
      ]
    },
    {
      "cell_type": "code",
      "source": [
        "batch_size = 16\n",
        "IMG_SIZE = (224, 224, 3)\n",
        "number_of_class_labels = len(classLabels)"
      ],
      "metadata": {
        "id": "WtnpSQSxX-67"
      },
      "execution_count": 14,
      "outputs": []
    },
    {
      "cell_type": "code",
      "source": [
        "import tensorflow.keras as keras"
      ],
      "metadata": {
        "id": "OKucCyffZ5cD"
      },
      "execution_count": 15,
      "outputs": []
    },
    {
      "cell_type": "code",
      "source": [
        "# Create a data augmentation stage with horizontal flipping, rotations, zooms\n",
        "data_augmentation = keras.Sequential(\n",
        "    [\n",
        "        keras.layers.Rescaling(1./ 255),\n",
        "        keras.layers.RandomFlip(),\n",
        "        keras.layers.RandomRotation(0.2),\n",
        "        keras.layers.RandomZoom(0.2,0.3)\n",
        "    ]\n",
        ")"
      ],
      "metadata": {
        "id": "zWFE6eJxZvCD"
      },
      "execution_count": 16,
      "outputs": []
    },
    {
      "cell_type": "code",
      "source": [
        "#pre_trained_layers = keras.applications.ResNet50V2(weights=\"imagenet\", include_top=False,\n",
        "#           input_tensor=keras.Input(shape=IMG_SIZE))"
      ],
      "metadata": {
        "id": "A929RzhDZ7wR"
      },
      "execution_count": 17,
      "outputs": []
    },
    {
      "cell_type": "code",
      "source": [
        "#pre_trained_layers = tf.keras.applications.MobileNetV2(weights=\"imagenet\", include_top=False,\n",
        "#            input_tensor=keras.Input(shape=IMG_SIZE))"
      ],
      "metadata": {
        "id": "MRoc6m_k7kpj"
      },
      "execution_count": 18,
      "outputs": []
    },
    {
      "cell_type": "code",
      "source": [
        "\n",
        "#pre_trained_layers = keras.applications.Xception(weights=\"imagenet\", include_top=False,\n",
        "#         input_tensor=keras.Input(shape=IMG_SIZE))"
      ],
      "metadata": {
        "id": "wbD80LCePblH"
      },
      "execution_count": 19,
      "outputs": []
    },
    {
      "cell_type": "code",
      "source": [
        "#pre_trained_layers = tf.keras.applications.InceptionV3(weights=\"imagenet\", include_top=False,\n",
        "#           input_tensor=keras.Input(shape=IMG_SIZE))"
      ],
      "metadata": {
        "id": "kFkcL4A1JffX"
      },
      "execution_count": 20,
      "outputs": []
    },
    {
      "cell_type": "code",
      "source": [
        "#pre_trained_layers.summary()\n"
      ],
      "metadata": {
        "id": "V-K3rsDLaLWL"
      },
      "execution_count": 21,
      "outputs": []
    },
    {
      "cell_type": "code",
      "source": [
        "\n",
        "from tensorflow.keras.models import Model, load_model\n",
        "from tensorflow.keras.layers import Input, Average\n",
        "from keras.models import Model\n",
        "from keras.layers import Input, Dense\n",
        "import tensorflow as tf"
      ],
      "metadata": {
        "id": "q-xZEOqCLWIb"
      },
      "execution_count": 22,
      "outputs": []
    },
    {
      "cell_type": "code",
      "source": [
        "class WeightedAverageLayer(tf.keras.layers.Layer):\n",
        "    def __init__(self, w1, w2, w3, **kwargs):\n",
        "        super(WeightedAverageLayer, self).__init__(**kwargs)\n",
        "        self.w1 = w1\n",
        "        self.w2 = w2\n",
        "        self.w3 = w3\n",
        "\n",
        "    def call(self, inputs):\n",
        "        return self.w1 * inputs[0] + self.w2 * inputs[1] + self.w3 * inputs[2]"
      ],
      "metadata": {
        "id": "GTVtq8kOc-6p"
      },
      "execution_count": 23,
      "outputs": []
    },
    {
      "cell_type": "code",
      "source": [
        "class MajorVoting(tf.keras.layers.Layer):\n",
        "    def __init__(self, w1, w2, w3, **kwargs):\n",
        "        super(MajorVoting, self).__init__(**kwargs)\n",
        "        self.w1 = w1\n",
        "        self.w2 = w2\n",
        "        self.w3 = w3\n",
        "\n",
        "    def call(self, inputs):\n",
        "        return np.argmax(input[0],input[1],input[2], axis=1)"
      ],
      "metadata": {
        "id": "e7mWjTIVnUi9"
      },
      "execution_count": 24,
      "outputs": []
    },
    {
      "cell_type": "code",
      "source": [
        "# Disable scientific notation for clarity\n",
        "np.set_printoptions(suppress=True)\n",
        "# Load the model\n",
        "model_1 =load_model(root_path+\"model_5fold_MobileNetV2_GN07mm.h5\",\n",
        "                    compile=False)\n",
        "model_1 = Model(inputs=model_1.inputs,\n",
        "                outputs=model_1.outputs,\n",
        "                name='model_5fold_MobileNetV2_GN07mm')\n",
        "model_2 = load_model(root_path+\"model_5fold_ResNet50V2_GN07.h5\",\n",
        "                     compile=False)\n",
        "model_2 = Model(inputs=model_1.inputs,\n",
        "                outputs=model_1.outputs,\n",
        "                name='model_5fold_ResNet50V2_GN07')\n",
        "model_3 = load_model(root_path+\"model_5fold_InceptionV3_GN07mm.h5\",\n",
        "                     compile=False)\n",
        "model_3 = Model(inputs=model_1.inputs,\n",
        "                outputs=model_1.outputs,\n",
        "                name='model_5fold_InceptionV3_GN07mm')\n",
        "models = [model_1, model_2, model_3]\n",
        "model_input = Input(shape=(224, 224, 3))\n",
        "model_outputs = [model(model_input) for model in models]\n",
        "#ensemble_output = Average()(model_outputs)\n",
        "ensemble_output = WeightedAverageLayer(0.1, 0.775, 0.125)(model_outputs)\n",
        "ensemble_model= Model(inputs=model_input, outputs=ensemble_output, name='ensemble')\n"
      ],
      "metadata": {
        "id": "R2Oq0Kl4IUFm"
      },
      "execution_count": 25,
      "outputs": []
    },
    {
      "cell_type": "code",
      "source": [
        "\n",
        "#Creating custom model\n",
        "\n"
      ],
      "metadata": {
        "id": "MU_j6dypcPwp"
      },
      "execution_count": 26,
      "outputs": []
    },
    {
      "cell_type": "code",
      "source": [
        "EPOCHS = 5\n",
        "LR = 1e-3\n",
        "ensemble_model.compile(optimizer=keras.optimizers.Adam(learning_rate=LR),\n",
        "              loss=tf.keras.losses.SparseCategoricalCrossentropy(),\n",
        "              metrics=['accuracy'])"
      ],
      "metadata": {
        "id": "41gFu9xKb0CU"
      },
      "execution_count": 27,
      "outputs": []
    },
    {
      "cell_type": "code",
      "source": [
        "#printing summary of custom model\n",
        "#ensemble_model.build((1,224,224,3))\n",
        "#ensemble_model.summary()"
      ],
      "metadata": {
        "id": "XCFHANKAcmVS"
      },
      "execution_count": 28,
      "outputs": []
    },
    {
      "cell_type": "code",
      "source": [
        "from tensorflow.keras.callbacks import ReduceLROnPlateau"
      ],
      "metadata": {
        "id": "AMvex2WIc1hi"
      },
      "execution_count": 29,
      "outputs": []
    },
    {
      "cell_type": "code",
      "source": [
        "# Callback -> Reduce Learning Rate on Plateau\n",
        "callback = ReduceLROnPlateau(monitor='val_loss', factor=0.1, patience=3, verbose=1, mode='auto',\n",
        "                             min_delta=0.000001, cooldown=0, min_lr=0.000001)"
      ],
      "metadata": {
        "id": "LM1NDxA1cnxB"
      },
      "execution_count": 30,
      "outputs": []
    },
    {
      "cell_type": "code",
      "source": [
        "skf = StratifiedKFold(n_splits=5, shuffle=True)\n",
        "skf.get_n_splits(X, Y)\n",
        "fold_num = 0\n",
        "for train_index, val_index in skf.split(X, Y):\n",
        "    # First cut all images from validation to train (if any exists)\n",
        "    transferAllClassBetweenFolders('validation', 'train', 1.0)\n",
        "    fold_num += 1\n",
        "    print(\"Results for fold\", fold_num)\n",
        "    X_train, X_val = X[train_index], X[val_index]\n",
        "    Y_train, Y_val = Y[train_index], Y[val_index]\n",
        "    # Move validation images of this fold from train folder to the validation folder\n",
        "    for each_index in range(len(X_val)):\n",
        "        class_label = ''\n",
        "        for i in range(len(classLabels)):\n",
        "            if(Y_val[each_index] == i):\n",
        "                class_label = classLabels[i]\n",
        "        # Then, copy the validation images to the validation folder\n",
        "        shutil.move(os.path.join(datasetFolderName, 'train', class_label, X_val[each_index]),\n",
        "                    os.path.join(datasetFolderName, 'validation', class_label, X_val[each_index]))\n",
        "\n",
        "\n",
        "\n",
        "    # Start ImageClassification Model\n",
        "    #creating train data set\n",
        "\n",
        "    train_generator = tf.keras.utils.image_dataset_from_directory(\n",
        "        train_path,\n",
        "        image_size=(IMG_SIZE[0], IMG_SIZE[1]),\n",
        "        batch_size=batch_size,\n",
        "        )\n",
        "\n",
        "    validation_generator = tf.keras.utils.image_dataset_from_directory(\n",
        "        validation_path,\n",
        "        image_size=(IMG_SIZE[0], IMG_SIZE[1]),\n",
        "        batch_size=batch_size,\n",
        "\n",
        "          # only data, no labels\n",
        "        shuffle=False\n",
        "        )\n",
        "\n",
        "    history = ensemble_model.fit(train_generator, epochs=EPOCHS, validation_data=validation_generator, callbacks=callback)\n",
        "    ensemble_model.evaluate(validation_generator)"
      ],
      "metadata": {
        "id": "h6-FwHIUaRPh",
        "colab": {
          "base_uri": "https://localhost:8080/"
        },
        "outputId": "fea846f2-51b3-404b-aa9e-48178cbc28e3"
      },
      "execution_count": 31,
      "outputs": [
        {
          "output_type": "stream",
          "name": "stdout",
          "text": [
            "No file moved. Source empty!\n",
            "No file moved. Source empty!\n",
            "No file moved. Source empty!\n",
            "No file moved. Source empty!\n",
            "No file moved. Source empty!\n",
            "No file moved. Source empty!\n",
            "Results for fold 1\n",
            "Found 1584 files belonging to 6 classes.\n",
            "Found 396 files belonging to 6 classes.\n",
            "Epoch 1/5\n",
            "99/99 [==============================] - 73s 249ms/step - loss: 0.4009 - accuracy: 0.8580 - val_loss: 2.9263 - val_accuracy: 0.6263 - lr: 0.0010\n",
            "Epoch 2/5\n",
            "99/99 [==============================] - 22s 218ms/step - loss: 0.3715 - accuracy: 0.8668 - val_loss: 4.2788 - val_accuracy: 0.6086 - lr: 0.0010\n",
            "Epoch 3/5\n",
            "99/99 [==============================] - 22s 218ms/step - loss: 0.2856 - accuracy: 0.9028 - val_loss: 1.9908 - val_accuracy: 0.7096 - lr: 0.0010\n",
            "Epoch 4/5\n",
            "99/99 [==============================] - 22s 217ms/step - loss: 0.2819 - accuracy: 0.8952 - val_loss: 2.4389 - val_accuracy: 0.6717 - lr: 0.0010\n",
            "Epoch 5/5\n",
            "99/99 [==============================] - 23s 227ms/step - loss: 0.3578 - accuracy: 0.8706 - val_loss: 3.8907 - val_accuracy: 0.5758 - lr: 0.0010\n",
            "25/25 [==============================] - 2s 60ms/step - loss: 3.8907 - accuracy: 0.5758\n",
            "Results for fold 2\n",
            "Found 1584 files belonging to 6 classes.\n",
            "Found 396 files belonging to 6 classes.\n",
            "Epoch 1/5\n",
            "99/99 [==============================] - 22s 219ms/step - loss: 0.3016 - accuracy: 0.8838 - val_loss: 4.0933 - val_accuracy: 0.6061 - lr: 0.0010\n",
            "Epoch 2/5\n",
            "99/99 [==============================] - 22s 224ms/step - loss: 0.2691 - accuracy: 0.8939 - val_loss: 1.1416 - val_accuracy: 0.8131 - lr: 0.0010\n",
            "Epoch 3/5\n",
            "99/99 [==============================] - 23s 226ms/step - loss: 0.3041 - accuracy: 0.8775 - val_loss: 1.5991 - val_accuracy: 0.7955 - lr: 0.0010\n",
            "Epoch 4/5\n",
            "99/99 [==============================] - 22s 216ms/step - loss: 0.2740 - accuracy: 0.9003 - val_loss: 2.8301 - val_accuracy: 0.6919 - lr: 0.0010\n",
            "Epoch 5/5\n",
            "99/99 [==============================] - ETA: 0s - loss: 0.2450 - accuracy: 0.9034\n",
            "Epoch 5: ReduceLROnPlateau reducing learning rate to 0.00010000000474974513.\n",
            "99/99 [==============================] - 22s 219ms/step - loss: 0.2450 - accuracy: 0.9034 - val_loss: 2.9750 - val_accuracy: 0.6717 - lr: 0.0010\n",
            "25/25 [==============================] - 2s 62ms/step - loss: 2.9750 - accuracy: 0.6717\n",
            "Results for fold 3\n",
            "Found 1584 files belonging to 6 classes.\n",
            "Found 396 files belonging to 6 classes.\n",
            "Epoch 1/5\n",
            "99/99 [==============================] - 22s 214ms/step - loss: 0.2166 - accuracy: 0.9160 - val_loss: 0.4878 - val_accuracy: 0.9141 - lr: 1.0000e-04\n",
            "Epoch 2/5\n",
            "99/99 [==============================] - 22s 220ms/step - loss: 0.1567 - accuracy: 0.9400 - val_loss: 0.1739 - val_accuracy: 0.9343 - lr: 1.0000e-04\n",
            "Epoch 3/5\n",
            "99/99 [==============================] - 23s 227ms/step - loss: 0.1458 - accuracy: 0.9470 - val_loss: 0.0761 - val_accuracy: 0.9672 - lr: 1.0000e-04\n",
            "Epoch 4/5\n",
            "99/99 [==============================] - 22s 217ms/step - loss: 0.1209 - accuracy: 0.9482 - val_loss: 0.0736 - val_accuracy: 0.9697 - lr: 1.0000e-04\n",
            "Epoch 5/5\n",
            "99/99 [==============================] - 22s 220ms/step - loss: 0.1044 - accuracy: 0.9583 - val_loss: 0.0795 - val_accuracy: 0.9672 - lr: 1.0000e-04\n",
            "25/25 [==============================] - 2s 60ms/step - loss: 0.0795 - accuracy: 0.9672\n",
            "Results for fold 4\n",
            "Found 1584 files belonging to 6 classes.\n",
            "Found 396 files belonging to 6 classes.\n",
            "Epoch 1/5\n",
            "99/99 [==============================] - 23s 229ms/step - loss: 0.0974 - accuracy: 0.9615 - val_loss: 0.0468 - val_accuracy: 0.9823 - lr: 1.0000e-04\n",
            "Epoch 2/5\n",
            "99/99 [==============================] - 21s 214ms/step - loss: 0.0950 - accuracy: 0.9646 - val_loss: 0.0717 - val_accuracy: 0.9747 - lr: 1.0000e-04\n",
            "Epoch 3/5\n",
            "99/99 [==============================] - 22s 217ms/step - loss: 0.0917 - accuracy: 0.9678 - val_loss: 0.0438 - val_accuracy: 0.9874 - lr: 1.0000e-04\n",
            "Epoch 4/5\n",
            "99/99 [==============================] - 22s 215ms/step - loss: 0.0860 - accuracy: 0.9665 - val_loss: 0.0559 - val_accuracy: 0.9798 - lr: 1.0000e-04\n",
            "Epoch 5/5\n",
            "99/99 [==============================] - 22s 216ms/step - loss: 0.0848 - accuracy: 0.9691 - val_loss: 0.0714 - val_accuracy: 0.9747 - lr: 1.0000e-04\n",
            "25/25 [==============================] - 2s 58ms/step - loss: 0.0714 - accuracy: 0.9747\n",
            "Results for fold 5\n",
            "Found 1584 files belonging to 6 classes.\n",
            "Found 396 files belonging to 6 classes.\n",
            "Epoch 1/5\n",
            "99/99 [==============================] - 22s 221ms/step - loss: 0.0794 - accuracy: 0.9716 - val_loss: 0.0678 - val_accuracy: 0.9747 - lr: 1.0000e-04\n",
            "Epoch 2/5\n",
            "99/99 [==============================] - 22s 218ms/step - loss: 0.0794 - accuracy: 0.9691 - val_loss: 0.0553 - val_accuracy: 0.9798 - lr: 1.0000e-04\n",
            "Epoch 3/5\n",
            "99/99 [==============================] - 22s 217ms/step - loss: 0.0790 - accuracy: 0.9684 - val_loss: 0.0570 - val_accuracy: 0.9773 - lr: 1.0000e-04\n",
            "Epoch 4/5\n",
            "99/99 [==============================] - 23s 227ms/step - loss: 0.0690 - accuracy: 0.9716 - val_loss: 0.0742 - val_accuracy: 0.9697 - lr: 1.0000e-04\n",
            "Epoch 5/5\n",
            "99/99 [==============================] - ETA: 0s - loss: 0.0613 - accuracy: 0.9804\n",
            "Epoch 5: ReduceLROnPlateau reducing learning rate to 1.0000000474974514e-05.\n",
            "99/99 [==============================] - 22s 217ms/step - loss: 0.0613 - accuracy: 0.9804 - val_loss: 0.0599 - val_accuracy: 0.9747 - lr: 1.0000e-04\n",
            "25/25 [==============================] - 2s 59ms/step - loss: 0.0599 - accuracy: 0.9747\n"
          ]
        }
      ]
    },
    {
      "cell_type": "code",
      "source": [
        "from sklearn.metrics import classification_report, roc_curve, roc_auc_score\n",
        "import pandas as pd\n",
        "import plotly.graph_objects as go\n",
        "import plotly.express as px\n",
        "import matplotlib.pyplot as plt"
      ],
      "metadata": {
        "id": "jJurHyH7k6Ny"
      },
      "execution_count": 32,
      "outputs": []
    },
    {
      "cell_type": "code",
      "source": [
        "plt.title(\"Loss\", fontdict={'fontsize':18})\n",
        "plt.plot(history.history['loss'],label='train')\n",
        "plt.plot(history.history['val_loss'],label='test')\n",
        "plt.legend()\n",
        "plt.show()"
      ],
      "metadata": {
        "id": "TOQlD_ZTko2y",
        "colab": {
          "base_uri": "https://localhost:8080/",
          "height": 457
        },
        "outputId": "beaee3c4-09e5-4951-9d95-1dd604afddd2"
      },
      "execution_count": 33,
      "outputs": [
        {
          "output_type": "display_data",
          "data": {
            "text/plain": [
              "<Figure size 640x480 with 1 Axes>"
            ],
            "image/png": "[encoded data removed]"
          },
          "metadata": {}
        }
      ]
    },
    {
      "cell_type": "code",
      "source": [
        "plt.title(\"Accuracy\", fontdict={'fontsize':18})\n",
        "plt.plot(history.history['accuracy'],label='train')\n",
        "plt.plot(history.history['val_accuracy'],label='test')\n",
        "plt.legend()\n",
        "plt.show()"
      ],
      "metadata": {
        "id": "7pwYMz2Bkyt5",
        "colab": {
          "base_uri": "https://localhost:8080/",
          "height": 457
        },
        "outputId": "b2101386-c6b9-464f-a0b0-f8b5d4d00b9c"
      },
      "execution_count": 34,
      "outputs": [
        {
          "output_type": "display_data",
          "data": {
            "text/plain": [
              "<Figure size 640x480 with 1 Axes>"
            ],
            "image/png": "[encoded data removed]"
          },
          "metadata": {}
        }
      ]
    },
    {
      "cell_type": "code",
      "source": [
        "Y_train = []\n",
        "X_train = []\n",
        "for data in train_generator:\n",
        "    X_train.extend(data[0].numpy())\n",
        "    Y_train.extend(data[1].numpy())\n",
        "Y_train = np.array(Y_train)\n",
        "X_train = np.array(X_train)"
      ],
      "metadata": {
        "id": "93F3DoWUk7Oa"
      },
      "execution_count": 35,
      "outputs": []
    },
    {
      "cell_type": "code",
      "source": [
        "y_train_pred_prob = ensemble_model.predict(X_train)\n",
        "y_train_pred = [np.argmax(i) for i in y_train_pred_prob]"
      ],
      "metadata": {
        "id": "IAbUM7JblMA6",
        "colab": {
          "base_uri": "https://localhost:8080/"
        },
        "outputId": "06b5d5f8-d499-4484-b3a7-12393a7c0ea8"
      },
      "execution_count": 36,
      "outputs": [
        {
          "output_type": "stream",
          "name": "stdout",
          "text": [
            "50/50 [==============================] - 8s 98ms/step\n"
          ]
        }
      ]
    },
    {
      "cell_type": "code",
      "source": [
        "y_train_pred_prob.shape"
      ],
      "metadata": {
        "id": "ubgm_cWxlUrD",
        "colab": {
          "base_uri": "https://localhost:8080/"
        },
        "outputId": "ec5c6b3f-8732-42a1-8367-29c88bb759ff"
      },
      "execution_count": 37,
      "outputs": [
        {
          "output_type": "execute_result",
          "data": {
            "text/plain": [
              "(1584, 6)"
            ]
          },
          "metadata": {},
          "execution_count": 37
        }
      ]
    },
    {
      "cell_type": "code",
      "source": [
        "#function to plot roc-auc curve\n",
        "def roc_auc_curve(y_scores, y_true):\n",
        "    # One hot encode the labels in order to plot them\n",
        "    y_onehot = pd.get_dummies(y_true, columns=classLabels)\n",
        "\n",
        "    # Create an empty figure, and iteratively add new lines\n",
        "    # every time we compute a new class\n",
        "    fig = go.Figure()\n",
        "    fig.add_shape(\n",
        "        type='line', line=dict(dash='dash'),\n",
        "        x0=0, x1=1, y0=0, y1=1\n",
        "    )\n",
        "\n",
        "    for i in range(y_scores.shape[1]):\n",
        "        y_true = y_onehot.iloc[:, i]\n",
        "        y_score = y_scores[:, i]\n",
        "\n",
        "        fpr, tpr, _ = roc_curve(y_true, y_score)\n",
        "        auc_score = roc_auc_score(y_true, y_score)\n",
        "\n",
        "        name = f\"{classLabels[i]} (AUC={auc_score:.2f})\"\n",
        "        fig.add_trace(go.Scatter(x=fpr, y=tpr, name=name, mode='lines'))\n",
        "\n",
        "    fig.update_layout(\n",
        "        title=\"ROC Curve\",\n",
        "        xaxis_title='False Positive Rate',\n",
        "        yaxis_title='True Positive Rate',\n",
        "        yaxis=dict(scaleanchor=\"x\", scaleratio=1),\n",
        "        xaxis=dict(constrain='domain'),\n",
        "        width=900, height=800\n",
        "    )\n",
        "\n",
        "    return fig"
      ],
      "metadata": {
        "id": "A5Ywk5jrlVYi"
      },
      "execution_count": 38,
      "outputs": []
    },
    {
      "cell_type": "code",
      "source": [
        "import seaborn as sb"
      ],
      "metadata": {
        "id": "YlYX57A4lj1J"
      },
      "execution_count": 39,
      "outputs": []
    },
    {
      "cell_type": "code",
      "source": [
        "plt.figure(figsize=(25,7))\n",
        "sb.heatmap(tf.math.confusion_matrix(labels=Y_train,predictions=y_train_pred),annot=True,fmt='.1f', cmap='hot_r')\n",
        "plt.xlabel('Predicted Values')\n",
        "plt.ylabel('Actual Values')\n",
        "plt.title('Confusion Matrix (Training)')\n",
        "plt.tight_layout()\n",
        "plt.show()"
      ],
      "metadata": {
        "id": "sZZQfWeDl9wq",
        "colab": {
          "base_uri": "https://localhost:8080/",
          "height": 356
        },
        "outputId": "dddf20ed-0d77-4658-8f37-e3138a0e7d7d"
      },
      "execution_count": 40,
      "outputs": [
        {
          "output_type": "display_data",
          "data": {
            "text/plain": [
              "<Figure size 2500x700 with 2 Axes>"
            ],
            "image/png": "[encoded data removed]"
          },
          "metadata": {}
        }
      ]
    },
    {
      "cell_type": "code",
      "source": [
        "print(\"Classification Report for Training\")\n",
        "print(classification_report(Y_train, y_train_pred))"
      ],
      "metadata": {
        "id": "iLpnqOcGmEks",
        "colab": {
          "base_uri": "https://localhost:8080/"
        },
        "outputId": "7dba910c-bc02-4bdb-a64f-e34fd4a11b97"
      },
      "execution_count": 41,
      "outputs": [
        {
          "output_type": "stream",
          "name": "stdout",
          "text": [
            "Classification Report for Training\n",
            "              precision    recall  f1-score   support\n",
            "\n",
            "           0       0.98      0.97      0.98       265\n",
            "           1       1.00      1.00      1.00       214\n",
            "           2       0.99      0.98      0.98       293\n",
            "           3       0.98      0.99      0.98       298\n",
            "           4       0.98      0.99      0.99       251\n",
            "           5       1.00      1.00      1.00       263\n",
            "\n",
            "    accuracy                           0.99      1584\n",
            "   macro avg       0.99      0.99      0.99      1584\n",
            "weighted avg       0.99      0.99      0.99      1584\n",
            "\n"
          ]
        }
      ]
    },
    {
      "cell_type": "code",
      "source": [
        "roc_auc_curve(y_train_pred_prob, Y_train)\n",
        "X_test = []\n",
        "y_test = []\n",
        "test_generator = tf.keras.utils.image_dataset_from_directory(\n",
        "        test_path,\n",
        "        image_size=(IMG_SIZE[0], IMG_SIZE[1]),\n",
        "        batch_size=batch_size,\n",
        "\n",
        "          # only data, no labels\n",
        "        #shuffle=False\n",
        "        )\n",
        "for data in test_generator:\n",
        "    X_test.extend(data[0].numpy())\n",
        "    y_test.extend(data[1].numpy())\n",
        "X_test = np.array(X_test)\n",
        "y_test = np.array(y_test)"
      ],
      "metadata": {
        "id": "mu3MhzQnmKR5",
        "colab": {
          "base_uri": "https://localhost:8080/"
        },
        "outputId": "935bfe95-b66c-4e0a-e67f-a8ff0799e487"
      },
      "execution_count": 42,
      "outputs": [
        {
          "output_type": "stream",
          "name": "stdout",
          "text": [
            "Found 2451 files belonging to 6 classes.\n"
          ]
        }
      ]
    },
    {
      "cell_type": "code",
      "source": [
        "y_test_pred_prob = ensemble_model.predict(X_test)\n",
        "y_test_pred = [np.argmax(i) for i in y_test_pred_prob]"
      ],
      "metadata": {
        "id": "peCIJs3KmT5a",
        "colab": {
          "base_uri": "https://localhost:8080/"
        },
        "outputId": "285a4a5e-e573-4096-ba16-e7cd10aa7ac3"
      },
      "execution_count": 43,
      "outputs": [
        {
          "output_type": "stream",
          "name": "stdout",
          "text": [
            "77/77 [==============================] - 8s 109ms/step\n"
          ]
        }
      ]
    },
    {
      "cell_type": "code",
      "source": [
        "np.unique(y_test)"
      ],
      "metadata": {
        "id": "an7a0Ymplmh5",
        "colab": {
          "base_uri": "https://localhost:8080/"
        },
        "outputId": "e91fa844-391d-4e3e-808e-26480e1fa7f5"
      },
      "execution_count": 44,
      "outputs": [
        {
          "output_type": "execute_result",
          "data": {
            "text/plain": [
              "array([0, 1, 2, 3, 4, 5], dtype=int32)"
            ]
          },
          "metadata": {},
          "execution_count": 44
        }
      ]
    },
    {
      "cell_type": "code",
      "source": [
        "plt.figure(figsize=(25,7))\n",
        "sb.heatmap(tf.math.confusion_matrix(labels=y_test,predictions=y_test_pred),annot=True,fmt='.1f', cmap='hot_r')\n",
        "plt.xlabel('Predicted Values')\n",
        "plt.ylabel('Actual Values')\n",
        "plt.title('Confusion Matrix')\n",
        "plt.tight_layout()\n",
        "plt.show()"
      ],
      "metadata": {
        "id": "AxCwvhHVk-vY",
        "colab": {
          "base_uri": "https://localhost:8080/",
          "height": 356
        },
        "outputId": "8ad89a22-aeb5-4dd9-a1bc-3d381a3b3564"
      },
      "execution_count": 45,
      "outputs": [
        {
          "output_type": "display_data",
          "data": {
            "text/plain": [
              "<Figure size 2500x700 with 2 Axes>"
            ],
            "image/png": "[encoded data removed]"
          },
          "metadata": {}
        }
      ]
    },
    {
      "cell_type": "code",
      "source": [
        "print(\"Classification Report for Test\")\n",
        "print(classification_report(y_test, y_test_pred))"
      ],
      "metadata": {
        "id": "LFm0u6zSmaGj",
        "colab": {
          "base_uri": "https://localhost:8080/"
        },
        "outputId": "14fdc93b-698d-424b-b81f-5623b9dea620"
      },
      "execution_count": 46,
      "outputs": [
        {
          "output_type": "stream",
          "name": "stdout",
          "text": [
            "Classification Report for Test\n",
            "              precision    recall  f1-score   support\n",
            "\n",
            "           0       1.00      0.93      0.96       409\n",
            "           1       1.00      1.00      1.00       409\n",
            "           2       0.93      1.00      0.96       409\n",
            "           3       1.00      1.00      1.00       405\n",
            "           4       1.00      1.00      1.00       410\n",
            "           5       1.00      1.00      1.00       409\n",
            "\n",
            "    accuracy                           0.99      2451\n",
            "   macro avg       0.99      0.99      0.99      2451\n",
            "weighted avg       0.99      0.99      0.99      2451\n",
            "\n"
          ]
        }
      ]
    },
    {
      "cell_type": "code",
      "source": [
        "roc_auc_curve(y_test_pred_prob, y_test)"
      ],
      "metadata": {
        "id": "LGL2Ta5xmf5r",
        "colab": {
          "base_uri": "https://localhost:8080/",
          "height": 817
        },
        "outputId": "222e24b1-2c29-454e-e5a7-1a9f4af41665"
      },
      "execution_count": 47,
      "outputs": [
        {
          "output_type": "display_data",
          "data": {
            "text/html": [
              "<html>\n",
              "<head><meta charset=\"utf-8\" /></head>\n",
              "<body>\n",
              "    <div>            <script src=\"https://cdnjs.cloudflare.com/ajax/libs/mathjax/2.7.5/MathJax.js?config=TeX-AMS-MML_SVG\"></script><script type=\"text/javascript\">if (window.MathJax && window.MathJax.Hub && window.MathJax.Hub.Config) {window.MathJax.Hub.Config({SVG: {font: \"STIX-Web\"}});}</script>                <script type=\"text/javascript\">window.PlotlyConfig = {MathJaxConfig: 'local'};</script>\n",
              "        <script src=\"https://cdn.plot.ly/plotly-2.18.2.min.js\"></script>                <div id=\"df27f9d7-7da6-4af3-ae42-66cae1ec4c77\" class=\"plotly-graph-div\" style=\"height:800px; width:900px;\"></div>            <script type=\"text/javascript\">                                    window.PLOTLYENV=window.PLOTLYENV || {};                                    if (document.getElementById(\"df27f9d7-7da6-4af3-ae42-66cae1ec4c77\")) {                    Plotly.newPlot(                        \"df27f9d7-7da6-4af3-ae42-66cae1ec4c77\",                        [{\"mode\":\"lines\",\"name\":\"early_leaf_spot_1 (AUC=1.00)\",\"x\":[0.0,0.0,0.0,0.0,0.0,0.0,0.0,0.0,0.0,0.0,0.0,0.0,0.0,0.0,0.0,0.0,0.0,0.0,0.0,0.0,0.0,0.0,0.0,0.0,0.0,0.0,0.0,0.0,0.0,0.0,0.0,0.0,0.0,0.0,0.0,0.0,0.0,0.0,0.0,0.0,0.0,0.0,0.0,0.0,0.0,0.0,0.0,0.0,0.0,0.0004897159647404506,0.0004897159647404506,0.0009794319294809011,0.0009794319294809011,0.002448579823702253,0.002448579823702253,0.0034280117531831538,0.0034280117531831538,0.011263467189030362,0.011263467189030362,0.013222331047992164,0.013222331047992164,0.017140058765915768,0.017140058765915768,0.01762977473065622,0.01762977473065622,0.020078354554358472,0.020078354554358472,0.023016650342801176,0.023016650342801176,0.02644466209598433,0.02644466209598433,0.03525954946131244,0.03525954946131244,0.03672869735553379,0.03672869735553379,0.039177277179236046,0.039177277179236046,0.04113614103819784,0.04113614103819784,0.04505386875612145,0.04505386875612145,0.04603330068560235,0.04603330068560235,0.0484818805093046,0.0484818805093046,0.04995102840352596,0.04995102840352596,0.05386875612144956,0.05386875612144956,0.07492654260528893,0.07492654260528893,1.0],\"y\":[0.0,0.009779951100244499,0.029339853300733496,0.04156479217603912,0.05867970660146699,0.06845965770171149,0.08068459657701711,0.09046454767726161,0.10268948655256724,0.10513447432762836,0.11491442542787286,0.11735941320293398,0.12224938875305623,0.12469437652811736,0.1466992665036675,0.16136919315403422,0.16381418092909536,0.1784841075794621,0.1882640586797066,0.19315403422982885,0.19559902200489,0.20293398533007334,0.2078239608801956,0.21026894865525672,0.21515892420537897,0.22249388753056235,0.24938875305623473,0.254278728606357,0.2567237163814181,0.2616136919315403,0.27383863080684595,0.2787286063569682,0.29095354523227385,0.29584352078239606,0.31784841075794623,0.32273838630806845,0.34474327628361856,0.34963325183374083,0.3765281173594132,0.38141809290953543,0.38386308068459657,0.38875305623471884,0.39853300733496333,0.4083129584352078,0.48655256723716384,0.49144254278728605,0.4938875305623472,0.49877750611246946,0.9339853300733496,0.9339853300733496,0.9388753056234719,0.9388753056234719,0.9437652811735942,0.9437652811735942,0.9462102689486552,0.9462102689486552,0.9486552567237164,0.9486552567237164,0.9511002444987775,0.9511002444987775,0.9535452322738386,0.9535452322738386,0.9559902200488998,0.9559902200488998,0.9584352078239609,0.9584352078239609,0.960880195599022,0.960880195599022,0.9633251833740831,0.9633251833740831,0.9682151589242054,0.9682151589242054,0.9706601466992665,0.9706601466992665,0.9731051344743277,0.9731051344743277,0.9755501222493888,0.9755501222493888,0.9779951100244498,0.9779951100244498,0.980440097799511,0.980440097799511,0.9853300733496333,0.9853300733496333,0.9926650366748166,0.9926650366748166,0.9951100244498777,0.9951100244498777,0.9975550122249389,0.9975550122249389,1.0,1.0],\"type\":\"scatter\"},{\"mode\":\"lines\",\"name\":\"early_rust_1 (AUC=1.00)\",\"x\":[0.0,0.0,0.0,0.0,0.0,0.0,0.0,0.0,0.0,0.0,0.0,0.0,0.0,0.0,0.0,0.0,0.0,0.0,0.0,0.0,0.0,0.0,0.0,0.0,0.0,0.0,0.0,0.0,0.0,0.0,0.0,0.0,0.0,0.0,0.0,0.0,0.0,1.0],\"y\":[0.0,0.03667481662591687,0.15158924205378974,0.2176039119804401,0.2567237163814181,0.2762836185819071,0.29095354523227385,0.3154034229828851,0.32273838630806845,0.33251833740831294,0.34474327628361856,0.3471882640586797,0.3569682151589242,0.3643031784841076,0.3740831295843521,0.38386308068459657,0.38875305623471884,0.39364303178484106,0.40097799511002447,0.4058679706601467,0.41075794621026895,0.4156479217603912,0.4180929095354523,0.4229828850855746,0.44254278728606355,0.4474327628361858,0.4792176039119804,0.4841075794621027,0.48655256723716384,0.49144254278728605,0.508557457212714,0.5134474327628362,0.5354523227383863,0.5403422982885085,0.5452322738386308,0.5550122249388753,1.0,1.0],\"type\":\"scatter\"},{\"mode\":\"lines\",\"name\":\"healthy_leaf_1 (AUC=1.00)\",\"x\":[0.0,0.0,0.0,0.0,0.0,0.0,0.0,0.0,0.0,0.0,0.0,0.0,0.0,0.0,0.0,0.0,0.0,0.0,0.0,0.0,0.0,0.0,0.0,0.0,0.0,0.0,0.0,0.0,0.0,0.0,0.0,0.0,0.0,0.0,0.0,0.0,0.0,0.0,0.0,0.0,0.0,0.0,0.0,0.0004897159647404506,0.0004897159647404506,0.0004897159647404506,0.0004897159647404506,0.0004897159647404506,0.0004897159647404506,0.0014691478942213516,0.0014691478942213516,0.0019588638589618022,0.0019588638589618022,0.002938295788442703,0.002938295788442703,0.004407443682664055,0.004407443682664055,0.007345739471106758,0.007345739471106758,0.007835455435847209,0.007835455435847209,1.0],\"y\":[0.0,0.0024449877750611247,0.012224938875305624,0.017114914425427872,0.019559902200488997,0.02444987775061125,0.07334963325183375,0.08312958435207823,0.09290953545232274,0.097799511002445,0.13202933985330073,0.13691931540342298,0.1466992665036675,0.15158924205378974,0.16381418092909536,0.17114914425427874,0.21271393643031786,0.2176039119804401,0.22249388753056235,0.23227383863080683,0.23471882640586797,0.2396088019559902,0.24938875305623473,0.254278728606357,0.2762836185819071,0.28117359413202936,0.3569682151589242,0.36185819070904646,0.37163814180929094,0.3765281173594132,0.4254278728606357,0.43031784841075793,0.4743276283618582,0.4792176039119804,0.4841075794621027,0.4889975550122249,0.5012224938875306,0.5061124694376528,0.5672371638141809,0.5721271393643031,0.7506112469437652,0.7555012224938875,0.8117359413202934,0.8117359413202934,0.8215158924205379,0.8264058679706602,0.8410757946210269,0.8459657701711492,0.9633251833740831,0.9633251833740831,0.9657701711491442,0.9657701711491442,0.9731051344743277,0.9731051344743277,0.9902200488997555,0.9902200488997555,0.9951100244498777,0.9951100244498777,0.9975550122249389,0.9975550122249389,1.0,1.0],\"type\":\"scatter\"},{\"mode\":\"lines\",\"name\":\"late_leaf_spot_1 (AUC=1.00)\",\"x\":[0.0,0.0,0.0,0.0,0.0,0.0,0.0,0.0,0.0,0.0,0.0,0.0,0.0,0.0,0.0,0.0,0.0,0.0,0.0,0.0,0.0,0.0,0.0,0.0,0.0,0.0,0.0,0.0,0.0,0.0,0.0,0.0,0.0,0.0,0.0,0.0,0.0,0.0,0.0,0.0,0.0,0.0,0.0,0.0,0.0,0.0,0.0,1.0],\"y\":[0.0,0.0049382716049382715,0.009876543209876543,0.01728395061728395,0.027160493827160494,0.04197530864197531,0.05432098765432099,0.06172839506172839,0.08641975308641975,0.11604938271604938,0.12345679012345678,0.13333333333333333,0.14320987654320988,0.15555555555555556,0.1580246913580247,0.1728395061728395,0.17777777777777778,0.18271604938271604,0.18765432098765433,0.19506172839506172,0.2,0.20493827160493827,0.2074074074074074,0.2123456790123457,0.2222222222222222,0.22962962962962963,0.23209876543209876,0.2518518518518518,0.25679012345679014,0.2617283950617284,0.2716049382716049,0.2814814814814815,0.29876543209876544,0.30864197530864196,0.3530864197530864,0.362962962962963,0.3728395061728395,0.38271604938271603,0.3851851851851852,0.39012345679012345,0.4,0.4049382716049383,0.4345679012345679,0.43950617283950616,0.4839506172839506,0.4888888888888889,1.0,1.0],\"type\":\"scatter\"},{\"mode\":\"lines\",\"name\":\"nutrition_deficiency_1 (AUC=1.00)\",\"x\":[0.0,0.0,0.0,0.0,0.0,0.0,0.0,0.0,0.0,0.0,0.0,0.0,0.0,0.0,0.0,0.0,0.0,0.0,0.0,0.0,0.0,0.0,0.0,0.0,0.0,0.0,0.0,0.0,0.0,0.0,0.0,0.0,0.0,0.0,0.0,0.0,0.0,0.0,0.0,0.0,0.0,0.0,0.0,0.0,0.0,0.0,0.0,0.0,0.0,0.0,0.0,0.0,0.0,0.0,1.0],\"y\":[0.0,0.0024390243902439024,0.01707317073170732,0.026829268292682926,0.05365853658536585,0.05853658536585366,0.06097560975609756,0.06585365853658537,0.07073170731707316,0.07804878048780488,0.08048780487804878,0.08536585365853659,0.13170731707317074,0.13658536585365855,0.14146341463414633,0.14634146341463414,0.14878048780487804,0.15365853658536585,0.17317073170731706,0.17804878048780487,0.18292682926829268,0.1878048780487805,0.1926829268292683,0.1975609756097561,0.20243902439024392,0.2073170731707317,0.2097560975609756,0.2146341463414634,0.26097560975609757,0.2682926829268293,0.2731707317073171,0.2926829268292683,0.3024390243902439,0.34146341463414637,0.3463414634146341,0.3780487804878049,0.3829268292682927,0.4219512195121951,0.4268292682926829,0.4560975609756098,0.4609756097560976,0.5390243902439025,0.5487804878048781,0.5609756097560976,0.5658536585365853,0.6170731707317073,0.6219512195121951,0.6414634146341464,0.6463414634146342,0.6487804878048781,0.6536585365853659,0.8804878048780488,0.8853658536585366,1.0,1.0],\"type\":\"scatter\"},{\"mode\":\"lines\",\"name\":\"rust_1 (AUC=1.00)\",\"x\":[0.0,0.0,0.0,0.0,0.0,0.0,0.0,0.0,0.0,0.0,0.0,0.0,0.0,0.0,0.0,0.0,0.0,0.0,0.0,0.0,0.0,0.0,0.0,0.0,0.0,0.0,0.0,0.0,0.0,0.0,0.0,0.0,0.0,0.0,0.0,0.0,0.0,0.0,0.0,0.0,0.0,0.0,0.0,0.0,0.0,0.0,0.0,0.0,0.0,0.0,0.0,0.0,0.0,0.0,0.0,0.0,0.0,0.0,0.0,0.0,0.0,0.0,0.0,0.0,0.0,0.0,0.0,0.0,0.0,0.0,0.0,0.0,0.0,0.0,0.0,0.0,0.0,0.0,0.0,0.0,0.0,0.0,0.0,0.0,0.0,0.0,0.0,0.0,0.0,1.0],\"y\":[0.0,0.02444987775061125,0.04156479217603912,0.0488997555012225,0.06601466992665037,0.07334963325183375,0.08557457212713937,0.09535452322738386,0.10024449877750612,0.10757946210268948,0.1100244498777506,0.11735941320293398,0.1295843520782396,0.13447432762836187,0.1466992665036675,0.15647921760391198,0.16381418092909536,0.16625916870415647,0.17114914425427874,0.18092909535452323,0.19559902200489,0.2200488997555012,0.22982885085574573,0.23471882640586797,0.2396088019559902,0.24205378973105135,0.2469437652811736,0.24938875305623473,0.254278728606357,0.2591687041564792,0.26405867970660146,0.26894865525672373,0.2762836185819071,0.2885085574572127,0.29095354523227385,0.30073349633251834,0.3105134474327628,0.3154034229828851,0.33007334963325186,0.33985330073349634,0.34474327628361856,0.34963325183374083,0.3569682151589242,0.3594132029339853,0.36674816625916873,0.37163814180929094,0.3740831295843521,0.37897310513447435,0.3863080684596577,0.39119804400978,0.39853300733496333,0.4058679706601467,0.41075794621026895,0.4180929095354523,0.4229828850855746,0.43765281173594134,0.4400977995110024,0.4474327628361858,0.45232273838630804,0.4572127139364303,0.4669926650366748,0.4743276283618582,0.4792176039119804,0.4889975550122249,0.4938875305623472,0.49877750611246946,0.5232273838630807,0.5281173594132029,0.5427872860635696,0.5525672371638142,0.5550122249388753,0.5599022004889975,0.5696821515892421,0.5770171149144254,0.6014669926650367,0.6063569682151589,0.6332518337408313,0.6381418092909535,0.6405867970660146,0.6454767726161369,0.6723716381418093,0.6772616136919315,0.78239608801956,0.7872860635696821,0.80440097799511,0.8092909535452323,0.823960880195599,0.8288508557457213,1.0,1.0],\"type\":\"scatter\"}],                        {\"template\":{\"data\":{\"histogram2dcontour\":[{\"type\":\"histogram2dcontour\",\"colorbar\":{\"outlinewidth\":0,\"ticks\":\"\"},\"colorscale\":[[0.0,\"#0d0887\"],[0.1111111111111111,\"#46039f\"],[0.2222222222222222,\"#7201a8\"],[0.3333333333333333,\"#9c179e\"],[0.4444444444444444,\"#bd3786\"],[0.5555555555555556,\"#d8576b\"],[0.6666666666666666,\"#ed7953\"],[0.7777777777777778,\"#fb9f3a\"],[0.8888888888888888,\"#fdca26\"],[1.0,\"#f0f921\"]]}],\"choropleth\":[{\"type\":\"choropleth\",\"colorbar\":{\"outlinewidth\":0,\"ticks\":\"\"}}],\"histogram2d\":[{\"type\":\"histogram2d\",\"colorbar\":{\"outlinewidth\":0,\"ticks\":\"\"},\"colorscale\":[[0.0,\"#0d0887\"],[0.1111111111111111,\"#46039f\"],[0.2222222222222222,\"#7201a8\"],[0.3333333333333333,\"#9c179e\"],[0.4444444444444444,\"#bd3786\"],[0.5555555555555556,\"#d8576b\"],[0.6666666666666666,\"#ed7953\"],[0.7777777777777778,\"#fb9f3a\"],[0.8888888888888888,\"#fdca26\"],[1.0,\"#f0f921\"]]}],\"heatmap\":[{\"type\":\"heatmap\",\"colorbar\":{\"outlinewidth\":0,\"ticks\":\"\"},\"colorscale\":[[0.0,\"#0d0887\"],[0.1111111111111111,\"#46039f\"],[0.2222222222222222,\"#7201a8\"],[0.3333333333333333,\"#9c179e\"],[0.4444444444444444,\"#bd3786\"],[0.5555555555555556,\"#d8576b\"],[0.6666666666666666,\"#ed7953\"],[0.7777777777777778,\"#fb9f3a\"],[0.8888888888888888,\"#fdca26\"],[1.0,\"#f0f921\"]]}],\"heatmapgl\":[{\"type\":\"heatmapgl\",\"colorbar\":{\"outlinewidth\":0,\"ticks\":\"\"},\"colorscale\":[[0.0,\"#0d0887\"],[0.1111111111111111,\"#46039f\"],[0.2222222222222222,\"#7201a8\"],[0.3333333333333333,\"#9c179e\"],[0.4444444444444444,\"#bd3786\"],[0.5555555555555556,\"#d8576b\"],[0.6666666666666666,\"#ed7953\"],[0.7777777777777778,\"#fb9f3a\"],[0.8888888888888888,\"#fdca26\"],[1.0,\"#f0f921\"]]}],\"contourcarpet\":[{\"type\":\"contourcarpet\",\"colorbar\":{\"outlinewidth\":0,\"ticks\":\"\"}}],\"contour\":[{\"type\":\"contour\",\"colorbar\":{\"outlinewidth\":0,\"ticks\":\"\"},\"colorscale\":[[0.0,\"#0d0887\"],[0.1111111111111111,\"#46039f\"],[0.2222222222222222,\"#7201a8\"],[0.3333333333333333,\"#9c179e\"],[0.4444444444444444,\"#bd3786\"],[0.5555555555555556,\"#d8576b\"],[0.6666666666666666,\"#ed7953\"],[0.7777777777777778,\"#fb9f3a\"],[0.8888888888888888,\"#fdca26\"],[1.0,\"#f0f921\"]]}],\"surface\":[{\"type\":\"surface\",\"colorbar\":{\"outlinewidth\":0,\"ticks\":\"\"},\"colorscale\":[[0.0,\"#0d0887\"],[0.1111111111111111,\"#46039f\"],[0.2222222222222222,\"#7201a8\"],[0.3333333333333333,\"#9c179e\"],[0.4444444444444444,\"#bd3786\"],[0.5555555555555556,\"#d8576b\"],[0.6666666666666666,\"#ed7953\"],[0.7777777777777778,\"#fb9f3a\"],[0.8888888888888888,\"#fdca26\"],[1.0,\"#f0f921\"]]}],\"mesh3d\":[{\"type\":\"mesh3d\",\"colorbar\":{\"outlinewidth\":0,\"ticks\":\"\"}}],\"scatter\":[{\"fillpattern\":{\"fillmode\":\"overlay\",\"size\":10,\"solidity\":0.2},\"type\":\"scatter\"}],\"parcoords\":[{\"type\":\"parcoords\",\"line\":{\"colorbar\":{\"outlinewidth\":0,\"ticks\":\"\"}}}],\"scatterpolargl\":[{\"type\":\"scatterpolargl\",\"marker\":{\"colorbar\":{\"outlinewidth\":0,\"ticks\":\"\"}}}],\"bar\":[{\"error_x\":{\"color\":\"#2a3f5f\"},\"error_y\":{\"color\":\"#2a3f5f\"},\"marker\":{\"line\":{\"color\":\"#E5ECF6\",\"width\":0.5},\"pattern\":{\"fillmode\":\"overlay\",\"size\":10,\"solidity\":0.2}},\"type\":\"bar\"}],\"scattergeo\":[{\"type\":\"scattergeo\",\"marker\":{\"colorbar\":{\"outlinewidth\":0,\"ticks\":\"\"}}}],\"scatterpolar\":[{\"type\":\"scatterpolar\",\"marker\":{\"colorbar\":{\"outlinewidth\":0,\"ticks\":\"\"}}}],\"histogram\":[{\"marker\":{\"pattern\":{\"fillmode\":\"overlay\",\"size\":10,\"solidity\":0.2}},\"type\":\"histogram\"}],\"scattergl\":[{\"type\":\"scattergl\",\"marker\":{\"colorbar\":{\"outlinewidth\":0,\"ticks\":\"\"}}}],\"scatter3d\":[{\"type\":\"scatter3d\",\"line\":{\"colorbar\":{\"outlinewidth\":0,\"ticks\":\"\"}},\"marker\":{\"colorbar\":{\"outlinewidth\":0,\"ticks\":\"\"}}}],\"scattermapbox\":[{\"type\":\"scattermapbox\",\"marker\":{\"colorbar\":{\"outlinewidth\":0,\"ticks\":\"\"}}}],\"scatterternary\":[{\"type\":\"scatterternary\",\"marker\":{\"colorbar\":{\"outlinewidth\":0,\"ticks\":\"\"}}}],\"scattercarpet\":[{\"type\":\"scattercarpet\",\"marker\":{\"colorbar\":{\"outlinewidth\":0,\"ticks\":\"\"}}}],\"carpet\":[{\"aaxis\":{\"endlinecolor\":\"#2a3f5f\",\"gridcolor\":\"white\",\"linecolor\":\"white\",\"minorgridcolor\":\"white\",\"startlinecolor\":\"#2a3f5f\"},\"baxis\":{\"endlinecolor\":\"#2a3f5f\",\"gridcolor\":\"white\",\"linecolor\":\"white\",\"minorgridcolor\":\"white\",\"startlinecolor\":\"#2a3f5f\"},\"type\":\"carpet\"}],\"table\":[{\"cells\":{\"fill\":{\"color\":\"#EBF0F8\"},\"line\":{\"color\":\"white\"}},\"header\":{\"fill\":{\"color\":\"#C8D4E3\"},\"line\":{\"color\":\"white\"}},\"type\":\"table\"}],\"barpolar\":[{\"marker\":{\"line\":{\"color\":\"#E5ECF6\",\"width\":0.5},\"pattern\":{\"fillmode\":\"overlay\",\"size\":10,\"solidity\":0.2}},\"type\":\"barpolar\"}],\"pie\":[{\"automargin\":true,\"type\":\"pie\"}]},\"layout\":{\"autotypenumbers\":\"strict\",\"colorway\":[\"#636efa\",\"#EF553B\",\"#00cc96\",\"#ab63fa\",\"#FFA15A\",\"#19d3f3\",\"#FF6692\",\"#B6E880\",\"#FF97FF\",\"#FECB52\"],\"font\":{\"color\":\"#2a3f5f\"},\"hovermode\":\"closest\",\"hoverlabel\":{\"align\":\"left\"},\"paper_bgcolor\":\"white\",\"plot_bgcolor\":\"#E5ECF6\",\"polar\":{\"bgcolor\":\"#E5ECF6\",\"angularaxis\":{\"gridcolor\":\"white\",\"linecolor\":\"white\",\"ticks\":\"\"},\"radialaxis\":{\"gridcolor\":\"white\",\"linecolor\":\"white\",\"ticks\":\"\"}},\"ternary\":{\"bgcolor\":\"#E5ECF6\",\"aaxis\":{\"gridcolor\":\"white\",\"linecolor\":\"white\",\"ticks\":\"\"},\"baxis\":{\"gridcolor\":\"white\",\"linecolor\":\"white\",\"ticks\":\"\"},\"caxis\":{\"gridcolor\":\"white\",\"linecolor\":\"white\",\"ticks\":\"\"}},\"coloraxis\":{\"colorbar\":{\"outlinewidth\":0,\"ticks\":\"\"}},\"colorscale\":{\"sequential\":[[0.0,\"#0d0887\"],[0.1111111111111111,\"#46039f\"],[0.2222222222222222,\"#7201a8\"],[0.3333333333333333,\"#9c179e\"],[0.4444444444444444,\"#bd3786\"],[0.5555555555555556,\"#d8576b\"],[0.6666666666666666,\"#ed7953\"],[0.7777777777777778,\"#fb9f3a\"],[0.8888888888888888,\"#fdca26\"],[1.0,\"#f0f921\"]],\"sequentialminus\":[[0.0,\"#0d0887\"],[0.1111111111111111,\"#46039f\"],[0.2222222222222222,\"#7201a8\"],[0.3333333333333333,\"#9c179e\"],[0.4444444444444444,\"#bd3786\"],[0.5555555555555556,\"#d8576b\"],[0.6666666666666666,\"#ed7953\"],[0.7777777777777778,\"#fb9f3a\"],[0.8888888888888888,\"#fdca26\"],[1.0,\"#f0f921\"]],\"diverging\":[[0,\"#8e0152\"],[0.1,\"#c51b7d\"],[0.2,\"#de77ae\"],[0.3,\"#f1b6da\"],[0.4,\"#fde0ef\"],[0.5,\"#f7f7f7\"],[0.6,\"#e6f5d0\"],[0.7,\"#b8e186\"],[0.8,\"#7fbc41\"],[0.9,\"#4d9221\"],[1,\"#276419\"]]},\"xaxis\":{\"gridcolor\":\"white\",\"linecolor\":\"white\",\"ticks\":\"\",\"title\":{\"standoff\":15},\"zerolinecolor\":\"white\",\"automargin\":true,\"zerolinewidth\":2},\"yaxis\":{\"gridcolor\":\"white\",\"linecolor\":\"white\",\"ticks\":\"\",\"title\":{\"standoff\":15},\"zerolinecolor\":\"white\",\"automargin\":true,\"zerolinewidth\":2},\"scene\":{\"xaxis\":{\"backgroundcolor\":\"#E5ECF6\",\"gridcolor\":\"white\",\"linecolor\":\"white\",\"showbackground\":true,\"ticks\":\"\",\"zerolinecolor\":\"white\",\"gridwidth\":2},\"yaxis\":{\"backgroundcolor\":\"#E5ECF6\",\"gridcolor\":\"white\",\"linecolor\":\"white\",\"showbackground\":true,\"ticks\":\"\",\"zerolinecolor\":\"white\",\"gridwidth\":2},\"zaxis\":{\"backgroundcolor\":\"#E5ECF6\",\"gridcolor\":\"white\",\"linecolor\":\"white\",\"showbackground\":true,\"ticks\":\"\",\"zerolinecolor\":\"white\",\"gridwidth\":2}},\"shapedefaults\":{\"line\":{\"color\":\"#2a3f5f\"}},\"annotationdefaults\":{\"arrowcolor\":\"#2a3f5f\",\"arrowhead\":0,\"arrowwidth\":1},\"geo\":{\"bgcolor\":\"white\",\"landcolor\":\"#E5ECF6\",\"subunitcolor\":\"white\",\"showland\":true,\"showlakes\":true,\"lakecolor\":\"white\"},\"title\":{\"x\":0.05},\"mapbox\":{\"style\":\"light\"}}},\"shapes\":[{\"line\":{\"dash\":\"dash\"},\"type\":\"line\",\"x0\":0,\"x1\":1,\"y0\":0,\"y1\":1}],\"yaxis\":{\"title\":{\"text\":\"True Positive Rate\"},\"scaleanchor\":\"x\",\"scaleratio\":1},\"xaxis\":{\"title\":{\"text\":\"False Positive Rate\"},\"constrain\":\"domain\"},\"title\":{\"text\":\"ROC Curve\"},\"width\":900,\"height\":800},                        {\"responsive\": true}                    ).then(function(){\n",
              "                            \n",
              "var gd = document.getElementById('df27f9d7-7da6-4af3-ae42-66cae1ec4c77');\n",
              "var x = new MutationObserver(function (mutations, observer) {{\n",
              "        var display = window.getComputedStyle(gd).display;\n",
              "        if (!display || display === 'none') {{\n",
              "            console.log([gd, 'removed!']);\n",
              "            Plotly.purge(gd);\n",
              "            observer.disconnect();\n",
              "        }}\n",
              "}});\n",
              "\n",
              "// Listen for the removal of the full notebook cells\n",
              "var notebookContainer = gd.closest('#notebook-container');\n",
              "if (notebookContainer) {{\n",
              "    x.observe(notebookContainer, {childList: true});\n",
              "}}\n",
              "\n",
              "// Listen for the clearing of the current output cell\n",
              "var outputEl = gd.closest('.output');\n",
              "if (outputEl) {{\n",
              "    x.observe(outputEl, {childList: true});\n",
              "}}\n",
              "\n",
              "                        })                };                            </script>        </div>\n",
              "</body>\n",
              "</html>"
            ]
          },
          "metadata": {}
        }
      ]
    },
    {
      "cell_type": "code",
      "source": [
        "from tensorflow.keras.models import save_model\n"
      ],
      "metadata": {
        "id": "AymS4krnmhuC"
      },
      "execution_count": 48,
      "outputs": []
    },
    {
      "cell_type": "code",
      "source": [
        "MODEL_FILENAMEs=root_path+\"model_5fold_EA_MR50IV3010775125.h5\"\n",
        "ensemble_model.save(MODEL_FILENAMEs)"
      ],
      "metadata": {
        "id": "kJi_fTcE_QH6",
        "colab": {
          "base_uri": "https://localhost:8080/"
        },
        "outputId": "2de09a65-29c9-4e2e-d6de-f0dd52933e11"
      },
      "execution_count": 49,
      "outputs": [
        {
          "output_type": "stream",
          "name": "stderr",
          "text": [
            "WARNING:tensorflow:Found duplicated `Variable`s in Model's `weights`. This is usually caused by `Variable`s being shared by Layers in the Model. These `Variable`s will be treated as separate `Variable`s when the Model is restored. To avoid this, please save with `save_format=\"tf\"`.\n"
          ]
        }
      ]
    },
    {
      "cell_type": "code",
      "source": [],
      "metadata": {
        "id": "Ihx8KZ7b3XgH"
      },
      "execution_count": 49,
      "outputs": []
    }
  ]
}