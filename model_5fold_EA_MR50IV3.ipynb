{
  "nbformat": 4,
  "nbformat_minor": 0,
  "metadata": {
    "colab": {
      "provenance": [],
      "gpuType": "T4",
      "toc_visible": true,
      "include_colab_link": true
    },
    "kernelspec": {
      "name": "python3",
      "display_name": "Python 3"
    },
    "language_info": {
      "name": "python"
    },
    "gpuClass": "standard",
    "accelerator": "GPU"
  },
  "cells": [
    {
      "cell_type": "markdown",
      "metadata": {
        "id": "view-in-github",
        "colab_type": "text"
      },
      "source": [
        "<a href=\"https://colab.research.google.com/github/mancudEOM/Ensemble-deep-learning/blob/main/model_5fold_EA_MR50IV3.ipynb\" target=\"_parent\"><img src=\"https://colab.research.google.com/assets/colab-badge.svg\" alt=\"Open In Colab\"/></a>"
      ]
    },
    {
      "cell_type": "code",
      "execution_count": 1,
      "metadata": {
        "id": "re2cPhu8Glvf",
        "colab": {
          "base_uri": "https://localhost:8080/"
        },
        "outputId": "355822c9-30d5-44dc-fdcd-b23b1f2b342f"
      },
      "outputs": [
        {
          "output_type": "stream",
          "name": "stdout",
          "text": [
            "Drive already mounted at /content/drive; to attempt to forcibly remount, call drive.mount(\"/content/drive\", force_remount=True).\n"
          ]
        }
      ],
      "source": [
        "  from google.colab import drive\n",
        "  drive.mount('/content/drive')\n",
        "\n"
      ]
    },
    {
      "cell_type": "code",
      "source": [
        "  !ls\n"
      ],
      "metadata": {
        "id": "16aNt0njGqgR",
        "colab": {
          "base_uri": "https://localhost:8080/"
        },
        "outputId": "8876d693-b9e1-4eb1-92fe-db0e421e1d4a"
      },
      "execution_count": 2,
      "outputs": [
        {
          "output_type": "stream",
          "name": "stdout",
          "text": [
            "drive  sample_data\n"
          ]
        }
      ]
    },
    {
      "cell_type": "code",
      "source": [
        "  import sys\n",
        "  root_path = '/content/drive/My Drive/Groundnut_Leaf_dataset/' # This is the path to where in google drive the code is stored!\n",
        "  sys.path.append(root_path)"
      ],
      "metadata": {
        "id": "6kpNIXuzGskg"
      },
      "execution_count": 3,
      "outputs": []
    },
    {
      "cell_type": "markdown",
      "source": [
        "# THÊM TẤT CẢ CÁC THƯ VIỆN CẦN THIẾT"
      ],
      "metadata": {
        "id": "qMNSUzIxL7JZ"
      }
    },
    {
      "cell_type": "code",
      "source": [
        "import numpy as np\n",
        "from sklearn.metrics import accuracy_score, f1_score, precision_score, confusion_matrix\n",
        "from sklearn.model_selection import StratifiedKFold\n",
        "from PIL import Image\n",
        "import random\n",
        "import tensorflow as tf\n",
        "from tensorflow.keras.models import Sequential\n",
        "from keras.preprocessing.image import ImageDataGenerator\n",
        "from tensorflow.keras.preprocessing.image import ImageDataGenerator\n",
        "from tensorflow.keras.layers import Dense, Dropout, Flatten, Conv2D, MaxPooling2D\n",
        "\n",
        "from tensorflow.compat.v1 import ConfigProto\n",
        "from tensorflow.compat.v1 import InteractiveSession\n",
        "import warnings\n",
        "import os\n",
        "import shutil\n",
        "from PIL import ImageFile\n",
        "warnings.simplefilter('error', Image.DecompressionBombWarning)\n",
        "ImageFile.LOAD_TRUNCATED_IMAGES = True\n",
        "Image.MAX_IMAGE_PIXELS = 1000000000\n",
        "config = ConfigProto()\n",
        "config.gpu_options.allow_growth = True\n",
        "session = InteractiveSession(config=config)"
      ],
      "metadata": {
        "id": "NJq2Vm2hHTWR"
      },
      "execution_count": 4,
      "outputs": []
    },
    {
      "cell_type": "markdown",
      "source": [
        "# Khởi tạo các biến cần thiết"
      ],
      "metadata": {
        "id": "QYpc-VdEMGBS"
      }
    },
    {
      "cell_type": "code",
      "source": [
        "datasetFolderName=root_path+'dataset'\n",
        "MODEL_FILENAME=root_path+\"model_cv.h5\"\n",
        "sourceFiles=[]\n",
        "classLabels=['early_leaf_spot_1','early_rust_1','healthy_leaf_1',\n",
        "              'late_leaf_spot_1','nutrition_deficiency_1','rust_1']\n",
        "X=[]\n",
        "Y=[]\n",
        "\n",
        "img_rows, img_cols =  224, 224\n",
        "# input image dimensions\n",
        "#img_rows, img_cols =  224, 224 # input image dimensions\n",
        "train_path=datasetFolderName+'/train/'\n",
        "validation_path=datasetFolderName+'/validation/'\n",
        "test_path=datasetFolderName+'/test/'"
      ],
      "metadata": {
        "id": "iCy2O5d9Jxq6"
      },
      "execution_count": 5,
      "outputs": []
    },
    {
      "cell_type": "markdown",
      "source": [
        "# KFOLD train-test-validation"
      ],
      "metadata": {
        "id": "LyAnSQTbMblZ"
      }
    },
    {
      "cell_type": "code",
      "source": [
        "def transferBetweenFolders(source, dest, splitRate):\n",
        "    global sourceFiles\n",
        "    sourceFiles=os.listdir(source)\n",
        "    if(len(sourceFiles)!=0):\n",
        "        transferFileNumbers=int(len(sourceFiles)*splitRate)\n",
        "        transferIndex=random.sample(range(0, len(sourceFiles)), transferFileNumbers)\n",
        "        for eachIndex in transferIndex:\n",
        "            shutil.move(source+str(sourceFiles[eachIndex]), dest+str(sourceFiles[eachIndex]))\n",
        "    else:\n",
        "        print(\"No file moved. Source empty!\")\n",
        "\n",
        "def transferAllClassBetweenFolders(source, dest, splitRate):\n",
        "    for label in classLabels:\n",
        "        transferBetweenFolders(datasetFolderName+'/'+source+'/'+label+'/',\n",
        "                               datasetFolderName+'/'+dest+'/'+label+'/',\n",
        "                               splitRate)"
      ],
      "metadata": {
        "id": "RgfHPIHbJ4rR"
      },
      "execution_count": 6,
      "outputs": []
    },
    {
      "cell_type": "code",
      "source": [
        "#transferAllClassBetweenFolders('test', 'train', 1.0)"
      ],
      "metadata": {
        "id": "stSX_AiNKleb"
      },
      "execution_count": 7,
      "outputs": []
    },
    {
      "cell_type": "code",
      "source": [
        "transferAllClassBetweenFolders('validation', 'train', 1.0)"
      ],
      "metadata": {
        "id": "Z6o8gWE-N-rq"
      },
      "execution_count": 8,
      "outputs": []
    },
    {
      "cell_type": "code",
      "source": [
        "#transferAllClassBetweenFolders('train', 'test', 0.20)"
      ],
      "metadata": {
        "id": "arE4ro1JKqIh"
      },
      "execution_count": 9,
      "outputs": []
    },
    {
      "cell_type": "code",
      "source": [
        "def prepareNameWithLabels(folderName):\n",
        "    sourceFiles=os.listdir(datasetFolderName+'/train/'+folderName)\n",
        "    for val in sourceFiles:\n",
        "        X.append(val)\n",
        "        for i in range(len(classLabels)):\n",
        "          if(folderName==classLabels[i]):\n",
        "              Y.append(i)"
      ],
      "metadata": {
        "id": "73VhRSA2K0fp"
      },
      "execution_count": 10,
      "outputs": []
    },
    {
      "cell_type": "code",
      "source": [
        "# Organize file names and class labels in X and Y variables\n",
        "for i in range(len(classLabels)):\n",
        "  prepareNameWithLabels(classLabels[i])"
      ],
      "metadata": {
        "id": "u6pP6P3YK2Ub"
      },
      "execution_count": 11,
      "outputs": []
    },
    {
      "cell_type": "code",
      "source": [
        "X=np.asarray(X)\n",
        "Y=np.asarray(Y)"
      ],
      "metadata": {
        "id": "WZHmT5JgK3xa"
      },
      "execution_count": 12,
      "outputs": []
    },
    {
      "cell_type": "code",
      "source": [
        "print(X)\n",
        "print(Y)"
      ],
      "metadata": {
        "id": "MzTCDvyoM28y",
        "colab": {
          "base_uri": "https://localhost:8080/"
        },
        "outputId": "7d8c0b9b-29f1-4a87-9def-0c6eb0347523"
      },
      "execution_count": 13,
      "outputs": [
        {
          "output_type": "stream",
          "name": "stdout",
          "text": [
            "['IMG_2788.jpg' 'IMG_3466.jpg' 'IMG_4096.jpg' ... 'dr_25_7962.jpg'\n",
            " 'dr_21_8287.jpg' 'dr_41_2719.jpg']\n",
            "[0 0 0 ... 5 5 5]\n"
          ]
        }
      ]
    },
    {
      "cell_type": "code",
      "source": [
        "batch_size = 16\n",
        "IMG_SIZE = (224, 224, 3)\n",
        "number_of_class_labels = len(classLabels)"
      ],
      "metadata": {
        "id": "WtnpSQSxX-67"
      },
      "execution_count": 14,
      "outputs": []
    },
    {
      "cell_type": "code",
      "source": [
        "import tensorflow.keras as keras"
      ],
      "metadata": {
        "id": "OKucCyffZ5cD"
      },
      "execution_count": 15,
      "outputs": []
    },
    {
      "cell_type": "code",
      "source": [
        "# Create a data augmentation stage with horizontal flipping, rotations, zooms\n",
        "data_augmentation = keras.Sequential(\n",
        "    [\n",
        "        keras.layers.Rescaling(1./ 255),\n",
        "        keras.layers.RandomFlip(),\n",
        "        keras.layers.RandomRotation(0.2),\n",
        "        keras.layers.RandomZoom(0.2,0.3)\n",
        "    ]\n",
        ")"
      ],
      "metadata": {
        "id": "zWFE6eJxZvCD"
      },
      "execution_count": 16,
      "outputs": []
    },
    {
      "cell_type": "code",
      "source": [
        "#pre_trained_layers = keras.applications.ResNet50V2(weights=\"imagenet\", include_top=False,\n",
        "#           input_tensor=keras.Input(shape=IMG_SIZE))"
      ],
      "metadata": {
        "id": "A929RzhDZ7wR"
      },
      "execution_count": 17,
      "outputs": []
    },
    {
      "cell_type": "code",
      "source": [
        "#pre_trained_layers = tf.keras.applications.MobileNetV2(weights=\"imagenet\", include_top=False,\n",
        "#            input_tensor=keras.Input(shape=IMG_SIZE))"
      ],
      "metadata": {
        "id": "MRoc6m_k7kpj"
      },
      "execution_count": 18,
      "outputs": []
    },
    {
      "cell_type": "code",
      "source": [
        "\n",
        "#pre_trained_layers = keras.applications.Xception(weights=\"imagenet\", include_top=False,\n",
        "#         input_tensor=keras.Input(shape=IMG_SIZE))"
      ],
      "metadata": {
        "id": "wbD80LCePblH"
      },
      "execution_count": 19,
      "outputs": []
    },
    {
      "cell_type": "code",
      "source": [
        "#pre_trained_layers = tf.keras.applications.InceptionV3(weights=\"imagenet\", include_top=False,\n",
        "#           input_tensor=keras.Input(shape=IMG_SIZE))"
      ],
      "metadata": {
        "id": "kFkcL4A1JffX"
      },
      "execution_count": 20,
      "outputs": []
    },
    {
      "cell_type": "code",
      "source": [
        "#pre_trained_layers.summary()\n"
      ],
      "metadata": {
        "id": "V-K3rsDLaLWL"
      },
      "execution_count": 21,
      "outputs": []
    },
    {
      "cell_type": "code",
      "source": [
        "\n",
        "from tensorflow.keras.models import Model, load_model\n",
        "from tensorflow.keras.layers import Input, Average\n",
        "from keras.models import Model\n",
        "from keras.layers import Input, Dense\n",
        "import tensorflow as tf"
      ],
      "metadata": {
        "id": "q-xZEOqCLWIb"
      },
      "execution_count": 22,
      "outputs": []
    },
    {
      "cell_type": "code",
      "source": [
        "class WeightedAverageLayer(tf.keras.layers.Layer):\n",
        "    def __init__(self, w1, w2, w3, **kwargs):\n",
        "        super(WeightedAverageLayer, self).__init__(**kwargs)\n",
        "        self.w1 = w1\n",
        "        self.w2 = w2\n",
        "        self.w3 = w3\n",
        "\n",
        "    def call(self, inputs):\n",
        "        return self.w1 * inputs[0] + self.w2 * inputs[1] + self.w3 * inputs[2]"
      ],
      "metadata": {
        "id": "GTVtq8kOc-6p"
      },
      "execution_count": 23,
      "outputs": []
    },
    {
      "cell_type": "code",
      "source": [
        "class MajorVoting(tf.keras.layers.Layer):\n",
        "    def __init__(self, w1, w2, w3, **kwargs):\n",
        "        super(MajorVoting, self).__init__(**kwargs)\n",
        "        self.w1 = w1\n",
        "        self.w2 = w2\n",
        "        self.w3 = w3\n",
        "\n",
        "    def call(self, inputs):\n",
        "        return np.argmax(input[0],input[1],input[2], axis=1)"
      ],
      "metadata": {
        "id": "e7mWjTIVnUi9"
      },
      "execution_count": 24,
      "outputs": []
    },
    {
      "cell_type": "code",
      "source": [
        "# Disable scientific notation for clarity\n",
        "np.set_printoptions(suppress=True)\n",
        "# Load the model\n",
        "model_1 =load_model(root_path+\"model_5fold_MobileNetV2_GN07mm.h5\",\n",
        "                    compile=False)\n",
        "model_1 = Model(inputs=model_1.inputs,\n",
        "                outputs=model_1.outputs,\n",
        "                name='model_5fold_MobileNetV2_GN07mm')\n",
        "model_2 = load_model(root_path+\"model_5fold_ResNet50V2_GN07.h5\",\n",
        "                     compile=False)\n",
        "model_2 = Model(inputs=model_1.inputs,\n",
        "                outputs=model_1.outputs,\n",
        "                name='model_5fold_ResNet50V2_GN07')\n",
        "model_3 = load_model(root_path+\"model_5fold_InceptionV3_GN07mm.h5\",\n",
        "                     compile=False)\n",
        "model_3 = Model(inputs=model_1.inputs,\n",
        "                outputs=model_1.outputs,\n",
        "                name='model_5fold_InceptionV3_GN07mm')\n",
        "models = [model_1, model_2, model_3]\n",
        "model_input = Input(shape=(224, 224, 3))\n",
        "model_outputs = [model(model_input) for model in models]\n",
        "ensemble_output = Average()(model_outputs)\n",
        "#ensemble_output = WeightedAverageLayer(0.1, 0.575, 0.325)(model_outputs)\n",
        "ensemble_model= Model(inputs=model_input, outputs=ensemble_output, name='ensemble')\n"
      ],
      "metadata": {
        "id": "R2Oq0Kl4IUFm"
      },
      "execution_count": 25,
      "outputs": []
    },
    {
      "cell_type": "code",
      "source": [
        "\n",
        "#Creating custom model\n",
        "\n"
      ],
      "metadata": {
        "id": "MU_j6dypcPwp"
      },
      "execution_count": 26,
      "outputs": []
    },
    {
      "cell_type": "code",
      "source": [
        "EPOCHS = 5\n",
        "LR = 1e-3\n",
        "ensemble_model.compile(optimizer=keras.optimizers.Adam(learning_rate=LR),\n",
        "              loss=tf.keras.losses.SparseCategoricalCrossentropy(),\n",
        "              metrics=['accuracy'])"
      ],
      "metadata": {
        "id": "41gFu9xKb0CU"
      },
      "execution_count": 27,
      "outputs": []
    },
    {
      "cell_type": "code",
      "source": [
        "#printing summary of custom model\n",
        "#ensemble_model.build((1,224,224,3))\n",
        "#ensemble_model.summary()"
      ],
      "metadata": {
        "id": "XCFHANKAcmVS"
      },
      "execution_count": 28,
      "outputs": []
    },
    {
      "cell_type": "code",
      "source": [
        "from tensorflow.keras.callbacks import ReduceLROnPlateau"
      ],
      "metadata": {
        "id": "AMvex2WIc1hi"
      },
      "execution_count": 29,
      "outputs": []
    },
    {
      "cell_type": "code",
      "source": [
        "# Callback -> Reduce Learning Rate on Plateau\n",
        "callback = ReduceLROnPlateau(monitor='val_loss', factor=0.1, patience=3, verbose=1, mode='auto',\n",
        "                             min_delta=0.000001, cooldown=0, min_lr=0.000001)"
      ],
      "metadata": {
        "id": "LM1NDxA1cnxB"
      },
      "execution_count": 30,
      "outputs": []
    },
    {
      "cell_type": "code",
      "source": [
        "skf = StratifiedKFold(n_splits=5, shuffle=True)\n",
        "skf.get_n_splits(X, Y)\n",
        "fold_num = 0\n",
        "for train_index, val_index in skf.split(X, Y):\n",
        "    # First cut all images from validation to train (if any exists)\n",
        "    transferAllClassBetweenFolders('validation', 'train', 1.0)\n",
        "    fold_num += 1\n",
        "    print(\"Results for fold\", fold_num)\n",
        "    X_train, X_val = X[train_index], X[val_index]\n",
        "    Y_train, Y_val = Y[train_index], Y[val_index]\n",
        "    # Move validation images of this fold from train folder to the validation folder\n",
        "    for each_index in range(len(X_val)):\n",
        "        class_label = ''\n",
        "        for i in range(len(classLabels)):\n",
        "            if(Y_val[each_index] == i):\n",
        "                class_label = classLabels[i]\n",
        "        # Then, copy the validation images to the validation folder\n",
        "        shutil.move(os.path.join(datasetFolderName, 'train', class_label, X_val[each_index]),\n",
        "                    os.path.join(datasetFolderName, 'validation', class_label, X_val[each_index]))\n",
        "\n",
        "\n",
        "\n",
        "    # Start ImageClassification Model\n",
        "    #creating train data set\n",
        "\n",
        "    train_generator = tf.keras.utils.image_dataset_from_directory(\n",
        "        train_path,\n",
        "        image_size=(IMG_SIZE[0], IMG_SIZE[1]),\n",
        "        batch_size=batch_size,\n",
        "        )\n",
        "\n",
        "    validation_generator = tf.keras.utils.image_dataset_from_directory(\n",
        "        validation_path,\n",
        "        image_size=(IMG_SIZE[0], IMG_SIZE[1]),\n",
        "        batch_size=batch_size,\n",
        "\n",
        "          # only data, no labels\n",
        "        shuffle=False\n",
        "        )\n",
        "\n",
        "    history = ensemble_model.fit(train_generator, epochs=EPOCHS, validation_data=validation_generator, callbacks=callback)\n",
        "    ensemble_model.evaluate(validation_generator)"
      ],
      "metadata": {
        "id": "h6-FwHIUaRPh",
        "colab": {
          "base_uri": "https://localhost:8080/"
        },
        "outputId": "339f0bd3-3f6c-4e79-be58-b1711d6d41c0"
      },
      "execution_count": 31,
      "outputs": [
        {
          "output_type": "stream",
          "name": "stdout",
          "text": [
            "No file moved. Source empty!\n",
            "No file moved. Source empty!\n",
            "No file moved. Source empty!\n",
            "No file moved. Source empty!\n",
            "No file moved. Source empty!\n",
            "No file moved. Source empty!\n",
            "Results for fold 1\n",
            "Found 1584 files belonging to 6 classes.\n",
            "Found 396 files belonging to 6 classes.\n",
            "Epoch 1/5\n",
            "99/99 [==============================] - 68s 235ms/step - loss: 0.4030 - accuracy: 0.8693 - val_loss: 2.7291 - val_accuracy: 0.6288 - lr: 0.0010\n",
            "Epoch 2/5\n",
            "99/99 [==============================] - 21s 213ms/step - loss: 0.3486 - accuracy: 0.8838 - val_loss: 2.1119 - val_accuracy: 0.6237 - lr: 0.0010\n",
            "Epoch 3/5\n",
            "99/99 [==============================] - 22s 215ms/step - loss: 0.3849 - accuracy: 0.8668 - val_loss: 9.4692 - val_accuracy: 0.3157 - lr: 0.0010\n",
            "Epoch 4/5\n",
            "99/99 [==============================] - 22s 215ms/step - loss: 0.2756 - accuracy: 0.9009 - val_loss: 2.2199 - val_accuracy: 0.6490 - lr: 0.0010\n",
            "Epoch 5/5\n",
            "99/99 [==============================] - 22s 218ms/step - loss: 0.2609 - accuracy: 0.9034 - val_loss: 0.9027 - val_accuracy: 0.8485 - lr: 0.0010\n",
            "25/25 [==============================] - 1s 58ms/step - loss: 0.9027 - accuracy: 0.8485\n",
            "Results for fold 2\n",
            "Found 1584 files belonging to 6 classes.\n",
            "Found 396 files belonging to 6 classes.\n",
            "Epoch 1/5\n",
            "99/99 [==============================] - 22s 217ms/step - loss: 0.2476 - accuracy: 0.9085 - val_loss: 0.9158 - val_accuracy: 0.8712 - lr: 0.0010\n",
            "Epoch 2/5\n",
            "99/99 [==============================] - 21s 214ms/step - loss: 0.2657 - accuracy: 0.9053 - val_loss: 1.0676 - val_accuracy: 0.7904 - lr: 0.0010\n",
            "Epoch 3/5\n",
            "99/99 [==============================] - 22s 217ms/step - loss: 0.2249 - accuracy: 0.9211 - val_loss: 1.2328 - val_accuracy: 0.7525 - lr: 0.0010\n",
            "Epoch 4/5\n",
            "99/99 [==============================] - ETA: 0s - loss: 0.2140 - accuracy: 0.9324\n",
            "Epoch 4: ReduceLROnPlateau reducing learning rate to 0.00010000000474974513.\n",
            "99/99 [==============================] - 21s 213ms/step - loss: 0.2140 - accuracy: 0.9324 - val_loss: 1.8397 - val_accuracy: 0.7222 - lr: 0.0010\n",
            "Epoch 5/5\n",
            "99/99 [==============================] - 22s 216ms/step - loss: 0.1402 - accuracy: 0.9539 - val_loss: 0.3369 - val_accuracy: 0.9167 - lr: 1.0000e-04\n",
            "25/25 [==============================] - 2s 59ms/step - loss: 0.3369 - accuracy: 0.9167\n",
            "Results for fold 3\n",
            "Found 1584 files belonging to 6 classes.\n",
            "Found 396 files belonging to 6 classes.\n",
            "Epoch 1/5\n",
            "99/99 [==============================] - 22s 215ms/step - loss: 0.1287 - accuracy: 0.9514 - val_loss: 0.0768 - val_accuracy: 0.9722 - lr: 1.0000e-04\n",
            "Epoch 2/5\n",
            "99/99 [==============================] - 22s 215ms/step - loss: 0.1225 - accuracy: 0.9545 - val_loss: 0.0692 - val_accuracy: 0.9798 - lr: 1.0000e-04\n",
            "Epoch 3/5\n",
            "99/99 [==============================] - 22s 220ms/step - loss: 0.1155 - accuracy: 0.9628 - val_loss: 0.0711 - val_accuracy: 0.9722 - lr: 1.0000e-04\n",
            "Epoch 4/5\n",
            "99/99 [==============================] - 22s 216ms/step - loss: 0.0922 - accuracy: 0.9747 - val_loss: 0.0725 - val_accuracy: 0.9798 - lr: 1.0000e-04\n",
            "Epoch 5/5\n",
            "99/99 [==============================] - ETA: 0s - loss: 0.0803 - accuracy: 0.9703\n",
            "Epoch 5: ReduceLROnPlateau reducing learning rate to 1.0000000474974514e-05.\n",
            "99/99 [==============================] - 22s 217ms/step - loss: 0.0803 - accuracy: 0.9703 - val_loss: 0.0765 - val_accuracy: 0.9773 - lr: 1.0000e-04\n",
            "25/25 [==============================] - 2s 59ms/step - loss: 0.0765 - accuracy: 0.9773\n",
            "Results for fold 4\n",
            "Found 1584 files belonging to 6 classes.\n",
            "Found 396 files belonging to 6 classes.\n",
            "Epoch 1/5\n",
            "99/99 [==============================] - 22s 216ms/step - loss: 0.0778 - accuracy: 0.9741 - val_loss: 0.0378 - val_accuracy: 0.9848 - lr: 1.0000e-05\n",
            "Epoch 2/5\n",
            "99/99 [==============================] - 22s 216ms/step - loss: 0.0739 - accuracy: 0.9716 - val_loss: 0.0407 - val_accuracy: 0.9848 - lr: 1.0000e-05\n",
            "Epoch 3/5\n",
            "99/99 [==============================] - 22s 216ms/step - loss: 0.0747 - accuracy: 0.9703 - val_loss: 0.0421 - val_accuracy: 0.9848 - lr: 1.0000e-05\n",
            "Epoch 4/5\n",
            "99/99 [==============================] - ETA: 0s - loss: 0.0763 - accuracy: 0.9716\n",
            "Epoch 4: ReduceLROnPlateau reducing learning rate to 1.0000000656873453e-06.\n",
            "99/99 [==============================] - 23s 229ms/step - loss: 0.0763 - accuracy: 0.9716 - val_loss: 0.0447 - val_accuracy: 0.9848 - lr: 1.0000e-05\n",
            "Epoch 5/5\n",
            "99/99 [==============================] - 22s 216ms/step - loss: 0.0670 - accuracy: 0.9760 - val_loss: 0.0455 - val_accuracy: 0.9848 - lr: 1.0000e-06\n",
            "25/25 [==============================] - 2s 58ms/step - loss: 0.0455 - accuracy: 0.9848\n",
            "Results for fold 5\n",
            "Found 1584 files belonging to 6 classes.\n",
            "Found 396 files belonging to 6 classes.\n",
            "Epoch 1/5\n",
            "99/99 [==============================] - 22s 219ms/step - loss: 0.0682 - accuracy: 0.9811 - val_loss: 0.0520 - val_accuracy: 0.9798 - lr: 1.0000e-06\n",
            "Epoch 2/5\n",
            "99/99 [==============================] - 22s 218ms/step - loss: 0.0760 - accuracy: 0.9735 - val_loss: 0.0521 - val_accuracy: 0.9798 - lr: 1.0000e-06\n",
            "Epoch 3/5\n",
            "99/99 [==============================] - 22s 216ms/step - loss: 0.0676 - accuracy: 0.9798 - val_loss: 0.0525 - val_accuracy: 0.9798 - lr: 1.0000e-06\n",
            "Epoch 4/5\n",
            "99/99 [==============================] - ETA: 0s - loss: 0.0782 - accuracy: 0.9729\n",
            "Epoch 4: ReduceLROnPlateau reducing learning rate to 1e-06.\n",
            "99/99 [==============================] - 23s 226ms/step - loss: 0.0782 - accuracy: 0.9729 - val_loss: 0.0525 - val_accuracy: 0.9798 - lr: 1.0000e-06\n",
            "Epoch 5/5\n",
            "99/99 [==============================] - 22s 217ms/step - loss: 0.0716 - accuracy: 0.9747 - val_loss: 0.0535 - val_accuracy: 0.9798 - lr: 1.0000e-06\n",
            "25/25 [==============================] - 2s 59ms/step - loss: 0.0535 - accuracy: 0.9798\n"
          ]
        }
      ]
    },
    {
      "cell_type": "code",
      "source": [
        "from sklearn.metrics import classification_report, roc_curve, roc_auc_score\n",
        "import pandas as pd\n",
        "import plotly.graph_objects as go\n",
        "import plotly.express as px\n",
        "import matplotlib.pyplot as plt"
      ],
      "metadata": {
        "id": "jJurHyH7k6Ny"
      },
      "execution_count": 32,
      "outputs": []
    },
    {
      "cell_type": "code",
      "source": [
        "plt.title(\"Loss\", fontdict={'fontsize':18})\n",
        "plt.plot(history.history['loss'],label='train')\n",
        "plt.plot(history.history['val_loss'],label='test')\n",
        "plt.legend()\n",
        "plt.show()"
      ],
      "metadata": {
        "id": "TOQlD_ZTko2y",
        "colab": {
          "base_uri": "https://localhost:8080/",
          "height": 457
        },
        "outputId": "602945d1-17be-49f8-9d55-ea3de608bed4"
      },
      "execution_count": 33,
      "outputs": [
        {
          "output_type": "display_data",
          "data": {
            "text/plain": [
              "<Figure size 640x480 with 1 Axes>"
            ],
            "image/png": "[encoded data removed]"
          },
          "metadata": {}
        }
      ]
    },
    {
      "cell_type": "code",
      "source": [
        "plt.title(\"Accuracy\", fontdict={'fontsize':18})\n",
        "plt.plot(history.history['accuracy'],label='train')\n",
        "plt.plot(history.history['val_accuracy'],label='test')\n",
        "plt.legend()\n",
        "plt.show()"
      ],
      "metadata": {
        "id": "7pwYMz2Bkyt5",
        "colab": {
          "base_uri": "https://localhost:8080/",
          "height": 457
        },
        "outputId": "f65b8cd4-e29d-4123-87f6-e0e8a7f755e3"
      },
      "execution_count": 34,
      "outputs": [
        {
          "output_type": "display_data",
          "data": {
            "text/plain": [
              "<Figure size 640x480 with 1 Axes>"
            ],
            "image/png": "[encoded data removed]"
          },
          "metadata": {}
        }
      ]
    },
    {
      "cell_type": "code",
      "source": [
        "Y_train = []\n",
        "X_train = []\n",
        "for data in train_generator:\n",
        "    X_train.extend(data[0].numpy())\n",
        "    Y_train.extend(data[1].numpy())\n",
        "Y_train = np.array(Y_train)\n",
        "X_train = np.array(X_train)"
      ],
      "metadata": {
        "id": "93F3DoWUk7Oa"
      },
      "execution_count": 35,
      "outputs": []
    },
    {
      "cell_type": "code",
      "source": [
        "y_train_pred_prob = ensemble_model.predict(X_train)\n",
        "y_train_pred = [np.argmax(i) for i in y_train_pred_prob]"
      ],
      "metadata": {
        "id": "IAbUM7JblMA6",
        "colab": {
          "base_uri": "https://localhost:8080/"
        },
        "outputId": "d8c5ba25-5ad6-4e2d-e8fb-910925d72f08"
      },
      "execution_count": 36,
      "outputs": [
        {
          "output_type": "stream",
          "name": "stdout",
          "text": [
            "50/50 [==============================] - 8s 101ms/step\n"
          ]
        }
      ]
    },
    {
      "cell_type": "code",
      "source": [
        "y_train_pred_prob.shape"
      ],
      "metadata": {
        "id": "ubgm_cWxlUrD",
        "colab": {
          "base_uri": "https://localhost:8080/"
        },
        "outputId": "0e21cccc-5520-49b1-d539-e9726e3e640c"
      },
      "execution_count": 37,
      "outputs": [
        {
          "output_type": "execute_result",
          "data": {
            "text/plain": [
              "(1584, 6)"
            ]
          },
          "metadata": {},
          "execution_count": 37
        }
      ]
    },
    {
      "cell_type": "code",
      "source": [
        "#function to plot roc-auc curve\n",
        "def roc_auc_curve(y_scores, y_true):\n",
        "    # One hot encode the labels in order to plot them\n",
        "    y_onehot = pd.get_dummies(y_true, columns=classLabels)\n",
        "\n",
        "    # Create an empty figure, and iteratively add new lines\n",
        "    # every time we compute a new class\n",
        "    fig = go.Figure()\n",
        "    fig.add_shape(\n",
        "        type='line', line=dict(dash='dash'),\n",
        "        x0=0, x1=1, y0=0, y1=1\n",
        "    )\n",
        "\n",
        "    for i in range(y_scores.shape[1]):\n",
        "        y_true = y_onehot.iloc[:, i]\n",
        "        y_score = y_scores[:, i]\n",
        "\n",
        "        fpr, tpr, _ = roc_curve(y_true, y_score)\n",
        "        auc_score = roc_auc_score(y_true, y_score)\n",
        "\n",
        "        name = f\"{classLabels[i]} (AUC={auc_score:.2f})\"\n",
        "        fig.add_trace(go.Scatter(x=fpr, y=tpr, name=name, mode='lines'))\n",
        "\n",
        "    fig.update_layout(\n",
        "        title=\"ROC Curve\",\n",
        "        xaxis_title='False Positive Rate',\n",
        "        yaxis_title='True Positive Rate',\n",
        "        yaxis=dict(scaleanchor=\"x\", scaleratio=1),\n",
        "        xaxis=dict(constrain='domain'),\n",
        "        width=900, height=800\n",
        "    )\n",
        "\n",
        "    return fig"
      ],
      "metadata": {
        "id": "A5Ywk5jrlVYi"
      },
      "execution_count": 38,
      "outputs": []
    },
    {
      "cell_type": "code",
      "source": [
        "import seaborn as sb"
      ],
      "metadata": {
        "id": "YlYX57A4lj1J"
      },
      "execution_count": 39,
      "outputs": []
    },
    {
      "cell_type": "code",
      "source": [
        "plt.figure(figsize=(25,7))\n",
        "sb.heatmap(tf.math.confusion_matrix(labels=Y_train,predictions=y_train_pred),annot=True,fmt='.1f', cmap='hot_r')\n",
        "plt.xlabel('Predicted Values')\n",
        "plt.ylabel('Actual Values')\n",
        "plt.title('Confusion Matrix (Training)')\n",
        "plt.tight_layout()\n",
        "plt.show()"
      ],
      "metadata": {
        "id": "sZZQfWeDl9wq",
        "colab": {
          "base_uri": "https://localhost:8080/",
          "height": 367
        },
        "outputId": "59cb19a5-c951-4c7c-90aa-b62b52ee46d1"
      },
      "execution_count": 40,
      "outputs": [
        {
          "output_type": "display_data",
          "data": {
            "text/plain": [
              "<Figure size 2500x700 with 2 Axes>"
            ],
            "image/png": "[encoded data removed]"
          },
          "metadata": {}
        }
      ]
    },
    {
      "cell_type": "code",
      "source": [
        "print(\"Classification Report for Training\")\n",
        "print(classification_report(Y_train, y_train_pred))"
      ],
      "metadata": {
        "id": "iLpnqOcGmEks",
        "colab": {
          "base_uri": "https://localhost:8080/"
        },
        "outputId": "044d953e-8a85-46d6-8aad-7d210896ae1b"
      },
      "execution_count": 41,
      "outputs": [
        {
          "output_type": "stream",
          "name": "stdout",
          "text": [
            "Classification Report for Training\n",
            "              precision    recall  f1-score   support\n",
            "\n",
            "           0       0.95      0.98      0.96       265\n",
            "           1       1.00      1.00      1.00       214\n",
            "           2       0.99      0.93      0.96       293\n",
            "           3       0.98      0.96      0.97       298\n",
            "           4       0.93      0.98      0.95       251\n",
            "           5       1.00      1.00      1.00       263\n",
            "\n",
            "    accuracy                           0.97      1584\n",
            "   macro avg       0.97      0.97      0.97      1584\n",
            "weighted avg       0.97      0.97      0.97      1584\n",
            "\n"
          ]
        }
      ]
    },
    {
      "cell_type": "code",
      "source": [
        "roc_auc_curve(y_train_pred_prob, Y_train)\n",
        "X_test = []\n",
        "y_test = []\n",
        "test_generator = tf.keras.utils.image_dataset_from_directory(\n",
        "        test_path,\n",
        "        image_size=(IMG_SIZE[0], IMG_SIZE[1]),\n",
        "        batch_size=batch_size,\n",
        "\n",
        "          # only data, no labels\n",
        "        #shuffle=False\n",
        "        )\n",
        "for data in test_generator:\n",
        "    X_test.extend(data[0].numpy())\n",
        "    y_test.extend(data[1].numpy())\n",
        "X_test = np.array(X_test)\n",
        "y_test = np.array(y_test)"
      ],
      "metadata": {
        "id": "mu3MhzQnmKR5",
        "colab": {
          "base_uri": "https://localhost:8080/"
        },
        "outputId": "b5408873-8d96-442b-89fd-69249eca2e9e"
      },
      "execution_count": 42,
      "outputs": [
        {
          "output_type": "stream",
          "name": "stdout",
          "text": [
            "Found 2451 files belonging to 6 classes.\n"
          ]
        }
      ]
    },
    {
      "cell_type": "code",
      "source": [
        "y_test_pred_prob = ensemble_model.predict(X_test)\n",
        "y_test_pred = [np.argmax(i) for i in y_test_pred_prob]"
      ],
      "metadata": {
        "id": "peCIJs3KmT5a",
        "colab": {
          "base_uri": "https://localhost:8080/"
        },
        "outputId": "c7438138-182a-4ded-95fa-5ce1e8046eb6"
      },
      "execution_count": 43,
      "outputs": [
        {
          "output_type": "stream",
          "name": "stdout",
          "text": [
            "77/77 [==============================] - 8s 109ms/step\n"
          ]
        }
      ]
    },
    {
      "cell_type": "code",
      "source": [
        "np.unique(y_test)"
      ],
      "metadata": {
        "id": "an7a0Ymplmh5",
        "colab": {
          "base_uri": "https://localhost:8080/"
        },
        "outputId": "b1c426b2-52da-4c70-d61b-00c31a8b5c50"
      },
      "execution_count": 44,
      "outputs": [
        {
          "output_type": "execute_result",
          "data": {
            "text/plain": [
              "array([0, 1, 2, 3, 4, 5], dtype=int32)"
            ]
          },
          "metadata": {},
          "execution_count": 44
        }
      ]
    },
    {
      "cell_type": "code",
      "source": [
        "plt.figure(figsize=(25,7))\n",
        "sb.heatmap(tf.math.confusion_matrix(labels=y_test,predictions=y_test_pred),annot=True,fmt='.1f', cmap='hot_r')\n",
        "plt.xlabel('Predicted Values')\n",
        "plt.ylabel('Actual Values')\n",
        "plt.title('Confusion Matrix')\n",
        "plt.tight_layout()\n",
        "plt.show()"
      ],
      "metadata": {
        "id": "AxCwvhHVk-vY",
        "colab": {
          "base_uri": "https://localhost:8080/",
          "height": 367
        },
        "outputId": "932a08c8-91ca-4e54-e3cf-f807ed0c8a09"
      },
      "execution_count": 45,
      "outputs": [
        {
          "output_type": "display_data",
          "data": {
            "text/plain": [
              "<Figure size 2500x700 with 2 Axes>"
            ],
            "image/png": "[encoded data removed]"
          },
          "metadata": {}
        }
      ]
    },
    {
      "cell_type": "code",
      "source": [
        "print(\"Classification Report for Test\")\n",
        "print(classification_report(y_test, y_test_pred))"
      ],
      "metadata": {
        "id": "LFm0u6zSmaGj",
        "colab": {
          "base_uri": "https://localhost:8080/"
        },
        "outputId": "20d25549-6456-4b77-9766-87f27bd04d86"
      },
      "execution_count": 46,
      "outputs": [
        {
          "output_type": "stream",
          "name": "stdout",
          "text": [
            "Classification Report for Test\n",
            "              precision    recall  f1-score   support\n",
            "\n",
            "           0       1.00      0.87      0.93       409\n",
            "           1       1.00      1.00      1.00       409\n",
            "           2       0.89      0.91      0.90       409\n",
            "           3       1.00      1.00      1.00       405\n",
            "           4       0.90      1.00      0.95       410\n",
            "           5       1.00      1.00      1.00       409\n",
            "\n",
            "    accuracy                           0.96      2451\n",
            "   macro avg       0.97      0.96      0.96      2451\n",
            "weighted avg       0.96      0.96      0.96      2451\n",
            "\n"
          ]
        }
      ]
    },
    {
      "cell_type": "code",
      "source": [
        "roc_auc_curve(y_test_pred_prob, y_test)"
      ],
      "metadata": {
        "id": "LGL2Ta5xmf5r",
        "colab": {
          "base_uri": "https://localhost:8080/",
          "height": 817
        },
        "outputId": "b60bcfb2-b6a1-4d54-c890-75be6fd029b7"
      },
      "execution_count": 47,
      "outputs": [
        {
          "output_type": "display_data",
          "data": {
            "text/html": [
              "<html>\n",
              "<head><meta charset=\"utf-8\" /></head>\n",
              "<body>\n",
              "    <div>            <script src=\"https://cdnjs.cloudflare.com/ajax/libs/mathjax/2.7.5/MathJax.js?config=TeX-AMS-MML_SVG\"></script><script type=\"text/javascript\">if (window.MathJax && window.MathJax.Hub && window.MathJax.Hub.Config) {window.MathJax.Hub.Config({SVG: {font: \"STIX-Web\"}});}</script>                <script type=\"text/javascript\">window.PlotlyConfig = {MathJaxConfig: 'local'};</script>\n",
              "        <script src=\"https://cdn.plot.ly/plotly-2.18.2.min.js\"></script>                <div id=\"11de05d0-3161-431e-869b-32b54143a940\" class=\"plotly-graph-div\" style=\"height:800px; width:900px;\"></div>            <script type=\"text/javascript\">                                    window.PLOTLYENV=window.PLOTLYENV || {};                                    if (document.getElementById(\"11de05d0-3161-431e-869b-32b54143a940\")) {                    Plotly.newPlot(                        \"11de05d0-3161-431e-869b-32b54143a940\",                        [{\"mode\":\"lines\",\"name\":\"early_leaf_spot_1 (AUC=1.00)\",\"x\":[0.0,0.0,0.0,0.0,0.0,0.0,0.0,0.0,0.0,0.0,0.0,0.0,0.0,0.0,0.0,0.0,0.0,0.0,0.0,0.0,0.0,0.0,0.0,0.0,0.0,0.0,0.0,0.0,0.0,0.0,0.0,0.0,0.0,0.0,0.0,0.0,0.0,0.0,0.0,0.0,0.0,0.0004897159647404506,0.0004897159647404506,0.0009794319294809011,0.0009794319294809011,0.0014691478942213516,0.0014691478942213516,0.0019588638589618022,0.0019588638589618022,0.002938295788442703,0.002938295788442703,0.0039177277179236044,0.0039177277179236044,0.004897159647404506,0.004897159647404506,0.0053868756121449556,0.0053868756121449556,0.007345739471106758,0.007345739471106758,0.00930460333006856,0.00930460333006856,0.01028403525954946,0.01028403525954946,0.011263467189030362,0.011263467189030362,0.012242899118511263,0.012242899118511263,0.013222331047992164,0.013222331047992164,0.014201762977473066,0.014201762977473066,0.015181194906953967,0.015181194906953967,0.016160626836434867,0.016160626836434867,0.017140058765915768,0.017140058765915768,0.020078354554358472,0.020078354554358472,0.021057786483839373,0.021057786483839373,0.029872673849167482,0.029872673849167482,1.0],\"y\":[0.0,0.004889975550122249,0.014669926650366748,0.017114914425427872,0.029339853300733496,0.039119804400977995,0.04645476772616137,0.061124694376528114,0.07334963325183375,0.08312958435207823,0.10513447432762836,0.1100244498777506,0.11735941320293398,0.1198044009779951,0.1271393643031785,0.13691931540342298,0.1393643031784841,0.14425427872860636,0.15403422982885084,0.16136919315403422,0.16625916870415647,0.17114914425427874,0.1784841075794621,0.18337408312958436,0.19070904645476772,0.20048899755501223,0.20293398533007334,0.2078239608801956,0.21515892420537897,0.2200488997555012,0.22249388753056235,0.2273838630806846,0.24449877750611246,0.24938875305623473,0.25183374083129584,0.2591687041564792,0.2885085574572127,0.29584352078239606,0.3056234718826406,0.3105134474327628,0.8337408312958435,0.8337408312958435,0.902200488997555,0.902200488997555,0.9193154034229829,0.9193154034229829,0.921760391198044,0.921760391198044,0.9266503667481663,0.9266503667481663,0.9364303178484108,0.9364303178484108,0.9511002444987775,0.9511002444987775,0.9535452322738386,0.9535452322738386,0.9584352078239609,0.9584352078239609,0.9682151589242054,0.9682151589242054,0.9706601466992665,0.9706601466992665,0.9731051344743277,0.9731051344743277,0.9755501222493888,0.9755501222493888,0.9779951100244498,0.9779951100244498,0.980440097799511,0.980440097799511,0.9853300733496333,0.9853300733496333,0.9877750611246944,0.9877750611246944,0.9902200488997555,0.9902200488997555,0.9926650366748166,0.9926650366748166,0.9951100244498777,0.9951100244498777,0.9975550122249389,0.9975550122249389,1.0,1.0],\"type\":\"scatter\"},{\"mode\":\"lines\",\"name\":\"early_rust_1 (AUC=1.00)\",\"x\":[0.0,0.0,0.0,0.0,0.0,0.0,0.0,0.0,0.0,0.0,0.0,0.0,0.0,0.0,0.0,0.0,0.0,0.0,0.0,0.0,0.0,0.0,0.0,0.0,0.0,0.0,0.0,0.0,0.0,0.0,0.0,0.0,0.0,0.0,0.0,0.0,0.0,0.0,0.0,0.0,0.0,0.0,0.0,1.0],\"y\":[0.0,0.5036674816625917,0.530562347188264,0.5476772616136919,0.5599022004889975,0.5745721271393643,0.5941320293398533,0.6014669926650367,0.6161369193154034,0.6234718826405868,0.6259168704156479,0.6332518337408313,0.6356968215158925,0.6454767726161369,0.6503667481662592,0.6577017114914425,0.6625916870415648,0.6723716381418093,0.6748166259168704,0.6797066014669927,0.6894865525672371,0.6968215158924206,0.6992665036674817,0.706601466992665,0.7163814180929096,0.7188264058679706,0.7237163814180929,0.7310513447432763,0.7334963325183375,0.7383863080684596,0.7457212713936431,0.7530562347188264,0.7603911980440098,0.7652811735941321,0.823960880195599,0.8288508557457213,0.8361858190709046,0.8410757946210269,0.8533007334963325,0.8581907090464548,0.8728606356968215,0.8777506112469438,1.0,1.0],\"type\":\"scatter\"},{\"mode\":\"lines\",\"name\":\"healthy_leaf_1 (AUC=1.00)\",\"x\":[0.0,0.0,0.0,0.0004897159647404506,0.0004897159647404506,0.0009794319294809011,0.0009794319294809011,0.0019588638589618022,0.0019588638589618022,0.002448579823702253,0.002448579823702253,0.002938295788442703,0.002938295788442703,0.0039177277179236044,0.0039177277179236044,0.004407443682664055,0.004407443682664055,0.0053868756121449556,0.0053868756121449556,0.006366307541625857,0.006366307541625857,0.007345739471106758,0.007345739471106758,0.007835455435847209,0.007835455435847209,0.00832517140058766,0.00832517140058766,0.00930460333006856,0.00930460333006856,0.01028403525954946,0.01028403525954946,0.012242899118511263,0.012242899118511263,0.013222331047992164,0.013222331047992164,0.013712047012732615,0.013712047012732615,0.014201762977473066,0.014201762977473066,0.014691478942213516,0.014691478942213516,0.015181194906953967,0.015181194906953967,0.015670910871694418,0.015670910871694418,0.01860920666013712,0.01860920666013712,0.02056807051909892,0.02056807051909892,0.021547502448579822,0.021547502448579822,0.022037218413320275,0.022037218413320275,0.023016650342801176,0.023016650342801176,0.024485798237022526,0.024485798237022526,0.02497551420176298,0.02497551420176298,0.02644466209598433,0.02644466209598433,0.02693437806072478,0.02693437806072478,0.02742409402546523,0.02742409402546523,0.02840352595494613,0.02840352595494613,0.02889324191968658,0.02889324191968658,0.029382957884427033,0.029382957884427033,0.029872673849167482,0.029872673849167482,0.031831537708129284,0.031831537708129284,0.03232125367286973,0.03232125367286973,0.034280117531831536,0.034280117531831536,0.034769833496571985,0.034769833496571985,0.03525954946131244,0.03525954946131244,0.03623898139079334,0.03623898139079334,0.03672869735553379,0.03672869735553379,0.03770812928501469,0.03770812928501469,0.040156709108716944,0.040156709108716944,1.0],\"y\":[0.0,0.0024449877750611247,0.7775061124694377,0.7775061124694377,0.78239608801956,0.78239608801956,0.7946210268948656,0.7946210268948656,0.7970660146699267,0.7970660146699267,0.7995110024449877,0.7995110024449877,0.8019559902200489,0.8019559902200489,0.80440097799511,0.80440097799511,0.8117359413202934,0.8117359413202934,0.8288508557457213,0.8288508557457213,0.8410757946210269,0.8410757946210269,0.843520782396088,0.843520782396088,0.8508557457212714,0.8508557457212714,0.8533007334963325,0.8533007334963325,0.8801955990220048,0.8801955990220048,0.8899755501222494,0.8899755501222494,0.8924205378973105,0.8924205378973105,0.8973105134474327,0.8973105134474327,0.8997555012224939,0.8997555012224939,0.902200488997555,0.902200488997555,0.9046454767726161,0.9046454767726161,0.9070904645476773,0.9070904645476773,0.9095354523227384,0.9095354523227384,0.9119804400977995,0.9119804400977995,0.921760391198044,0.921760391198044,0.9242053789731052,0.9242053789731052,0.9266503667481663,0.9266503667481663,0.9315403422982885,0.9315403422982885,0.9339853300733496,0.9339853300733496,0.9364303178484108,0.9364303178484108,0.9462102689486552,0.9462102689486552,0.9486552567237164,0.9486552567237164,0.9511002444987775,0.9511002444987775,0.9559902200488998,0.9559902200488998,0.9584352078239609,0.9584352078239609,0.960880195599022,0.960880195599022,0.9657701711491442,0.9657701711491442,0.9682151589242054,0.9682151589242054,0.9779951100244498,0.9779951100244498,0.9828850855745721,0.9828850855745721,0.9853300733496333,0.9853300733496333,0.9902200488997555,0.9902200488997555,0.9926650366748166,0.9926650366748166,0.9951100244498777,0.9951100244498777,0.9975550122249389,0.9975550122249389,1.0,1.0],\"type\":\"scatter\"},{\"mode\":\"lines\",\"name\":\"late_leaf_spot_1 (AUC=1.00)\",\"x\":[0.0,0.0,0.0,0.0,0.0,0.0,0.0,0.0,0.0,0.0,0.0,0.0,0.0,0.0,0.0,0.0,0.0,0.0,0.0,0.0,0.0,0.0,0.0,0.0,0.0,0.0,0.0,0.0,0.0,0.0,0.0,0.0,0.0,0.0,0.0,0.0,0.0,0.0,0.0,0.0,0.0,0.0,0.0,0.0,0.0,0.0,0.0,0.0,0.0,1.0],\"y\":[0.0,0.0024691358024691358,0.014814814814814815,0.03209876543209877,0.04691358024691358,0.05432098765432099,0.06419753086419754,0.08148148148148149,0.0962962962962963,0.10864197530864197,0.11358024691358025,0.12839506172839507,0.1308641975308642,0.1382716049382716,0.14320987654320988,0.15555555555555556,0.16296296296296298,0.1654320987654321,0.17777777777777778,0.18024691358024691,0.18765432098765433,0.19012345679012346,0.20246913580246914,0.2074074074074074,0.21728395061728395,0.2222222222222222,0.2271604938271605,0.23209876543209876,0.23950617283950618,0.24938271604938272,0.254320987654321,0.2617283950617284,0.26666666666666666,0.2765432098765432,0.28641975308641976,0.291358024691358,0.3037037037037037,0.3111111111111111,0.3160493827160494,0.32098765432098764,0.3506172839506173,0.35555555555555557,0.37530864197530867,0.3802469135802469,0.3925925925925926,0.39753086419753086,0.4271604938271605,0.43209876543209874,1.0,1.0],\"type\":\"scatter\"},{\"mode\":\"lines\",\"name\":\"nutrition_deficiency_1 (AUC=1.00)\",\"x\":[0.0,0.0,0.0,0.0,0.0,0.0,0.0,0.0,0.0,0.0,0.0,0.0,0.0,0.0,0.0,0.0,0.0,0.0,0.0,0.0,0.0,0.0,0.0,0.0,0.0,0.0,0.0,0.0,0.0,0.0,0.0,0.0,0.0,0.0,0.0,0.0,0.0,0.0,0.0,0.0,0.0,0.0,0.0,0.0,0.0,0.0,0.0,0.0,0.0,0.0,0.0,0.0,0.0,1.0],\"y\":[0.0,0.0024390243902439024,0.012195121951219513,0.01707317073170732,0.03414634146341464,0.03902439024390244,0.041463414634146344,0.04878048780487805,0.05365853658536585,0.06097560975609756,0.06829268292682927,0.07560975609756097,0.08048780487804878,0.08536585365853659,0.08780487804878048,0.09268292682926829,0.0951219512195122,0.1,0.1024390243902439,0.1073170731707317,0.13414634146341464,0.13902439024390245,0.14634146341463414,0.15121951219512195,0.16585365853658537,0.17073170731707318,0.17560975609756097,0.18048780487804877,0.18292682926829268,0.1926829268292683,0.22195121951219512,0.22682926829268293,0.23414634146341465,0.24390243902439024,0.26097560975609757,0.2658536585365854,0.2707317073170732,0.275609756097561,0.35609756097560974,0.36097560975609755,0.37073170731707317,0.375609756097561,0.3804878048780488,0.3853658536585366,0.40487804878048783,0.4097560975609756,0.5195121951219512,0.524390243902439,0.5902439024390244,0.5951219512195122,0.7268292682926829,0.7317073170731707,1.0,1.0],\"type\":\"scatter\"},{\"mode\":\"lines\",\"name\":\"rust_1 (AUC=1.00)\",\"x\":[0.0,0.0,0.0,0.0,0.0,0.0,0.0,0.0,0.0,0.0,0.0,0.0,0.0,0.0,0.0,0.0,0.0,0.0,0.0,0.0,0.0,0.0,0.0,0.0,0.0,0.0,0.0,0.0,0.0,0.0,0.0,0.0,0.0,0.0,0.0,0.0,0.0,0.0,0.0,0.0,0.0,0.0,0.0,0.0,0.0,0.0,0.0,0.0,0.0,0.0,0.0,0.0,0.0,0.0,0.0,0.0,0.0,1.0],\"y\":[0.0,0.1491442542787286,0.29095354523227385,0.33985330073349634,0.36674816625916873,0.39853300733496333,0.41075794621026895,0.42053789731051344,0.43276283618581907,0.4400977995110024,0.4621026894865526,0.4743276283618582,0.49144254278728605,0.5036674816625917,0.5207823960880196,0.530562347188264,0.5452322738386308,0.5476772616136919,0.5574572127139364,0.5647921760391198,0.58679706601467,0.6014669926650367,0.6136919315403423,0.6210268948655256,0.6259168704156479,0.6454767726161369,0.6503667481662592,0.6601466992665037,0.6625916870415648,0.6699266503667481,0.6723716381418093,0.6772616136919315,0.684596577017115,0.6894865525672371,0.6968215158924206,0.7041564792176039,0.7188264058679706,0.7237163814180929,0.7310513447432763,0.7359413202933985,0.7481662591687042,0.7677261613691931,0.7750611246943765,0.7799511002444988,0.7946210268948656,0.7995110024449877,0.8019559902200489,0.8068459657701712,0.8190709046454768,0.823960880195599,0.8337408312958435,0.8386308068459658,0.8508557457212714,0.8581907090464548,0.8704156479217604,0.8801955990220048,1.0,1.0],\"type\":\"scatter\"}],                        {\"template\":{\"data\":{\"histogram2dcontour\":[{\"type\":\"histogram2dcontour\",\"colorbar\":{\"outlinewidth\":0,\"ticks\":\"\"},\"colorscale\":[[0.0,\"#0d0887\"],[0.1111111111111111,\"#46039f\"],[0.2222222222222222,\"#7201a8\"],[0.3333333333333333,\"#9c179e\"],[0.4444444444444444,\"#bd3786\"],[0.5555555555555556,\"#d8576b\"],[0.6666666666666666,\"#ed7953\"],[0.7777777777777778,\"#fb9f3a\"],[0.8888888888888888,\"#fdca26\"],[1.0,\"#f0f921\"]]}],\"choropleth\":[{\"type\":\"choropleth\",\"colorbar\":{\"outlinewidth\":0,\"ticks\":\"\"}}],\"histogram2d\":[{\"type\":\"histogram2d\",\"colorbar\":{\"outlinewidth\":0,\"ticks\":\"\"},\"colorscale\":[[0.0,\"#0d0887\"],[0.1111111111111111,\"#46039f\"],[0.2222222222222222,\"#7201a8\"],[0.3333333333333333,\"#9c179e\"],[0.4444444444444444,\"#bd3786\"],[0.5555555555555556,\"#d8576b\"],[0.6666666666666666,\"#ed7953\"],[0.7777777777777778,\"#fb9f3a\"],[0.8888888888888888,\"#fdca26\"],[1.0,\"#f0f921\"]]}],\"heatmap\":[{\"type\":\"heatmap\",\"colorbar\":{\"outlinewidth\":0,\"ticks\":\"\"},\"colorscale\":[[0.0,\"#0d0887\"],[0.1111111111111111,\"#46039f\"],[0.2222222222222222,\"#7201a8\"],[0.3333333333333333,\"#9c179e\"],[0.4444444444444444,\"#bd3786\"],[0.5555555555555556,\"#d8576b\"],[0.6666666666666666,\"#ed7953\"],[0.7777777777777778,\"#fb9f3a\"],[0.8888888888888888,\"#fdca26\"],[1.0,\"#f0f921\"]]}],\"heatmapgl\":[{\"type\":\"heatmapgl\",\"colorbar\":{\"outlinewidth\":0,\"ticks\":\"\"},\"colorscale\":[[0.0,\"#0d0887\"],[0.1111111111111111,\"#46039f\"],[0.2222222222222222,\"#7201a8\"],[0.3333333333333333,\"#9c179e\"],[0.4444444444444444,\"#bd3786\"],[0.5555555555555556,\"#d8576b\"],[0.6666666666666666,\"#ed7953\"],[0.7777777777777778,\"#fb9f3a\"],[0.8888888888888888,\"#fdca26\"],[1.0,\"#f0f921\"]]}],\"contourcarpet\":[{\"type\":\"contourcarpet\",\"colorbar\":{\"outlinewidth\":0,\"ticks\":\"\"}}],\"contour\":[{\"type\":\"contour\",\"colorbar\":{\"outlinewidth\":0,\"ticks\":\"\"},\"colorscale\":[[0.0,\"#0d0887\"],[0.1111111111111111,\"#46039f\"],[0.2222222222222222,\"#7201a8\"],[0.3333333333333333,\"#9c179e\"],[0.4444444444444444,\"#bd3786\"],[0.5555555555555556,\"#d8576b\"],[0.6666666666666666,\"#ed7953\"],[0.7777777777777778,\"#fb9f3a\"],[0.8888888888888888,\"#fdca26\"],[1.0,\"#f0f921\"]]}],\"surface\":[{\"type\":\"surface\",\"colorbar\":{\"outlinewidth\":0,\"ticks\":\"\"},\"colorscale\":[[0.0,\"#0d0887\"],[0.1111111111111111,\"#46039f\"],[0.2222222222222222,\"#7201a8\"],[0.3333333333333333,\"#9c179e\"],[0.4444444444444444,\"#bd3786\"],[0.5555555555555556,\"#d8576b\"],[0.6666666666666666,\"#ed7953\"],[0.7777777777777778,\"#fb9f3a\"],[0.8888888888888888,\"#fdca26\"],[1.0,\"#f0f921\"]]}],\"mesh3d\":[{\"type\":\"mesh3d\",\"colorbar\":{\"outlinewidth\":0,\"ticks\":\"\"}}],\"scatter\":[{\"fillpattern\":{\"fillmode\":\"overlay\",\"size\":10,\"solidity\":0.2},\"type\":\"scatter\"}],\"parcoords\":[{\"type\":\"parcoords\",\"line\":{\"colorbar\":{\"outlinewidth\":0,\"ticks\":\"\"}}}],\"scatterpolargl\":[{\"type\":\"scatterpolargl\",\"marker\":{\"colorbar\":{\"outlinewidth\":0,\"ticks\":\"\"}}}],\"bar\":[{\"error_x\":{\"color\":\"#2a3f5f\"},\"error_y\":{\"color\":\"#2a3f5f\"},\"marker\":{\"line\":{\"color\":\"#E5ECF6\",\"width\":0.5},\"pattern\":{\"fillmode\":\"overlay\",\"size\":10,\"solidity\":0.2}},\"type\":\"bar\"}],\"scattergeo\":[{\"type\":\"scattergeo\",\"marker\":{\"colorbar\":{\"outlinewidth\":0,\"ticks\":\"\"}}}],\"scatterpolar\":[{\"type\":\"scatterpolar\",\"marker\":{\"colorbar\":{\"outlinewidth\":0,\"ticks\":\"\"}}}],\"histogram\":[{\"marker\":{\"pattern\":{\"fillmode\":\"overlay\",\"size\":10,\"solidity\":0.2}},\"type\":\"histogram\"}],\"scattergl\":[{\"type\":\"scattergl\",\"marker\":{\"colorbar\":{\"outlinewidth\":0,\"ticks\":\"\"}}}],\"scatter3d\":[{\"type\":\"scatter3d\",\"line\":{\"colorbar\":{\"outlinewidth\":0,\"ticks\":\"\"}},\"marker\":{\"colorbar\":{\"outlinewidth\":0,\"ticks\":\"\"}}}],\"scattermapbox\":[{\"type\":\"scattermapbox\",\"marker\":{\"colorbar\":{\"outlinewidth\":0,\"ticks\":\"\"}}}],\"scatterternary\":[{\"type\":\"scatterternary\",\"marker\":{\"colorbar\":{\"outlinewidth\":0,\"ticks\":\"\"}}}],\"scattercarpet\":[{\"type\":\"scattercarpet\",\"marker\":{\"colorbar\":{\"outlinewidth\":0,\"ticks\":\"\"}}}],\"carpet\":[{\"aaxis\":{\"endlinecolor\":\"#2a3f5f\",\"gridcolor\":\"white\",\"linecolor\":\"white\",\"minorgridcolor\":\"white\",\"startlinecolor\":\"#2a3f5f\"},\"baxis\":{\"endlinecolor\":\"#2a3f5f\",\"gridcolor\":\"white\",\"linecolor\":\"white\",\"minorgridcolor\":\"white\",\"startlinecolor\":\"#2a3f5f\"},\"type\":\"carpet\"}],\"table\":[{\"cells\":{\"fill\":{\"color\":\"#EBF0F8\"},\"line\":{\"color\":\"white\"}},\"header\":{\"fill\":{\"color\":\"#C8D4E3\"},\"line\":{\"color\":\"white\"}},\"type\":\"table\"}],\"barpolar\":[{\"marker\":{\"line\":{\"color\":\"#E5ECF6\",\"width\":0.5},\"pattern\":{\"fillmode\":\"overlay\",\"size\":10,\"solidity\":0.2}},\"type\":\"barpolar\"}],\"pie\":[{\"automargin\":true,\"type\":\"pie\"}]},\"layout\":{\"autotypenumbers\":\"strict\",\"colorway\":[\"#636efa\",\"#EF553B\",\"#00cc96\",\"#ab63fa\",\"#FFA15A\",\"#19d3f3\",\"#FF6692\",\"#B6E880\",\"#FF97FF\",\"#FECB52\"],\"font\":{\"color\":\"#2a3f5f\"},\"hovermode\":\"closest\",\"hoverlabel\":{\"align\":\"left\"},\"paper_bgcolor\":\"white\",\"plot_bgcolor\":\"#E5ECF6\",\"polar\":{\"bgcolor\":\"#E5ECF6\",\"angularaxis\":{\"gridcolor\":\"white\",\"linecolor\":\"white\",\"ticks\":\"\"},\"radialaxis\":{\"gridcolor\":\"white\",\"linecolor\":\"white\",\"ticks\":\"\"}},\"ternary\":{\"bgcolor\":\"#E5ECF6\",\"aaxis\":{\"gridcolor\":\"white\",\"linecolor\":\"white\",\"ticks\":\"\"},\"baxis\":{\"gridcolor\":\"white\",\"linecolor\":\"white\",\"ticks\":\"\"},\"caxis\":{\"gridcolor\":\"white\",\"linecolor\":\"white\",\"ticks\":\"\"}},\"coloraxis\":{\"colorbar\":{\"outlinewidth\":0,\"ticks\":\"\"}},\"colorscale\":{\"sequential\":[[0.0,\"#0d0887\"],[0.1111111111111111,\"#46039f\"],[0.2222222222222222,\"#7201a8\"],[0.3333333333333333,\"#9c179e\"],[0.4444444444444444,\"#bd3786\"],[0.5555555555555556,\"#d8576b\"],[0.6666666666666666,\"#ed7953\"],[0.7777777777777778,\"#fb9f3a\"],[0.8888888888888888,\"#fdca26\"],[1.0,\"#f0f921\"]],\"sequentialminus\":[[0.0,\"#0d0887\"],[0.1111111111111111,\"#46039f\"],[0.2222222222222222,\"#7201a8\"],[0.3333333333333333,\"#9c179e\"],[0.4444444444444444,\"#bd3786\"],[0.5555555555555556,\"#d8576b\"],[0.6666666666666666,\"#ed7953\"],[0.7777777777777778,\"#fb9f3a\"],[0.8888888888888888,\"#fdca26\"],[1.0,\"#f0f921\"]],\"diverging\":[[0,\"#8e0152\"],[0.1,\"#c51b7d\"],[0.2,\"#de77ae\"],[0.3,\"#f1b6da\"],[0.4,\"#fde0ef\"],[0.5,\"#f7f7f7\"],[0.6,\"#e6f5d0\"],[0.7,\"#b8e186\"],[0.8,\"#7fbc41\"],[0.9,\"#4d9221\"],[1,\"#276419\"]]},\"xaxis\":{\"gridcolor\":\"white\",\"linecolor\":\"white\",\"ticks\":\"\",\"title\":{\"standoff\":15},\"zerolinecolor\":\"white\",\"automargin\":true,\"zerolinewidth\":2},\"yaxis\":{\"gridcolor\":\"white\",\"linecolor\":\"white\",\"ticks\":\"\",\"title\":{\"standoff\":15},\"zerolinecolor\":\"white\",\"automargin\":true,\"zerolinewidth\":2},\"scene\":{\"xaxis\":{\"backgroundcolor\":\"#E5ECF6\",\"gridcolor\":\"white\",\"linecolor\":\"white\",\"showbackground\":true,\"ticks\":\"\",\"zerolinecolor\":\"white\",\"gridwidth\":2},\"yaxis\":{\"backgroundcolor\":\"#E5ECF6\",\"gridcolor\":\"white\",\"linecolor\":\"white\",\"showbackground\":true,\"ticks\":\"\",\"zerolinecolor\":\"white\",\"gridwidth\":2},\"zaxis\":{\"backgroundcolor\":\"#E5ECF6\",\"gridcolor\":\"white\",\"linecolor\":\"white\",\"showbackground\":true,\"ticks\":\"\",\"zerolinecolor\":\"white\",\"gridwidth\":2}},\"shapedefaults\":{\"line\":{\"color\":\"#2a3f5f\"}},\"annotationdefaults\":{\"arrowcolor\":\"#2a3f5f\",\"arrowhead\":0,\"arrowwidth\":1},\"geo\":{\"bgcolor\":\"white\",\"landcolor\":\"#E5ECF6\",\"subunitcolor\":\"white\",\"showland\":true,\"showlakes\":true,\"lakecolor\":\"white\"},\"title\":{\"x\":0.05},\"mapbox\":{\"style\":\"light\"}}},\"shapes\":[{\"line\":{\"dash\":\"dash\"},\"type\":\"line\",\"x0\":0,\"x1\":1,\"y0\":0,\"y1\":1}],\"yaxis\":{\"title\":{\"text\":\"True Positive Rate\"},\"scaleanchor\":\"x\",\"scaleratio\":1},\"xaxis\":{\"title\":{\"text\":\"False Positive Rate\"},\"constrain\":\"domain\"},\"title\":{\"text\":\"ROC Curve\"},\"width\":900,\"height\":800},                        {\"responsive\": true}                    ).then(function(){\n",
              "                            \n",
              "var gd = document.getElementById('11de05d0-3161-431e-869b-32b54143a940');\n",
              "var x = new MutationObserver(function (mutations, observer) {{\n",
              "        var display = window.getComputedStyle(gd).display;\n",
              "        if (!display || display === 'none') {{\n",
              "            console.log([gd, 'removed!']);\n",
              "            Plotly.purge(gd);\n",
              "            observer.disconnect();\n",
              "        }}\n",
              "}});\n",
              "\n",
              "// Listen for the removal of the full notebook cells\n",
              "var notebookContainer = gd.closest('#notebook-container');\n",
              "if (notebookContainer) {{\n",
              "    x.observe(notebookContainer, {childList: true});\n",
              "}}\n",
              "\n",
              "// Listen for the clearing of the current output cell\n",
              "var outputEl = gd.closest('.output');\n",
              "if (outputEl) {{\n",
              "    x.observe(outputEl, {childList: true});\n",
              "}}\n",
              "\n",
              "                        })                };                            </script>        </div>\n",
              "</body>\n",
              "</html>"
            ]
          },
          "metadata": {}
        }
      ]
    },
    {
      "cell_type": "code",
      "source": [
        "from tensorflow.keras.models import save_model\n"
      ],
      "metadata": {
        "id": "AymS4krnmhuC"
      },
      "execution_count": 48,
      "outputs": []
    },
    {
      "cell_type": "code",
      "source": [
        "MODEL_FILENAMEs=root_path+\"model_5fold_EA_MR50IV3.h5\"\n",
        "ensemble_model.save(MODEL_FILENAMEs)"
      ],
      "metadata": {
        "id": "kJi_fTcE_QH6",
        "colab": {
          "base_uri": "https://localhost:8080/"
        },
        "outputId": "f4473c67-c116-4ceb-cb8b-a48433896904"
      },
      "execution_count": 49,
      "outputs": [
        {
          "output_type": "stream",
          "name": "stderr",
          "text": [
            "WARNING:tensorflow:Found duplicated `Variable`s in Model's `weights`. This is usually caused by `Variable`s being shared by Layers in the Model. These `Variable`s will be treated as separate `Variable`s when the Model is restored. To avoid this, please save with `save_format=\"tf\"`.\n"
          ]
        }
      ]
    },
    {
      "cell_type": "code",
      "source": [],
      "metadata": {
        "id": "Ihx8KZ7b3XgH"
      },
      "execution_count": 49,
      "outputs": []
    }
  ]
}