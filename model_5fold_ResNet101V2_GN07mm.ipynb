{
  "cells": [
    {
      "cell_type": "markdown",
      "metadata": {
        "id": "view-in-github",
        "colab_type": "text"
      },
      "source": [
        "<a href=\"https://colab.research.google.com/github/mancudEOM/Ensemble-deep-learning/blob/main/model_5fold_ResNet101V2_GN07mm.ipynb\" target=\"_parent\"><img src=\"https://colab.research.google.com/assets/colab-badge.svg\" alt=\"Open In Colab\"/></a>"
      ]
    },
    {
      "cell_type": "code",
      "execution_count": 1,
      "metadata": {
        "colab": {
          "base_uri": "https://localhost:8080/"
        },
        "id": "re2cPhu8Glvf",
        "outputId": "665ab4f5-5490-4ea5-9976-bce49bba30b1"
      },
      "outputs": [
        {
          "output_type": "stream",
          "name": "stdout",
          "text": [
            "Mounted at /content/drive\n"
          ]
        }
      ],
      "source": [
        "  from google.colab import drive\n",
        "  drive.mount('/content/drive')\n",
        "\n"
      ]
    },
    {
      "cell_type": "code",
      "execution_count": 2,
      "metadata": {
        "colab": {
          "base_uri": "https://localhost:8080/"
        },
        "id": "16aNt0njGqgR",
        "outputId": "1bea06d8-a8b8-4bfa-cdca-f67a0d3872f0"
      },
      "outputs": [
        {
          "output_type": "stream",
          "name": "stdout",
          "text": [
            "drive  sample_data\n"
          ]
        }
      ],
      "source": [
        "  !ls\n"
      ]
    },
    {
      "cell_type": "code",
      "execution_count": 3,
      "metadata": {
        "id": "6kpNIXuzGskg"
      },
      "outputs": [],
      "source": [
        "  import sys\n",
        "  root_path = '/content/drive/My Drive/Groundnut_Leaf_dataset/' # This is the path to where in google drive the code is stored!\n",
        "  sys.path.append(root_path)"
      ]
    },
    {
      "cell_type": "markdown",
      "metadata": {
        "id": "qMNSUzIxL7JZ"
      },
      "source": [
        "# THÊM TẤT CẢ CÁC THƯ VIỆN CẦN THIẾT"
      ]
    },
    {
      "cell_type": "code",
      "execution_count": 4,
      "metadata": {
        "id": "NJq2Vm2hHTWR"
      },
      "outputs": [],
      "source": [
        "import numpy as np\n",
        "from sklearn.metrics import accuracy_score, f1_score, precision_score, confusion_matrix\n",
        "from sklearn.model_selection import StratifiedKFold\n",
        "from PIL import Image\n",
        "import random\n",
        "import tensorflow as tf\n",
        "from tensorflow.keras.models import Sequential\n",
        "from keras.preprocessing.image import ImageDataGenerator\n",
        "from tensorflow.keras.preprocessing.image import ImageDataGenerator\n",
        "from tensorflow.keras.layers import Dense, Dropout, Flatten, Conv2D, MaxPooling2D\n",
        "\n",
        "from tensorflow.compat.v1 import ConfigProto\n",
        "from tensorflow.compat.v1 import InteractiveSession\n",
        "import warnings\n",
        "import os\n",
        "import shutil\n",
        "from PIL import ImageFile\n",
        "warnings.simplefilter('error', Image.DecompressionBombWarning)\n",
        "ImageFile.LOAD_TRUNCATED_IMAGES = True\n",
        "Image.MAX_IMAGE_PIXELS = 1000000000\n",
        "config = ConfigProto()\n",
        "config.gpu_options.allow_growth = True\n",
        "session = InteractiveSession(config=config)"
      ]
    },
    {
      "cell_type": "markdown",
      "source": [],
      "metadata": {
        "id": "dRoRYDVdlr-Q"
      }
    },
    {
      "cell_type": "markdown",
      "metadata": {
        "id": "QYpc-VdEMGBS"
      },
      "source": [
        "# Khởi tạo các biến cần thiết"
      ]
    },
    {
      "cell_type": "code",
      "execution_count": 5,
      "metadata": {
        "id": "iCy2O5d9Jxq6"
      },
      "outputs": [],
      "source": [
        "datasetFolderName=root_path+'dataset'\n",
        "MODEL_FILENAME=root_path+\"model_cv.h5\"\n",
        "sourceFiles=[]\n",
        "classLabels=['early_leaf_spot_1','early_rust_1','healthy_leaf_1',\n",
        "              'late_leaf_spot_1','nutrition_deficiency_1','rust_1']\n",
        "X=[]\n",
        "Y=[]\n",
        "\n",
        "img_rows, img_cols =  224, 224\n",
        "# input image dimensions\n",
        "#img_rows, img_cols =  224, 224 # input image dimensions\n",
        "train_path=datasetFolderName+'/train/'\n",
        "validation_path=datasetFolderName+'/validation/'\n",
        "test_path=datasetFolderName+'/test/'"
      ]
    },
    {
      "cell_type": "markdown",
      "metadata": {
        "id": "LyAnSQTbMblZ"
      },
      "source": [
        "# KFOLD train-test-validation"
      ]
    },
    {
      "cell_type": "code",
      "execution_count": 6,
      "metadata": {
        "id": "RgfHPIHbJ4rR"
      },
      "outputs": [],
      "source": [
        "def transferBetweenFolders(source, dest, splitRate):\n",
        "    global sourceFiles\n",
        "    sourceFiles=os.listdir(source)\n",
        "    if(len(sourceFiles)!=0):\n",
        "        transferFileNumbers=int(len(sourceFiles)*splitRate)\n",
        "        transferIndex=random.sample(range(0, len(sourceFiles)), transferFileNumbers)\n",
        "        for eachIndex in transferIndex:\n",
        "            shutil.move(source+str(sourceFiles[eachIndex]), dest+str(sourceFiles[eachIndex]))\n",
        "    else:\n",
        "        print(\"No file moved. Source empty!\")\n",
        "\n",
        "def transferAllClassBetweenFolders(source, dest, splitRate):\n",
        "    for label in classLabels:\n",
        "        transferBetweenFolders(datasetFolderName+'/'+source+'/'+label+'/',\n",
        "                               datasetFolderName+'/'+dest+'/'+label+'/',\n",
        "                               splitRate)"
      ]
    },
    {
      "cell_type": "code",
      "execution_count": 7,
      "metadata": {
        "id": "stSX_AiNKleb"
      },
      "outputs": [],
      "source": [
        "#transferAllClassBetweenFolders('test', 'train', 1.0)"
      ]
    },
    {
      "cell_type": "code",
      "execution_count": 8,
      "metadata": {
        "id": "Z6o8gWE-N-rq"
      },
      "outputs": [],
      "source": [
        "transferAllClassBetweenFolders('validation', 'train', 1.0)"
      ]
    },
    {
      "cell_type": "code",
      "execution_count": 9,
      "metadata": {
        "id": "WjDpm9yPzOPO"
      },
      "outputs": [],
      "source": [
        "#transferAllClassBetweenFolders('train', 'train1', 0.75)"
      ]
    },
    {
      "cell_type": "code",
      "execution_count": 10,
      "metadata": {
        "id": "arE4ro1JKqIh"
      },
      "outputs": [],
      "source": [
        "#transferAllClassBetweenFolders('train', 'test', 0.20)"
      ]
    },
    {
      "cell_type": "code",
      "execution_count": 11,
      "metadata": {
        "id": "73VhRSA2K0fp"
      },
      "outputs": [],
      "source": [
        "def prepareNameWithLabels(folderName):\n",
        "    sourceFiles=os.listdir(datasetFolderName+'/train/'+folderName)\n",
        "    for val in sourceFiles:\n",
        "        X.append(val)\n",
        "        for i in range(len(classLabels)):\n",
        "          if(folderName==classLabels[i]):\n",
        "              Y.append(i)"
      ]
    },
    {
      "cell_type": "code",
      "execution_count": 12,
      "metadata": {
        "id": "u6pP6P3YK2Ub"
      },
      "outputs": [],
      "source": [
        "# Organize file names and class labels in X and Y variables\n",
        "for i in range(len(classLabels)):\n",
        "  prepareNameWithLabels(classLabels[i])"
      ]
    },
    {
      "cell_type": "code",
      "execution_count": 13,
      "metadata": {
        "id": "WZHmT5JgK3xa"
      },
      "outputs": [],
      "source": [
        "X=np.asarray(X)\n",
        "Y=np.asarray(Y)"
      ]
    },
    {
      "cell_type": "code",
      "execution_count": 14,
      "metadata": {
        "colab": {
          "base_uri": "https://localhost:8080/"
        },
        "id": "MzTCDvyoM28y",
        "outputId": "301b55c6-a7f8-4a41-c692-a4c0dd218105"
      },
      "outputs": [
        {
          "output_type": "stream",
          "name": "stdout",
          "text": [
            "['IMG_3093.jpg' 'IMG_4096.jpg' 'IMG_4880.jpg' ... 'dr_21_8287.jpg'\n",
            " 'dr_41_2719.jpg' 'dr_13_3101.jpg']\n",
            "[0 0 0 ... 5 5 5]\n"
          ]
        }
      ],
      "source": [
        "print(X)\n",
        "print(Y)"
      ]
    },
    {
      "cell_type": "code",
      "execution_count": 15,
      "metadata": {
        "id": "WtnpSQSxX-67"
      },
      "outputs": [],
      "source": [
        "batch_size = 16\n",
        "IMG_SIZE = (224, 224, 3)\n",
        "number_of_class_labels = len(classLabels)"
      ]
    },
    {
      "cell_type": "code",
      "execution_count": 16,
      "metadata": {
        "id": "OKucCyffZ5cD"
      },
      "outputs": [],
      "source": [
        "import tensorflow.keras as keras"
      ]
    },
    {
      "cell_type": "code",
      "execution_count": 17,
      "metadata": {
        "id": "zWFE6eJxZvCD"
      },
      "outputs": [],
      "source": [
        "# Create a data augmentation stage with horizontal flipping, rotations, zooms\n",
        "data_augmentation = keras.Sequential(\n",
        "    [\n",
        "        keras.layers.Rescaling(1./ 255),\n",
        "        keras.layers.RandomFlip(),\n",
        "        keras.layers.RandomRotation(0.2),\n",
        "        keras.layers.RandomZoom(0.2,0.3)\n",
        "    ]\n",
        ")"
      ]
    },
    {
      "cell_type": "code",
      "execution_count": 18,
      "metadata": {
        "id": "A929RzhDZ7wR"
      },
      "outputs": [],
      "source": [
        "#ResNet50V2 layers except for the last global average pooling and final dense layer.\n",
        "#pre_trained_layers = keras.applications.ResNet50V2(weights=\"imagenet\", include_top=False,\n",
        " #          input_tensor=keras.Input(shape=IMG_SIZE))"
      ]
    },
    {
      "cell_type": "code",
      "execution_count": 19,
      "metadata": {
        "id": "wbD80LCePblH",
        "colab": {
          "base_uri": "https://localhost:8080/"
        },
        "outputId": "dfab3a38-4d0a-45b3-8ed5-83555b9a013a"
      },
      "outputs": [
        {
          "output_type": "stream",
          "name": "stdout",
          "text": [
            "Downloading data from https://storage.googleapis.com/tensorflow/keras-applications/resnet/resnet101v2_weights_tf_dim_ordering_tf_kernels_notop.h5\n",
            "171317808/171317808 [==============================] - 1s 0us/step\n"
          ]
        }
      ],
      "source": [
        "\n",
        "pre_trained_layers = keras.applications.ResNet101V2(weights=\"imagenet\", include_top=False,\n",
        "         input_tensor=keras.Input(shape=IMG_SIZE))"
      ]
    },
    {
      "cell_type": "code",
      "execution_count": 20,
      "metadata": {
        "id": "kFkcL4A1JffX"
      },
      "outputs": [],
      "source": [
        "#pre_trained_layers = tf.keras.applications.ResNet152(weights=\"imagenet\", include_top=False,\n",
        "#          input_tensor=keras.Input(shape=IMG_SIZE))"
      ]
    },
    {
      "cell_type": "code",
      "execution_count": 21,
      "metadata": {
        "colab": {
          "base_uri": "https://localhost:8080/"
        },
        "id": "V-K3rsDLaLWL",
        "outputId": "8d02fcbd-1f3b-45e1-e445-4d49bbebf406"
      },
      "outputs": [
        {
          "output_type": "stream",
          "name": "stdout",
          "text": [
            "Model: \"resnet101v2\"\n",
            "__________________________________________________________________________________________________\n",
            " Layer (type)                   Output Shape         Param #     Connected to                     \n",
            "==================================================================================================\n",
            " input_1 (InputLayer)           [(None, 224, 224, 3  0           []                               \n",
            "                                )]                                                                \n",
            "                                                                                                  \n",
            " conv1_pad (ZeroPadding2D)      (None, 230, 230, 3)  0           ['input_1[0][0]']                \n",
            "                                                                                                  \n",
            " conv1_conv (Conv2D)            (None, 112, 112, 64  9472        ['conv1_pad[0][0]']              \n",
            "                                )                                                                 \n",
            "                                                                                                  \n",
            " pool1_pad (ZeroPadding2D)      (None, 114, 114, 64  0           ['conv1_conv[0][0]']             \n",
            "                                )                                                                 \n",
            "                                                                                                  \n",
            " pool1_pool (MaxPooling2D)      (None, 56, 56, 64)   0           ['pool1_pad[0][0]']              \n",
            "                                                                                                  \n",
            " conv2_block1_preact_bn (BatchN  (None, 56, 56, 64)  256         ['pool1_pool[0][0]']             \n",
            " ormalization)                                                                                    \n",
            "                                                                                                  \n",
            " conv2_block1_preact_relu (Acti  (None, 56, 56, 64)  0           ['conv2_block1_preact_bn[0][0]'] \n",
            " vation)                                                                                          \n",
            "                                                                                                  \n",
            " conv2_block1_1_conv (Conv2D)   (None, 56, 56, 64)   4096        ['conv2_block1_preact_relu[0][0]'\n",
            "                                                                 ]                                \n",
            "                                                                                                  \n",
            " conv2_block1_1_bn (BatchNormal  (None, 56, 56, 64)  256         ['conv2_block1_1_conv[0][0]']    \n",
            " ization)                                                                                         \n",
            "                                                                                                  \n",
            " conv2_block1_1_relu (Activatio  (None, 56, 56, 64)  0           ['conv2_block1_1_bn[0][0]']      \n",
            " n)                                                                                               \n",
            "                                                                                                  \n",
            " conv2_block1_2_pad (ZeroPaddin  (None, 58, 58, 64)  0           ['conv2_block1_1_relu[0][0]']    \n",
            " g2D)                                                                                             \n",
            "                                                                                                  \n",
            " conv2_block1_2_conv (Conv2D)   (None, 56, 56, 64)   36864       ['conv2_block1_2_pad[0][0]']     \n",
            "                                                                                                  \n",
            " conv2_block1_2_bn (BatchNormal  (None, 56, 56, 64)  256         ['conv2_block1_2_conv[0][0]']    \n",
            " ization)                                                                                         \n",
            "                                                                                                  \n",
            " conv2_block1_2_relu (Activatio  (None, 56, 56, 64)  0           ['conv2_block1_2_bn[0][0]']      \n",
            " n)                                                                                               \n",
            "                                                                                                  \n",
            " conv2_block1_0_conv (Conv2D)   (None, 56, 56, 256)  16640       ['conv2_block1_preact_relu[0][0]'\n",
            "                                                                 ]                                \n",
            "                                                                                                  \n",
            " conv2_block1_3_conv (Conv2D)   (None, 56, 56, 256)  16640       ['conv2_block1_2_relu[0][0]']    \n",
            "                                                                                                  \n",
            " conv2_block1_out (Add)         (None, 56, 56, 256)  0           ['conv2_block1_0_conv[0][0]',    \n",
            "                                                                  'conv2_block1_3_conv[0][0]']    \n",
            "                                                                                                  \n",
            " conv2_block2_preact_bn (BatchN  (None, 56, 56, 256)  1024       ['conv2_block1_out[0][0]']       \n",
            " ormalization)                                                                                    \n",
            "                                                                                                  \n",
            " conv2_block2_preact_relu (Acti  (None, 56, 56, 256)  0          ['conv2_block2_preact_bn[0][0]'] \n",
            " vation)                                                                                          \n",
            "                                                                                                  \n",
            " conv2_block2_1_conv (Conv2D)   (None, 56, 56, 64)   16384       ['conv2_block2_preact_relu[0][0]'\n",
            "                                                                 ]                                \n",
            "                                                                                                  \n",
            " conv2_block2_1_bn (BatchNormal  (None, 56, 56, 64)  256         ['conv2_block2_1_conv[0][0]']    \n",
            " ization)                                                                                         \n",
            "                                                                                                  \n",
            " conv2_block2_1_relu (Activatio  (None, 56, 56, 64)  0           ['conv2_block2_1_bn[0][0]']      \n",
            " n)                                                                                               \n",
            "                                                                                                  \n",
            " conv2_block2_2_pad (ZeroPaddin  (None, 58, 58, 64)  0           ['conv2_block2_1_relu[0][0]']    \n",
            " g2D)                                                                                             \n",
            "                                                                                                  \n",
            " conv2_block2_2_conv (Conv2D)   (None, 56, 56, 64)   36864       ['conv2_block2_2_pad[0][0]']     \n",
            "                                                                                                  \n",
            " conv2_block2_2_bn (BatchNormal  (None, 56, 56, 64)  256         ['conv2_block2_2_conv[0][0]']    \n",
            " ization)                                                                                         \n",
            "                                                                                                  \n",
            " conv2_block2_2_relu (Activatio  (None, 56, 56, 64)  0           ['conv2_block2_2_bn[0][0]']      \n",
            " n)                                                                                               \n",
            "                                                                                                  \n",
            " conv2_block2_3_conv (Conv2D)   (None, 56, 56, 256)  16640       ['conv2_block2_2_relu[0][0]']    \n",
            "                                                                                                  \n",
            " conv2_block2_out (Add)         (None, 56, 56, 256)  0           ['conv2_block1_out[0][0]',       \n",
            "                                                                  'conv2_block2_3_conv[0][0]']    \n",
            "                                                                                                  \n",
            " conv2_block3_preact_bn (BatchN  (None, 56, 56, 256)  1024       ['conv2_block2_out[0][0]']       \n",
            " ormalization)                                                                                    \n",
            "                                                                                                  \n",
            " conv2_block3_preact_relu (Acti  (None, 56, 56, 256)  0          ['conv2_block3_preact_bn[0][0]'] \n",
            " vation)                                                                                          \n",
            "                                                                                                  \n",
            " conv2_block3_1_conv (Conv2D)   (None, 56, 56, 64)   16384       ['conv2_block3_preact_relu[0][0]'\n",
            "                                                                 ]                                \n",
            "                                                                                                  \n",
            " conv2_block3_1_bn (BatchNormal  (None, 56, 56, 64)  256         ['conv2_block3_1_conv[0][0]']    \n",
            " ization)                                                                                         \n",
            "                                                                                                  \n",
            " conv2_block3_1_relu (Activatio  (None, 56, 56, 64)  0           ['conv2_block3_1_bn[0][0]']      \n",
            " n)                                                                                               \n",
            "                                                                                                  \n",
            " conv2_block3_2_pad (ZeroPaddin  (None, 58, 58, 64)  0           ['conv2_block3_1_relu[0][0]']    \n",
            " g2D)                                                                                             \n",
            "                                                                                                  \n",
            " conv2_block3_2_conv (Conv2D)   (None, 28, 28, 64)   36864       ['conv2_block3_2_pad[0][0]']     \n",
            "                                                                                                  \n",
            " conv2_block3_2_bn (BatchNormal  (None, 28, 28, 64)  256         ['conv2_block3_2_conv[0][0]']    \n",
            " ization)                                                                                         \n",
            "                                                                                                  \n",
            " conv2_block3_2_relu (Activatio  (None, 28, 28, 64)  0           ['conv2_block3_2_bn[0][0]']      \n",
            " n)                                                                                               \n",
            "                                                                                                  \n",
            " max_pooling2d (MaxPooling2D)   (None, 28, 28, 256)  0           ['conv2_block2_out[0][0]']       \n",
            "                                                                                                  \n",
            " conv2_block3_3_conv (Conv2D)   (None, 28, 28, 256)  16640       ['conv2_block3_2_relu[0][0]']    \n",
            "                                                                                                  \n",
            " conv2_block3_out (Add)         (None, 28, 28, 256)  0           ['max_pooling2d[0][0]',          \n",
            "                                                                  'conv2_block3_3_conv[0][0]']    \n",
            "                                                                                                  \n",
            " conv3_block1_preact_bn (BatchN  (None, 28, 28, 256)  1024       ['conv2_block3_out[0][0]']       \n",
            " ormalization)                                                                                    \n",
            "                                                                                                  \n",
            " conv3_block1_preact_relu (Acti  (None, 28, 28, 256)  0          ['conv3_block1_preact_bn[0][0]'] \n",
            " vation)                                                                                          \n",
            "                                                                                                  \n",
            " conv3_block1_1_conv (Conv2D)   (None, 28, 28, 128)  32768       ['conv3_block1_preact_relu[0][0]'\n",
            "                                                                 ]                                \n",
            "                                                                                                  \n",
            " conv3_block1_1_bn (BatchNormal  (None, 28, 28, 128)  512        ['conv3_block1_1_conv[0][0]']    \n",
            " ization)                                                                                         \n",
            "                                                                                                  \n",
            " conv3_block1_1_relu (Activatio  (None, 28, 28, 128)  0          ['conv3_block1_1_bn[0][0]']      \n",
            " n)                                                                                               \n",
            "                                                                                                  \n",
            " conv3_block1_2_pad (ZeroPaddin  (None, 30, 30, 128)  0          ['conv3_block1_1_relu[0][0]']    \n",
            " g2D)                                                                                             \n",
            "                                                                                                  \n",
            " conv3_block1_2_conv (Conv2D)   (None, 28, 28, 128)  147456      ['conv3_block1_2_pad[0][0]']     \n",
            "                                                                                                  \n",
            " conv3_block1_2_bn (BatchNormal  (None, 28, 28, 128)  512        ['conv3_block1_2_conv[0][0]']    \n",
            " ization)                                                                                         \n",
            "                                                                                                  \n",
            " conv3_block1_2_relu (Activatio  (None, 28, 28, 128)  0          ['conv3_block1_2_bn[0][0]']      \n",
            " n)                                                                                               \n",
            "                                                                                                  \n",
            " conv3_block1_0_conv (Conv2D)   (None, 28, 28, 512)  131584      ['conv3_block1_preact_relu[0][0]'\n",
            "                                                                 ]                                \n",
            "                                                                                                  \n",
            " conv3_block1_3_conv (Conv2D)   (None, 28, 28, 512)  66048       ['conv3_block1_2_relu[0][0]']    \n",
            "                                                                                                  \n",
            " conv3_block1_out (Add)         (None, 28, 28, 512)  0           ['conv3_block1_0_conv[0][0]',    \n",
            "                                                                  'conv3_block1_3_conv[0][0]']    \n",
            "                                                                                                  \n",
            " conv3_block2_preact_bn (BatchN  (None, 28, 28, 512)  2048       ['conv3_block1_out[0][0]']       \n",
            " ormalization)                                                                                    \n",
            "                                                                                                  \n",
            " conv3_block2_preact_relu (Acti  (None, 28, 28, 512)  0          ['conv3_block2_preact_bn[0][0]'] \n",
            " vation)                                                                                          \n",
            "                                                                                                  \n",
            " conv3_block2_1_conv (Conv2D)   (None, 28, 28, 128)  65536       ['conv3_block2_preact_relu[0][0]'\n",
            "                                                                 ]                                \n",
            "                                                                                                  \n",
            " conv3_block2_1_bn (BatchNormal  (None, 28, 28, 128)  512        ['conv3_block2_1_conv[0][0]']    \n",
            " ization)                                                                                         \n",
            "                                                                                                  \n",
            " conv3_block2_1_relu (Activatio  (None, 28, 28, 128)  0          ['conv3_block2_1_bn[0][0]']      \n",
            " n)                                                                                               \n",
            "                                                                                                  \n",
            " conv3_block2_2_pad (ZeroPaddin  (None, 30, 30, 128)  0          ['conv3_block2_1_relu[0][0]']    \n",
            " g2D)                                                                                             \n",
            "                                                                                                  \n",
            " conv3_block2_2_conv (Conv2D)   (None, 28, 28, 128)  147456      ['conv3_block2_2_pad[0][0]']     \n",
            "                                                                                                  \n",
            " conv3_block2_2_bn (BatchNormal  (None, 28, 28, 128)  512        ['conv3_block2_2_conv[0][0]']    \n",
            " ization)                                                                                         \n",
            "                                                                                                  \n",
            " conv3_block2_2_relu (Activatio  (None, 28, 28, 128)  0          ['conv3_block2_2_bn[0][0]']      \n",
            " n)                                                                                               \n",
            "                                                                                                  \n",
            " conv3_block2_3_conv (Conv2D)   (None, 28, 28, 512)  66048       ['conv3_block2_2_relu[0][0]']    \n",
            "                                                                                                  \n",
            " conv3_block2_out (Add)         (None, 28, 28, 512)  0           ['conv3_block1_out[0][0]',       \n",
            "                                                                  'conv3_block2_3_conv[0][0]']    \n",
            "                                                                                                  \n",
            " conv3_block3_preact_bn (BatchN  (None, 28, 28, 512)  2048       ['conv3_block2_out[0][0]']       \n",
            " ormalization)                                                                                    \n",
            "                                                                                                  \n",
            " conv3_block3_preact_relu (Acti  (None, 28, 28, 512)  0          ['conv3_block3_preact_bn[0][0]'] \n",
            " vation)                                                                                          \n",
            "                                                                                                  \n",
            " conv3_block3_1_conv (Conv2D)   (None, 28, 28, 128)  65536       ['conv3_block3_preact_relu[0][0]'\n",
            "                                                                 ]                                \n",
            "                                                                                                  \n",
            " conv3_block3_1_bn (BatchNormal  (None, 28, 28, 128)  512        ['conv3_block3_1_conv[0][0]']    \n",
            " ization)                                                                                         \n",
            "                                                                                                  \n",
            " conv3_block3_1_relu (Activatio  (None, 28, 28, 128)  0          ['conv3_block3_1_bn[0][0]']      \n",
            " n)                                                                                               \n",
            "                                                                                                  \n",
            " conv3_block3_2_pad (ZeroPaddin  (None, 30, 30, 128)  0          ['conv3_block3_1_relu[0][0]']    \n",
            " g2D)                                                                                             \n",
            "                                                                                                  \n",
            " conv3_block3_2_conv (Conv2D)   (None, 28, 28, 128)  147456      ['conv3_block3_2_pad[0][0]']     \n",
            "                                                                                                  \n",
            " conv3_block3_2_bn (BatchNormal  (None, 28, 28, 128)  512        ['conv3_block3_2_conv[0][0]']    \n",
            " ization)                                                                                         \n",
            "                                                                                                  \n",
            " conv3_block3_2_relu (Activatio  (None, 28, 28, 128)  0          ['conv3_block3_2_bn[0][0]']      \n",
            " n)                                                                                               \n",
            "                                                                                                  \n",
            " conv3_block3_3_conv (Conv2D)   (None, 28, 28, 512)  66048       ['conv3_block3_2_relu[0][0]']    \n",
            "                                                                                                  \n",
            " conv3_block3_out (Add)         (None, 28, 28, 512)  0           ['conv3_block2_out[0][0]',       \n",
            "                                                                  'conv3_block3_3_conv[0][0]']    \n",
            "                                                                                                  \n",
            " conv3_block4_preact_bn (BatchN  (None, 28, 28, 512)  2048       ['conv3_block3_out[0][0]']       \n",
            " ormalization)                                                                                    \n",
            "                                                                                                  \n",
            " conv3_block4_preact_relu (Acti  (None, 28, 28, 512)  0          ['conv3_block4_preact_bn[0][0]'] \n",
            " vation)                                                                                          \n",
            "                                                                                                  \n",
            " conv3_block4_1_conv (Conv2D)   (None, 28, 28, 128)  65536       ['conv3_block4_preact_relu[0][0]'\n",
            "                                                                 ]                                \n",
            "                                                                                                  \n",
            " conv3_block4_1_bn (BatchNormal  (None, 28, 28, 128)  512        ['conv3_block4_1_conv[0][0]']    \n",
            " ization)                                                                                         \n",
            "                                                                                                  \n",
            " conv3_block4_1_relu (Activatio  (None, 28, 28, 128)  0          ['conv3_block4_1_bn[0][0]']      \n",
            " n)                                                                                               \n",
            "                                                                                                  \n",
            " conv3_block4_2_pad (ZeroPaddin  (None, 30, 30, 128)  0          ['conv3_block4_1_relu[0][0]']    \n",
            " g2D)                                                                                             \n",
            "                                                                                                  \n",
            " conv3_block4_2_conv (Conv2D)   (None, 14, 14, 128)  147456      ['conv3_block4_2_pad[0][0]']     \n",
            "                                                                                                  \n",
            " conv3_block4_2_bn (BatchNormal  (None, 14, 14, 128)  512        ['conv3_block4_2_conv[0][0]']    \n",
            " ization)                                                                                         \n",
            "                                                                                                  \n",
            " conv3_block4_2_relu (Activatio  (None, 14, 14, 128)  0          ['conv3_block4_2_bn[0][0]']      \n",
            " n)                                                                                               \n",
            "                                                                                                  \n",
            " max_pooling2d_1 (MaxPooling2D)  (None, 14, 14, 512)  0          ['conv3_block3_out[0][0]']       \n",
            "                                                                                                  \n",
            " conv3_block4_3_conv (Conv2D)   (None, 14, 14, 512)  66048       ['conv3_block4_2_relu[0][0]']    \n",
            "                                                                                                  \n",
            " conv3_block4_out (Add)         (None, 14, 14, 512)  0           ['max_pooling2d_1[0][0]',        \n",
            "                                                                  'conv3_block4_3_conv[0][0]']    \n",
            "                                                                                                  \n",
            " conv4_block1_preact_bn (BatchN  (None, 14, 14, 512)  2048       ['conv3_block4_out[0][0]']       \n",
            " ormalization)                                                                                    \n",
            "                                                                                                  \n",
            " conv4_block1_preact_relu (Acti  (None, 14, 14, 512)  0          ['conv4_block1_preact_bn[0][0]'] \n",
            " vation)                                                                                          \n",
            "                                                                                                  \n",
            " conv4_block1_1_conv (Conv2D)   (None, 14, 14, 256)  131072      ['conv4_block1_preact_relu[0][0]'\n",
            "                                                                 ]                                \n",
            "                                                                                                  \n",
            " conv4_block1_1_bn (BatchNormal  (None, 14, 14, 256)  1024       ['conv4_block1_1_conv[0][0]']    \n",
            " ization)                                                                                         \n",
            "                                                                                                  \n",
            " conv4_block1_1_relu (Activatio  (None, 14, 14, 256)  0          ['conv4_block1_1_bn[0][0]']      \n",
            " n)                                                                                               \n",
            "                                                                                                  \n",
            " conv4_block1_2_pad (ZeroPaddin  (None, 16, 16, 256)  0          ['conv4_block1_1_relu[0][0]']    \n",
            " g2D)                                                                                             \n",
            "                                                                                                  \n",
            " conv4_block1_2_conv (Conv2D)   (None, 14, 14, 256)  589824      ['conv4_block1_2_pad[0][0]']     \n",
            "                                                                                                  \n",
            " conv4_block1_2_bn (BatchNormal  (None, 14, 14, 256)  1024       ['conv4_block1_2_conv[0][0]']    \n",
            " ization)                                                                                         \n",
            "                                                                                                  \n",
            " conv4_block1_2_relu (Activatio  (None, 14, 14, 256)  0          ['conv4_block1_2_bn[0][0]']      \n",
            " n)                                                                                               \n",
            "                                                                                                  \n",
            " conv4_block1_0_conv (Conv2D)   (None, 14, 14, 1024  525312      ['conv4_block1_preact_relu[0][0]'\n",
            "                                )                                ]                                \n",
            "                                                                                                  \n",
            " conv4_block1_3_conv (Conv2D)   (None, 14, 14, 1024  263168      ['conv4_block1_2_relu[0][0]']    \n",
            "                                )                                                                 \n",
            "                                                                                                  \n",
            " conv4_block1_out (Add)         (None, 14, 14, 1024  0           ['conv4_block1_0_conv[0][0]',    \n",
            "                                )                                 'conv4_block1_3_conv[0][0]']    \n",
            "                                                                                                  \n",
            " conv4_block2_preact_bn (BatchN  (None, 14, 14, 1024  4096       ['conv4_block1_out[0][0]']       \n",
            " ormalization)                  )                                                                 \n",
            "                                                                                                  \n",
            " conv4_block2_preact_relu (Acti  (None, 14, 14, 1024  0          ['conv4_block2_preact_bn[0][0]'] \n",
            " vation)                        )                                                                 \n",
            "                                                                                                  \n",
            " conv4_block2_1_conv (Conv2D)   (None, 14, 14, 256)  262144      ['conv4_block2_preact_relu[0][0]'\n",
            "                                                                 ]                                \n",
            "                                                                                                  \n",
            " conv4_block2_1_bn (BatchNormal  (None, 14, 14, 256)  1024       ['conv4_block2_1_conv[0][0]']    \n",
            " ization)                                                                                         \n",
            "                                                                                                  \n",
            " conv4_block2_1_relu (Activatio  (None, 14, 14, 256)  0          ['conv4_block2_1_bn[0][0]']      \n",
            " n)                                                                                               \n",
            "                                                                                                  \n",
            " conv4_block2_2_pad (ZeroPaddin  (None, 16, 16, 256)  0          ['conv4_block2_1_relu[0][0]']    \n",
            " g2D)                                                                                             \n",
            "                                                                                                  \n",
            " conv4_block2_2_conv (Conv2D)   (None, 14, 14, 256)  589824      ['conv4_block2_2_pad[0][0]']     \n",
            "                                                                                                  \n",
            " conv4_block2_2_bn (BatchNormal  (None, 14, 14, 256)  1024       ['conv4_block2_2_conv[0][0]']    \n",
            " ization)                                                                                         \n",
            "                                                                                                  \n",
            " conv4_block2_2_relu (Activatio  (None, 14, 14, 256)  0          ['conv4_block2_2_bn[0][0]']      \n",
            " n)                                                                                               \n",
            "                                                                                                  \n",
            " conv4_block2_3_conv (Conv2D)   (None, 14, 14, 1024  263168      ['conv4_block2_2_relu[0][0]']    \n",
            "                                )                                                                 \n",
            "                                                                                                  \n",
            " conv4_block2_out (Add)         (None, 14, 14, 1024  0           ['conv4_block1_out[0][0]',       \n",
            "                                )                                 'conv4_block2_3_conv[0][0]']    \n",
            "                                                                                                  \n",
            " conv4_block3_preact_bn (BatchN  (None, 14, 14, 1024  4096       ['conv4_block2_out[0][0]']       \n",
            " ormalization)                  )                                                                 \n",
            "                                                                                                  \n",
            " conv4_block3_preact_relu (Acti  (None, 14, 14, 1024  0          ['conv4_block3_preact_bn[0][0]'] \n",
            " vation)                        )                                                                 \n",
            "                                                                                                  \n",
            " conv4_block3_1_conv (Conv2D)   (None, 14, 14, 256)  262144      ['conv4_block3_preact_relu[0][0]'\n",
            "                                                                 ]                                \n",
            "                                                                                                  \n",
            " conv4_block3_1_bn (BatchNormal  (None, 14, 14, 256)  1024       ['conv4_block3_1_conv[0][0]']    \n",
            " ization)                                                                                         \n",
            "                                                                                                  \n",
            " conv4_block3_1_relu (Activatio  (None, 14, 14, 256)  0          ['conv4_block3_1_bn[0][0]']      \n",
            " n)                                                                                               \n",
            "                                                                                                  \n",
            " conv4_block3_2_pad (ZeroPaddin  (None, 16, 16, 256)  0          ['conv4_block3_1_relu[0][0]']    \n",
            " g2D)                                                                                             \n",
            "                                                                                                  \n",
            " conv4_block3_2_conv (Conv2D)   (None, 14, 14, 256)  589824      ['conv4_block3_2_pad[0][0]']     \n",
            "                                                                                                  \n",
            " conv4_block3_2_bn (BatchNormal  (None, 14, 14, 256)  1024       ['conv4_block3_2_conv[0][0]']    \n",
            " ization)                                                                                         \n",
            "                                                                                                  \n",
            " conv4_block3_2_relu (Activatio  (None, 14, 14, 256)  0          ['conv4_block3_2_bn[0][0]']      \n",
            " n)                                                                                               \n",
            "                                                                                                  \n",
            " conv4_block3_3_conv (Conv2D)   (None, 14, 14, 1024  263168      ['conv4_block3_2_relu[0][0]']    \n",
            "                                )                                                                 \n",
            "                                                                                                  \n",
            " conv4_block3_out (Add)         (None, 14, 14, 1024  0           ['conv4_block2_out[0][0]',       \n",
            "                                )                                 'conv4_block3_3_conv[0][0]']    \n",
            "                                                                                                  \n",
            " conv4_block4_preact_bn (BatchN  (None, 14, 14, 1024  4096       ['conv4_block3_out[0][0]']       \n",
            " ormalization)                  )                                                                 \n",
            "                                                                                                  \n",
            " conv4_block4_preact_relu (Acti  (None, 14, 14, 1024  0          ['conv4_block4_preact_bn[0][0]'] \n",
            " vation)                        )                                                                 \n",
            "                                                                                                  \n",
            " conv4_block4_1_conv (Conv2D)   (None, 14, 14, 256)  262144      ['conv4_block4_preact_relu[0][0]'\n",
            "                                                                 ]                                \n",
            "                                                                                                  \n",
            " conv4_block4_1_bn (BatchNormal  (None, 14, 14, 256)  1024       ['conv4_block4_1_conv[0][0]']    \n",
            " ization)                                                                                         \n",
            "                                                                                                  \n",
            " conv4_block4_1_relu (Activatio  (None, 14, 14, 256)  0          ['conv4_block4_1_bn[0][0]']      \n",
            " n)                                                                                               \n",
            "                                                                                                  \n",
            " conv4_block4_2_pad (ZeroPaddin  (None, 16, 16, 256)  0          ['conv4_block4_1_relu[0][0]']    \n",
            " g2D)                                                                                             \n",
            "                                                                                                  \n",
            " conv4_block4_2_conv (Conv2D)   (None, 14, 14, 256)  589824      ['conv4_block4_2_pad[0][0]']     \n",
            "                                                                                                  \n",
            " conv4_block4_2_bn (BatchNormal  (None, 14, 14, 256)  1024       ['conv4_block4_2_conv[0][0]']    \n",
            " ization)                                                                                         \n",
            "                                                                                                  \n",
            " conv4_block4_2_relu (Activatio  (None, 14, 14, 256)  0          ['conv4_block4_2_bn[0][0]']      \n",
            " n)                                                                                               \n",
            "                                                                                                  \n",
            " conv4_block4_3_conv (Conv2D)   (None, 14, 14, 1024  263168      ['conv4_block4_2_relu[0][0]']    \n",
            "                                )                                                                 \n",
            "                                                                                                  \n",
            " conv4_block4_out (Add)         (None, 14, 14, 1024  0           ['conv4_block3_out[0][0]',       \n",
            "                                )                                 'conv4_block4_3_conv[0][0]']    \n",
            "                                                                                                  \n",
            " conv4_block5_preact_bn (BatchN  (None, 14, 14, 1024  4096       ['conv4_block4_out[0][0]']       \n",
            " ormalization)                  )                                                                 \n",
            "                                                                                                  \n",
            " conv4_block5_preact_relu (Acti  (None, 14, 14, 1024  0          ['conv4_block5_preact_bn[0][0]'] \n",
            " vation)                        )                                                                 \n",
            "                                                                                                  \n",
            " conv4_block5_1_conv (Conv2D)   (None, 14, 14, 256)  262144      ['conv4_block5_preact_relu[0][0]'\n",
            "                                                                 ]                                \n",
            "                                                                                                  \n",
            " conv4_block5_1_bn (BatchNormal  (None, 14, 14, 256)  1024       ['conv4_block5_1_conv[0][0]']    \n",
            " ization)                                                                                         \n",
            "                                                                                                  \n",
            " conv4_block5_1_relu (Activatio  (None, 14, 14, 256)  0          ['conv4_block5_1_bn[0][0]']      \n",
            " n)                                                                                               \n",
            "                                                                                                  \n",
            " conv4_block5_2_pad (ZeroPaddin  (None, 16, 16, 256)  0          ['conv4_block5_1_relu[0][0]']    \n",
            " g2D)                                                                                             \n",
            "                                                                                                  \n",
            " conv4_block5_2_conv (Conv2D)   (None, 14, 14, 256)  589824      ['conv4_block5_2_pad[0][0]']     \n",
            "                                                                                                  \n",
            " conv4_block5_2_bn (BatchNormal  (None, 14, 14, 256)  1024       ['conv4_block5_2_conv[0][0]']    \n",
            " ization)                                                                                         \n",
            "                                                                                                  \n",
            " conv4_block5_2_relu (Activatio  (None, 14, 14, 256)  0          ['conv4_block5_2_bn[0][0]']      \n",
            " n)                                                                                               \n",
            "                                                                                                  \n",
            " conv4_block5_3_conv (Conv2D)   (None, 14, 14, 1024  263168      ['conv4_block5_2_relu[0][0]']    \n",
            "                                )                                                                 \n",
            "                                                                                                  \n",
            " conv4_block5_out (Add)         (None, 14, 14, 1024  0           ['conv4_block4_out[0][0]',       \n",
            "                                )                                 'conv4_block5_3_conv[0][0]']    \n",
            "                                                                                                  \n",
            " conv4_block6_preact_bn (BatchN  (None, 14, 14, 1024  4096       ['conv4_block5_out[0][0]']       \n",
            " ormalization)                  )                                                                 \n",
            "                                                                                                  \n",
            " conv4_block6_preact_relu (Acti  (None, 14, 14, 1024  0          ['conv4_block6_preact_bn[0][0]'] \n",
            " vation)                        )                                                                 \n",
            "                                                                                                  \n",
            " conv4_block6_1_conv (Conv2D)   (None, 14, 14, 256)  262144      ['conv4_block6_preact_relu[0][0]'\n",
            "                                                                 ]                                \n",
            "                                                                                                  \n",
            " conv4_block6_1_bn (BatchNormal  (None, 14, 14, 256)  1024       ['conv4_block6_1_conv[0][0]']    \n",
            " ization)                                                                                         \n",
            "                                                                                                  \n",
            " conv4_block6_1_relu (Activatio  (None, 14, 14, 256)  0          ['conv4_block6_1_bn[0][0]']      \n",
            " n)                                                                                               \n",
            "                                                                                                  \n",
            " conv4_block6_2_pad (ZeroPaddin  (None, 16, 16, 256)  0          ['conv4_block6_1_relu[0][0]']    \n",
            " g2D)                                                                                             \n",
            "                                                                                                  \n",
            " conv4_block6_2_conv (Conv2D)   (None, 14, 14, 256)  589824      ['conv4_block6_2_pad[0][0]']     \n",
            "                                                                                                  \n",
            " conv4_block6_2_bn (BatchNormal  (None, 14, 14, 256)  1024       ['conv4_block6_2_conv[0][0]']    \n",
            " ization)                                                                                         \n",
            "                                                                                                  \n",
            " conv4_block6_2_relu (Activatio  (None, 14, 14, 256)  0          ['conv4_block6_2_bn[0][0]']      \n",
            " n)                                                                                               \n",
            "                                                                                                  \n",
            " conv4_block6_3_conv (Conv2D)   (None, 14, 14, 1024  263168      ['conv4_block6_2_relu[0][0]']    \n",
            "                                )                                                                 \n",
            "                                                                                                  \n",
            " conv4_block6_out (Add)         (None, 14, 14, 1024  0           ['conv4_block5_out[0][0]',       \n",
            "                                )                                 'conv4_block6_3_conv[0][0]']    \n",
            "                                                                                                  \n",
            " conv4_block7_preact_bn (BatchN  (None, 14, 14, 1024  4096       ['conv4_block6_out[0][0]']       \n",
            " ormalization)                  )                                                                 \n",
            "                                                                                                  \n",
            " conv4_block7_preact_relu (Acti  (None, 14, 14, 1024  0          ['conv4_block7_preact_bn[0][0]'] \n",
            " vation)                        )                                                                 \n",
            "                                                                                                  \n",
            " conv4_block7_1_conv (Conv2D)   (None, 14, 14, 256)  262144      ['conv4_block7_preact_relu[0][0]'\n",
            "                                                                 ]                                \n",
            "                                                                                                  \n",
            " conv4_block7_1_bn (BatchNormal  (None, 14, 14, 256)  1024       ['conv4_block7_1_conv[0][0]']    \n",
            " ization)                                                                                         \n",
            "                                                                                                  \n",
            " conv4_block7_1_relu (Activatio  (None, 14, 14, 256)  0          ['conv4_block7_1_bn[0][0]']      \n",
            " n)                                                                                               \n",
            "                                                                                                  \n",
            " conv4_block7_2_pad (ZeroPaddin  (None, 16, 16, 256)  0          ['conv4_block7_1_relu[0][0]']    \n",
            " g2D)                                                                                             \n",
            "                                                                                                  \n",
            " conv4_block7_2_conv (Conv2D)   (None, 14, 14, 256)  589824      ['conv4_block7_2_pad[0][0]']     \n",
            "                                                                                                  \n",
            " conv4_block7_2_bn (BatchNormal  (None, 14, 14, 256)  1024       ['conv4_block7_2_conv[0][0]']    \n",
            " ization)                                                                                         \n",
            "                                                                                                  \n",
            " conv4_block7_2_relu (Activatio  (None, 14, 14, 256)  0          ['conv4_block7_2_bn[0][0]']      \n",
            " n)                                                                                               \n",
            "                                                                                                  \n",
            " conv4_block7_3_conv (Conv2D)   (None, 14, 14, 1024  263168      ['conv4_block7_2_relu[0][0]']    \n",
            "                                )                                                                 \n",
            "                                                                                                  \n",
            " conv4_block7_out (Add)         (None, 14, 14, 1024  0           ['conv4_block6_out[0][0]',       \n",
            "                                )                                 'conv4_block7_3_conv[0][0]']    \n",
            "                                                                                                  \n",
            " conv4_block8_preact_bn (BatchN  (None, 14, 14, 1024  4096       ['conv4_block7_out[0][0]']       \n",
            " ormalization)                  )                                                                 \n",
            "                                                                                                  \n",
            " conv4_block8_preact_relu (Acti  (None, 14, 14, 1024  0          ['conv4_block8_preact_bn[0][0]'] \n",
            " vation)                        )                                                                 \n",
            "                                                                                                  \n",
            " conv4_block8_1_conv (Conv2D)   (None, 14, 14, 256)  262144      ['conv4_block8_preact_relu[0][0]'\n",
            "                                                                 ]                                \n",
            "                                                                                                  \n",
            " conv4_block8_1_bn (BatchNormal  (None, 14, 14, 256)  1024       ['conv4_block8_1_conv[0][0]']    \n",
            " ization)                                                                                         \n",
            "                                                                                                  \n",
            " conv4_block8_1_relu (Activatio  (None, 14, 14, 256)  0          ['conv4_block8_1_bn[0][0]']      \n",
            " n)                                                                                               \n",
            "                                                                                                  \n",
            " conv4_block8_2_pad (ZeroPaddin  (None, 16, 16, 256)  0          ['conv4_block8_1_relu[0][0]']    \n",
            " g2D)                                                                                             \n",
            "                                                                                                  \n",
            " conv4_block8_2_conv (Conv2D)   (None, 14, 14, 256)  589824      ['conv4_block8_2_pad[0][0]']     \n",
            "                                                                                                  \n",
            " conv4_block8_2_bn (BatchNormal  (None, 14, 14, 256)  1024       ['conv4_block8_2_conv[0][0]']    \n",
            " ization)                                                                                         \n",
            "                                                                                                  \n",
            " conv4_block8_2_relu (Activatio  (None, 14, 14, 256)  0          ['conv4_block8_2_bn[0][0]']      \n",
            " n)                                                                                               \n",
            "                                                                                                  \n",
            " conv4_block8_3_conv (Conv2D)   (None, 14, 14, 1024  263168      ['conv4_block8_2_relu[0][0]']    \n",
            "                                )                                                                 \n",
            "                                                                                                  \n",
            " conv4_block8_out (Add)         (None, 14, 14, 1024  0           ['conv4_block7_out[0][0]',       \n",
            "                                )                                 'conv4_block8_3_conv[0][0]']    \n",
            "                                                                                                  \n",
            " conv4_block9_preact_bn (BatchN  (None, 14, 14, 1024  4096       ['conv4_block8_out[0][0]']       \n",
            " ormalization)                  )                                                                 \n",
            "                                                                                                  \n",
            " conv4_block9_preact_relu (Acti  (None, 14, 14, 1024  0          ['conv4_block9_preact_bn[0][0]'] \n",
            " vation)                        )                                                                 \n",
            "                                                                                                  \n",
            " conv4_block9_1_conv (Conv2D)   (None, 14, 14, 256)  262144      ['conv4_block9_preact_relu[0][0]'\n",
            "                                                                 ]                                \n",
            "                                                                                                  \n",
            " conv4_block9_1_bn (BatchNormal  (None, 14, 14, 256)  1024       ['conv4_block9_1_conv[0][0]']    \n",
            " ization)                                                                                         \n",
            "                                                                                                  \n",
            " conv4_block9_1_relu (Activatio  (None, 14, 14, 256)  0          ['conv4_block9_1_bn[0][0]']      \n",
            " n)                                                                                               \n",
            "                                                                                                  \n",
            " conv4_block9_2_pad (ZeroPaddin  (None, 16, 16, 256)  0          ['conv4_block9_1_relu[0][0]']    \n",
            " g2D)                                                                                             \n",
            "                                                                                                  \n",
            " conv4_block9_2_conv (Conv2D)   (None, 14, 14, 256)  589824      ['conv4_block9_2_pad[0][0]']     \n",
            "                                                                                                  \n",
            " conv4_block9_2_bn (BatchNormal  (None, 14, 14, 256)  1024       ['conv4_block9_2_conv[0][0]']    \n",
            " ization)                                                                                         \n",
            "                                                                                                  \n",
            " conv4_block9_2_relu (Activatio  (None, 14, 14, 256)  0          ['conv4_block9_2_bn[0][0]']      \n",
            " n)                                                                                               \n",
            "                                                                                                  \n",
            " conv4_block9_3_conv (Conv2D)   (None, 14, 14, 1024  263168      ['conv4_block9_2_relu[0][0]']    \n",
            "                                )                                                                 \n",
            "                                                                                                  \n",
            " conv4_block9_out (Add)         (None, 14, 14, 1024  0           ['conv4_block8_out[0][0]',       \n",
            "                                )                                 'conv4_block9_3_conv[0][0]']    \n",
            "                                                                                                  \n",
            " conv4_block10_preact_bn (Batch  (None, 14, 14, 1024  4096       ['conv4_block9_out[0][0]']       \n",
            " Normalization)                 )                                                                 \n",
            "                                                                                                  \n",
            " conv4_block10_preact_relu (Act  (None, 14, 14, 1024  0          ['conv4_block10_preact_bn[0][0]']\n",
            " ivation)                       )                                                                 \n",
            "                                                                                                  \n",
            " conv4_block10_1_conv (Conv2D)  (None, 14, 14, 256)  262144      ['conv4_block10_preact_relu[0][0]\n",
            "                                                                 ']                               \n",
            "                                                                                                  \n",
            " conv4_block10_1_bn (BatchNorma  (None, 14, 14, 256)  1024       ['conv4_block10_1_conv[0][0]']   \n",
            " lization)                                                                                        \n",
            "                                                                                                  \n",
            " conv4_block10_1_relu (Activati  (None, 14, 14, 256)  0          ['conv4_block10_1_bn[0][0]']     \n",
            " on)                                                                                              \n",
            "                                                                                                  \n",
            " conv4_block10_2_pad (ZeroPaddi  (None, 16, 16, 256)  0          ['conv4_block10_1_relu[0][0]']   \n",
            " ng2D)                                                                                            \n",
            "                                                                                                  \n",
            " conv4_block10_2_conv (Conv2D)  (None, 14, 14, 256)  589824      ['conv4_block10_2_pad[0][0]']    \n",
            "                                                                                                  \n",
            " conv4_block10_2_bn (BatchNorma  (None, 14, 14, 256)  1024       ['conv4_block10_2_conv[0][0]']   \n",
            " lization)                                                                                        \n",
            "                                                                                                  \n",
            " conv4_block10_2_relu (Activati  (None, 14, 14, 256)  0          ['conv4_block10_2_bn[0][0]']     \n",
            " on)                                                                                              \n",
            "                                                                                                  \n",
            " conv4_block10_3_conv (Conv2D)  (None, 14, 14, 1024  263168      ['conv4_block10_2_relu[0][0]']   \n",
            "                                )                                                                 \n",
            "                                                                                                  \n",
            " conv4_block10_out (Add)        (None, 14, 14, 1024  0           ['conv4_block9_out[0][0]',       \n",
            "                                )                                 'conv4_block10_3_conv[0][0]']   \n",
            "                                                                                                  \n",
            " conv4_block11_preact_bn (Batch  (None, 14, 14, 1024  4096       ['conv4_block10_out[0][0]']      \n",
            " Normalization)                 )                                                                 \n",
            "                                                                                                  \n",
            " conv4_block11_preact_relu (Act  (None, 14, 14, 1024  0          ['conv4_block11_preact_bn[0][0]']\n",
            " ivation)                       )                                                                 \n",
            "                                                                                                  \n",
            " conv4_block11_1_conv (Conv2D)  (None, 14, 14, 256)  262144      ['conv4_block11_preact_relu[0][0]\n",
            "                                                                 ']                               \n",
            "                                                                                                  \n",
            " conv4_block11_1_bn (BatchNorma  (None, 14, 14, 256)  1024       ['conv4_block11_1_conv[0][0]']   \n",
            " lization)                                                                                        \n",
            "                                                                                                  \n",
            " conv4_block11_1_relu (Activati  (None, 14, 14, 256)  0          ['conv4_block11_1_bn[0][0]']     \n",
            " on)                                                                                              \n",
            "                                                                                                  \n",
            " conv4_block11_2_pad (ZeroPaddi  (None, 16, 16, 256)  0          ['conv4_block11_1_relu[0][0]']   \n",
            " ng2D)                                                                                            \n",
            "                                                                                                  \n",
            " conv4_block11_2_conv (Conv2D)  (None, 14, 14, 256)  589824      ['conv4_block11_2_pad[0][0]']    \n",
            "                                                                                                  \n",
            " conv4_block11_2_bn (BatchNorma  (None, 14, 14, 256)  1024       ['conv4_block11_2_conv[0][0]']   \n",
            " lization)                                                                                        \n",
            "                                                                                                  \n",
            " conv4_block11_2_relu (Activati  (None, 14, 14, 256)  0          ['conv4_block11_2_bn[0][0]']     \n",
            " on)                                                                                              \n",
            "                                                                                                  \n",
            " conv4_block11_3_conv (Conv2D)  (None, 14, 14, 1024  263168      ['conv4_block11_2_relu[0][0]']   \n",
            "                                )                                                                 \n",
            "                                                                                                  \n",
            " conv4_block11_out (Add)        (None, 14, 14, 1024  0           ['conv4_block10_out[0][0]',      \n",
            "                                )                                 'conv4_block11_3_conv[0][0]']   \n",
            "                                                                                                  \n",
            " conv4_block12_preact_bn (Batch  (None, 14, 14, 1024  4096       ['conv4_block11_out[0][0]']      \n",
            " Normalization)                 )                                                                 \n",
            "                                                                                                  \n",
            " conv4_block12_preact_relu (Act  (None, 14, 14, 1024  0          ['conv4_block12_preact_bn[0][0]']\n",
            " ivation)                       )                                                                 \n",
            "                                                                                                  \n",
            " conv4_block12_1_conv (Conv2D)  (None, 14, 14, 256)  262144      ['conv4_block12_preact_relu[0][0]\n",
            "                                                                 ']                               \n",
            "                                                                                                  \n",
            " conv4_block12_1_bn (BatchNorma  (None, 14, 14, 256)  1024       ['conv4_block12_1_conv[0][0]']   \n",
            " lization)                                                                                        \n",
            "                                                                                                  \n",
            " conv4_block12_1_relu (Activati  (None, 14, 14, 256)  0          ['conv4_block12_1_bn[0][0]']     \n",
            " on)                                                                                              \n",
            "                                                                                                  \n",
            " conv4_block12_2_pad (ZeroPaddi  (None, 16, 16, 256)  0          ['conv4_block12_1_relu[0][0]']   \n",
            " ng2D)                                                                                            \n",
            "                                                                                                  \n",
            " conv4_block12_2_conv (Conv2D)  (None, 14, 14, 256)  589824      ['conv4_block12_2_pad[0][0]']    \n",
            "                                                                                                  \n",
            " conv4_block12_2_bn (BatchNorma  (None, 14, 14, 256)  1024       ['conv4_block12_2_conv[0][0]']   \n",
            " lization)                                                                                        \n",
            "                                                                                                  \n",
            " conv4_block12_2_relu (Activati  (None, 14, 14, 256)  0          ['conv4_block12_2_bn[0][0]']     \n",
            " on)                                                                                              \n",
            "                                                                                                  \n",
            " conv4_block12_3_conv (Conv2D)  (None, 14, 14, 1024  263168      ['conv4_block12_2_relu[0][0]']   \n",
            "                                )                                                                 \n",
            "                                                                                                  \n",
            " conv4_block12_out (Add)        (None, 14, 14, 1024  0           ['conv4_block11_out[0][0]',      \n",
            "                                )                                 'conv4_block12_3_conv[0][0]']   \n",
            "                                                                                                  \n",
            " conv4_block13_preact_bn (Batch  (None, 14, 14, 1024  4096       ['conv4_block12_out[0][0]']      \n",
            " Normalization)                 )                                                                 \n",
            "                                                                                                  \n",
            " conv4_block13_preact_relu (Act  (None, 14, 14, 1024  0          ['conv4_block13_preact_bn[0][0]']\n",
            " ivation)                       )                                                                 \n",
            "                                                                                                  \n",
            " conv4_block13_1_conv (Conv2D)  (None, 14, 14, 256)  262144      ['conv4_block13_preact_relu[0][0]\n",
            "                                                                 ']                               \n",
            "                                                                                                  \n",
            " conv4_block13_1_bn (BatchNorma  (None, 14, 14, 256)  1024       ['conv4_block13_1_conv[0][0]']   \n",
            " lization)                                                                                        \n",
            "                                                                                                  \n",
            " conv4_block13_1_relu (Activati  (None, 14, 14, 256)  0          ['conv4_block13_1_bn[0][0]']     \n",
            " on)                                                                                              \n",
            "                                                                                                  \n",
            " conv4_block13_2_pad (ZeroPaddi  (None, 16, 16, 256)  0          ['conv4_block13_1_relu[0][0]']   \n",
            " ng2D)                                                                                            \n",
            "                                                                                                  \n",
            " conv4_block13_2_conv (Conv2D)  (None, 14, 14, 256)  589824      ['conv4_block13_2_pad[0][0]']    \n",
            "                                                                                                  \n",
            " conv4_block13_2_bn (BatchNorma  (None, 14, 14, 256)  1024       ['conv4_block13_2_conv[0][0]']   \n",
            " lization)                                                                                        \n",
            "                                                                                                  \n",
            " conv4_block13_2_relu (Activati  (None, 14, 14, 256)  0          ['conv4_block13_2_bn[0][0]']     \n",
            " on)                                                                                              \n",
            "                                                                                                  \n",
            " conv4_block13_3_conv (Conv2D)  (None, 14, 14, 1024  263168      ['conv4_block13_2_relu[0][0]']   \n",
            "                                )                                                                 \n",
            "                                                                                                  \n",
            " conv4_block13_out (Add)        (None, 14, 14, 1024  0           ['conv4_block12_out[0][0]',      \n",
            "                                )                                 'conv4_block13_3_conv[0][0]']   \n",
            "                                                                                                  \n",
            " conv4_block14_preact_bn (Batch  (None, 14, 14, 1024  4096       ['conv4_block13_out[0][0]']      \n",
            " Normalization)                 )                                                                 \n",
            "                                                                                                  \n",
            " conv4_block14_preact_relu (Act  (None, 14, 14, 1024  0          ['conv4_block14_preact_bn[0][0]']\n",
            " ivation)                       )                                                                 \n",
            "                                                                                                  \n",
            " conv4_block14_1_conv (Conv2D)  (None, 14, 14, 256)  262144      ['conv4_block14_preact_relu[0][0]\n",
            "                                                                 ']                               \n",
            "                                                                                                  \n",
            " conv4_block14_1_bn (BatchNorma  (None, 14, 14, 256)  1024       ['conv4_block14_1_conv[0][0]']   \n",
            " lization)                                                                                        \n",
            "                                                                                                  \n",
            " conv4_block14_1_relu (Activati  (None, 14, 14, 256)  0          ['conv4_block14_1_bn[0][0]']     \n",
            " on)                                                                                              \n",
            "                                                                                                  \n",
            " conv4_block14_2_pad (ZeroPaddi  (None, 16, 16, 256)  0          ['conv4_block14_1_relu[0][0]']   \n",
            " ng2D)                                                                                            \n",
            "                                                                                                  \n",
            " conv4_block14_2_conv (Conv2D)  (None, 14, 14, 256)  589824      ['conv4_block14_2_pad[0][0]']    \n",
            "                                                                                                  \n",
            " conv4_block14_2_bn (BatchNorma  (None, 14, 14, 256)  1024       ['conv4_block14_2_conv[0][0]']   \n",
            " lization)                                                                                        \n",
            "                                                                                                  \n",
            " conv4_block14_2_relu (Activati  (None, 14, 14, 256)  0          ['conv4_block14_2_bn[0][0]']     \n",
            " on)                                                                                              \n",
            "                                                                                                  \n",
            " conv4_block14_3_conv (Conv2D)  (None, 14, 14, 1024  263168      ['conv4_block14_2_relu[0][0]']   \n",
            "                                )                                                                 \n",
            "                                                                                                  \n",
            " conv4_block14_out (Add)        (None, 14, 14, 1024  0           ['conv4_block13_out[0][0]',      \n",
            "                                )                                 'conv4_block14_3_conv[0][0]']   \n",
            "                                                                                                  \n",
            " conv4_block15_preact_bn (Batch  (None, 14, 14, 1024  4096       ['conv4_block14_out[0][0]']      \n",
            " Normalization)                 )                                                                 \n",
            "                                                                                                  \n",
            " conv4_block15_preact_relu (Act  (None, 14, 14, 1024  0          ['conv4_block15_preact_bn[0][0]']\n",
            " ivation)                       )                                                                 \n",
            "                                                                                                  \n",
            " conv4_block15_1_conv (Conv2D)  (None, 14, 14, 256)  262144      ['conv4_block15_preact_relu[0][0]\n",
            "                                                                 ']                               \n",
            "                                                                                                  \n",
            " conv4_block15_1_bn (BatchNorma  (None, 14, 14, 256)  1024       ['conv4_block15_1_conv[0][0]']   \n",
            " lization)                                                                                        \n",
            "                                                                                                  \n",
            " conv4_block15_1_relu (Activati  (None, 14, 14, 256)  0          ['conv4_block15_1_bn[0][0]']     \n",
            " on)                                                                                              \n",
            "                                                                                                  \n",
            " conv4_block15_2_pad (ZeroPaddi  (None, 16, 16, 256)  0          ['conv4_block15_1_relu[0][0]']   \n",
            " ng2D)                                                                                            \n",
            "                                                                                                  \n",
            " conv4_block15_2_conv (Conv2D)  (None, 14, 14, 256)  589824      ['conv4_block15_2_pad[0][0]']    \n",
            "                                                                                                  \n",
            " conv4_block15_2_bn (BatchNorma  (None, 14, 14, 256)  1024       ['conv4_block15_2_conv[0][0]']   \n",
            " lization)                                                                                        \n",
            "                                                                                                  \n",
            " conv4_block15_2_relu (Activati  (None, 14, 14, 256)  0          ['conv4_block15_2_bn[0][0]']     \n",
            " on)                                                                                              \n",
            "                                                                                                  \n",
            " conv4_block15_3_conv (Conv2D)  (None, 14, 14, 1024  263168      ['conv4_block15_2_relu[0][0]']   \n",
            "                                )                                                                 \n",
            "                                                                                                  \n",
            " conv4_block15_out (Add)        (None, 14, 14, 1024  0           ['conv4_block14_out[0][0]',      \n",
            "                                )                                 'conv4_block15_3_conv[0][0]']   \n",
            "                                                                                                  \n",
            " conv4_block16_preact_bn (Batch  (None, 14, 14, 1024  4096       ['conv4_block15_out[0][0]']      \n",
            " Normalization)                 )                                                                 \n",
            "                                                                                                  \n",
            " conv4_block16_preact_relu (Act  (None, 14, 14, 1024  0          ['conv4_block16_preact_bn[0][0]']\n",
            " ivation)                       )                                                                 \n",
            "                                                                                                  \n",
            " conv4_block16_1_conv (Conv2D)  (None, 14, 14, 256)  262144      ['conv4_block16_preact_relu[0][0]\n",
            "                                                                 ']                               \n",
            "                                                                                                  \n",
            " conv4_block16_1_bn (BatchNorma  (None, 14, 14, 256)  1024       ['conv4_block16_1_conv[0][0]']   \n",
            " lization)                                                                                        \n",
            "                                                                                                  \n",
            " conv4_block16_1_relu (Activati  (None, 14, 14, 256)  0          ['conv4_block16_1_bn[0][0]']     \n",
            " on)                                                                                              \n",
            "                                                                                                  \n",
            " conv4_block16_2_pad (ZeroPaddi  (None, 16, 16, 256)  0          ['conv4_block16_1_relu[0][0]']   \n",
            " ng2D)                                                                                            \n",
            "                                                                                                  \n",
            " conv4_block16_2_conv (Conv2D)  (None, 14, 14, 256)  589824      ['conv4_block16_2_pad[0][0]']    \n",
            "                                                                                                  \n",
            " conv4_block16_2_bn (BatchNorma  (None, 14, 14, 256)  1024       ['conv4_block16_2_conv[0][0]']   \n",
            " lization)                                                                                        \n",
            "                                                                                                  \n",
            " conv4_block16_2_relu (Activati  (None, 14, 14, 256)  0          ['conv4_block16_2_bn[0][0]']     \n",
            " on)                                                                                              \n",
            "                                                                                                  \n",
            " conv4_block16_3_conv (Conv2D)  (None, 14, 14, 1024  263168      ['conv4_block16_2_relu[0][0]']   \n",
            "                                )                                                                 \n",
            "                                                                                                  \n",
            " conv4_block16_out (Add)        (None, 14, 14, 1024  0           ['conv4_block15_out[0][0]',      \n",
            "                                )                                 'conv4_block16_3_conv[0][0]']   \n",
            "                                                                                                  \n",
            " conv4_block17_preact_bn (Batch  (None, 14, 14, 1024  4096       ['conv4_block16_out[0][0]']      \n",
            " Normalization)                 )                                                                 \n",
            "                                                                                                  \n",
            " conv4_block17_preact_relu (Act  (None, 14, 14, 1024  0          ['conv4_block17_preact_bn[0][0]']\n",
            " ivation)                       )                                                                 \n",
            "                                                                                                  \n",
            " conv4_block17_1_conv (Conv2D)  (None, 14, 14, 256)  262144      ['conv4_block17_preact_relu[0][0]\n",
            "                                                                 ']                               \n",
            "                                                                                                  \n",
            " conv4_block17_1_bn (BatchNorma  (None, 14, 14, 256)  1024       ['conv4_block17_1_conv[0][0]']   \n",
            " lization)                                                                                        \n",
            "                                                                                                  \n",
            " conv4_block17_1_relu (Activati  (None, 14, 14, 256)  0          ['conv4_block17_1_bn[0][0]']     \n",
            " on)                                                                                              \n",
            "                                                                                                  \n",
            " conv4_block17_2_pad (ZeroPaddi  (None, 16, 16, 256)  0          ['conv4_block17_1_relu[0][0]']   \n",
            " ng2D)                                                                                            \n",
            "                                                                                                  \n",
            " conv4_block17_2_conv (Conv2D)  (None, 14, 14, 256)  589824      ['conv4_block17_2_pad[0][0]']    \n",
            "                                                                                                  \n",
            " conv4_block17_2_bn (BatchNorma  (None, 14, 14, 256)  1024       ['conv4_block17_2_conv[0][0]']   \n",
            " lization)                                                                                        \n",
            "                                                                                                  \n",
            " conv4_block17_2_relu (Activati  (None, 14, 14, 256)  0          ['conv4_block17_2_bn[0][0]']     \n",
            " on)                                                                                              \n",
            "                                                                                                  \n",
            " conv4_block17_3_conv (Conv2D)  (None, 14, 14, 1024  263168      ['conv4_block17_2_relu[0][0]']   \n",
            "                                )                                                                 \n",
            "                                                                                                  \n",
            " conv4_block17_out (Add)        (None, 14, 14, 1024  0           ['conv4_block16_out[0][0]',      \n",
            "                                )                                 'conv4_block17_3_conv[0][0]']   \n",
            "                                                                                                  \n",
            " conv4_block18_preact_bn (Batch  (None, 14, 14, 1024  4096       ['conv4_block17_out[0][0]']      \n",
            " Normalization)                 )                                                                 \n",
            "                                                                                                  \n",
            " conv4_block18_preact_relu (Act  (None, 14, 14, 1024  0          ['conv4_block18_preact_bn[0][0]']\n",
            " ivation)                       )                                                                 \n",
            "                                                                                                  \n",
            " conv4_block18_1_conv (Conv2D)  (None, 14, 14, 256)  262144      ['conv4_block18_preact_relu[0][0]\n",
            "                                                                 ']                               \n",
            "                                                                                                  \n",
            " conv4_block18_1_bn (BatchNorma  (None, 14, 14, 256)  1024       ['conv4_block18_1_conv[0][0]']   \n",
            " lization)                                                                                        \n",
            "                                                                                                  \n",
            " conv4_block18_1_relu (Activati  (None, 14, 14, 256)  0          ['conv4_block18_1_bn[0][0]']     \n",
            " on)                                                                                              \n",
            "                                                                                                  \n",
            " conv4_block18_2_pad (ZeroPaddi  (None, 16, 16, 256)  0          ['conv4_block18_1_relu[0][0]']   \n",
            " ng2D)                                                                                            \n",
            "                                                                                                  \n",
            " conv4_block18_2_conv (Conv2D)  (None, 14, 14, 256)  589824      ['conv4_block18_2_pad[0][0]']    \n",
            "                                                                                                  \n",
            " conv4_block18_2_bn (BatchNorma  (None, 14, 14, 256)  1024       ['conv4_block18_2_conv[0][0]']   \n",
            " lization)                                                                                        \n",
            "                                                                                                  \n",
            " conv4_block18_2_relu (Activati  (None, 14, 14, 256)  0          ['conv4_block18_2_bn[0][0]']     \n",
            " on)                                                                                              \n",
            "                                                                                                  \n",
            " conv4_block18_3_conv (Conv2D)  (None, 14, 14, 1024  263168      ['conv4_block18_2_relu[0][0]']   \n",
            "                                )                                                                 \n",
            "                                                                                                  \n",
            " conv4_block18_out (Add)        (None, 14, 14, 1024  0           ['conv4_block17_out[0][0]',      \n",
            "                                )                                 'conv4_block18_3_conv[0][0]']   \n",
            "                                                                                                  \n",
            " conv4_block19_preact_bn (Batch  (None, 14, 14, 1024  4096       ['conv4_block18_out[0][0]']      \n",
            " Normalization)                 )                                                                 \n",
            "                                                                                                  \n",
            " conv4_block19_preact_relu (Act  (None, 14, 14, 1024  0          ['conv4_block19_preact_bn[0][0]']\n",
            " ivation)                       )                                                                 \n",
            "                                                                                                  \n",
            " conv4_block19_1_conv (Conv2D)  (None, 14, 14, 256)  262144      ['conv4_block19_preact_relu[0][0]\n",
            "                                                                 ']                               \n",
            "                                                                                                  \n",
            " conv4_block19_1_bn (BatchNorma  (None, 14, 14, 256)  1024       ['conv4_block19_1_conv[0][0]']   \n",
            " lization)                                                                                        \n",
            "                                                                                                  \n",
            " conv4_block19_1_relu (Activati  (None, 14, 14, 256)  0          ['conv4_block19_1_bn[0][0]']     \n",
            " on)                                                                                              \n",
            "                                                                                                  \n",
            " conv4_block19_2_pad (ZeroPaddi  (None, 16, 16, 256)  0          ['conv4_block19_1_relu[0][0]']   \n",
            " ng2D)                                                                                            \n",
            "                                                                                                  \n",
            " conv4_block19_2_conv (Conv2D)  (None, 14, 14, 256)  589824      ['conv4_block19_2_pad[0][0]']    \n",
            "                                                                                                  \n",
            " conv4_block19_2_bn (BatchNorma  (None, 14, 14, 256)  1024       ['conv4_block19_2_conv[0][0]']   \n",
            " lization)                                                                                        \n",
            "                                                                                                  \n",
            " conv4_block19_2_relu (Activati  (None, 14, 14, 256)  0          ['conv4_block19_2_bn[0][0]']     \n",
            " on)                                                                                              \n",
            "                                                                                                  \n",
            " conv4_block19_3_conv (Conv2D)  (None, 14, 14, 1024  263168      ['conv4_block19_2_relu[0][0]']   \n",
            "                                )                                                                 \n",
            "                                                                                                  \n",
            " conv4_block19_out (Add)        (None, 14, 14, 1024  0           ['conv4_block18_out[0][0]',      \n",
            "                                )                                 'conv4_block19_3_conv[0][0]']   \n",
            "                                                                                                  \n",
            " conv4_block20_preact_bn (Batch  (None, 14, 14, 1024  4096       ['conv4_block19_out[0][0]']      \n",
            " Normalization)                 )                                                                 \n",
            "                                                                                                  \n",
            " conv4_block20_preact_relu (Act  (None, 14, 14, 1024  0          ['conv4_block20_preact_bn[0][0]']\n",
            " ivation)                       )                                                                 \n",
            "                                                                                                  \n",
            " conv4_block20_1_conv (Conv2D)  (None, 14, 14, 256)  262144      ['conv4_block20_preact_relu[0][0]\n",
            "                                                                 ']                               \n",
            "                                                                                                  \n",
            " conv4_block20_1_bn (BatchNorma  (None, 14, 14, 256)  1024       ['conv4_block20_1_conv[0][0]']   \n",
            " lization)                                                                                        \n",
            "                                                                                                  \n",
            " conv4_block20_1_relu (Activati  (None, 14, 14, 256)  0          ['conv4_block20_1_bn[0][0]']     \n",
            " on)                                                                                              \n",
            "                                                                                                  \n",
            " conv4_block20_2_pad (ZeroPaddi  (None, 16, 16, 256)  0          ['conv4_block20_1_relu[0][0]']   \n",
            " ng2D)                                                                                            \n",
            "                                                                                                  \n",
            " conv4_block20_2_conv (Conv2D)  (None, 14, 14, 256)  589824      ['conv4_block20_2_pad[0][0]']    \n",
            "                                                                                                  \n",
            " conv4_block20_2_bn (BatchNorma  (None, 14, 14, 256)  1024       ['conv4_block20_2_conv[0][0]']   \n",
            " lization)                                                                                        \n",
            "                                                                                                  \n",
            " conv4_block20_2_relu (Activati  (None, 14, 14, 256)  0          ['conv4_block20_2_bn[0][0]']     \n",
            " on)                                                                                              \n",
            "                                                                                                  \n",
            " conv4_block20_3_conv (Conv2D)  (None, 14, 14, 1024  263168      ['conv4_block20_2_relu[0][0]']   \n",
            "                                )                                                                 \n",
            "                                                                                                  \n",
            " conv4_block20_out (Add)        (None, 14, 14, 1024  0           ['conv4_block19_out[0][0]',      \n",
            "                                )                                 'conv4_block20_3_conv[0][0]']   \n",
            "                                                                                                  \n",
            " conv4_block21_preact_bn (Batch  (None, 14, 14, 1024  4096       ['conv4_block20_out[0][0]']      \n",
            " Normalization)                 )                                                                 \n",
            "                                                                                                  \n",
            " conv4_block21_preact_relu (Act  (None, 14, 14, 1024  0          ['conv4_block21_preact_bn[0][0]']\n",
            " ivation)                       )                                                                 \n",
            "                                                                                                  \n",
            " conv4_block21_1_conv (Conv2D)  (None, 14, 14, 256)  262144      ['conv4_block21_preact_relu[0][0]\n",
            "                                                                 ']                               \n",
            "                                                                                                  \n",
            " conv4_block21_1_bn (BatchNorma  (None, 14, 14, 256)  1024       ['conv4_block21_1_conv[0][0]']   \n",
            " lization)                                                                                        \n",
            "                                                                                                  \n",
            " conv4_block21_1_relu (Activati  (None, 14, 14, 256)  0          ['conv4_block21_1_bn[0][0]']     \n",
            " on)                                                                                              \n",
            "                                                                                                  \n",
            " conv4_block21_2_pad (ZeroPaddi  (None, 16, 16, 256)  0          ['conv4_block21_1_relu[0][0]']   \n",
            " ng2D)                                                                                            \n",
            "                                                                                                  \n",
            " conv4_block21_2_conv (Conv2D)  (None, 14, 14, 256)  589824      ['conv4_block21_2_pad[0][0]']    \n",
            "                                                                                                  \n",
            " conv4_block21_2_bn (BatchNorma  (None, 14, 14, 256)  1024       ['conv4_block21_2_conv[0][0]']   \n",
            " lization)                                                                                        \n",
            "                                                                                                  \n",
            " conv4_block21_2_relu (Activati  (None, 14, 14, 256)  0          ['conv4_block21_2_bn[0][0]']     \n",
            " on)                                                                                              \n",
            "                                                                                                  \n",
            " conv4_block21_3_conv (Conv2D)  (None, 14, 14, 1024  263168      ['conv4_block21_2_relu[0][0]']   \n",
            "                                )                                                                 \n",
            "                                                                                                  \n",
            " conv4_block21_out (Add)        (None, 14, 14, 1024  0           ['conv4_block20_out[0][0]',      \n",
            "                                )                                 'conv4_block21_3_conv[0][0]']   \n",
            "                                                                                                  \n",
            " conv4_block22_preact_bn (Batch  (None, 14, 14, 1024  4096       ['conv4_block21_out[0][0]']      \n",
            " Normalization)                 )                                                                 \n",
            "                                                                                                  \n",
            " conv4_block22_preact_relu (Act  (None, 14, 14, 1024  0          ['conv4_block22_preact_bn[0][0]']\n",
            " ivation)                       )                                                                 \n",
            "                                                                                                  \n",
            " conv4_block22_1_conv (Conv2D)  (None, 14, 14, 256)  262144      ['conv4_block22_preact_relu[0][0]\n",
            "                                                                 ']                               \n",
            "                                                                                                  \n",
            " conv4_block22_1_bn (BatchNorma  (None, 14, 14, 256)  1024       ['conv4_block22_1_conv[0][0]']   \n",
            " lization)                                                                                        \n",
            "                                                                                                  \n",
            " conv4_block22_1_relu (Activati  (None, 14, 14, 256)  0          ['conv4_block22_1_bn[0][0]']     \n",
            " on)                                                                                              \n",
            "                                                                                                  \n",
            " conv4_block22_2_pad (ZeroPaddi  (None, 16, 16, 256)  0          ['conv4_block22_1_relu[0][0]']   \n",
            " ng2D)                                                                                            \n",
            "                                                                                                  \n",
            " conv4_block22_2_conv (Conv2D)  (None, 14, 14, 256)  589824      ['conv4_block22_2_pad[0][0]']    \n",
            "                                                                                                  \n",
            " conv4_block22_2_bn (BatchNorma  (None, 14, 14, 256)  1024       ['conv4_block22_2_conv[0][0]']   \n",
            " lization)                                                                                        \n",
            "                                                                                                  \n",
            " conv4_block22_2_relu (Activati  (None, 14, 14, 256)  0          ['conv4_block22_2_bn[0][0]']     \n",
            " on)                                                                                              \n",
            "                                                                                                  \n",
            " conv4_block22_3_conv (Conv2D)  (None, 14, 14, 1024  263168      ['conv4_block22_2_relu[0][0]']   \n",
            "                                )                                                                 \n",
            "                                                                                                  \n",
            " conv4_block22_out (Add)        (None, 14, 14, 1024  0           ['conv4_block21_out[0][0]',      \n",
            "                                )                                 'conv4_block22_3_conv[0][0]']   \n",
            "                                                                                                  \n",
            " conv4_block23_preact_bn (Batch  (None, 14, 14, 1024  4096       ['conv4_block22_out[0][0]']      \n",
            " Normalization)                 )                                                                 \n",
            "                                                                                                  \n",
            " conv4_block23_preact_relu (Act  (None, 14, 14, 1024  0          ['conv4_block23_preact_bn[0][0]']\n",
            " ivation)                       )                                                                 \n",
            "                                                                                                  \n",
            " conv4_block23_1_conv (Conv2D)  (None, 14, 14, 256)  262144      ['conv4_block23_preact_relu[0][0]\n",
            "                                                                 ']                               \n",
            "                                                                                                  \n",
            " conv4_block23_1_bn (BatchNorma  (None, 14, 14, 256)  1024       ['conv4_block23_1_conv[0][0]']   \n",
            " lization)                                                                                        \n",
            "                                                                                                  \n",
            " conv4_block23_1_relu (Activati  (None, 14, 14, 256)  0          ['conv4_block23_1_bn[0][0]']     \n",
            " on)                                                                                              \n",
            "                                                                                                  \n",
            " conv4_block23_2_pad (ZeroPaddi  (None, 16, 16, 256)  0          ['conv4_block23_1_relu[0][0]']   \n",
            " ng2D)                                                                                            \n",
            "                                                                                                  \n",
            " conv4_block23_2_conv (Conv2D)  (None, 7, 7, 256)    589824      ['conv4_block23_2_pad[0][0]']    \n",
            "                                                                                                  \n",
            " conv4_block23_2_bn (BatchNorma  (None, 7, 7, 256)   1024        ['conv4_block23_2_conv[0][0]']   \n",
            " lization)                                                                                        \n",
            "                                                                                                  \n",
            " conv4_block23_2_relu (Activati  (None, 7, 7, 256)   0           ['conv4_block23_2_bn[0][0]']     \n",
            " on)                                                                                              \n",
            "                                                                                                  \n",
            " max_pooling2d_2 (MaxPooling2D)  (None, 7, 7, 1024)  0           ['conv4_block22_out[0][0]']      \n",
            "                                                                                                  \n",
            " conv4_block23_3_conv (Conv2D)  (None, 7, 7, 1024)   263168      ['conv4_block23_2_relu[0][0]']   \n",
            "                                                                                                  \n",
            " conv4_block23_out (Add)        (None, 7, 7, 1024)   0           ['max_pooling2d_2[0][0]',        \n",
            "                                                                  'conv4_block23_3_conv[0][0]']   \n",
            "                                                                                                  \n",
            " conv5_block1_preact_bn (BatchN  (None, 7, 7, 1024)  4096        ['conv4_block23_out[0][0]']      \n",
            " ormalization)                                                                                    \n",
            "                                                                                                  \n",
            " conv5_block1_preact_relu (Acti  (None, 7, 7, 1024)  0           ['conv5_block1_preact_bn[0][0]'] \n",
            " vation)                                                                                          \n",
            "                                                                                                  \n",
            " conv5_block1_1_conv (Conv2D)   (None, 7, 7, 512)    524288      ['conv5_block1_preact_relu[0][0]'\n",
            "                                                                 ]                                \n",
            "                                                                                                  \n",
            " conv5_block1_1_bn (BatchNormal  (None, 7, 7, 512)   2048        ['conv5_block1_1_conv[0][0]']    \n",
            " ization)                                                                                         \n",
            "                                                                                                  \n",
            " conv5_block1_1_relu (Activatio  (None, 7, 7, 512)   0           ['conv5_block1_1_bn[0][0]']      \n",
            " n)                                                                                               \n",
            "                                                                                                  \n",
            " conv5_block1_2_pad (ZeroPaddin  (None, 9, 9, 512)   0           ['conv5_block1_1_relu[0][0]']    \n",
            " g2D)                                                                                             \n",
            "                                                                                                  \n",
            " conv5_block1_2_conv (Conv2D)   (None, 7, 7, 512)    2359296     ['conv5_block1_2_pad[0][0]']     \n",
            "                                                                                                  \n",
            " conv5_block1_2_bn (BatchNormal  (None, 7, 7, 512)   2048        ['conv5_block1_2_conv[0][0]']    \n",
            " ization)                                                                                         \n",
            "                                                                                                  \n",
            " conv5_block1_2_relu (Activatio  (None, 7, 7, 512)   0           ['conv5_block1_2_bn[0][0]']      \n",
            " n)                                                                                               \n",
            "                                                                                                  \n",
            " conv5_block1_0_conv (Conv2D)   (None, 7, 7, 2048)   2099200     ['conv5_block1_preact_relu[0][0]'\n",
            "                                                                 ]                                \n",
            "                                                                                                  \n",
            " conv5_block1_3_conv (Conv2D)   (None, 7, 7, 2048)   1050624     ['conv5_block1_2_relu[0][0]']    \n",
            "                                                                                                  \n",
            " conv5_block1_out (Add)         (None, 7, 7, 2048)   0           ['conv5_block1_0_conv[0][0]',    \n",
            "                                                                  'conv5_block1_3_conv[0][0]']    \n",
            "                                                                                                  \n",
            " conv5_block2_preact_bn (BatchN  (None, 7, 7, 2048)  8192        ['conv5_block1_out[0][0]']       \n",
            " ormalization)                                                                                    \n",
            "                                                                                                  \n",
            " conv5_block2_preact_relu (Acti  (None, 7, 7, 2048)  0           ['conv5_block2_preact_bn[0][0]'] \n",
            " vation)                                                                                          \n",
            "                                                                                                  \n",
            " conv5_block2_1_conv (Conv2D)   (None, 7, 7, 512)    1048576     ['conv5_block2_preact_relu[0][0]'\n",
            "                                                                 ]                                \n",
            "                                                                                                  \n",
            " conv5_block2_1_bn (BatchNormal  (None, 7, 7, 512)   2048        ['conv5_block2_1_conv[0][0]']    \n",
            " ization)                                                                                         \n",
            "                                                                                                  \n",
            " conv5_block2_1_relu (Activatio  (None, 7, 7, 512)   0           ['conv5_block2_1_bn[0][0]']      \n",
            " n)                                                                                               \n",
            "                                                                                                  \n",
            " conv5_block2_2_pad (ZeroPaddin  (None, 9, 9, 512)   0           ['conv5_block2_1_relu[0][0]']    \n",
            " g2D)                                                                                             \n",
            "                                                                                                  \n",
            " conv5_block2_2_conv (Conv2D)   (None, 7, 7, 512)    2359296     ['conv5_block2_2_pad[0][0]']     \n",
            "                                                                                                  \n",
            " conv5_block2_2_bn (BatchNormal  (None, 7, 7, 512)   2048        ['conv5_block2_2_conv[0][0]']    \n",
            " ization)                                                                                         \n",
            "                                                                                                  \n",
            " conv5_block2_2_relu (Activatio  (None, 7, 7, 512)   0           ['conv5_block2_2_bn[0][0]']      \n",
            " n)                                                                                               \n",
            "                                                                                                  \n",
            " conv5_block2_3_conv (Conv2D)   (None, 7, 7, 2048)   1050624     ['conv5_block2_2_relu[0][0]']    \n",
            "                                                                                                  \n",
            " conv5_block2_out (Add)         (None, 7, 7, 2048)   0           ['conv5_block1_out[0][0]',       \n",
            "                                                                  'conv5_block2_3_conv[0][0]']    \n",
            "                                                                                                  \n",
            " conv5_block3_preact_bn (BatchN  (None, 7, 7, 2048)  8192        ['conv5_block2_out[0][0]']       \n",
            " ormalization)                                                                                    \n",
            "                                                                                                  \n",
            " conv5_block3_preact_relu (Acti  (None, 7, 7, 2048)  0           ['conv5_block3_preact_bn[0][0]'] \n",
            " vation)                                                                                          \n",
            "                                                                                                  \n",
            " conv5_block3_1_conv (Conv2D)   (None, 7, 7, 512)    1048576     ['conv5_block3_preact_relu[0][0]'\n",
            "                                                                 ]                                \n",
            "                                                                                                  \n",
            " conv5_block3_1_bn (BatchNormal  (None, 7, 7, 512)   2048        ['conv5_block3_1_conv[0][0]']    \n",
            " ization)                                                                                         \n",
            "                                                                                                  \n",
            " conv5_block3_1_relu (Activatio  (None, 7, 7, 512)   0           ['conv5_block3_1_bn[0][0]']      \n",
            " n)                                                                                               \n",
            "                                                                                                  \n",
            " conv5_block3_2_pad (ZeroPaddin  (None, 9, 9, 512)   0           ['conv5_block3_1_relu[0][0]']    \n",
            " g2D)                                                                                             \n",
            "                                                                                                  \n",
            " conv5_block3_2_conv (Conv2D)   (None, 7, 7, 512)    2359296     ['conv5_block3_2_pad[0][0]']     \n",
            "                                                                                                  \n",
            " conv5_block3_2_bn (BatchNormal  (None, 7, 7, 512)   2048        ['conv5_block3_2_conv[0][0]']    \n",
            " ization)                                                                                         \n",
            "                                                                                                  \n",
            " conv5_block3_2_relu (Activatio  (None, 7, 7, 512)   0           ['conv5_block3_2_bn[0][0]']      \n",
            " n)                                                                                               \n",
            "                                                                                                  \n",
            " conv5_block3_3_conv (Conv2D)   (None, 7, 7, 2048)   1050624     ['conv5_block3_2_relu[0][0]']    \n",
            "                                                                                                  \n",
            " conv5_block3_out (Add)         (None, 7, 7, 2048)   0           ['conv5_block2_out[0][0]',       \n",
            "                                                                  'conv5_block3_3_conv[0][0]']    \n",
            "                                                                                                  \n",
            " post_bn (BatchNormalization)   (None, 7, 7, 2048)   8192        ['conv5_block3_out[0][0]']       \n",
            "                                                                                                  \n",
            " post_relu (Activation)         (None, 7, 7, 2048)   0           ['post_bn[0][0]']                \n",
            "                                                                                                  \n",
            "==================================================================================================\n",
            "Total params: 42,626,560\n",
            "Trainable params: 42,528,896\n",
            "Non-trainable params: 97,664\n",
            "__________________________________________________________________________________________________\n"
          ]
        }
      ],
      "source": [
        "pre_trained_layers.summary()"
      ]
    },
    {
      "cell_type": "code",
      "execution_count": 22,
      "metadata": {
        "id": "MU_j6dypcPwp"
      },
      "outputs": [],
      "source": [
        "#Creating custom model\n",
        "model = keras.Sequential([\n",
        "    data_augmentation,                                                    # data augmentations\n",
        "    pre_trained_layers,                                                   # ResNet pre-trained layers\n",
        "    keras.layers.GlobalAveragePooling2D(),                                # Adding Global average Pooling 2d\n",
        "    tf.keras.layers.Dropout(0.3),\n",
        "    keras.layers.Dense(number_of_class_labels, activation='softmax', name='output')  # Final Dense Layer with 30 neurons\n",
        "])"
      ]
    },
    {
      "cell_type": "code",
      "execution_count": 23,
      "metadata": {
        "id": "41gFu9xKb0CU"
      },
      "outputs": [],
      "source": [
        "EPOCHS = 5\n",
        "LR = 1e-3\n",
        "model.compile(optimizer=keras.optimizers.Adam(learning_rate=LR),\n",
        "              loss=tf.keras.losses.SparseCategoricalCrossentropy(),\n",
        "              metrics=['accuracy'])"
      ]
    },
    {
      "cell_type": "code",
      "execution_count": 24,
      "metadata": {
        "colab": {
          "base_uri": "https://localhost:8080/"
        },
        "id": "XCFHANKAcmVS",
        "outputId": "a41c5044-9845-4d24-90c3-861876a8d2ef"
      },
      "outputs": [
        {
          "output_type": "stream",
          "name": "stdout",
          "text": [
            "Model: \"sequential_1\"\n",
            "_________________________________________________________________\n",
            " Layer (type)                Output Shape              Param #   \n",
            "=================================================================\n",
            " sequential (Sequential)     (1, 224, 224, 3)          0         \n",
            "                                                                 \n",
            " resnet101v2 (Functional)    (None, 7, 7, 2048)        42626560  \n",
            "                                                                 \n",
            " global_average_pooling2d (G  (1, 2048)                0         \n",
            " lobalAveragePooling2D)                                          \n",
            "                                                                 \n",
            " dropout (Dropout)           (1, 2048)                 0         \n",
            "                                                                 \n",
            " output (Dense)              (1, 6)                    12294     \n",
            "                                                                 \n",
            "=================================================================\n",
            "Total params: 42,638,854\n",
            "Trainable params: 42,541,190\n",
            "Non-trainable params: 97,664\n",
            "_________________________________________________________________\n"
          ]
        }
      ],
      "source": [
        "#printing summary of custom model\n",
        "model.build((1,224,224,3))\n",
        "model.summary()"
      ]
    },
    {
      "cell_type": "code",
      "execution_count": 25,
      "metadata": {
        "id": "AMvex2WIc1hi"
      },
      "outputs": [],
      "source": [
        "from tensorflow.keras.callbacks import ReduceLROnPlateau"
      ]
    },
    {
      "cell_type": "code",
      "execution_count": 26,
      "metadata": {
        "id": "LM1NDxA1cnxB"
      },
      "outputs": [],
      "source": [
        "# Callback -> Reduce Learning Rate on Plateau\n",
        "callback = ReduceLROnPlateau(monitor='val_loss', factor=0.1, patience=3, verbose=1, mode='auto',\n",
        "                             min_delta=0.0001, cooldown=0, min_lr=0.00001)"
      ]
    },
    {
      "cell_type": "code",
      "execution_count": 27,
      "metadata": {
        "id": "h6-FwHIUaRPh",
        "colab": {
          "base_uri": "https://localhost:8080/"
        },
        "outputId": "a05cd065-2402-49a1-85ae-44dee7d81a51"
      },
      "outputs": [
        {
          "output_type": "stream",
          "name": "stdout",
          "text": [
            "No file moved. Source empty!\n",
            "No file moved. Source empty!\n",
            "No file moved. Source empty!\n",
            "No file moved. Source empty!\n",
            "No file moved. Source empty!\n",
            "No file moved. Source empty!\n",
            "Results for fold 1\n",
            "Found 1584 files belonging to 6 classes.\n",
            "Found 396 files belonging to 6 classes.\n",
            "Epoch 1/5\n",
            "99/99 [==============================] - 282s 2s/step - loss: 1.3159 - accuracy: 0.5265 - val_loss: 105.1027 - val_accuracy: 0.1439 - lr: 0.0010\n",
            "Epoch 2/5\n",
            "99/99 [==============================] - 29s 294ms/step - loss: 0.9389 - accuracy: 0.6843 - val_loss: 7.5541 - val_accuracy: 0.1944 - lr: 0.0010\n",
            "Epoch 3/5\n",
            "99/99 [==============================] - 30s 299ms/step - loss: 0.7553 - accuracy: 0.7443 - val_loss: 4.6763 - val_accuracy: 0.4646 - lr: 0.0010\n",
            "Epoch 4/5\n",
            "99/99 [==============================] - 30s 300ms/step - loss: 0.6905 - accuracy: 0.7576 - val_loss: 2.5465 - val_accuracy: 0.4545 - lr: 0.0010\n",
            "Epoch 5/5\n",
            "99/99 [==============================] - 31s 310ms/step - loss: 0.5518 - accuracy: 0.8030 - val_loss: 2.9195 - val_accuracy: 0.4192 - lr: 0.0010\n",
            "25/25 [==============================] - 2s 88ms/step - loss: 2.9195 - accuracy: 0.4192\n",
            "Results for fold 2\n",
            "Found 1584 files belonging to 6 classes.\n",
            "Found 396 files belonging to 6 classes.\n",
            "Epoch 1/5\n",
            "99/99 [==============================] - 31s 305ms/step - loss: 0.5312 - accuracy: 0.8081 - val_loss: 1.6583 - val_accuracy: 0.6414 - lr: 0.0010\n",
            "Epoch 2/5\n",
            "99/99 [==============================] - 30s 305ms/step - loss: 0.4839 - accuracy: 0.8365 - val_loss: 1.4492 - val_accuracy: 0.6465 - lr: 0.0010\n",
            "Epoch 3/5\n",
            "99/99 [==============================] - 30s 306ms/step - loss: 0.5014 - accuracy: 0.8378 - val_loss: 3.7701 - val_accuracy: 0.4949 - lr: 0.0010\n",
            "Epoch 4/5\n",
            "99/99 [==============================] - 31s 306ms/step - loss: 0.4481 - accuracy: 0.8466 - val_loss: 0.6569 - val_accuracy: 0.8182 - lr: 0.0010\n",
            "Epoch 5/5\n",
            "99/99 [==============================] - 31s 311ms/step - loss: 0.4303 - accuracy: 0.8554 - val_loss: 1.0752 - val_accuracy: 0.6894 - lr: 0.0010\n",
            "25/25 [==============================] - 2s 91ms/step - loss: 1.0752 - accuracy: 0.6894\n",
            "Results for fold 3\n",
            "Found 1584 files belonging to 6 classes.\n",
            "Found 396 files belonging to 6 classes.\n",
            "Epoch 1/5\n",
            "99/99 [==============================] - 31s 310ms/step - loss: 0.4254 - accuracy: 0.8529 - val_loss: 2.1341 - val_accuracy: 0.5505 - lr: 0.0010\n",
            "Epoch 2/5\n",
            "99/99 [==============================] - 30s 304ms/step - loss: 0.4050 - accuracy: 0.8548 - val_loss: 1.0067 - val_accuracy: 0.6540 - lr: 0.0010\n",
            "Epoch 3/5\n",
            "99/99 [==============================] - 31s 309ms/step - loss: 0.3571 - accuracy: 0.8636 - val_loss: 2.9446 - val_accuracy: 0.4015 - lr: 0.0010\n",
            "Epoch 4/5\n",
            "99/99 [==============================] - 31s 311ms/step - loss: 0.3643 - accuracy: 0.8630 - val_loss: 3.4896 - val_accuracy: 0.4293 - lr: 0.0010\n",
            "Epoch 5/5\n",
            "99/99 [==============================] - 31s 312ms/step - loss: 0.3541 - accuracy: 0.8706 - val_loss: 0.6842 - val_accuracy: 0.7904 - lr: 0.0010\n",
            "25/25 [==============================] - 2s 89ms/step - loss: 0.6842 - accuracy: 0.7904\n",
            "Results for fold 4\n",
            "Found 1584 files belonging to 6 classes.\n",
            "Found 396 files belonging to 6 classes.\n",
            "Epoch 1/5\n",
            "99/99 [==============================] - 31s 306ms/step - loss: 0.3616 - accuracy: 0.8788 - val_loss: 3.6509 - val_accuracy: 0.3737 - lr: 0.0010\n",
            "Epoch 2/5\n",
            "99/99 [==============================] - 30s 306ms/step - loss: 0.3242 - accuracy: 0.8807 - val_loss: 1.3534 - val_accuracy: 0.6490 - lr: 0.0010\n",
            "Epoch 3/5\n",
            "99/99 [==============================] - 30s 305ms/step - loss: 0.3777 - accuracy: 0.8611 - val_loss: 0.6855 - val_accuracy: 0.8081 - lr: 0.0010\n",
            "Epoch 4/5\n",
            "99/99 [==============================] - 31s 311ms/step - loss: 0.3429 - accuracy: 0.8750 - val_loss: 0.7673 - val_accuracy: 0.7525 - lr: 0.0010\n",
            "Epoch 5/5\n",
            "99/99 [==============================] - 31s 307ms/step - loss: 0.3199 - accuracy: 0.8927 - val_loss: 0.5674 - val_accuracy: 0.8131 - lr: 0.0010\n",
            "25/25 [==============================] - 2s 91ms/step - loss: 0.5674 - accuracy: 0.8131\n",
            "Results for fold 5\n",
            "Found 1584 files belonging to 6 classes.\n",
            "Found 396 files belonging to 6 classes.\n",
            "Epoch 1/5\n",
            "99/99 [==============================] - 31s 306ms/step - loss: 0.3374 - accuracy: 0.8643 - val_loss: 1.4746 - val_accuracy: 0.6591 - lr: 0.0010\n",
            "Epoch 2/5\n",
            "99/99 [==============================] - 31s 306ms/step - loss: 0.3082 - accuracy: 0.8876 - val_loss: 0.3027 - val_accuracy: 0.8914 - lr: 0.0010\n",
            "Epoch 3/5\n",
            "99/99 [==============================] - 30s 304ms/step - loss: 0.3094 - accuracy: 0.8927 - val_loss: 0.2440 - val_accuracy: 0.9217 - lr: 0.0010\n",
            "Epoch 4/5\n",
            "99/99 [==============================] - 31s 307ms/step - loss: 0.2544 - accuracy: 0.9104 - val_loss: 0.6276 - val_accuracy: 0.8182 - lr: 0.0010\n",
            "Epoch 5/5\n",
            "99/99 [==============================] - 31s 311ms/step - loss: 0.2883 - accuracy: 0.8920 - val_loss: 0.7289 - val_accuracy: 0.7803 - lr: 0.0010\n",
            "25/25 [==============================] - 2s 89ms/step - loss: 0.7289 - accuracy: 0.7803\n"
          ]
        }
      ],
      "source": [
        "skf = StratifiedKFold(n_splits=5, shuffle=True)\n",
        "skf.get_n_splits(X, Y)\n",
        "fold_num = 0\n",
        "for train_index, val_index in skf.split(X, Y):\n",
        "    # First cut all images from validation to train (if any exists)\n",
        "    transferAllClassBetweenFolders('validation', 'train', 1.0)\n",
        "    fold_num += 1\n",
        "    print(\"Results for fold\", fold_num)\n",
        "    X_train, X_val = X[train_index], X[val_index]\n",
        "    Y_train, Y_val = Y[train_index], Y[val_index]\n",
        "    # Move validation images of this fold from train folder to the validation folder\n",
        "    for each_index in range(len(X_val)):\n",
        "        class_label = ''\n",
        "        for i in range(len(classLabels)):\n",
        "            if(Y_val[each_index] == i):\n",
        "                class_label = classLabels[i]\n",
        "        # Then, copy the validation images to the validation folder\n",
        "        shutil.move(os.path.join(datasetFolderName, 'train', class_label, X_val[each_index]),\n",
        "                    os.path.join(datasetFolderName, 'validation', class_label, X_val[each_index]))\n",
        "\n",
        "\n",
        "\n",
        "    # Start ImageClassification Model\n",
        "    #creating train data set\n",
        "\n",
        "    train_generator = tf.keras.utils.image_dataset_from_directory(\n",
        "        train_path,\n",
        "        image_size=(IMG_SIZE[0], IMG_SIZE[1]),\n",
        "        batch_size=batch_size,\n",
        "        )\n",
        "\n",
        "    validation_generator = tf.keras.utils.image_dataset_from_directory(\n",
        "        validation_path,\n",
        "        image_size=(IMG_SIZE[0], IMG_SIZE[1]),\n",
        "        batch_size=batch_size,\n",
        "\n",
        "          # only data, no labels\n",
        "        shuffle=False\n",
        "        )\n",
        "\n",
        "    history = model.fit(train_generator, epochs=EPOCHS, validation_data=validation_generator, callbacks=callback)\n",
        "    model.evaluate(validation_generator)"
      ]
    },
    {
      "cell_type": "code",
      "execution_count": 28,
      "metadata": {
        "id": "jJurHyH7k6Ny"
      },
      "outputs": [],
      "source": [
        "from sklearn.metrics import classification_report, roc_curve, roc_auc_score\n",
        "import pandas as pd\n",
        "import plotly.graph_objects as go\n",
        "import plotly.express as px\n",
        "import matplotlib.pyplot as plt"
      ]
    },
    {
      "cell_type": "code",
      "execution_count": 29,
      "metadata": {
        "id": "TOQlD_ZTko2y",
        "colab": {
          "base_uri": "https://localhost:8080/",
          "height": 457
        },
        "outputId": "86914b91-d8ec-4a9b-f245-b2af05c76633"
      },
      "outputs": [
        {
          "output_type": "display_data",
          "data": {
            "text/plain": [
              "<Figure size 640x480 with 1 Axes>"
            ],
            "image/png": "[encoded data removed]"
          },
          "metadata": {}
        }
      ],
      "source": [
        "plt.title(\"Loss\", fontdict={'fontsize':18})\n",
        "plt.plot(history.history['loss'],label='train')\n",
        "plt.plot(history.history['val_loss'],label='validation')\n",
        "plt.legend()\n",
        "plt.show()"
      ]
    },
    {
      "cell_type": "code",
      "execution_count": 30,
      "metadata": {
        "id": "7pwYMz2Bkyt5",
        "colab": {
          "base_uri": "https://localhost:8080/",
          "height": 457
        },
        "outputId": "d7fddb06-a20c-4a1c-950d-55c461ebc2bc"
      },
      "outputs": [
        {
          "output_type": "display_data",
          "data": {
            "text/plain": [
              "<Figure size 640x480 with 1 Axes>"
            ],
            "image/png": "[encoded data removed]"
          },
          "metadata": {}
        }
      ],
      "source": [
        "plt.title(\"Accuracy\", fontdict={'fontsize':18})\n",
        "plt.plot(history.history['accuracy'],label='train')\n",
        "plt.plot(history.history['val_accuracy'],label='validation')\n",
        "plt.legend()\n",
        "plt.show()"
      ]
    },
    {
      "cell_type": "code",
      "execution_count": 31,
      "metadata": {
        "id": "93F3DoWUk7Oa"
      },
      "outputs": [],
      "source": [
        "Y_train = []\n",
        "X_train = []\n",
        "for data in train_generator:\n",
        "    X_train.extend(data[0].numpy())\n",
        "    Y_train.extend(data[1].numpy())\n",
        "Y_train = np.array(Y_train)\n",
        "X_train = np.array(X_train)"
      ]
    },
    {
      "cell_type": "code",
      "execution_count": 32,
      "metadata": {
        "id": "IAbUM7JblMA6",
        "colab": {
          "base_uri": "https://localhost:8080/"
        },
        "outputId": "801959b5-1259-413a-b622-b1de60f7d102"
      },
      "outputs": [
        {
          "output_type": "stream",
          "name": "stdout",
          "text": [
            "50/50 [==============================] - 10s 146ms/step\n"
          ]
        }
      ],
      "source": [
        "y_train_pred_prob = model.predict(X_train)\n",
        "y_train_pred = [np.argmax(i) for i in y_train_pred_prob]"
      ]
    },
    {
      "cell_type": "code",
      "execution_count": 33,
      "metadata": {
        "id": "ubgm_cWxlUrD",
        "colab": {
          "base_uri": "https://localhost:8080/"
        },
        "outputId": "b193dfca-f270-4e25-f091-d0144cdf682a"
      },
      "outputs": [
        {
          "output_type": "execute_result",
          "data": {
            "text/plain": [
              "(1584, 6)"
            ]
          },
          "metadata": {},
          "execution_count": 33
        }
      ],
      "source": [
        "y_train_pred_prob.shape"
      ]
    },
    {
      "cell_type": "code",
      "execution_count": 34,
      "metadata": {
        "id": "A5Ywk5jrlVYi"
      },
      "outputs": [],
      "source": [
        "#function to plot roc-auc curve\n",
        "def roc_auc_curve(y_scores, y_true):\n",
        "    # One hot encode the labels in order to plot them\n",
        "    y_onehot = pd.get_dummies(y_true, columns=classLabels)\n",
        "\n",
        "    # Create an empty figure, and iteratively add new lines\n",
        "    # every time we compute a new class\n",
        "    fig = go.Figure()\n",
        "    fig.add_shape(\n",
        "        type='line', line=dict(dash='dash'),\n",
        "        x0=0, x1=1, y0=0, y1=1\n",
        "    )\n",
        "\n",
        "    for i in range(y_scores.shape[1]):\n",
        "        y_true = y_onehot.iloc[:, i]\n",
        "        y_score = y_scores[:, i]\n",
        "\n",
        "        fpr, tpr, _ = roc_curve(y_true, y_score)\n",
        "        auc_score = roc_auc_score(y_true, y_score)\n",
        "\n",
        "        name = f\"{classLabels[i]} (AUC={auc_score:.2f})\"\n",
        "        fig.add_trace(go.Scatter(x=fpr, y=tpr, name=name, mode='lines'))\n",
        "\n",
        "    fig.update_layout(\n",
        "        title=\"ROC Curve\",\n",
        "        xaxis_title='False Positive Rate',\n",
        "        yaxis_title='True Positive Rate',\n",
        "        yaxis=dict(scaleanchor=\"x\", scaleratio=1),\n",
        "        xaxis=dict(constrain='domain'),\n",
        "        width=900, height=800\n",
        "    )\n",
        "\n",
        "    return fig"
      ]
    },
    {
      "cell_type": "code",
      "execution_count": 35,
      "metadata": {
        "id": "YlYX57A4lj1J"
      },
      "outputs": [],
      "source": [
        "import seaborn as sb"
      ]
    },
    {
      "cell_type": "code",
      "execution_count": 36,
      "metadata": {
        "id": "sZZQfWeDl9wq",
        "colab": {
          "base_uri": "https://localhost:8080/",
          "height": 451
        },
        "outputId": "742a521c-74f4-4931-edd0-5de5b37a0339"
      },
      "outputs": [
        {
          "output_type": "display_data",
          "data": {
            "text/plain": [
              "<Figure size 2500x700 with 2 Axes>"
            ],
            "image/png": "[encoded data removed]"
          },
          "metadata": {}
        }
      ],
      "source": [
        "plt.figure(figsize=(25,7))\n",
        "sb.heatmap(tf.math.confusion_matrix(labels=Y_train,predictions=y_train_pred),annot=True,fmt='.1f', cmap='hot_r')\n",
        "plt.xlabel('Predicted Values')\n",
        "plt.ylabel('Actual Values')\n",
        "plt.title('Confusion Matrix (Training)')\n",
        "plt.tight_layout()\n",
        "plt.show()"
      ]
    },
    {
      "cell_type": "code",
      "execution_count": 37,
      "metadata": {
        "id": "iLpnqOcGmEks",
        "colab": {
          "base_uri": "https://localhost:8080/"
        },
        "outputId": "0928370f-3d69-438b-f3b3-e2ca783e4c58"
      },
      "outputs": [
        {
          "output_type": "stream",
          "name": "stdout",
          "text": [
            "Classification Report for Training\n",
            "              precision    recall  f1-score   support\n",
            "\n",
            "           0       0.89      0.51      0.65       265\n",
            "           1       0.89      0.76      0.82       214\n",
            "           2       0.91      0.78      0.84       293\n",
            "           3       0.58      0.95      0.72       298\n",
            "           4       0.75      0.91      0.82       251\n",
            "           5       0.95      0.75      0.83       263\n",
            "\n",
            "    accuracy                           0.78      1584\n",
            "   macro avg       0.83      0.78      0.78      1584\n",
            "weighted avg       0.82      0.78      0.78      1584\n",
            "\n"
          ]
        }
      ],
      "source": [
        "print(\"Classification Report for Training\")\n",
        "print(classification_report(Y_train, y_train_pred))"
      ]
    },
    {
      "cell_type": "code",
      "execution_count": 38,
      "metadata": {
        "id": "mu3MhzQnmKR5",
        "colab": {
          "base_uri": "https://localhost:8080/"
        },
        "outputId": "383dbbde-c212-4cd9-d0c5-549b2995a1ca"
      },
      "outputs": [
        {
          "output_type": "stream",
          "name": "stdout",
          "text": [
            "Found 2451 files belonging to 6 classes.\n"
          ]
        }
      ],
      "source": [
        "roc_auc_curve(y_train_pred_prob, Y_train)\n",
        "X_test = []\n",
        "y_test = []\n",
        "test_generator = tf.keras.utils.image_dataset_from_directory(\n",
        "        test_path,\n",
        "        image_size=(IMG_SIZE[0], IMG_SIZE[1]),\n",
        "        batch_size=batch_size,\n",
        "\n",
        "          # only data, no labels\n",
        "        #shuffle=False\n",
        "        )\n",
        "for data in test_generator:\n",
        "    X_test.extend(data[0].numpy())\n",
        "    y_test.extend(data[1].numpy())\n",
        "X_test = np.array(X_test)\n",
        "y_test = np.array(y_test)"
      ]
    },
    {
      "cell_type": "code",
      "execution_count": 39,
      "metadata": {
        "id": "peCIJs3KmT5a",
        "colab": {
          "base_uri": "https://localhost:8080/"
        },
        "outputId": "f2418015-6f28-432e-fd96-39dde833e861"
      },
      "outputs": [
        {
          "output_type": "stream",
          "name": "stdout",
          "text": [
            "77/77 [==============================] - 12s 156ms/step\n"
          ]
        }
      ],
      "source": [
        "y_test_pred_prob = model.predict(X_test)\n",
        "y_test_pred = [np.argmax(i) for i in y_test_pred_prob]"
      ]
    },
    {
      "cell_type": "code",
      "execution_count": 40,
      "metadata": {
        "id": "an7a0Ymplmh5",
        "colab": {
          "base_uri": "https://localhost:8080/"
        },
        "outputId": "16f511e4-1902-4106-83c5-30843118dedd"
      },
      "outputs": [
        {
          "output_type": "execute_result",
          "data": {
            "text/plain": [
              "array([0, 1, 2, 3, 4, 5], dtype=int32)"
            ]
          },
          "metadata": {},
          "execution_count": 40
        }
      ],
      "source": [
        "np.unique(y_test)"
      ]
    },
    {
      "cell_type": "code",
      "execution_count": 41,
      "metadata": {
        "id": "AxCwvhHVk-vY",
        "colab": {
          "base_uri": "https://localhost:8080/",
          "height": 451
        },
        "outputId": "5d88a1ff-b975-4ee1-c33c-7863e2e0ab64"
      },
      "outputs": [
        {
          "output_type": "display_data",
          "data": {
            "text/plain": [
              "<Figure size 2500x700 with 2 Axes>"
            ],
            "image/png": "[encoded data removed]"
          },
          "metadata": {}
        }
      ],
      "source": [
        "plt.figure(figsize=(25,7))\n",
        "sb.heatmap(tf.math.confusion_matrix(labels=y_test,predictions=y_test_pred),annot=True,fmt='.1f', cmap='hot_r')\n",
        "plt.xlabel('Predicted Values')\n",
        "plt.ylabel('Actual Values')\n",
        "plt.title('Confusion Matrix')\n",
        "plt.tight_layout()\n",
        "plt.show()"
      ]
    },
    {
      "cell_type": "code",
      "execution_count": 42,
      "metadata": {
        "id": "LFm0u6zSmaGj",
        "colab": {
          "base_uri": "https://localhost:8080/"
        },
        "outputId": "9d845eff-539e-4a7c-b504-e42b8fdf637a"
      },
      "outputs": [
        {
          "output_type": "stream",
          "name": "stdout",
          "text": [
            "Classification Report for Test\n",
            "              precision    recall  f1-score   support\n",
            "\n",
            "           0       0.83      0.83      0.83       409\n",
            "           1       0.99      0.79      0.88       409\n",
            "           2       0.53      0.62      0.57       409\n",
            "           3       0.57      1.00      0.73       405\n",
            "           4       0.55      0.47      0.51       410\n",
            "           5       1.00      0.46      0.63       409\n",
            "\n",
            "    accuracy                           0.69      2451\n",
            "   macro avg       0.75      0.69      0.69      2451\n",
            "weighted avg       0.75      0.69      0.69      2451\n",
            "\n"
          ]
        }
      ],
      "source": [
        "print(\"Classification Report for Test\")\n",
        "print(classification_report(y_test, y_test_pred))"
      ]
    },
    {
      "cell_type": "code",
      "execution_count": 43,
      "metadata": {
        "id": "LGL2Ta5xmf5r",
        "colab": {
          "base_uri": "https://localhost:8080/",
          "height": 817
        },
        "outputId": "54184ff7-a6e9-4a84-a541-059b1584ff78"
      },
      "outputs": [
        {
          "output_type": "display_data",
          "data": {
            "text/html": [
              "<html>\n",
              "<head><meta charset=\"utf-8\" /></head>\n",
              "<body>\n",
              "    <div>            <script src=\"https://cdnjs.cloudflare.com/ajax/libs/mathjax/2.7.5/MathJax.js?config=TeX-AMS-MML_SVG\"></script><script type=\"text/javascript\">if (window.MathJax && window.MathJax.Hub && window.MathJax.Hub.Config) {window.MathJax.Hub.Config({SVG: {font: \"STIX-Web\"}});}</script>                <script type=\"text/javascript\">window.PlotlyConfig = {MathJaxConfig: 'local'};</script>\n",
              "        <script charset=\"utf-8\" src=\"https://cdn.plot.ly/plotly-2.24.1.min.js\"></script>                <div id=\"2e52f7ed-6384-48b9-930b-96613930408a\" class=\"plotly-graph-div\" style=\"height:800px; width:900px;\"></div>            <script type=\"text/javascript\">                                    window.PLOTLYENV=window.PLOTLYENV || {};                                    if (document.getElementById(\"2e52f7ed-6384-48b9-930b-96613930408a\")) {                    Plotly.newPlot(                        \"2e52f7ed-6384-48b9-930b-96613930408a\",                        [{\"mode\":\"lines\",\"name\":\"early_leaf_spot_1 (AUC=0.99)\",\"x\":[0.0,0.0,0.0,0.0004897159647404506,0.0004897159647404506,0.0009794319294809011,0.0009794319294809011,0.0014691478942213516,0.0014691478942213516,0.0019588638589618022,0.0019588638589618022,0.002448579823702253,0.002448579823702253,0.002938295788442703,0.002938295788442703,0.0039177277179236044,0.0039177277179236044,0.004407443682664055,0.004407443682664055,0.004897159647404506,0.004897159647404506,0.0053868756121449556,0.0053868756121449556,0.006366307541625857,0.006366307541625857,0.0068560235063663075,0.0068560235063663075,0.007345739471106758,0.007345739471106758,0.007835455435847209,0.007835455435847209,0.00881488736532811,0.00881488736532811,0.00930460333006856,0.00930460333006856,0.01028403525954946,0.01028403525954946,0.010773751224289911,0.010773751224289911,0.011263467189030362,0.011263467189030362,0.012732615083251714,0.012732615083251714,0.013222331047992164,0.013222331047992164,0.013712047012732615,0.013712047012732615,0.014201762977473066,0.014201762977473066,0.01665034280117532,0.01665034280117532,0.017140058765915768,0.017140058765915768,0.01762977473065622,0.01762977473065622,0.01860920666013712,0.01860920666013712,0.020078354554358472,0.020078354554358472,0.02056807051909892,0.02056807051909892,0.021057786483839373,0.021057786483839373,0.023506366307541625,0.023506366307541625,0.02497551420176298,0.02497551420176298,0.025465230166503428,0.025465230166503428,0.02595494613124388,0.02595494613124388,0.02644466209598433,0.02644466209598433,0.02791380999020568,0.02791380999020568,0.02840352595494613,0.02840352595494613,0.031341821743388835,0.031341821743388835,0.03281096963761019,0.03281096963761019,0.034280117531831536,0.034280117531831536,0.034769833496571985,0.034769833496571985,0.03525954946131244,0.03525954946131244,0.03574926542605289,0.03574926542605289,0.03721841332027424,0.03721841332027424,0.03770812928501469,0.03770812928501469,0.03819784524975514,0.03819784524975514,0.03868756121449559,0.03868756121449559,0.039177277179236046,0.039177277179236046,0.039666993143976495,0.039666993143976495,0.040156709108716944,0.040156709108716944,0.04113614103819784,0.04113614103819784,0.0416258570029383,0.0416258570029383,0.04211557296767875,0.04211557296767875,0.043095004897159644,0.043095004897159644,0.0435847208619001,0.0435847208619001,0.0455435847208619,0.0455435847208619,0.04603330068560235,0.04603330068560235,0.0465230166503428,0.0465230166503428,0.04701273261508325,0.04701273261508325,0.047992164544564155,0.047992164544564155,0.0494613124387855,0.0494613124387855,0.05239960822722821,0.05239960822722821,0.05386875612144956,0.05386875612144956,0.05435847208619001,0.05435847208619001,0.058765915768854066,0.058765915768854066,0.062193927522037215,0.062193927522037215,0.06366307541625857,0.06366307541625857,0.06660137120470128,0.06660137120470128,0.07394711067580803,0.07394711067580803,0.07688540646425074,0.07688540646425074,0.07884427032321253,0.07884427032321253,0.09157688540646425,0.09157688540646425,0.09647404505386875,0.09647404505386875,0.12340842311459353,0.12340842311459353,0.15964740450538686,0.15964740450538686,0.1665034280117532,0.1665034280117532,1.0],\"y\":[0.0,0.0024449877750611247,0.3471882640586797,0.3471882640586797,0.5183374083129584,0.5183374083129584,0.5599022004889975,0.5599022004889975,0.5794621026894865,0.5794621026894865,0.5990220048899756,0.5990220048899756,0.6063569682151589,0.6063569682151589,0.6136919315403423,0.6136919315403423,0.6308068459657702,0.6308068459657702,0.6356968215158925,0.6356968215158925,0.6430317848410758,0.6430317848410758,0.6454767726161369,0.6454767726161369,0.6674816625916871,0.6674816625916871,0.684596577017115,0.684596577017115,0.6968215158924206,0.6968215158924206,0.7090464547677262,0.7090464547677262,0.7139364303178484,0.7139364303178484,0.7163814180929096,0.7163814180929096,0.7212713936430318,0.7212713936430318,0.7237163814180929,0.7237163814180929,0.7383863080684596,0.7383863080684596,0.7408312958435208,0.7408312958435208,0.7432762836185819,0.7432762836185819,0.7481662591687042,0.7481662591687042,0.7530562347188264,0.7530562347188264,0.7579462102689487,0.7579462102689487,0.7603911980440098,0.7603911980440098,0.7628361858190709,0.7628361858190709,0.7775061124694377,0.7775061124694377,0.78239608801956,0.78239608801956,0.7897310513447433,0.7897310513447433,0.7921760391198044,0.7921760391198044,0.7995110024449877,0.7995110024449877,0.8068459657701712,0.8068459657701712,0.8092909535452323,0.8092909535452323,0.8166259168704156,0.8166259168704156,0.8190709046454768,0.8190709046454768,0.8215158924205379,0.8215158924205379,0.8264058679706602,0.8264058679706602,0.843520782396088,0.843520782396088,0.8606356968215159,0.8606356968215159,0.8753056234718827,0.8753056234718827,0.8777506112469438,0.8777506112469438,0.8850855745721271,0.8850855745721271,0.8899755501222494,0.8899755501222494,0.8924205378973105,0.8924205378973105,0.8973105134474327,0.8973105134474327,0.902200488997555,0.902200488997555,0.9095354523227384,0.9095354523227384,0.9168704156479217,0.9168704156479217,0.9193154034229829,0.9193154034229829,0.921760391198044,0.921760391198044,0.9242053789731052,0.9242053789731052,0.9266503667481663,0.9266503667481663,0.9290953545232273,0.9290953545232273,0.9339853300733496,0.9339853300733496,0.9364303178484108,0.9364303178484108,0.9388753056234719,0.9388753056234719,0.941320293398533,0.941320293398533,0.9437652811735942,0.9437652811735942,0.9486552567237164,0.9486552567237164,0.9559902200488998,0.9559902200488998,0.960880195599022,0.960880195599022,0.9633251833740831,0.9633251833740831,0.9657701711491442,0.9657701711491442,0.9682151589242054,0.9682151589242054,0.9706601466992665,0.9706601466992665,0.9731051344743277,0.9731051344743277,0.9779951100244498,0.9779951100244498,0.980440097799511,0.980440097799511,0.9828850855745721,0.9828850855745721,0.9853300733496333,0.9853300733496333,0.9877750611246944,0.9877750611246944,0.9902200488997555,0.9902200488997555,0.9926650366748166,0.9926650366748166,0.9951100244498777,0.9951100244498777,0.9975550122249389,0.9975550122249389,1.0,1.0],\"type\":\"scatter\"},{\"mode\":\"lines\",\"name\":\"early_rust_1 (AUC=0.99)\",\"x\":[0.0,0.0,0.0,0.0,0.0,0.0,0.0,0.0,0.0,0.0,0.0,0.0,0.0,0.0,0.0,0.0,0.0,0.0,0.0,0.0,0.0009794319294809011,0.0009794319294809011,0.0014691478942213516,0.0014691478942213516,0.0019588638589618022,0.0019588638589618022,0.002938295788442703,0.002938295788442703,0.01028403525954946,0.01028403525954946,0.011753183153770812,0.011753183153770812,0.012242899118511263,0.012242899118511263,0.012732615083251714,0.012732615083251714,0.013712047012732615,0.013712047012732615,0.015181194906953967,0.015181194906953967,0.01811949069539667,0.01811949069539667,0.02056807051909892,0.02056807051909892,0.023506366307541625,0.023506366307541625,0.031831537708129284,0.031831537708129284,0.03281096963761019,0.03281096963761019,0.034280117531831536,0.034280117531831536,0.034769833496571985,0.034769833496571985,0.03525954946131244,0.03525954946131244,0.03672869735553379,0.03672869735553379,0.03819784524975514,0.03819784524975514,0.03868756121449559,0.03868756121449559,0.040156709108716944,0.040156709108716944,0.042605288932419196,0.042605288932419196,0.04407443682664055,0.04407443682664055,0.0465230166503428,0.0465230166503428,0.050930460333006855,0.050930460333006855,0.05190989226248776,0.05190989226248776,0.05680705190989226,0.05680705190989226,0.059255631733594515,0.059255631733594515,0.06023506366307542,0.06023506366307542,0.06072477962781587,0.06072477962781587,0.061704211557296766,0.061704211557296766,0.062193927522037215,0.062193927522037215,0.07002938295788443,0.07002938295788443,0.07296767874632713,0.07296767874632713,0.07345739471106758,0.07345739471106758,0.07884427032321253,0.07884427032321253,0.08031341821743389,0.08031341821743389,0.08374142997061704,0.08374142997061704,0.0842311459353575,0.0842311459353575,0.08863858961802155,0.08863858961802155,0.089128305582762,0.089128305582762,0.08961802154750245,0.08961802154750245,0.09745347698334966,0.09745347698334966,0.09990205680705191,0.09990205680705191,0.10039177277179236,0.10039177277179236,0.10675808031341821,0.10675808031341821,0.11018609206660138,0.11018609206660138,0.11214495592556317,0.11214495592556317,0.11557296767874632,0.11557296767874632,0.11900097943192949,0.11900097943192949,0.12047012732615084,0.12047012732615084,0.1366307541625857,0.1366307541625857,0.14348677766895201,0.14348677766895201,0.1444662095984329,0.1444662095984329,0.15426052889324193,0.15426052889324193,0.178256611165524,0.178256611165524,0.1821743388834476,0.1821743388834476,0.18658178256611166,0.18658178256611166,0.18756121449559254,0.18756121449559254,0.188050930460333,0.188050930460333,0.18952007835455437,0.18952007835455437,0.20470127326150833,0.20470127326150833,1.0],\"y\":[0.0,0.33007334963325186,0.38386308068459657,0.4278728606356968,0.4352078239608802,0.43765281173594134,0.45232273838630804,0.4621026894865526,0.4669926650366748,0.46943765281173594,0.4767726161369193,0.4792176039119804,0.4938875305623472,0.49877750611246946,0.5036674816625917,0.5134474327628362,0.5207823960880196,0.5965770171149144,0.6014669926650367,0.7921760391198044,0.7921760391198044,0.8068459657701712,0.8068459657701712,0.8166259168704156,0.8166259168704156,0.8264058679706602,0.8264058679706602,0.8288508557457213,0.8288508557457213,0.8337408312958435,0.8337408312958435,0.8361858190709046,0.8361858190709046,0.8386308068459658,0.8386308068459658,0.843520782396088,0.843520782396088,0.8459657701711492,0.8459657701711492,0.8484107579462102,0.8484107579462102,0.8508557457212714,0.8508557457212714,0.8533007334963325,0.8533007334963325,0.8581907090464548,0.8581907090464548,0.8606356968215159,0.8606356968215159,0.863080684596577,0.863080684596577,0.8655256723716381,0.8655256723716381,0.8679706601466992,0.8679706601466992,0.8704156479217604,0.8704156479217604,0.8728606356968215,0.8728606356968215,0.882640586797066,0.882640586797066,0.8850855745721271,0.8850855745721271,0.8875305623471883,0.8875305623471883,0.8899755501222494,0.8899755501222494,0.8948655256723717,0.8948655256723717,0.8973105134474327,0.8973105134474327,0.8997555012224939,0.8997555012224939,0.902200488997555,0.902200488997555,0.9046454767726161,0.9046454767726161,0.9070904645476773,0.9070904645476773,0.9095354523227384,0.9095354523227384,0.9119804400977995,0.9119804400977995,0.9144254278728606,0.9144254278728606,0.9168704156479217,0.9168704156479217,0.9193154034229829,0.9193154034229829,0.921760391198044,0.921760391198044,0.9266503667481663,0.9266503667481663,0.9290953545232273,0.9290953545232273,0.9315403422982885,0.9315403422982885,0.9339853300733496,0.9339853300733496,0.9364303178484108,0.9364303178484108,0.9388753056234719,0.9388753056234719,0.941320293398533,0.941320293398533,0.9437652811735942,0.9437652811735942,0.9462102689486552,0.9462102689486552,0.9535452322738386,0.9535452322738386,0.9559902200488998,0.9559902200488998,0.9584352078239609,0.9584352078239609,0.960880195599022,0.960880195599022,0.9633251833740831,0.9633251833740831,0.9657701711491442,0.9657701711491442,0.9682151589242054,0.9682151589242054,0.9731051344743277,0.9731051344743277,0.9755501222493888,0.9755501222493888,0.9779951100244498,0.9779951100244498,0.980440097799511,0.980440097799511,0.9828850855745721,0.9828850855745721,0.9853300733496333,0.9853300733496333,0.9877750611246944,0.9877750611246944,0.9902200488997555,0.9902200488997555,0.9926650366748166,0.9926650366748166,0.9951100244498777,0.9951100244498777,0.9975550122249389,0.9975550122249389,1.0,1.0],\"type\":\"scatter\"},{\"mode\":\"lines\",\"name\":\"healthy_leaf_1 (AUC=0.90)\",\"x\":[0.0,0.0,0.0009794319294809011,0.0009794319294809011,0.014691478942213516,0.014691478942213516,0.017140058765915768,0.017140058765915768,0.01860920666013712,0.01860920666013712,0.023506366307541625,0.023506366307541625,0.025465230166503428,0.025465230166503428,0.02889324191968658,0.02889324191968658,0.031831537708129284,0.031831537708129284,0.03281096963761019,0.03281096963761019,0.03379040156709109,0.03379040156709109,0.03574926542605289,0.03574926542605289,0.040156709108716944,0.040156709108716944,0.04064642507345739,0.04064642507345739,0.0465230166503428,0.0465230166503428,0.050440744368266406,0.050440744368266406,0.051420176297747304,0.051420176297747304,0.05533790401567091,0.05533790401567091,0.05680705190989226,0.05680705190989226,0.05729676787463271,0.05729676787463271,0.06121449559255632,0.06121449559255632,0.06366307541625857,0.06366307541625857,0.06464250734573947,0.06464250734573947,0.06513222331047992,0.06513222331047992,0.06758080313418217,0.06758080313418217,0.06807051909892263,0.06807051909892263,0.06856023506366307,0.06856023506366307,0.07345739471106758,0.07345739471106758,0.07394711067580803,0.07394711067580803,0.07492654260528893,0.07492654260528893,0.07639569049951028,0.07639569049951028,0.07688540646425074,0.07688540646425074,0.07737512242899118,0.07737512242899118,0.07786483839373164,0.07786483839373164,0.07835455435847209,0.07835455435847209,0.08031341821743389,0.08031341821743389,0.08080313418217434,0.08080313418217434,0.08129285014691479,0.08129285014691479,0.08178256611165524,0.08178256611165524,0.08227228207639568,0.08227228207639568,0.08276199804113614,0.08276199804113614,0.08374142997061704,0.08374142997061704,0.0842311459353575,0.0842311459353575,0.08472086190009795,0.08472086190009795,0.08570029382957885,0.08570029382957885,0.08619000979431929,0.08619000979431929,0.08667972575905974,0.08667972575905974,0.0871694417238002,0.0871694417238002,0.08765915768854064,0.08765915768854064,0.0881488736532811,0.0881488736532811,0.08863858961802155,0.08863858961802155,0.089128305582762,0.089128305582762,0.08961802154750245,0.08961802154750245,0.0901077375122429,0.0901077375122429,0.09059745347698335,0.09059745347698335,0.0910871694417238,0.0910871694417238,0.0920666013712047,0.0920666013712047,0.09255631733594515,0.09255631733594515,0.0930460333006856,0.0930460333006856,0.09353574926542606,0.09353574926542606,0.0940254652301665,0.0940254652301665,0.09451518119490696,0.09451518119490696,0.09500489715964741,0.09500489715964741,0.09598432908912831,0.09598432908912831,0.09745347698334966,0.09745347698334966,0.0979431929480901,0.0979431929480901,0.09843290891283056,0.09843290891283056,0.098922624877571,0.098922624877571,0.10039177277179236,0.10039177277179236,0.10088148873653281,0.10088148873653281,0.10137120470127327,0.10137120470127327,0.10186092066601371,0.10186092066601371,0.10333006856023506,0.10333006856023506,0.10381978452497552,0.10381978452497552,0.10430950048971596,0.10430950048971596,0.10577864838393732,0.10577864838393732,0.10626836434867777,0.10626836434867777,0.10724779627815867,0.10724779627815867,0.10822722820763957,0.10822722820763957,0.10871694417238002,0.10871694417238002,0.10969637610186092,0.10969637610186092,0.11018609206660138,0.11018609206660138,0.11067580803134182,0.11067580803134182,0.11165523996082272,0.11165523996082272,0.11263467189030363,0.11263467189030363,0.11312438785504407,0.11312438785504407,0.11361410381978453,0.11361410381978453,0.11410381978452498,0.11410381978452498,0.11459353574926542,0.11459353574926542,0.11557296767874632,0.11557296767874632,0.11655239960822723,0.11655239960822723,0.11704211557296768,0.11704211557296768,0.11753183153770813,0.11753183153770813,0.11851126346718903,0.11851126346718903,0.11900097943192949,0.11900097943192949,0.11998041136141038,0.11998041136141038,0.12047012732615084,0.12047012732615084,0.12095984329089128,0.12095984329089128,0.12144955925563174,0.12144955925563174,0.12193927522037218,0.12193927522037218,0.12242899118511263,0.12242899118511263,0.12291870714985309,0.12291870714985309,0.12438785504407443,0.12438785504407443,0.1258570029382958,0.1258570029382958,0.12634671890303623,0.12634671890303623,0.12732615083251714,0.12732615083251714,0.1287952987267385,0.1287952987267385,0.12928501469147893,0.12928501469147893,0.1297747306562194,0.1297747306562194,0.13026444662095985,0.13026444662095985,0.1307541625857003,0.1307541625857003,0.13320274240940255,0.13320274240940255,0.1356513222331048,0.1356513222331048,0.1366307541625857,0.1366307541625857,0.13809990205680706,0.13809990205680706,0.13907933398628794,0.13907933398628794,0.14005876591576885,0.14005876591576885,0.14103819784524976,0.14103819784524976,0.14348677766895201,0.14348677766895201,0.14789422135161606,0.14789422135161606,0.14985308521057786,0.14985308521057786,0.15132223310479923,0.15132223310479923,0.15328109696376102,0.15328109696376102,0.15572967678746327,0.15572967678746327,0.1571988246816846,0.1571988246816846,1.0],\"y\":[0.0,0.0024449877750611247,0.0024449877750611247,0.007334963325183374,0.007334963325183374,0.009779951100244499,0.009779951100244499,0.012224938875305624,0.012224938875305624,0.014669926650366748,0.014669926650366748,0.017114914425427872,0.017114914425427872,0.019559902200488997,0.019559902200488997,0.022004889975550123,0.022004889975550123,0.02444987775061125,0.02444987775061125,0.02689486552567237,0.02689486552567237,0.029339853300733496,0.029339853300733496,0.03178484107579462,0.03178484107579462,0.034229828850855744,0.034229828850855744,0.03667481662591687,0.03667481662591687,0.039119804400977995,0.039119804400977995,0.04156479217603912,0.04156479217603912,0.044009779951100246,0.044009779951100246,0.04645476772616137,0.04645476772616137,0.05134474327628362,0.05134474327628362,0.05378973105134474,0.05378973105134474,0.05623471882640587,0.05623471882640587,0.05867970660146699,0.05867970660146699,0.061124694376528114,0.061124694376528114,0.06601466992665037,0.06601466992665037,0.07090464547677261,0.07090464547677261,0.07334963325183375,0.07334963325183375,0.08068459657701711,0.08068459657701711,0.08312958435207823,0.08312958435207823,0.08557457212713937,0.08557457212713937,0.09290953545232274,0.09290953545232274,0.09535452322738386,0.09535452322738386,0.097799511002445,0.097799511002445,0.11246943765281174,0.11246943765281174,0.11491442542787286,0.11491442542787286,0.11735941320293398,0.11735941320293398,0.1198044009779951,0.1198044009779951,0.12224938875305623,0.12224938875305623,0.15403422982885084,0.15403422982885084,0.15892420537897312,0.15892420537897312,0.1687041564792176,0.1687041564792176,0.1980440097799511,0.1980440097799511,0.20537897310513448,0.20537897310513448,0.22493887530562348,0.22493887530562348,0.2396088019559902,0.2396088019559902,0.24205378973105135,0.24205378973105135,0.24938875305623473,0.24938875305623473,0.27383863080684595,0.27383863080684595,0.28361858190709044,0.28361858190709044,0.2860635696821516,0.2860635696821516,0.3276283618581907,0.3276283618581907,0.33007334963325186,0.33007334963325186,0.35207823960880197,0.35207823960880197,0.3545232273838631,0.3545232273838631,0.3740831295843521,0.3740831295843521,0.4034229828850856,0.4034229828850856,0.4180929095354523,0.4180929095354523,0.4278728606356968,0.4278728606356968,0.45232273838630804,0.45232273838630804,0.4621026894865526,0.4621026894865526,0.46943765281173594,0.46943765281173594,0.4792176039119804,0.4792176039119804,0.4841075794621027,0.4841075794621027,0.4963325183374083,0.4963325183374083,0.511002444987775,0.511002444987775,0.5207823960880196,0.5207823960880196,0.5281173594132029,0.5281173594132029,0.5354523227383863,0.5354523227383863,0.5378973105134475,0.5378973105134475,0.5525672371638142,0.5525672371638142,0.5721271393643031,0.5721271393643031,0.5770171149144254,0.5770171149144254,0.589242053789731,0.589242053789731,0.5916870415647921,0.5916870415647921,0.6136919315403423,0.6136919315403423,0.6185819070904646,0.6185819070904646,0.6234718826405868,0.6234718826405868,0.6356968215158925,0.6356968215158925,0.6479217603911981,0.6479217603911981,0.6723716381418093,0.6723716381418093,0.684596577017115,0.684596577017115,0.6894865525672371,0.6894865525672371,0.6919315403422983,0.6919315403422983,0.706601466992665,0.706601466992665,0.7090464547677262,0.7090464547677262,0.7139364303178484,0.7139364303178484,0.7163814180929096,0.7163814180929096,0.7212713936430318,0.7212713936430318,0.7310513447432763,0.7310513447432763,0.7359413202933985,0.7359413202933985,0.7408312958435208,0.7408312958435208,0.7432762836185819,0.7432762836185819,0.7530562347188264,0.7530562347188264,0.7775061124694377,0.7775061124694377,0.7799511002444988,0.7799511002444988,0.7872860635696821,0.7872860635696821,0.7970660146699267,0.7970660146699267,0.8019559902200489,0.8019559902200489,0.8068459657701712,0.8068459657701712,0.8141809290953546,0.8141809290953546,0.8166259168704156,0.8166259168704156,0.8215158924205379,0.8215158924205379,0.8581907090464548,0.8581907090464548,0.8606356968215159,0.8606356968215159,0.8655256723716381,0.8655256723716381,0.8924205378973105,0.8924205378973105,0.8997555012224939,0.8997555012224939,0.9168704156479217,0.9168704156479217,0.921760391198044,0.921760391198044,0.9266503667481663,0.9266503667481663,0.941320293398533,0.941320293398533,0.9511002444987775,0.9511002444987775,0.9559902200488998,0.9559902200488998,0.9584352078239609,0.9584352078239609,0.960880195599022,0.960880195599022,0.9633251833740831,0.9633251833740831,0.9706601466992665,0.9706601466992665,0.9755501222493888,0.9755501222493888,0.9779951100244498,0.9779951100244498,0.9853300733496333,0.9853300733496333,0.9877750611246944,0.9877750611246944,0.9902200488997555,0.9902200488997555,0.9926650366748166,0.9926650366748166,0.9951100244498777,0.9951100244498777,0.9975550122249389,0.9975550122249389,1.0,1.0],\"type\":\"scatter\"},{\"mode\":\"lines\",\"name\":\"late_leaf_spot_1 (AUC=0.99)\",\"x\":[0.0,0.0,0.0,0.0,0.0,0.0,0.0,0.0,0.0,0.0,0.0,0.0,0.0,0.0,0.0,0.0,0.0,0.0,0.0,0.0,0.0,0.0,0.0,0.0,0.0,0.0,0.0,0.0,0.0,0.0,0.0,0.0,0.0,0.0,0.0,0.0,0.0,0.0,0.0,0.0,0.0,0.0,0.0,0.0,0.0,0.0,0.0,0.0,0.0,0.0,0.0,0.0,0.0,0.0,0.008797653958944282,0.008797653958944282,0.013685239491691105,0.013685239491691105,0.014173998044965786,0.014173998044965786,0.01857282502443793,0.01857282502443793,0.019550342130987292,0.019550342130987292,0.020527859237536656,0.020527859237536656,0.021994134897360705,0.021994134897360705,0.022482893450635387,0.022482893450635387,0.02346041055718475,0.02346041055718475,0.023949169110459433,0.023949169110459433,0.02737047898338221,0.02737047898338221,0.028347996089931573,0.028347996089931573,0.029814271749755622,0.029814271749755622,0.03128054740957967,0.03128054740957967,0.03274682306940371,0.03274682306940371,0.03372434017595308,0.03372434017595308,0.03421309872922776,0.03421309872922776,0.03470185728250244,0.03470185728250244,0.03567937438905181,0.03567937438905181,0.0386119257086999,0.0386119257086999,0.04007820136852395,0.04007820136852395,0.042033235581622676,0.042033235581622676,0.04252199413489736,0.04252199413489736,0.04349951124144673,0.04349951124144673,0.04398826979472141,0.04398826979472141,0.044965786901270774,0.044965786901270774,0.0469208211143695,0.0469208211143695,0.04838709677419355,0.04838709677419355,0.04985337243401759,0.04985337243401759,0.050342130987292275,0.050342130987292275,0.05083088954056696,0.05083088954056696,0.051319648093841645,0.051319648093841645,0.05327468230694037,0.05327468230694037,0.053763440860215055,0.053763440860215055,0.056207233626588464,0.056207233626588464,0.05718475073313783,0.05718475073313783,0.05865102639296188,0.05865102639296188,0.059628543499511244,0.059628543499511244,0.06060606060606061,0.06060606060606061,0.06500488758553274,0.06500488758553274,0.06549364613880743,0.06549364613880743,0.06842619745845552,0.06842619745845552,0.0689149560117302,0.0689149560117302,0.06989247311827956,0.06989247311827956,0.07282502443792767,0.07282502443792767,0.07575757575757576,0.07575757575757576,0.08162267839687194,0.08162267839687194,0.08406647116324535,0.08406647116324535,0.08895405669599218,0.08895405669599218,0.09970674486803519,0.09970674486803519,0.10361681329423265,0.10361681329423265,1.0],\"y\":[0.0,0.0024691358024691358,0.009876543209876543,0.012345679012345678,0.01728395061728395,0.0345679012345679,0.044444444444444446,0.04938271604938271,0.056790123456790124,0.05925925925925926,0.07901234567901234,0.08395061728395062,0.09382716049382717,0.09876543209876543,0.1037037037037037,0.1111111111111111,0.12839506172839507,0.13333333333333333,0.13580246913580246,0.145679012345679,0.1506172839506173,0.15555555555555556,0.1580246913580247,0.16790123456790124,0.17530864197530865,0.18024691358024691,0.18271604938271604,0.19012345679012346,0.19506172839506172,0.2,0.20493827160493827,0.21975308641975308,0.2271604938271605,0.23209876543209876,0.2345679012345679,0.2419753086419753,0.24691358024691357,0.24938271604938272,0.254320987654321,0.2617283950617284,0.26666666666666666,0.2740740740740741,0.27901234567901234,0.2814814814814815,0.28641975308641976,0.291358024691358,0.2962962962962963,0.3728395061728395,0.37777777777777777,0.39012345679012345,0.3950617283950617,0.4148148148148148,0.41975308641975306,0.8024691358024691,0.8024691358024691,0.8049382716049382,0.8049382716049382,0.8074074074074075,0.8074074074074075,0.8123456790123457,0.8123456790123457,0.817283950617284,0.817283950617284,0.8222222222222222,0.8222222222222222,0.8271604938271605,0.8271604938271605,0.8296296296296296,0.8296296296296296,0.8320987654320988,0.8320987654320988,0.8345679012345679,0.8345679012345679,0.837037037037037,0.837037037037037,0.8395061728395061,0.8395061728395061,0.8419753086419753,0.8419753086419753,0.8469135802469135,0.8469135802469135,0.8493827160493828,0.8493827160493828,0.8518518518518519,0.8518518518518519,0.8567901234567902,0.8567901234567902,0.8592592592592593,0.8592592592592593,0.8617283950617284,0.8617283950617284,0.8641975308641975,0.8641975308641975,0.8740740740740741,0.8740740740740741,0.8864197530864197,0.8864197530864197,0.8888888888888888,0.8888888888888888,0.891358024691358,0.891358024691358,0.8987654320987655,0.8987654320987655,0.9037037037037037,0.9037037037037037,0.9061728395061729,0.9061728395061729,0.9160493827160494,0.9160493827160494,0.9234567901234568,0.9234567901234568,0.9308641975308642,0.9308641975308642,0.9333333333333333,0.9333333333333333,0.9382716049382716,0.9382716049382716,0.9432098765432099,0.9432098765432099,0.945679012345679,0.945679012345679,0.9481481481481482,0.9481481481481482,0.9506172839506173,0.9506172839506173,0.9530864197530864,0.9530864197530864,0.9580246913580247,0.9580246913580247,0.9604938271604938,0.9604938271604938,0.9629629629629629,0.9629629629629629,0.9654320987654321,0.9654320987654321,0.9679012345679012,0.9679012345679012,0.9703703703703703,0.9703703703703703,0.9753086419753086,0.9753086419753086,0.980246913580247,0.980246913580247,0.9851851851851852,0.9851851851851852,0.9876543209876543,0.9876543209876543,0.9901234567901235,0.9901234567901235,0.9925925925925926,0.9925925925925926,0.9950617283950617,0.9950617283950617,0.9975308641975309,0.9975308641975309,1.0,1.0],\"type\":\"scatter\"},{\"mode\":\"lines\",\"name\":\"nutrition_deficiency_1 (AUC=0.85)\",\"x\":[0.0,0.0,0.0,0.0004899559039686428,0.0004899559039686428,0.0009799118079372856,0.0009799118079372856,0.0014698677119059284,0.0014698677119059284,0.0019598236158745713,0.0019598236158745713,0.002449779519843214,0.002449779519843214,0.002939735423811857,0.002939735423811857,0.0039196472317491425,0.0039196472317491425,0.004409603135717786,0.004409603135717786,0.004899559039686428,0.004899559039686428,0.005389514943655071,0.005389514943655071,0.006859382655560999,0.006859382655560999,0.007349338559529643,0.007349338559529643,0.008329250367466928,0.008329250367466928,0.009799118079372856,0.009799118079372856,0.012738853503184714,0.012738853503184714,0.013228809407153356,0.013228809407153356,0.014698677119059285,0.014698677119059285,0.015188633023027927,0.015188633023027927,0.018128368446839783,0.018128368446839783,0.018618324350808426,0.018618324350808426,0.01910828025477707,0.01910828025477707,0.019598236158745713,0.019598236158745713,0.020088192062714356,0.020088192062714356,0.020578147966683,0.020578147966683,0.02253797158255757,0.02253797158255757,0.02253797158255757,0.024987751102400785,0.024987751102400785,0.025477707006369428,0.025477707006369428,0.028417442430181284,0.028417442430181284,0.029887310142087214,0.029887310142087214,0.03135717785399314,0.03135717785399314,0.03233708966193043,0.03233708966193043,0.03331700146986771,0.03331700146986771,0.034296913277805,0.034296913277805,0.03576678098971093,0.03576678098971093,0.03870651641352278,0.03870651641352278,0.039196472317491425,0.039196472317491425,0.03968642822146007,0.03968642822146007,0.04164625183733464,0.04164625183733464,0.042136207741303285,0.042136207741303285,0.043606075453209214,0.043606075453209214,0.04654581087702107,0.04654581087702107,0.049485546300832926,0.049485546300832926,0.04997550220480157,0.04997550220480157,0.0514453699167075,0.0514453699167075,0.05242528172464478,0.05242528172464478,0.053405193532582065,0.053405193532582065,0.05389514943655071,0.05389514943655071,0.054875061244487995,0.054875061244487995,0.05732484076433121,0.05732484076433121,0.05879470847623714,0.05879470847623714,0.05977462028417443,0.05977462028417443,0.061734443900048994,0.061734443900048994,0.06467417932386085,0.06467417932386085,0.06761391474767271,0.06761391474767271,0.06859382655561,0.06859382655561,0.06908378245957864,0.06908378245957864,0.06957373836354729,0.06957373836354729,0.07006369426751592,0.07006369426751592,0.0720235178833905,0.0720235178833905,0.0744732974032337,0.0744732974032337,0.07496325330720235,0.07496325330720235,0.07741303282704556,0.07741303282704556,0.08182263596276335,0.08182263596276335,0.08329250367466928,0.08329250367466928,0.08378245957863792,0.08378245957863792,0.08574228319451249,0.08574228319451249,0.08966193042626164,0.08966193042626164,0.09309162175404213,0.09309162175404213,0.09946104850563449,0.09946104850563449,0.09995100440960314,0.09995100440960314,0.10338069573738363,0.10338069573738363,0.10485056344928956,0.10485056344928956,0.10779029887310142,0.10779029887310142,0.1087702106810387,0.1087702106810387,0.10926016658500735,0.10926016658500735,0.1121999020088192,0.1121999020088192,0.11415972562469377,0.11415972562469377,0.11464968152866242,0.11464968152866242,0.11611954924056835,0.11611954924056835,0.11954924056834886,0.11954924056834886,0.12346888780009799,0.12346888780009799,0.12395884370406664,0.12395884370406664,0.12542871141597256,0.12542871141597256,0.13130818226359628,0.13130818226359628,0.13767760901518863,0.13767760901518863,0.13816756491915727,0.13816756491915727,0.14355707986281235,0.14355707986281235,0.14698677119059284,0.14698677119059284,0.16217540421362078,0.16217540421362078,0.164625183733464,0.164625183733464,0.16560509554140126,0.16560509554140126,0.17246447819696228,0.17246447819696228,0.17687408133268007,0.17687408133268007,0.17834394904458598,0.17834394904458598,0.1807937285644292,0.1807937285644292,0.18814306712395884,0.18814306712395884,0.18912297893189614,0.18912297893189614,0.19598236158745713,0.19598236158745713,0.20382165605095542,0.20382165605095542,0.2116609505144537,0.2116609505144537,0.212640862322391,0.212640862322391,0.21656050955414013,0.21656050955414013,0.22048015678588928,0.22048015678588928,0.22097011268985792,0.22097011268985792,0.2229299363057325,0.2229299363057325,0.22390984811366976,0.22390984811366976,0.22488975992160706,0.22488975992160706,0.22586967172954434,0.22586967172954434,0.22831945124938754,0.22831945124938754,0.23027927486526212,0.23027927486526212,0.23272905438510533,0.23272905438510533,0.2356687898089172,0.2356687898089172,0.23664870161685447,0.23664870161685447,0.23860852523272905,0.23860852523272905,0.24105830475257226,0.24105830475257226,0.24203821656050956,0.24203821656050956,0.24301812836844683,0.24301812836844683,0.24399804017638413,0.24399804017638413,0.24448799608035277,0.24448799608035277,0.2513473787359138,0.2513473787359138,0.25330720235178833,0.25330720235178833,0.253797158255757,0.253797158255757,0.25526702596766293,0.25526702596766293,0.2567368936795688,0.2567368936795688,0.25771680548750614,0.25771680548750614,0.2621264086232239,0.2621264086232239,0.2645761881430671,0.2645761881430671,0.26555609995100443,0.26555609995100443,0.2670259676629103,0.2670259676629103,0.26800587947084764,0.26800587947084764,0.2689857912787849,0.2689857912787849,0.2694757471827536,0.2694757471827536,0.2714355707986281,0.2714355707986281,0.2724154826065654,0.2724154826065654,0.27535521803037727,0.27535521803037727,0.27584517393434593,0.27584517393434593,0.2768250857422832,0.2768250857422832,0.2778049975502205,0.2778049975502205,0.2802547770700637,0.2802547770700637,0.2822146006859383,0.2822146006859383,0.28368446839784417,0.28368446839784417,0.2851543361097501,0.2851543361097501,0.2876041156295933,0.2876041156295933,0.288094071533562,0.288094071533562,0.2905438510534052,0.2905438510534052,0.29103380695737385,0.29103380695737385,0.29152376286134246,0.29152376286134246,0.2920137187653111,0.2920137187653111,0.29397354238118567,0.29397354238118567,0.2964233219010289,0.2964233219010289,0.29691327780499754,0.29691327780499754,0.2978931896129348,0.2978931896129348,0.2998530132288094,0.2998530132288094,0.3008329250367467,0.3008329250367467,0.3023027927486526,0.3023027927486526,0.3027927486526213,0.3027927486526213,0.3032827045565899,0.3032827045565899,0.30475257226849584,0.30475257226849584,0.3057324840764331,0.3057324840764331,0.3062224399804018,0.3062224399804018,0.308672219500245,0.308672219500245,0.3111219990200882,0.3111219990200882,0.31259186673199413,0.31259186673199413,0.3135717785399314,0.3135717785399314,0.315531602155806,0.315531602155806,0.3160215580597746,0.3160215580597746,0.3170014698677119,0.3170014698677119,0.31749142577168055,0.31749142577168055,0.3179813816756492,0.3179813816756492,0.31994120529152376,0.31994120529152376,0.3204311611954924,0.3204311611954924,0.32092111709946103,0.32092111709946103,0.32288094071533563,0.32288094071533563,0.32337089661930424,0.32337089661930424,0.3238608525232729,0.3238608525232729,0.32435080842724157,0.32435080842724157,0.32533072023517884,0.32533072023517884,0.3263106320431161,0.3263106320431161,0.3268005879470848,0.3268005879470848,0.32778049975502205,0.32778049975502205,0.3287604115629593,0.3287604115629593,0.33023027927486526,0.33023027927486526,0.3307202351788339,0.3307202351788339,0.3317001469867712,0.3317001469867712,0.33365997060264574,0.33365997060264574,0.33463988241058307,0.33463988241058307,0.3351298383145517,0.3351298383145517,0.33610975012248895,0.33610975012248895,0.3370896619304263,0.3370896619304263,0.3419892209701127,0.3419892209701127,0.34247917687408136,0.34247917687408136,0.34296913277804997,0.34296913277804997,0.34345908868201863,0.34345908868201863,0.3444390004899559,0.3444390004899559,0.34492895639392457,0.34492895639392457,0.34590886820186184,0.34590886820186184,0.34639882410583045,0.34639882410583045,0.3468887800097991,0.3468887800097991,0.34835864772170505,0.34835864772170505,0.3488486036256737,0.3488486036256737,0.3493385595296423,0.3493385595296423,0.349828515433611,0.349828515433611,0.35178833904948553,0.35178833904948553,0.3522782949534542,0.3522782949534542,0.35423811856932874,0.35423811856932874,0.3547280744732974,0.3547280744732974,0.3557079862812347,0.3557079862812347,0.3571778539931406,0.3571778539931406,0.3581577658010779,0.3581577658010779,0.36109750122488976,0.36109750122488976,0.36354728074473297,0.36354728074473297,0.36452719255267024,0.36452719255267024,0.36697697207251345,0.36697697207251345,0.3708966193042626,0.3708966193042626,0.37138657520823126,0.37138657520823126,0.37432631063204314,0.37432631063204314,0.37481626653601174,0.37481626653601174,0.3753062224399804,0.3753062224399804,0.37922586967172955,0.37922586967172955,1.0],\"y\":[0.0,0.0024390243902439024,0.2097560975609756,0.2097560975609756,0.21951219512195122,0.21951219512195122,0.22926829268292684,0.22926829268292684,0.23658536585365852,0.23658536585365852,0.24146341463414633,0.24146341463414633,0.24878048780487805,0.24878048780487805,0.25365853658536586,0.25365853658536586,0.25609756097560976,0.25609756097560976,0.25853658536585367,0.25853658536585367,0.2634146341463415,0.2634146341463415,0.2658536585365854,0.2658536585365854,0.2682926829268293,0.2682926829268293,0.2707317073170732,0.2707317073170732,0.275609756097561,0.275609756097561,0.2780487804878049,0.2780487804878049,0.28292682926829266,0.28292682926829266,0.28780487804878047,0.28780487804878047,0.2926829268292683,0.2926829268292683,0.2951219512195122,0.2951219512195122,0.2975609756097561,0.2975609756097561,0.3024390243902439,0.3024390243902439,0.3048780487804878,0.3048780487804878,0.3146341463414634,0.3146341463414634,0.32682926829268294,0.32682926829268294,0.32926829268292684,0.32926829268292684,0.33414634146341465,0.33658536585365856,0.33658536585365856,0.33902439024390246,0.33902439024390246,0.3439024390243902,0.3439024390243902,0.348780487804878,0.348780487804878,0.35121951219512193,0.35121951219512193,0.35365853658536583,0.35365853658536583,0.35609756097560974,0.35609756097560974,0.35853658536585364,0.35853658536585364,0.36097560975609755,0.36097560975609755,0.36341463414634145,0.36341463414634145,0.37317073170731707,0.37317073170731707,0.375609756097561,0.375609756097561,0.3829268292682927,0.3829268292682927,0.3878048780487805,0.3878048780487805,0.3902439024390244,0.3902439024390244,0.3926829268292683,0.3926829268292683,0.3951219512195122,0.3951219512195122,0.4,0.4,0.4024390243902439,0.4024390243902439,0.4073170731707317,0.4073170731707317,0.4121951219512195,0.4121951219512195,0.4146341463414634,0.4146341463414634,0.4170731707317073,0.4170731707317073,0.4195121951219512,0.4195121951219512,0.4219512195121951,0.4219512195121951,0.4268292682926829,0.4268292682926829,0.4292682926829268,0.4292682926829268,0.4317073170731707,0.4317073170731707,0.43658536585365854,0.43658536585365854,0.43902439024390244,0.43902439024390244,0.44390243902439025,0.44390243902439025,0.44634146341463415,0.44634146341463415,0.44878048780487806,0.44878048780487806,0.45121951219512196,0.45121951219512196,0.45365853658536587,0.45365853658536587,0.4585365853658537,0.4585365853658537,0.4609756097560976,0.4609756097560976,0.4634146341463415,0.4634146341463415,0.4658536585365854,0.4658536585365854,0.47073170731707314,0.47073170731707314,0.47560975609756095,0.47560975609756095,0.47804878048780486,0.47804878048780486,0.48292682926829267,0.48292682926829267,0.4853658536585366,0.4853658536585366,0.4878048780487805,0.4878048780487805,0.4902439024390244,0.4902439024390244,0.4926829268292683,0.4926829268292683,0.4975609756097561,0.4975609756097561,0.5,0.5,0.5024390243902439,0.5024390243902439,0.5048780487804878,0.5048780487804878,0.5073170731707317,0.5073170731707317,0.5121951219512195,0.5121951219512195,0.5195121951219512,0.5195121951219512,0.5219512195121951,0.5219512195121951,0.524390243902439,0.524390243902439,0.526829268292683,0.526829268292683,0.5292682926829269,0.5292682926829269,0.5317073170731708,0.5317073170731708,0.5341463414634147,0.5341463414634147,0.5365853658536586,0.5365853658536586,0.5390243902439025,0.5390243902439025,0.5414634146341464,0.5414634146341464,0.5439024390243903,0.5439024390243903,0.5463414634146342,0.5463414634146342,0.5487804878048781,0.5487804878048781,0.551219512195122,0.551219512195122,0.5536585365853659,0.5536585365853659,0.5585365853658537,0.5585365853658537,0.5609756097560976,0.5609756097560976,0.5658536585365853,0.5658536585365853,0.5682926829268292,0.5682926829268292,0.5707317073170731,0.5707317073170731,0.573170731707317,0.573170731707317,0.5756097560975609,0.5756097560975609,0.5780487804878048,0.5780487804878048,0.5804878048780487,0.5804878048780487,0.5853658536585366,0.5853658536585366,0.5878048780487805,0.5878048780487805,0.5902439024390244,0.5902439024390244,0.5926829268292683,0.5926829268292683,0.5951219512195122,0.5951219512195122,0.5975609756097561,0.5975609756097561,0.6,0.6,0.6024390243902439,0.6024390243902439,0.6048780487804878,0.6048780487804878,0.6073170731707317,0.6073170731707317,0.6097560975609756,0.6097560975609756,0.6121951219512195,0.6121951219512195,0.6146341463414634,0.6146341463414634,0.6170731707317073,0.6170731707317073,0.6195121951219512,0.6195121951219512,0.6219512195121951,0.6219512195121951,0.624390243902439,0.624390243902439,0.6268292682926829,0.6268292682926829,0.6317073170731707,0.6317073170731707,0.6341463414634146,0.6341463414634146,0.6365853658536585,0.6365853658536585,0.6390243902439025,0.6390243902439025,0.6414634146341464,0.6414634146341464,0.6439024390243903,0.6439024390243903,0.6487804878048781,0.6487804878048781,0.6536585365853659,0.6536585365853659,0.6560975609756098,0.6560975609756098,0.6609756097560976,0.6609756097560976,0.6634146341463415,0.6634146341463415,0.6682926829268293,0.6682926829268293,0.6731707317073171,0.6731707317073171,0.675609756097561,0.675609756097561,0.6829268292682927,0.6829268292682927,0.6853658536585366,0.6853658536585366,0.6878048780487804,0.6878048780487804,0.697560975609756,0.697560975609756,0.7,0.7,0.7024390243902439,0.7024390243902439,0.7048780487804878,0.7048780487804878,0.7073170731707317,0.7073170731707317,0.7097560975609756,0.7097560975609756,0.7121951219512195,0.7121951219512195,0.7146341463414634,0.7146341463414634,0.7195121951219512,0.7195121951219512,0.7219512195121951,0.7219512195121951,0.724390243902439,0.724390243902439,0.7268292682926829,0.7268292682926829,0.7292682926829268,0.7292682926829268,0.7317073170731707,0.7317073170731707,0.7341463414634146,0.7341463414634146,0.7365853658536585,0.7365853658536585,0.7390243902439024,0.7390243902439024,0.7414634146341463,0.7414634146341463,0.7439024390243902,0.7439024390243902,0.7463414634146341,0.7463414634146341,0.748780487804878,0.748780487804878,0.7536585365853659,0.7536585365853659,0.7560975609756098,0.7560975609756098,0.7585365853658537,0.7585365853658537,0.7609756097560976,0.7609756097560976,0.7634146341463415,0.7634146341463415,0.7658536585365854,0.7658536585365854,0.7682926829268293,0.7682926829268293,0.7780487804878049,0.7780487804878049,0.7853658536585366,0.7853658536585366,0.7878048780487805,0.7878048780487805,0.7926829268292683,0.7926829268292683,0.7951219512195122,0.7951219512195122,0.8048780487804879,0.8048780487804879,0.8073170731707318,0.8073170731707318,0.8121951219512196,0.8121951219512196,0.8146341463414634,0.8146341463414634,0.8170731707317073,0.8170731707317073,0.8268292682926829,0.8268292682926829,0.8365853658536585,0.8365853658536585,0.8414634146341463,0.8414634146341463,0.8439024390243902,0.8439024390243902,0.8609756097560975,0.8609756097560975,0.8634146341463415,0.8634146341463415,0.8658536585365854,0.8658536585365854,0.8682926829268293,0.8682926829268293,0.8707317073170732,0.8707317073170732,0.8731707317073171,0.8731707317073171,0.875609756097561,0.875609756097561,0.8780487804878049,0.8780487804878049,0.8853658536585366,0.8853658536585366,0.8926829268292683,0.8926829268292683,0.8951219512195122,0.8951219512195122,0.9,0.9,0.9048780487804878,0.9048780487804878,0.9097560975609756,0.9097560975609756,0.9121951219512195,0.9121951219512195,0.9146341463414634,0.9146341463414634,0.9195121951219513,0.9195121951219513,0.9243902439024391,0.9243902439024391,0.9341463414634147,0.9341463414634147,0.9365853658536586,0.9365853658536586,0.9414634146341463,0.9414634146341463,0.9439024390243902,0.9439024390243902,0.9463414634146341,0.9463414634146341,0.948780487804878,0.948780487804878,0.9512195121951219,0.9512195121951219,0.9536585365853658,0.9536585365853658,0.9560975609756097,0.9560975609756097,0.9609756097560975,0.9609756097560975,0.9634146341463414,0.9634146341463414,0.9682926829268292,0.9682926829268292,0.9707317073170731,0.9707317073170731,0.973170731707317,0.973170731707317,0.9780487804878049,0.9780487804878049,0.9804878048780488,0.9804878048780488,0.9829268292682927,0.9829268292682927,0.9853658536585366,0.9853658536585366,0.9878048780487805,0.9878048780487805,0.9902439024390244,0.9902439024390244,0.9926829268292683,0.9926829268292683,0.9951219512195122,0.9951219512195122,1.0,1.0],\"type\":\"scatter\"},{\"mode\":\"lines\",\"name\":\"rust_1 (AUC=1.00)\",\"x\":[0.0,0.0,0.0,0.0004897159647404506,0.0004897159647404506,0.0009794319294809011,0.0009794319294809011,0.0019588638589618022,0.0019588638589618022,0.0039177277179236044,0.0039177277179236044,0.005876591576885406,0.005876591576885406,0.006366307541625857,0.006366307541625857,0.012732615083251714,0.012732615083251714,0.023016650342801176,0.023016650342801176,0.031341821743388835,0.031341821743388835,1.0],\"y\":[0.0,0.0024449877750611247,0.9168704156479217,0.9168704156479217,0.9682151589242054,0.9682151589242054,0.9755501222493888,0.9755501222493888,0.9779951100244498,0.9779951100244498,0.9828850855745721,0.9828850855745721,0.9853300733496333,0.9853300733496333,0.9926650366748166,0.9926650366748166,0.9951100244498777,0.9951100244498777,0.9975550122249389,0.9975550122249389,1.0,1.0],\"type\":\"scatter\"}],                        {\"template\":{\"data\":{\"histogram2dcontour\":[{\"type\":\"histogram2dcontour\",\"colorbar\":{\"outlinewidth\":0,\"ticks\":\"\"},\"colorscale\":[[0.0,\"#0d0887\"],[0.1111111111111111,\"#46039f\"],[0.2222222222222222,\"#7201a8\"],[0.3333333333333333,\"#9c179e\"],[0.4444444444444444,\"#bd3786\"],[0.5555555555555556,\"#d8576b\"],[0.6666666666666666,\"#ed7953\"],[0.7777777777777778,\"#fb9f3a\"],[0.8888888888888888,\"#fdca26\"],[1.0,\"#f0f921\"]]}],\"choropleth\":[{\"type\":\"choropleth\",\"colorbar\":{\"outlinewidth\":0,\"ticks\":\"\"}}],\"histogram2d\":[{\"type\":\"histogram2d\",\"colorbar\":{\"outlinewidth\":0,\"ticks\":\"\"},\"colorscale\":[[0.0,\"#0d0887\"],[0.1111111111111111,\"#46039f\"],[0.2222222222222222,\"#7201a8\"],[0.3333333333333333,\"#9c179e\"],[0.4444444444444444,\"#bd3786\"],[0.5555555555555556,\"#d8576b\"],[0.6666666666666666,\"#ed7953\"],[0.7777777777777778,\"#fb9f3a\"],[0.8888888888888888,\"#fdca26\"],[1.0,\"#f0f921\"]]}],\"heatmap\":[{\"type\":\"heatmap\",\"colorbar\":{\"outlinewidth\":0,\"ticks\":\"\"},\"colorscale\":[[0.0,\"#0d0887\"],[0.1111111111111111,\"#46039f\"],[0.2222222222222222,\"#7201a8\"],[0.3333333333333333,\"#9c179e\"],[0.4444444444444444,\"#bd3786\"],[0.5555555555555556,\"#d8576b\"],[0.6666666666666666,\"#ed7953\"],[0.7777777777777778,\"#fb9f3a\"],[0.8888888888888888,\"#fdca26\"],[1.0,\"#f0f921\"]]}],\"heatmapgl\":[{\"type\":\"heatmapgl\",\"colorbar\":{\"outlinewidth\":0,\"ticks\":\"\"},\"colorscale\":[[0.0,\"#0d0887\"],[0.1111111111111111,\"#46039f\"],[0.2222222222222222,\"#7201a8\"],[0.3333333333333333,\"#9c179e\"],[0.4444444444444444,\"#bd3786\"],[0.5555555555555556,\"#d8576b\"],[0.6666666666666666,\"#ed7953\"],[0.7777777777777778,\"#fb9f3a\"],[0.8888888888888888,\"#fdca26\"],[1.0,\"#f0f921\"]]}],\"contourcarpet\":[{\"type\":\"contourcarpet\",\"colorbar\":{\"outlinewidth\":0,\"ticks\":\"\"}}],\"contour\":[{\"type\":\"contour\",\"colorbar\":{\"outlinewidth\":0,\"ticks\":\"\"},\"colorscale\":[[0.0,\"#0d0887\"],[0.1111111111111111,\"#46039f\"],[0.2222222222222222,\"#7201a8\"],[0.3333333333333333,\"#9c179e\"],[0.4444444444444444,\"#bd3786\"],[0.5555555555555556,\"#d8576b\"],[0.6666666666666666,\"#ed7953\"],[0.7777777777777778,\"#fb9f3a\"],[0.8888888888888888,\"#fdca26\"],[1.0,\"#f0f921\"]]}],\"surface\":[{\"type\":\"surface\",\"colorbar\":{\"outlinewidth\":0,\"ticks\":\"\"},\"colorscale\":[[0.0,\"#0d0887\"],[0.1111111111111111,\"#46039f\"],[0.2222222222222222,\"#7201a8\"],[0.3333333333333333,\"#9c179e\"],[0.4444444444444444,\"#bd3786\"],[0.5555555555555556,\"#d8576b\"],[0.6666666666666666,\"#ed7953\"],[0.7777777777777778,\"#fb9f3a\"],[0.8888888888888888,\"#fdca26\"],[1.0,\"#f0f921\"]]}],\"mesh3d\":[{\"type\":\"mesh3d\",\"colorbar\":{\"outlinewidth\":0,\"ticks\":\"\"}}],\"scatter\":[{\"fillpattern\":{\"fillmode\":\"overlay\",\"size\":10,\"solidity\":0.2},\"type\":\"scatter\"}],\"parcoords\":[{\"type\":\"parcoords\",\"line\":{\"colorbar\":{\"outlinewidth\":0,\"ticks\":\"\"}}}],\"scatterpolargl\":[{\"type\":\"scatterpolargl\",\"marker\":{\"colorbar\":{\"outlinewidth\":0,\"ticks\":\"\"}}}],\"bar\":[{\"error_x\":{\"color\":\"#2a3f5f\"},\"error_y\":{\"color\":\"#2a3f5f\"},\"marker\":{\"line\":{\"color\":\"#E5ECF6\",\"width\":0.5},\"pattern\":{\"fillmode\":\"overlay\",\"size\":10,\"solidity\":0.2}},\"type\":\"bar\"}],\"scattergeo\":[{\"type\":\"scattergeo\",\"marker\":{\"colorbar\":{\"outlinewidth\":0,\"ticks\":\"\"}}}],\"scatterpolar\":[{\"type\":\"scatterpolar\",\"marker\":{\"colorbar\":{\"outlinewidth\":0,\"ticks\":\"\"}}}],\"histogram\":[{\"marker\":{\"pattern\":{\"fillmode\":\"overlay\",\"size\":10,\"solidity\":0.2}},\"type\":\"histogram\"}],\"scattergl\":[{\"type\":\"scattergl\",\"marker\":{\"colorbar\":{\"outlinewidth\":0,\"ticks\":\"\"}}}],\"scatter3d\":[{\"type\":\"scatter3d\",\"line\":{\"colorbar\":{\"outlinewidth\":0,\"ticks\":\"\"}},\"marker\":{\"colorbar\":{\"outlinewidth\":0,\"ticks\":\"\"}}}],\"scattermapbox\":[{\"type\":\"scattermapbox\",\"marker\":{\"colorbar\":{\"outlinewidth\":0,\"ticks\":\"\"}}}],\"scatterternary\":[{\"type\":\"scatterternary\",\"marker\":{\"colorbar\":{\"outlinewidth\":0,\"ticks\":\"\"}}}],\"scattercarpet\":[{\"type\":\"scattercarpet\",\"marker\":{\"colorbar\":{\"outlinewidth\":0,\"ticks\":\"\"}}}],\"carpet\":[{\"aaxis\":{\"endlinecolor\":\"#2a3f5f\",\"gridcolor\":\"white\",\"linecolor\":\"white\",\"minorgridcolor\":\"white\",\"startlinecolor\":\"#2a3f5f\"},\"baxis\":{\"endlinecolor\":\"#2a3f5f\",\"gridcolor\":\"white\",\"linecolor\":\"white\",\"minorgridcolor\":\"white\",\"startlinecolor\":\"#2a3f5f\"},\"type\":\"carpet\"}],\"table\":[{\"cells\":{\"fill\":{\"color\":\"#EBF0F8\"},\"line\":{\"color\":\"white\"}},\"header\":{\"fill\":{\"color\":\"#C8D4E3\"},\"line\":{\"color\":\"white\"}},\"type\":\"table\"}],\"barpolar\":[{\"marker\":{\"line\":{\"color\":\"#E5ECF6\",\"width\":0.5},\"pattern\":{\"fillmode\":\"overlay\",\"size\":10,\"solidity\":0.2}},\"type\":\"barpolar\"}],\"pie\":[{\"automargin\":true,\"type\":\"pie\"}]},\"layout\":{\"autotypenumbers\":\"strict\",\"colorway\":[\"#636efa\",\"#EF553B\",\"#00cc96\",\"#ab63fa\",\"#FFA15A\",\"#19d3f3\",\"#FF6692\",\"#B6E880\",\"#FF97FF\",\"#FECB52\"],\"font\":{\"color\":\"#2a3f5f\"},\"hovermode\":\"closest\",\"hoverlabel\":{\"align\":\"left\"},\"paper_bgcolor\":\"white\",\"plot_bgcolor\":\"#E5ECF6\",\"polar\":{\"bgcolor\":\"#E5ECF6\",\"angularaxis\":{\"gridcolor\":\"white\",\"linecolor\":\"white\",\"ticks\":\"\"},\"radialaxis\":{\"gridcolor\":\"white\",\"linecolor\":\"white\",\"ticks\":\"\"}},\"ternary\":{\"bgcolor\":\"#E5ECF6\",\"aaxis\":{\"gridcolor\":\"white\",\"linecolor\":\"white\",\"ticks\":\"\"},\"baxis\":{\"gridcolor\":\"white\",\"linecolor\":\"white\",\"ticks\":\"\"},\"caxis\":{\"gridcolor\":\"white\",\"linecolor\":\"white\",\"ticks\":\"\"}},\"coloraxis\":{\"colorbar\":{\"outlinewidth\":0,\"ticks\":\"\"}},\"colorscale\":{\"sequential\":[[0.0,\"#0d0887\"],[0.1111111111111111,\"#46039f\"],[0.2222222222222222,\"#7201a8\"],[0.3333333333333333,\"#9c179e\"],[0.4444444444444444,\"#bd3786\"],[0.5555555555555556,\"#d8576b\"],[0.6666666666666666,\"#ed7953\"],[0.7777777777777778,\"#fb9f3a\"],[0.8888888888888888,\"#fdca26\"],[1.0,\"#f0f921\"]],\"sequentialminus\":[[0.0,\"#0d0887\"],[0.1111111111111111,\"#46039f\"],[0.2222222222222222,\"#7201a8\"],[0.3333333333333333,\"#9c179e\"],[0.4444444444444444,\"#bd3786\"],[0.5555555555555556,\"#d8576b\"],[0.6666666666666666,\"#ed7953\"],[0.7777777777777778,\"#fb9f3a\"],[0.8888888888888888,\"#fdca26\"],[1.0,\"#f0f921\"]],\"diverging\":[[0,\"#8e0152\"],[0.1,\"#c51b7d\"],[0.2,\"#de77ae\"],[0.3,\"#f1b6da\"],[0.4,\"#fde0ef\"],[0.5,\"#f7f7f7\"],[0.6,\"#e6f5d0\"],[0.7,\"#b8e186\"],[0.8,\"#7fbc41\"],[0.9,\"#4d9221\"],[1,\"#276419\"]]},\"xaxis\":{\"gridcolor\":\"white\",\"linecolor\":\"white\",\"ticks\":\"\",\"title\":{\"standoff\":15},\"zerolinecolor\":\"white\",\"automargin\":true,\"zerolinewidth\":2},\"yaxis\":{\"gridcolor\":\"white\",\"linecolor\":\"white\",\"ticks\":\"\",\"title\":{\"standoff\":15},\"zerolinecolor\":\"white\",\"automargin\":true,\"zerolinewidth\":2},\"scene\":{\"xaxis\":{\"backgroundcolor\":\"#E5ECF6\",\"gridcolor\":\"white\",\"linecolor\":\"white\",\"showbackground\":true,\"ticks\":\"\",\"zerolinecolor\":\"white\",\"gridwidth\":2},\"yaxis\":{\"backgroundcolor\":\"#E5ECF6\",\"gridcolor\":\"white\",\"linecolor\":\"white\",\"showbackground\":true,\"ticks\":\"\",\"zerolinecolor\":\"white\",\"gridwidth\":2},\"zaxis\":{\"backgroundcolor\":\"#E5ECF6\",\"gridcolor\":\"white\",\"linecolor\":\"white\",\"showbackground\":true,\"ticks\":\"\",\"zerolinecolor\":\"white\",\"gridwidth\":2}},\"shapedefaults\":{\"line\":{\"color\":\"#2a3f5f\"}},\"annotationdefaults\":{\"arrowcolor\":\"#2a3f5f\",\"arrowhead\":0,\"arrowwidth\":1},\"geo\":{\"bgcolor\":\"white\",\"landcolor\":\"#E5ECF6\",\"subunitcolor\":\"white\",\"showland\":true,\"showlakes\":true,\"lakecolor\":\"white\"},\"title\":{\"x\":0.05},\"mapbox\":{\"style\":\"light\"}}},\"shapes\":[{\"line\":{\"dash\":\"dash\"},\"type\":\"line\",\"x0\":0,\"x1\":1,\"y0\":0,\"y1\":1}],\"yaxis\":{\"title\":{\"text\":\"True Positive Rate\"},\"scaleanchor\":\"x\",\"scaleratio\":1},\"xaxis\":{\"title\":{\"text\":\"False Positive Rate\"},\"constrain\":\"domain\"},\"title\":{\"text\":\"ROC Curve\"},\"width\":900,\"height\":800},                        {\"responsive\": true}                    ).then(function(){\n",
              "                            \n",
              "var gd = document.getElementById('2e52f7ed-6384-48b9-930b-96613930408a');\n",
              "var x = new MutationObserver(function (mutations, observer) {{\n",
              "        var display = window.getComputedStyle(gd).display;\n",
              "        if (!display || display === 'none') {{\n",
              "            console.log([gd, 'removed!']);\n",
              "            Plotly.purge(gd);\n",
              "            observer.disconnect();\n",
              "        }}\n",
              "}});\n",
              "\n",
              "// Listen for the removal of the full notebook cells\n",
              "var notebookContainer = gd.closest('#notebook-container');\n",
              "if (notebookContainer) {{\n",
              "    x.observe(notebookContainer, {childList: true});\n",
              "}}\n",
              "\n",
              "// Listen for the clearing of the current output cell\n",
              "var outputEl = gd.closest('.output');\n",
              "if (outputEl) {{\n",
              "    x.observe(outputEl, {childList: true});\n",
              "}}\n",
              "\n",
              "                        })                };                            </script>        </div>\n",
              "</body>\n",
              "</html>"
            ]
          },
          "metadata": {}
        }
      ],
      "source": [
        "roc_auc_curve(y_test_pred_prob, y_test)"
      ]
    },
    {
      "cell_type": "code",
      "execution_count": 44,
      "metadata": {
        "id": "AymS4krnmhuC"
      },
      "outputs": [],
      "source": [
        "from tensorflow.keras.models import save_model\n"
      ]
    },
    {
      "cell_type": "code",
      "execution_count": 45,
      "metadata": {
        "id": "Bp4G0LZqm0Sq"
      },
      "outputs": [],
      "source": [
        "MODEL_FILENAMEs=root_path+\"model_5fold_ResNet101V2_GN07mm.h5\"\n",
        "model.save(MODEL_FILENAMEs)"
      ]
    }
  ],
  "metadata": {
    "accelerator": "GPU",
    "colab": {
      "provenance": [],
      "gpuType": "T4",
      "include_colab_link": true
    },
    "kernelspec": {
      "display_name": "Python 3",
      "name": "python3"
    },
    "language_info": {
      "name": "python"
    }
  },
  "nbformat": 4,
  "nbformat_minor": 0
}