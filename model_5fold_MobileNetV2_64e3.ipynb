{
  "cells": [
    {
      "cell_type": "markdown",
      "metadata": {
        "id": "view-in-github",
        "colab_type": "text"
      },
      "source": [
        "<a href=\"https://colab.research.google.com/github/mancudEOM/Ensemble-deep-learning/blob/main/model_5fold_MobileNetV2_64e3.ipynb\" target=\"_parent\"><img src=\"https://colab.research.google.com/assets/colab-badge.svg\" alt=\"Open In Colab\"/></a>"
      ]
    },
    {
      "cell_type": "code",
      "execution_count": 1,
      "metadata": {
        "colab": {
          "base_uri": "https://localhost:8080/"
        },
        "id": "re2cPhu8Glvf",
        "outputId": "fb730deb-45c3-4d18-f766-9a7fbf27ce4d"
      },
      "outputs": [
        {
          "output_type": "stream",
          "name": "stdout",
          "text": [
            "Mounted at /content/drive\n"
          ]
        }
      ],
      "source": [
        "  from google.colab import drive\n",
        "  drive.mount('/content/drive')\n",
        "\n"
      ]
    },
    {
      "cell_type": "code",
      "execution_count": 2,
      "metadata": {
        "colab": {
          "base_uri": "https://localhost:8080/"
        },
        "id": "16aNt0njGqgR",
        "outputId": "df7c3029-a694-4ff6-c1a9-c69720166274"
      },
      "outputs": [
        {
          "output_type": "stream",
          "name": "stdout",
          "text": [
            "drive  sample_data\n"
          ]
        }
      ],
      "source": [
        "  !ls\n"
      ]
    },
    {
      "cell_type": "code",
      "execution_count": 3,
      "metadata": {
        "id": "6kpNIXuzGskg"
      },
      "outputs": [],
      "source": [
        "  import sys\n",
        "  root_path = '/content/drive/My Drive/Mulberry Leaf Dataset/' # This is the path to where in google drive the code is stored!\n",
        "  sys.path.append(root_path)"
      ]
    },
    {
      "cell_type": "markdown",
      "metadata": {
        "id": "qMNSUzIxL7JZ"
      },
      "source": [
        "# THÊM TẤT CẢ CÁC THƯ VIỆN CẦN THIẾT"
      ]
    },
    {
      "cell_type": "code",
      "execution_count": 4,
      "metadata": {
        "id": "NJq2Vm2hHTWR"
      },
      "outputs": [],
      "source": [
        "import numpy as np\n",
        "from sklearn.metrics import accuracy_score, f1_score, precision_score, confusion_matrix\n",
        "from sklearn.model_selection import StratifiedKFold\n",
        "from PIL import Image\n",
        "import random\n",
        "import tensorflow as tf\n",
        "from tensorflow.keras.models import Sequential\n",
        "from keras.preprocessing.image import ImageDataGenerator\n",
        "from tensorflow.keras.preprocessing.image import ImageDataGenerator\n",
        "from tensorflow.keras.layers import Dense, Dropout, Flatten, Conv2D, MaxPooling2D\n",
        "\n",
        "from tensorflow.compat.v1 import ConfigProto\n",
        "from tensorflow.compat.v1 import InteractiveSession\n",
        "import warnings\n",
        "import os\n",
        "import shutil\n",
        "from PIL import ImageFile\n",
        "warnings.simplefilter('error', Image.DecompressionBombWarning)\n",
        "ImageFile.LOAD_TRUNCATED_IMAGES = True\n",
        "Image.MAX_IMAGE_PIXELS = 1000000000\n",
        "config = ConfigProto()\n",
        "config.gpu_options.allow_growth = True\n",
        "session = InteractiveSession(config=config)"
      ]
    },
    {
      "cell_type": "markdown",
      "source": [],
      "metadata": {
        "id": "dRoRYDVdlr-Q"
      }
    },
    {
      "cell_type": "markdown",
      "metadata": {
        "id": "QYpc-VdEMGBS"
      },
      "source": [
        "# Khởi tạo các biến cần thiết"
      ]
    },
    {
      "cell_type": "code",
      "execution_count": 5,
      "metadata": {
        "id": "iCy2O5d9Jxq6"
      },
      "outputs": [],
      "source": [
        "datasetFolderName=root_path+'dataset'\n",
        "MODEL_FILENAME=root_path+\"model_cv.h5\"\n",
        "sourceFiles=[]\n",
        "classLabels=['01 ChiangMai60','02 RedKing','03 WhiteKing',\n",
        "             '04 BlackOodTurkey','05 TaiwanStraberry','06 BlackAustralia',\n",
        "             '07 Buriram60','08 Kamphaengsaeng42','09 TaiwanMeacho','10 ChiangMaiBuriram60']\n",
        "X=[]\n",
        "Y=[]\n",
        "\n",
        "img_rows, img_cols =  224, 224\n",
        "# input image dimensions\n",
        "#img_rows, img_cols =  224, 224 # input image dimensions\n",
        "train_path=datasetFolderName+'/train/'\n",
        "validation_path=datasetFolderName+'/validation/'\n",
        "test_path=datasetFolderName+'/test/'"
      ]
    },
    {
      "cell_type": "markdown",
      "metadata": {
        "id": "LyAnSQTbMblZ"
      },
      "source": [
        "# KFOLD train-test-validation"
      ]
    },
    {
      "cell_type": "code",
      "execution_count": 6,
      "metadata": {
        "id": "RgfHPIHbJ4rR"
      },
      "outputs": [],
      "source": [
        "def transferBetweenFolders(source, dest, splitRate):\n",
        "    global sourceFiles\n",
        "    sourceFiles=os.listdir(source)\n",
        "    if(len(sourceFiles)!=0):\n",
        "        transferFileNumbers=int(len(sourceFiles)*splitRate)\n",
        "        transferIndex=random.sample(range(0, len(sourceFiles)), transferFileNumbers)\n",
        "        for eachIndex in transferIndex:\n",
        "            shutil.move(source+str(sourceFiles[eachIndex]), dest+str(sourceFiles[eachIndex]))\n",
        "    else:\n",
        "        print(\"No file moved. Source empty!\")\n",
        "\n",
        "def transferAllClassBetweenFolders(source, dest, splitRate):\n",
        "    for label in classLabels:\n",
        "        transferBetweenFolders(datasetFolderName+'/'+source+'/'+label+'/',\n",
        "                               datasetFolderName+'/'+dest+'/'+label+'/',\n",
        "                               splitRate)"
      ]
    },
    {
      "cell_type": "code",
      "execution_count": 7,
      "metadata": {
        "id": "stSX_AiNKleb"
      },
      "outputs": [],
      "source": [
        "#transferAllClassBetweenFolders('test', 'train', 1.0)"
      ]
    },
    {
      "cell_type": "code",
      "execution_count": 8,
      "metadata": {
        "id": "Z6o8gWE-N-rq"
      },
      "outputs": [],
      "source": [
        "transferAllClassBetweenFolders('validation', 'train', 1.0)"
      ]
    },
    {
      "cell_type": "code",
      "execution_count": 9,
      "metadata": {
        "id": "arE4ro1JKqIh"
      },
      "outputs": [],
      "source": [
        "#transferAllClassBetweenFolders('train', 'test', 0.20)"
      ]
    },
    {
      "cell_type": "code",
      "execution_count": 10,
      "metadata": {
        "id": "73VhRSA2K0fp"
      },
      "outputs": [],
      "source": [
        "def prepareNameWithLabels(folderName):\n",
        "    sourceFiles=os.listdir(datasetFolderName+'/train/'+folderName)\n",
        "    for val in sourceFiles:\n",
        "        X.append(val)\n",
        "        for i in range(len(classLabels)):\n",
        "          if(folderName==classLabels[i]):\n",
        "              Y.append(i)"
      ]
    },
    {
      "cell_type": "code",
      "execution_count": 11,
      "metadata": {
        "id": "u6pP6P3YK2Ub"
      },
      "outputs": [],
      "source": [
        "# Organize file names and class labels in X and Y variables\n",
        "for i in range(len(classLabels)):\n",
        "  prepareNameWithLabels(classLabels[i])"
      ]
    },
    {
      "cell_type": "code",
      "execution_count": 12,
      "metadata": {
        "id": "WZHmT5JgK3xa"
      },
      "outputs": [],
      "source": [
        "X=np.asarray(X)\n",
        "Y=np.asarray(Y)"
      ]
    },
    {
      "cell_type": "code",
      "execution_count": 13,
      "metadata": {
        "colab": {
          "base_uri": "https://localhost:8080/"
        },
        "id": "MzTCDvyoM28y",
        "outputId": "9536cd05-a031-464f-edf1-1efaac1e6e5e"
      },
      "outputs": [
        {
          "output_type": "stream",
          "name": "stdout",
          "text": [
            "['20191207_111620.jpg' '20191207_141311.jpg' '20191207_110500.jpg' ...\n",
            " 'DSC_0217.JPG' 'DSC_0029.JPG' 'DSC_0363.JPG']\n",
            "[0 0 0 ... 9 9 9]\n"
          ]
        }
      ],
      "source": [
        "print(X)\n",
        "print(Y)"
      ]
    },
    {
      "cell_type": "code",
      "execution_count": 14,
      "metadata": {
        "id": "WtnpSQSxX-67"
      },
      "outputs": [],
      "source": [
        "batch_size = 64\n",
        "IMG_SIZE = (224, 224, 3)\n",
        "number_of_class_labels = len(classLabels)"
      ]
    },
    {
      "cell_type": "code",
      "execution_count": 15,
      "metadata": {
        "id": "OKucCyffZ5cD"
      },
      "outputs": [],
      "source": [
        "import tensorflow.keras as keras"
      ]
    },
    {
      "cell_type": "code",
      "execution_count": 16,
      "metadata": {
        "id": "zWFE6eJxZvCD"
      },
      "outputs": [],
      "source": [
        "# Create a data augmentation stage with horizontal flipping, rotations, zooms\n",
        "data_augmentation = keras.Sequential(\n",
        "    [\n",
        "        keras.layers.Rescaling(1./ 255),\n",
        "        keras.layers.RandomFlip(),\n",
        "        keras.layers.RandomRotation(0.2),\n",
        "        keras.layers.RandomZoom(0.2,0.3)\n",
        "    ]\n",
        ")"
      ]
    },
    {
      "cell_type": "code",
      "execution_count": 17,
      "metadata": {
        "id": "A929RzhDZ7wR"
      },
      "outputs": [],
      "source": [
        "#ResNet50V2 layers except for the last global average pooling and final dense layer.\n",
        "#pre_trained_layers = keras.applications.ResNet50V2(weights=\"imagenet\", include_top=False,\n",
        " #          input_tensor=keras.Input(shape=IMG_SIZE))"
      ]
    },
    {
      "cell_type": "code",
      "execution_count": 18,
      "metadata": {
        "id": "wbD80LCePblH",
        "colab": {
          "base_uri": "https://localhost:8080/"
        },
        "outputId": "57a123c1-1e97-4542-d1aa-356b9a3e43f5"
      },
      "outputs": [
        {
          "output_type": "stream",
          "name": "stderr",
          "text": [
            "WARNING:tensorflow:`input_shape` is undefined or non-square, or `rows` is not in [96, 128, 160, 192, 224]. Weights for input shape (224, 224) will be loaded as the default.\n"
          ]
        },
        {
          "output_type": "stream",
          "name": "stdout",
          "text": [
            "Downloading data from https://storage.googleapis.com/tensorflow/keras-applications/mobilenet_v2/mobilenet_v2_weights_tf_dim_ordering_tf_kernels_1.0_224_no_top.h5\n",
            "9406464/9406464 [==============================] - 1s 0us/step\n"
          ]
        }
      ],
      "source": [
        "\n",
        "pre_trained_layers = keras.applications.MobileNetV2(weights=\"imagenet\", include_top=False,\n",
        "         input_tensor=keras.Input(shape=IMG_SIZE))"
      ]
    },
    {
      "cell_type": "code",
      "execution_count": 19,
      "metadata": {
        "id": "kFkcL4A1JffX"
      },
      "outputs": [],
      "source": [
        "#pre_trained_layers = tf.keras.applications.ResNet152(weights=\"imagenet\", include_top=False,\n",
        "#          input_tensor=keras.Input(shape=IMG_SIZE))"
      ]
    },
    {
      "cell_type": "code",
      "execution_count": 20,
      "metadata": {
        "colab": {
          "base_uri": "https://localhost:8080/"
        },
        "id": "V-K3rsDLaLWL",
        "outputId": "27090e4c-bda3-4059-cc63-6200b98febd1"
      },
      "outputs": [
        {
          "output_type": "stream",
          "name": "stdout",
          "text": [
            "Model: \"mobilenetv2_1.00_224\"\n",
            "__________________________________________________________________________________________________\n",
            " Layer (type)                   Output Shape         Param #     Connected to                     \n",
            "==================================================================================================\n",
            " input_1 (InputLayer)           [(None, 224, 224, 3  0           []                               \n",
            "                                )]                                                                \n",
            "                                                                                                  \n",
            " Conv1 (Conv2D)                 (None, 112, 112, 32  864         ['input_1[0][0]']                \n",
            "                                )                                                                 \n",
            "                                                                                                  \n",
            " bn_Conv1 (BatchNormalization)  (None, 112, 112, 32  128         ['Conv1[0][0]']                  \n",
            "                                )                                                                 \n",
            "                                                                                                  \n",
            " Conv1_relu (ReLU)              (None, 112, 112, 32  0           ['bn_Conv1[0][0]']               \n",
            "                                )                                                                 \n",
            "                                                                                                  \n",
            " expanded_conv_depthwise (Depth  (None, 112, 112, 32  288        ['Conv1_relu[0][0]']             \n",
            " wiseConv2D)                    )                                                                 \n",
            "                                                                                                  \n",
            " expanded_conv_depthwise_BN (Ba  (None, 112, 112, 32  128        ['expanded_conv_depthwise[0][0]']\n",
            " tchNormalization)              )                                                                 \n",
            "                                                                                                  \n",
            " expanded_conv_depthwise_relu (  (None, 112, 112, 32  0          ['expanded_conv_depthwise_BN[0][0\n",
            " ReLU)                          )                                ]']                              \n",
            "                                                                                                  \n",
            " expanded_conv_project (Conv2D)  (None, 112, 112, 16  512        ['expanded_conv_depthwise_relu[0]\n",
            "                                )                                [0]']                            \n",
            "                                                                                                  \n",
            " expanded_conv_project_BN (Batc  (None, 112, 112, 16  64         ['expanded_conv_project[0][0]']  \n",
            " hNormalization)                )                                                                 \n",
            "                                                                                                  \n",
            " block_1_expand (Conv2D)        (None, 112, 112, 96  1536        ['expanded_conv_project_BN[0][0]'\n",
            "                                )                                ]                                \n",
            "                                                                                                  \n",
            " block_1_expand_BN (BatchNormal  (None, 112, 112, 96  384        ['block_1_expand[0][0]']         \n",
            " ization)                       )                                                                 \n",
            "                                                                                                  \n",
            " block_1_expand_relu (ReLU)     (None, 112, 112, 96  0           ['block_1_expand_BN[0][0]']      \n",
            "                                )                                                                 \n",
            "                                                                                                  \n",
            " block_1_pad (ZeroPadding2D)    (None, 113, 113, 96  0           ['block_1_expand_relu[0][0]']    \n",
            "                                )                                                                 \n",
            "                                                                                                  \n",
            " block_1_depthwise (DepthwiseCo  (None, 56, 56, 96)  864         ['block_1_pad[0][0]']            \n",
            " nv2D)                                                                                            \n",
            "                                                                                                  \n",
            " block_1_depthwise_BN (BatchNor  (None, 56, 56, 96)  384         ['block_1_depthwise[0][0]']      \n",
            " malization)                                                                                      \n",
            "                                                                                                  \n",
            " block_1_depthwise_relu (ReLU)  (None, 56, 56, 96)   0           ['block_1_depthwise_BN[0][0]']   \n",
            "                                                                                                  \n",
            " block_1_project (Conv2D)       (None, 56, 56, 24)   2304        ['block_1_depthwise_relu[0][0]'] \n",
            "                                                                                                  \n",
            " block_1_project_BN (BatchNorma  (None, 56, 56, 24)  96          ['block_1_project[0][0]']        \n",
            " lization)                                                                                        \n",
            "                                                                                                  \n",
            " block_2_expand (Conv2D)        (None, 56, 56, 144)  3456        ['block_1_project_BN[0][0]']     \n",
            "                                                                                                  \n",
            " block_2_expand_BN (BatchNormal  (None, 56, 56, 144)  576        ['block_2_expand[0][0]']         \n",
            " ization)                                                                                         \n",
            "                                                                                                  \n",
            " block_2_expand_relu (ReLU)     (None, 56, 56, 144)  0           ['block_2_expand_BN[0][0]']      \n",
            "                                                                                                  \n",
            " block_2_depthwise (DepthwiseCo  (None, 56, 56, 144)  1296       ['block_2_expand_relu[0][0]']    \n",
            " nv2D)                                                                                            \n",
            "                                                                                                  \n",
            " block_2_depthwise_BN (BatchNor  (None, 56, 56, 144)  576        ['block_2_depthwise[0][0]']      \n",
            " malization)                                                                                      \n",
            "                                                                                                  \n",
            " block_2_depthwise_relu (ReLU)  (None, 56, 56, 144)  0           ['block_2_depthwise_BN[0][0]']   \n",
            "                                                                                                  \n",
            " block_2_project (Conv2D)       (None, 56, 56, 24)   3456        ['block_2_depthwise_relu[0][0]'] \n",
            "                                                                                                  \n",
            " block_2_project_BN (BatchNorma  (None, 56, 56, 24)  96          ['block_2_project[0][0]']        \n",
            " lization)                                                                                        \n",
            "                                                                                                  \n",
            " block_2_add (Add)              (None, 56, 56, 24)   0           ['block_1_project_BN[0][0]',     \n",
            "                                                                  'block_2_project_BN[0][0]']     \n",
            "                                                                                                  \n",
            " block_3_expand (Conv2D)        (None, 56, 56, 144)  3456        ['block_2_add[0][0]']            \n",
            "                                                                                                  \n",
            " block_3_expand_BN (BatchNormal  (None, 56, 56, 144)  576        ['block_3_expand[0][0]']         \n",
            " ization)                                                                                         \n",
            "                                                                                                  \n",
            " block_3_expand_relu (ReLU)     (None, 56, 56, 144)  0           ['block_3_expand_BN[0][0]']      \n",
            "                                                                                                  \n",
            " block_3_pad (ZeroPadding2D)    (None, 57, 57, 144)  0           ['block_3_expand_relu[0][0]']    \n",
            "                                                                                                  \n",
            " block_3_depthwise (DepthwiseCo  (None, 28, 28, 144)  1296       ['block_3_pad[0][0]']            \n",
            " nv2D)                                                                                            \n",
            "                                                                                                  \n",
            " block_3_depthwise_BN (BatchNor  (None, 28, 28, 144)  576        ['block_3_depthwise[0][0]']      \n",
            " malization)                                                                                      \n",
            "                                                                                                  \n",
            " block_3_depthwise_relu (ReLU)  (None, 28, 28, 144)  0           ['block_3_depthwise_BN[0][0]']   \n",
            "                                                                                                  \n",
            " block_3_project (Conv2D)       (None, 28, 28, 32)   4608        ['block_3_depthwise_relu[0][0]'] \n",
            "                                                                                                  \n",
            " block_3_project_BN (BatchNorma  (None, 28, 28, 32)  128         ['block_3_project[0][0]']        \n",
            " lization)                                                                                        \n",
            "                                                                                                  \n",
            " block_4_expand (Conv2D)        (None, 28, 28, 192)  6144        ['block_3_project_BN[0][0]']     \n",
            "                                                                                                  \n",
            " block_4_expand_BN (BatchNormal  (None, 28, 28, 192)  768        ['block_4_expand[0][0]']         \n",
            " ization)                                                                                         \n",
            "                                                                                                  \n",
            " block_4_expand_relu (ReLU)     (None, 28, 28, 192)  0           ['block_4_expand_BN[0][0]']      \n",
            "                                                                                                  \n",
            " block_4_depthwise (DepthwiseCo  (None, 28, 28, 192)  1728       ['block_4_expand_relu[0][0]']    \n",
            " nv2D)                                                                                            \n",
            "                                                                                                  \n",
            " block_4_depthwise_BN (BatchNor  (None, 28, 28, 192)  768        ['block_4_depthwise[0][0]']      \n",
            " malization)                                                                                      \n",
            "                                                                                                  \n",
            " block_4_depthwise_relu (ReLU)  (None, 28, 28, 192)  0           ['block_4_depthwise_BN[0][0]']   \n",
            "                                                                                                  \n",
            " block_4_project (Conv2D)       (None, 28, 28, 32)   6144        ['block_4_depthwise_relu[0][0]'] \n",
            "                                                                                                  \n",
            " block_4_project_BN (BatchNorma  (None, 28, 28, 32)  128         ['block_4_project[0][0]']        \n",
            " lization)                                                                                        \n",
            "                                                                                                  \n",
            " block_4_add (Add)              (None, 28, 28, 32)   0           ['block_3_project_BN[0][0]',     \n",
            "                                                                  'block_4_project_BN[0][0]']     \n",
            "                                                                                                  \n",
            " block_5_expand (Conv2D)        (None, 28, 28, 192)  6144        ['block_4_add[0][0]']            \n",
            "                                                                                                  \n",
            " block_5_expand_BN (BatchNormal  (None, 28, 28, 192)  768        ['block_5_expand[0][0]']         \n",
            " ization)                                                                                         \n",
            "                                                                                                  \n",
            " block_5_expand_relu (ReLU)     (None, 28, 28, 192)  0           ['block_5_expand_BN[0][0]']      \n",
            "                                                                                                  \n",
            " block_5_depthwise (DepthwiseCo  (None, 28, 28, 192)  1728       ['block_5_expand_relu[0][0]']    \n",
            " nv2D)                                                                                            \n",
            "                                                                                                  \n",
            " block_5_depthwise_BN (BatchNor  (None, 28, 28, 192)  768        ['block_5_depthwise[0][0]']      \n",
            " malization)                                                                                      \n",
            "                                                                                                  \n",
            " block_5_depthwise_relu (ReLU)  (None, 28, 28, 192)  0           ['block_5_depthwise_BN[0][0]']   \n",
            "                                                                                                  \n",
            " block_5_project (Conv2D)       (None, 28, 28, 32)   6144        ['block_5_depthwise_relu[0][0]'] \n",
            "                                                                                                  \n",
            " block_5_project_BN (BatchNorma  (None, 28, 28, 32)  128         ['block_5_project[0][0]']        \n",
            " lization)                                                                                        \n",
            "                                                                                                  \n",
            " block_5_add (Add)              (None, 28, 28, 32)   0           ['block_4_add[0][0]',            \n",
            "                                                                  'block_5_project_BN[0][0]']     \n",
            "                                                                                                  \n",
            " block_6_expand (Conv2D)        (None, 28, 28, 192)  6144        ['block_5_add[0][0]']            \n",
            "                                                                                                  \n",
            " block_6_expand_BN (BatchNormal  (None, 28, 28, 192)  768        ['block_6_expand[0][0]']         \n",
            " ization)                                                                                         \n",
            "                                                                                                  \n",
            " block_6_expand_relu (ReLU)     (None, 28, 28, 192)  0           ['block_6_expand_BN[0][0]']      \n",
            "                                                                                                  \n",
            " block_6_pad (ZeroPadding2D)    (None, 29, 29, 192)  0           ['block_6_expand_relu[0][0]']    \n",
            "                                                                                                  \n",
            " block_6_depthwise (DepthwiseCo  (None, 14, 14, 192)  1728       ['block_6_pad[0][0]']            \n",
            " nv2D)                                                                                            \n",
            "                                                                                                  \n",
            " block_6_depthwise_BN (BatchNor  (None, 14, 14, 192)  768        ['block_6_depthwise[0][0]']      \n",
            " malization)                                                                                      \n",
            "                                                                                                  \n",
            " block_6_depthwise_relu (ReLU)  (None, 14, 14, 192)  0           ['block_6_depthwise_BN[0][0]']   \n",
            "                                                                                                  \n",
            " block_6_project (Conv2D)       (None, 14, 14, 64)   12288       ['block_6_depthwise_relu[0][0]'] \n",
            "                                                                                                  \n",
            " block_6_project_BN (BatchNorma  (None, 14, 14, 64)  256         ['block_6_project[0][0]']        \n",
            " lization)                                                                                        \n",
            "                                                                                                  \n",
            " block_7_expand (Conv2D)        (None, 14, 14, 384)  24576       ['block_6_project_BN[0][0]']     \n",
            "                                                                                                  \n",
            " block_7_expand_BN (BatchNormal  (None, 14, 14, 384)  1536       ['block_7_expand[0][0]']         \n",
            " ization)                                                                                         \n",
            "                                                                                                  \n",
            " block_7_expand_relu (ReLU)     (None, 14, 14, 384)  0           ['block_7_expand_BN[0][0]']      \n",
            "                                                                                                  \n",
            " block_7_depthwise (DepthwiseCo  (None, 14, 14, 384)  3456       ['block_7_expand_relu[0][0]']    \n",
            " nv2D)                                                                                            \n",
            "                                                                                                  \n",
            " block_7_depthwise_BN (BatchNor  (None, 14, 14, 384)  1536       ['block_7_depthwise[0][0]']      \n",
            " malization)                                                                                      \n",
            "                                                                                                  \n",
            " block_7_depthwise_relu (ReLU)  (None, 14, 14, 384)  0           ['block_7_depthwise_BN[0][0]']   \n",
            "                                                                                                  \n",
            " block_7_project (Conv2D)       (None, 14, 14, 64)   24576       ['block_7_depthwise_relu[0][0]'] \n",
            "                                                                                                  \n",
            " block_7_project_BN (BatchNorma  (None, 14, 14, 64)  256         ['block_7_project[0][0]']        \n",
            " lization)                                                                                        \n",
            "                                                                                                  \n",
            " block_7_add (Add)              (None, 14, 14, 64)   0           ['block_6_project_BN[0][0]',     \n",
            "                                                                  'block_7_project_BN[0][0]']     \n",
            "                                                                                                  \n",
            " block_8_expand (Conv2D)        (None, 14, 14, 384)  24576       ['block_7_add[0][0]']            \n",
            "                                                                                                  \n",
            " block_8_expand_BN (BatchNormal  (None, 14, 14, 384)  1536       ['block_8_expand[0][0]']         \n",
            " ization)                                                                                         \n",
            "                                                                                                  \n",
            " block_8_expand_relu (ReLU)     (None, 14, 14, 384)  0           ['block_8_expand_BN[0][0]']      \n",
            "                                                                                                  \n",
            " block_8_depthwise (DepthwiseCo  (None, 14, 14, 384)  3456       ['block_8_expand_relu[0][0]']    \n",
            " nv2D)                                                                                            \n",
            "                                                                                                  \n",
            " block_8_depthwise_BN (BatchNor  (None, 14, 14, 384)  1536       ['block_8_depthwise[0][0]']      \n",
            " malization)                                                                                      \n",
            "                                                                                                  \n",
            " block_8_depthwise_relu (ReLU)  (None, 14, 14, 384)  0           ['block_8_depthwise_BN[0][0]']   \n",
            "                                                                                                  \n",
            " block_8_project (Conv2D)       (None, 14, 14, 64)   24576       ['block_8_depthwise_relu[0][0]'] \n",
            "                                                                                                  \n",
            " block_8_project_BN (BatchNorma  (None, 14, 14, 64)  256         ['block_8_project[0][0]']        \n",
            " lization)                                                                                        \n",
            "                                                                                                  \n",
            " block_8_add (Add)              (None, 14, 14, 64)   0           ['block_7_add[0][0]',            \n",
            "                                                                  'block_8_project_BN[0][0]']     \n",
            "                                                                                                  \n",
            " block_9_expand (Conv2D)        (None, 14, 14, 384)  24576       ['block_8_add[0][0]']            \n",
            "                                                                                                  \n",
            " block_9_expand_BN (BatchNormal  (None, 14, 14, 384)  1536       ['block_9_expand[0][0]']         \n",
            " ization)                                                                                         \n",
            "                                                                                                  \n",
            " block_9_expand_relu (ReLU)     (None, 14, 14, 384)  0           ['block_9_expand_BN[0][0]']      \n",
            "                                                                                                  \n",
            " block_9_depthwise (DepthwiseCo  (None, 14, 14, 384)  3456       ['block_9_expand_relu[0][0]']    \n",
            " nv2D)                                                                                            \n",
            "                                                                                                  \n",
            " block_9_depthwise_BN (BatchNor  (None, 14, 14, 384)  1536       ['block_9_depthwise[0][0]']      \n",
            " malization)                                                                                      \n",
            "                                                                                                  \n",
            " block_9_depthwise_relu (ReLU)  (None, 14, 14, 384)  0           ['block_9_depthwise_BN[0][0]']   \n",
            "                                                                                                  \n",
            " block_9_project (Conv2D)       (None, 14, 14, 64)   24576       ['block_9_depthwise_relu[0][0]'] \n",
            "                                                                                                  \n",
            " block_9_project_BN (BatchNorma  (None, 14, 14, 64)  256         ['block_9_project[0][0]']        \n",
            " lization)                                                                                        \n",
            "                                                                                                  \n",
            " block_9_add (Add)              (None, 14, 14, 64)   0           ['block_8_add[0][0]',            \n",
            "                                                                  'block_9_project_BN[0][0]']     \n",
            "                                                                                                  \n",
            " block_10_expand (Conv2D)       (None, 14, 14, 384)  24576       ['block_9_add[0][0]']            \n",
            "                                                                                                  \n",
            " block_10_expand_BN (BatchNorma  (None, 14, 14, 384)  1536       ['block_10_expand[0][0]']        \n",
            " lization)                                                                                        \n",
            "                                                                                                  \n",
            " block_10_expand_relu (ReLU)    (None, 14, 14, 384)  0           ['block_10_expand_BN[0][0]']     \n",
            "                                                                                                  \n",
            " block_10_depthwise (DepthwiseC  (None, 14, 14, 384)  3456       ['block_10_expand_relu[0][0]']   \n",
            " onv2D)                                                                                           \n",
            "                                                                                                  \n",
            " block_10_depthwise_BN (BatchNo  (None, 14, 14, 384)  1536       ['block_10_depthwise[0][0]']     \n",
            " rmalization)                                                                                     \n",
            "                                                                                                  \n",
            " block_10_depthwise_relu (ReLU)  (None, 14, 14, 384)  0          ['block_10_depthwise_BN[0][0]']  \n",
            "                                                                                                  \n",
            " block_10_project (Conv2D)      (None, 14, 14, 96)   36864       ['block_10_depthwise_relu[0][0]']\n",
            "                                                                                                  \n",
            " block_10_project_BN (BatchNorm  (None, 14, 14, 96)  384         ['block_10_project[0][0]']       \n",
            " alization)                                                                                       \n",
            "                                                                                                  \n",
            " block_11_expand (Conv2D)       (None, 14, 14, 576)  55296       ['block_10_project_BN[0][0]']    \n",
            "                                                                                                  \n",
            " block_11_expand_BN (BatchNorma  (None, 14, 14, 576)  2304       ['block_11_expand[0][0]']        \n",
            " lization)                                                                                        \n",
            "                                                                                                  \n",
            " block_11_expand_relu (ReLU)    (None, 14, 14, 576)  0           ['block_11_expand_BN[0][0]']     \n",
            "                                                                                                  \n",
            " block_11_depthwise (DepthwiseC  (None, 14, 14, 576)  5184       ['block_11_expand_relu[0][0]']   \n",
            " onv2D)                                                                                           \n",
            "                                                                                                  \n",
            " block_11_depthwise_BN (BatchNo  (None, 14, 14, 576)  2304       ['block_11_depthwise[0][0]']     \n",
            " rmalization)                                                                                     \n",
            "                                                                                                  \n",
            " block_11_depthwise_relu (ReLU)  (None, 14, 14, 576)  0          ['block_11_depthwise_BN[0][0]']  \n",
            "                                                                                                  \n",
            " block_11_project (Conv2D)      (None, 14, 14, 96)   55296       ['block_11_depthwise_relu[0][0]']\n",
            "                                                                                                  \n",
            " block_11_project_BN (BatchNorm  (None, 14, 14, 96)  384         ['block_11_project[0][0]']       \n",
            " alization)                                                                                       \n",
            "                                                                                                  \n",
            " block_11_add (Add)             (None, 14, 14, 96)   0           ['block_10_project_BN[0][0]',    \n",
            "                                                                  'block_11_project_BN[0][0]']    \n",
            "                                                                                                  \n",
            " block_12_expand (Conv2D)       (None, 14, 14, 576)  55296       ['block_11_add[0][0]']           \n",
            "                                                                                                  \n",
            " block_12_expand_BN (BatchNorma  (None, 14, 14, 576)  2304       ['block_12_expand[0][0]']        \n",
            " lization)                                                                                        \n",
            "                                                                                                  \n",
            " block_12_expand_relu (ReLU)    (None, 14, 14, 576)  0           ['block_12_expand_BN[0][0]']     \n",
            "                                                                                                  \n",
            " block_12_depthwise (DepthwiseC  (None, 14, 14, 576)  5184       ['block_12_expand_relu[0][0]']   \n",
            " onv2D)                                                                                           \n",
            "                                                                                                  \n",
            " block_12_depthwise_BN (BatchNo  (None, 14, 14, 576)  2304       ['block_12_depthwise[0][0]']     \n",
            " rmalization)                                                                                     \n",
            "                                                                                                  \n",
            " block_12_depthwise_relu (ReLU)  (None, 14, 14, 576)  0          ['block_12_depthwise_BN[0][0]']  \n",
            "                                                                                                  \n",
            " block_12_project (Conv2D)      (None, 14, 14, 96)   55296       ['block_12_depthwise_relu[0][0]']\n",
            "                                                                                                  \n",
            " block_12_project_BN (BatchNorm  (None, 14, 14, 96)  384         ['block_12_project[0][0]']       \n",
            " alization)                                                                                       \n",
            "                                                                                                  \n",
            " block_12_add (Add)             (None, 14, 14, 96)   0           ['block_11_add[0][0]',           \n",
            "                                                                  'block_12_project_BN[0][0]']    \n",
            "                                                                                                  \n",
            " block_13_expand (Conv2D)       (None, 14, 14, 576)  55296       ['block_12_add[0][0]']           \n",
            "                                                                                                  \n",
            " block_13_expand_BN (BatchNorma  (None, 14, 14, 576)  2304       ['block_13_expand[0][0]']        \n",
            " lization)                                                                                        \n",
            "                                                                                                  \n",
            " block_13_expand_relu (ReLU)    (None, 14, 14, 576)  0           ['block_13_expand_BN[0][0]']     \n",
            "                                                                                                  \n",
            " block_13_pad (ZeroPadding2D)   (None, 15, 15, 576)  0           ['block_13_expand_relu[0][0]']   \n",
            "                                                                                                  \n",
            " block_13_depthwise (DepthwiseC  (None, 7, 7, 576)   5184        ['block_13_pad[0][0]']           \n",
            " onv2D)                                                                                           \n",
            "                                                                                                  \n",
            " block_13_depthwise_BN (BatchNo  (None, 7, 7, 576)   2304        ['block_13_depthwise[0][0]']     \n",
            " rmalization)                                                                                     \n",
            "                                                                                                  \n",
            " block_13_depthwise_relu (ReLU)  (None, 7, 7, 576)   0           ['block_13_depthwise_BN[0][0]']  \n",
            "                                                                                                  \n",
            " block_13_project (Conv2D)      (None, 7, 7, 160)    92160       ['block_13_depthwise_relu[0][0]']\n",
            "                                                                                                  \n",
            " block_13_project_BN (BatchNorm  (None, 7, 7, 160)   640         ['block_13_project[0][0]']       \n",
            " alization)                                                                                       \n",
            "                                                                                                  \n",
            " block_14_expand (Conv2D)       (None, 7, 7, 960)    153600      ['block_13_project_BN[0][0]']    \n",
            "                                                                                                  \n",
            " block_14_expand_BN (BatchNorma  (None, 7, 7, 960)   3840        ['block_14_expand[0][0]']        \n",
            " lization)                                                                                        \n",
            "                                                                                                  \n",
            " block_14_expand_relu (ReLU)    (None, 7, 7, 960)    0           ['block_14_expand_BN[0][0]']     \n",
            "                                                                                                  \n",
            " block_14_depthwise (DepthwiseC  (None, 7, 7, 960)   8640        ['block_14_expand_relu[0][0]']   \n",
            " onv2D)                                                                                           \n",
            "                                                                                                  \n",
            " block_14_depthwise_BN (BatchNo  (None, 7, 7, 960)   3840        ['block_14_depthwise[0][0]']     \n",
            " rmalization)                                                                                     \n",
            "                                                                                                  \n",
            " block_14_depthwise_relu (ReLU)  (None, 7, 7, 960)   0           ['block_14_depthwise_BN[0][0]']  \n",
            "                                                                                                  \n",
            " block_14_project (Conv2D)      (None, 7, 7, 160)    153600      ['block_14_depthwise_relu[0][0]']\n",
            "                                                                                                  \n",
            " block_14_project_BN (BatchNorm  (None, 7, 7, 160)   640         ['block_14_project[0][0]']       \n",
            " alization)                                                                                       \n",
            "                                                                                                  \n",
            " block_14_add (Add)             (None, 7, 7, 160)    0           ['block_13_project_BN[0][0]',    \n",
            "                                                                  'block_14_project_BN[0][0]']    \n",
            "                                                                                                  \n",
            " block_15_expand (Conv2D)       (None, 7, 7, 960)    153600      ['block_14_add[0][0]']           \n",
            "                                                                                                  \n",
            " block_15_expand_BN (BatchNorma  (None, 7, 7, 960)   3840        ['block_15_expand[0][0]']        \n",
            " lization)                                                                                        \n",
            "                                                                                                  \n",
            " block_15_expand_relu (ReLU)    (None, 7, 7, 960)    0           ['block_15_expand_BN[0][0]']     \n",
            "                                                                                                  \n",
            " block_15_depthwise (DepthwiseC  (None, 7, 7, 960)   8640        ['block_15_expand_relu[0][0]']   \n",
            " onv2D)                                                                                           \n",
            "                                                                                                  \n",
            " block_15_depthwise_BN (BatchNo  (None, 7, 7, 960)   3840        ['block_15_depthwise[0][0]']     \n",
            " rmalization)                                                                                     \n",
            "                                                                                                  \n",
            " block_15_depthwise_relu (ReLU)  (None, 7, 7, 960)   0           ['block_15_depthwise_BN[0][0]']  \n",
            "                                                                                                  \n",
            " block_15_project (Conv2D)      (None, 7, 7, 160)    153600      ['block_15_depthwise_relu[0][0]']\n",
            "                                                                                                  \n",
            " block_15_project_BN (BatchNorm  (None, 7, 7, 160)   640         ['block_15_project[0][0]']       \n",
            " alization)                                                                                       \n",
            "                                                                                                  \n",
            " block_15_add (Add)             (None, 7, 7, 160)    0           ['block_14_add[0][0]',           \n",
            "                                                                  'block_15_project_BN[0][0]']    \n",
            "                                                                                                  \n",
            " block_16_expand (Conv2D)       (None, 7, 7, 960)    153600      ['block_15_add[0][0]']           \n",
            "                                                                                                  \n",
            " block_16_expand_BN (BatchNorma  (None, 7, 7, 960)   3840        ['block_16_expand[0][0]']        \n",
            " lization)                                                                                        \n",
            "                                                                                                  \n",
            " block_16_expand_relu (ReLU)    (None, 7, 7, 960)    0           ['block_16_expand_BN[0][0]']     \n",
            "                                                                                                  \n",
            " block_16_depthwise (DepthwiseC  (None, 7, 7, 960)   8640        ['block_16_expand_relu[0][0]']   \n",
            " onv2D)                                                                                           \n",
            "                                                                                                  \n",
            " block_16_depthwise_BN (BatchNo  (None, 7, 7, 960)   3840        ['block_16_depthwise[0][0]']     \n",
            " rmalization)                                                                                     \n",
            "                                                                                                  \n",
            " block_16_depthwise_relu (ReLU)  (None, 7, 7, 960)   0           ['block_16_depthwise_BN[0][0]']  \n",
            "                                                                                                  \n",
            " block_16_project (Conv2D)      (None, 7, 7, 320)    307200      ['block_16_depthwise_relu[0][0]']\n",
            "                                                                                                  \n",
            " block_16_project_BN (BatchNorm  (None, 7, 7, 320)   1280        ['block_16_project[0][0]']       \n",
            " alization)                                                                                       \n",
            "                                                                                                  \n",
            " Conv_1 (Conv2D)                (None, 7, 7, 1280)   409600      ['block_16_project_BN[0][0]']    \n",
            "                                                                                                  \n",
            " Conv_1_bn (BatchNormalization)  (None, 7, 7, 1280)  5120        ['Conv_1[0][0]']                 \n",
            "                                                                                                  \n",
            " out_relu (ReLU)                (None, 7, 7, 1280)   0           ['Conv_1_bn[0][0]']              \n",
            "                                                                                                  \n",
            "==================================================================================================\n",
            "Total params: 2,257,984\n",
            "Trainable params: 2,223,872\n",
            "Non-trainable params: 34,112\n",
            "__________________________________________________________________________________________________\n"
          ]
        }
      ],
      "source": [
        "pre_trained_layers.summary()"
      ]
    },
    {
      "cell_type": "code",
      "execution_count": 21,
      "metadata": {
        "id": "MU_j6dypcPwp"
      },
      "outputs": [],
      "source": [
        "#Creating custom model\n",
        "model = keras.Sequential([\n",
        "    data_augmentation,                                                    # data augmentations\n",
        "    pre_trained_layers,                                                   # ResNet pre-trained layers\n",
        "    keras.layers.GlobalAveragePooling2D(),                                # Adding Global average Pooling 2d\n",
        "    tf.keras.layers.Dropout(0.3),\n",
        "    keras.layers.Dense(number_of_class_labels, activation='softmax', name='output')  # Final Dense Layer with 30 neurons\n",
        "])"
      ]
    },
    {
      "cell_type": "code",
      "execution_count": 22,
      "metadata": {
        "id": "41gFu9xKb0CU"
      },
      "outputs": [],
      "source": [
        "EPOCHS = 5\n",
        "LR = 1e-3\n",
        "model.compile(optimizer=keras.optimizers.Adam(learning_rate=LR),\n",
        "              loss=tf.keras.losses.SparseCategoricalCrossentropy(),\n",
        "              metrics=['accuracy'])"
      ]
    },
    {
      "cell_type": "code",
      "execution_count": 23,
      "metadata": {
        "colab": {
          "base_uri": "https://localhost:8080/"
        },
        "id": "XCFHANKAcmVS",
        "outputId": "0044c510-5d2f-427c-f150-ee5c625934dc"
      },
      "outputs": [
        {
          "output_type": "stream",
          "name": "stdout",
          "text": [
            "Model: \"sequential_1\"\n",
            "_________________________________________________________________\n",
            " Layer (type)                Output Shape              Param #   \n",
            "=================================================================\n",
            " sequential (Sequential)     (1, 224, 224, 3)          0         \n",
            "                                                                 \n",
            " mobilenetv2_1.00_224 (Funct  (None, 7, 7, 1280)       2257984   \n",
            " ional)                                                          \n",
            "                                                                 \n",
            " global_average_pooling2d (G  (1, 1280)                0         \n",
            " lobalAveragePooling2D)                                          \n",
            "                                                                 \n",
            " dropout (Dropout)           (1, 1280)                 0         \n",
            "                                                                 \n",
            " output (Dense)              (1, 10)                   12810     \n",
            "                                                                 \n",
            "=================================================================\n",
            "Total params: 2,270,794\n",
            "Trainable params: 2,236,682\n",
            "Non-trainable params: 34,112\n",
            "_________________________________________________________________\n"
          ]
        }
      ],
      "source": [
        "#printing summary of custom model\n",
        "model.build((1,224,224,3))\n",
        "model.summary()"
      ]
    },
    {
      "cell_type": "code",
      "execution_count": 24,
      "metadata": {
        "id": "AMvex2WIc1hi"
      },
      "outputs": [],
      "source": [
        "from tensorflow.keras.callbacks import ReduceLROnPlateau"
      ]
    },
    {
      "cell_type": "code",
      "execution_count": 25,
      "metadata": {
        "id": "LM1NDxA1cnxB"
      },
      "outputs": [],
      "source": [
        "# Callback -> Reduce Learning Rate on Plateau\n",
        "callback = ReduceLROnPlateau(monitor='val_loss', factor=0.1, patience=3, verbose=1, mode='auto',\n",
        "                             min_delta=0.0001, cooldown=0, min_lr=0.00001)"
      ]
    },
    {
      "cell_type": "code",
      "execution_count": 26,
      "metadata": {
        "id": "h6-FwHIUaRPh",
        "colab": {
          "base_uri": "https://localhost:8080/"
        },
        "outputId": "2e0add46-7e68-42ee-d4d6-8c82cdaa63c6"
      },
      "outputs": [
        {
          "output_type": "stream",
          "name": "stdout",
          "text": [
            "No file moved. Source empty!\n",
            "No file moved. Source empty!\n",
            "No file moved. Source empty!\n",
            "No file moved. Source empty!\n",
            "No file moved. Source empty!\n",
            "No file moved. Source empty!\n",
            "No file moved. Source empty!\n",
            "No file moved. Source empty!\n",
            "No file moved. Source empty!\n",
            "No file moved. Source empty!\n",
            "Results for fold 1\n",
            "Found 3368 files belonging to 10 classes.\n",
            "Found 843 files belonging to 10 classes.\n",
            "Epoch 1/5\n",
            "53/53 [==============================] - 977s 15s/step - loss: 0.9279 - accuracy: 0.6957 - val_loss: 11.1172 - val_accuracy: 0.2159 - lr: 0.0010\n",
            "Epoch 2/5\n",
            "53/53 [==============================] - 27s 464ms/step - loss: 0.5006 - accuracy: 0.8340 - val_loss: 12.5229 - val_accuracy: 0.2432 - lr: 0.0010\n",
            "Epoch 3/5\n",
            "53/53 [==============================] - 27s 465ms/step - loss: 0.3891 - accuracy: 0.8723 - val_loss: 13.0153 - val_accuracy: 0.2539 - lr: 0.0010\n",
            "Epoch 4/5\n",
            "53/53 [==============================] - ETA: 0s - loss: 0.3073 - accuracy: 0.9020\n",
            "Epoch 4: ReduceLROnPlateau reducing learning rate to 0.00010000000474974513.\n",
            "53/53 [==============================] - 28s 480ms/step - loss: 0.3073 - accuracy: 0.9020 - val_loss: 20.9920 - val_accuracy: 0.1981 - lr: 0.0010\n",
            "Epoch 5/5\n",
            "53/53 [==============================] - 27s 471ms/step - loss: 0.1702 - accuracy: 0.9412 - val_loss: 18.6744 - val_accuracy: 0.1874 - lr: 1.0000e-04\n",
            "14/14 [==============================] - 4s 262ms/step - loss: 18.6744 - accuracy: 0.1874\n",
            "Results for fold 2\n",
            "Found 3369 files belonging to 10 classes.\n",
            "Found 842 files belonging to 10 classes.\n",
            "Epoch 1/5\n",
            "53/53 [==============================] - 36s 610ms/step - loss: 0.1316 - accuracy: 0.9570 - val_loss: 16.0538 - val_accuracy: 0.2672 - lr: 1.0000e-04\n",
            "Epoch 2/5\n",
            "53/53 [==============================] - 27s 464ms/step - loss: 0.1100 - accuracy: 0.9638 - val_loss: 15.5021 - val_accuracy: 0.3266 - lr: 1.0000e-04\n",
            "Epoch 3/5\n",
            "53/53 [==============================] - 27s 467ms/step - loss: 0.0938 - accuracy: 0.9691 - val_loss: 15.4430 - val_accuracy: 0.3100 - lr: 1.0000e-04\n",
            "Epoch 4/5\n",
            "53/53 [==============================] - 27s 466ms/step - loss: 0.0830 - accuracy: 0.9745 - val_loss: 15.6406 - val_accuracy: 0.3029 - lr: 1.0000e-04\n",
            "Epoch 5/5\n",
            "53/53 [==============================] - 28s 482ms/step - loss: 0.0736 - accuracy: 0.9745 - val_loss: 15.7028 - val_accuracy: 0.2791 - lr: 1.0000e-04\n",
            "14/14 [==============================] - 4s 269ms/step - loss: 15.7028 - accuracy: 0.2791\n",
            "Results for fold 3\n",
            "Found 3369 files belonging to 10 classes.\n",
            "Found 842 files belonging to 10 classes.\n",
            "Epoch 1/5\n",
            "53/53 [==============================] - 33s 574ms/step - loss: 0.0761 - accuracy: 0.9748 - val_loss: 16.1887 - val_accuracy: 0.2898 - lr: 1.0000e-04\n",
            "Epoch 2/5\n",
            "53/53 [==============================] - 27s 469ms/step - loss: 0.0670 - accuracy: 0.9786 - val_loss: 16.1322 - val_accuracy: 0.2660 - lr: 1.0000e-04\n",
            "Epoch 3/5\n",
            "53/53 [==============================] - 28s 484ms/step - loss: 0.0572 - accuracy: 0.9822 - val_loss: 12.5918 - val_accuracy: 0.3480 - lr: 1.0000e-04\n",
            "Epoch 4/5\n",
            "53/53 [==============================] - 33s 577ms/step - loss: 0.0718 - accuracy: 0.9742 - val_loss: 12.1001 - val_accuracy: 0.3551 - lr: 1.0000e-04\n",
            "Epoch 5/5\n",
            "53/53 [==============================] - 29s 503ms/step - loss: 0.0518 - accuracy: 0.9843 - val_loss: 10.3564 - val_accuracy: 0.3895 - lr: 1.0000e-04\n",
            "14/14 [==============================] - 4s 310ms/step - loss: 10.3564 - accuracy: 0.3895\n",
            "Results for fold 4\n",
            "Found 3369 files belonging to 10 classes.\n",
            "Found 842 files belonging to 10 classes.\n",
            "Epoch 1/5\n",
            "53/53 [==============================] - 28s 482ms/step - loss: 0.0516 - accuracy: 0.9831 - val_loss: 10.2247 - val_accuracy: 0.3824 - lr: 1.0000e-04\n",
            "Epoch 2/5\n",
            "53/53 [==============================] - 29s 508ms/step - loss: 0.0536 - accuracy: 0.9846 - val_loss: 9.2713 - val_accuracy: 0.4252 - lr: 1.0000e-04\n",
            "Epoch 3/5\n",
            "53/53 [==============================] - 27s 474ms/step - loss: 0.0414 - accuracy: 0.9858 - val_loss: 9.4484 - val_accuracy: 0.3919 - lr: 1.0000e-04\n",
            "Epoch 4/5\n",
            "53/53 [==============================] - 28s 484ms/step - loss: 0.0384 - accuracy: 0.9881 - val_loss: 8.2069 - val_accuracy: 0.4549 - lr: 1.0000e-04\n",
            "Epoch 5/5\n",
            "53/53 [==============================] - 28s 489ms/step - loss: 0.0331 - accuracy: 0.9878 - val_loss: 7.7262 - val_accuracy: 0.4929 - lr: 1.0000e-04\n",
            "14/14 [==============================] - 4s 283ms/step - loss: 7.7262 - accuracy: 0.4929\n",
            "Results for fold 5\n",
            "Found 3369 files belonging to 10 classes.\n",
            "Found 842 files belonging to 10 classes.\n",
            "Epoch 1/5\n",
            "53/53 [==============================] - 28s 475ms/step - loss: 0.0448 - accuracy: 0.9837 - val_loss: 7.1627 - val_accuracy: 0.4976 - lr: 1.0000e-04\n",
            "Epoch 2/5\n",
            "53/53 [==============================] - 29s 492ms/step - loss: 0.0384 - accuracy: 0.9866 - val_loss: 7.1138 - val_accuracy: 0.4751 - lr: 1.0000e-04\n",
            "Epoch 3/5\n",
            "53/53 [==============================] - 29s 484ms/step - loss: 0.0345 - accuracy: 0.9890 - val_loss: 6.6837 - val_accuracy: 0.5261 - lr: 1.0000e-04\n",
            "Epoch 4/5\n",
            "53/53 [==============================] - 27s 460ms/step - loss: 0.0375 - accuracy: 0.9878 - val_loss: 7.0384 - val_accuracy: 0.4846 - lr: 1.0000e-04\n",
            "Epoch 5/5\n",
            "53/53 [==============================] - 28s 461ms/step - loss: 0.0340 - accuracy: 0.9881 - val_loss: 5.2310 - val_accuracy: 0.5451 - lr: 1.0000e-04\n",
            "14/14 [==============================] - 6s 427ms/step - loss: 5.2310 - accuracy: 0.5451\n"
          ]
        }
      ],
      "source": [
        "skf = StratifiedKFold(n_splits=5, shuffle=True)\n",
        "skf.get_n_splits(X, Y)\n",
        "fold_num = 0\n",
        "for train_index, val_index in skf.split(X, Y):\n",
        "    # First cut all images from validation to train (if any exists)\n",
        "    transferAllClassBetweenFolders('validation', 'train', 1.0)\n",
        "    fold_num += 1\n",
        "    print(\"Results for fold\", fold_num)\n",
        "    X_train, X_val = X[train_index], X[val_index]\n",
        "    Y_train, Y_val = Y[train_index], Y[val_index]\n",
        "    # Move validation images of this fold from train folder to the validation folder\n",
        "    for each_index in range(len(X_val)):\n",
        "        class_label = ''\n",
        "        for i in range(len(classLabels)):\n",
        "            if(Y_val[each_index] == i):\n",
        "                class_label = classLabels[i]\n",
        "        # Then, copy the validation images to the validation folder\n",
        "        shutil.move(os.path.join(datasetFolderName, 'train', class_label, X_val[each_index]),\n",
        "                    os.path.join(datasetFolderName, 'validation', class_label, X_val[each_index]))\n",
        "\n",
        "\n",
        "\n",
        "    # Start ImageClassification Model\n",
        "    #creating train data set\n",
        "\n",
        "    train_generator = tf.keras.utils.image_dataset_from_directory(\n",
        "        train_path,\n",
        "        image_size=(IMG_SIZE[0], IMG_SIZE[1]),\n",
        "        batch_size=batch_size,\n",
        "        )\n",
        "\n",
        "    validation_generator = tf.keras.utils.image_dataset_from_directory(\n",
        "        validation_path,\n",
        "        image_size=(IMG_SIZE[0], IMG_SIZE[1]),\n",
        "        batch_size=batch_size,\n",
        "\n",
        "          # only data, no labels\n",
        "        shuffle=False\n",
        "        )\n",
        "\n",
        "    history = model.fit(train_generator, epochs=EPOCHS, validation_data=validation_generator, callbacks=callback)\n",
        "    model.evaluate(validation_generator)"
      ]
    },
    {
      "cell_type": "code",
      "execution_count": 27,
      "metadata": {
        "id": "jJurHyH7k6Ny"
      },
      "outputs": [],
      "source": [
        "from sklearn.metrics import classification_report, roc_curve, roc_auc_score\n",
        "import pandas as pd\n",
        "import plotly.graph_objects as go\n",
        "import plotly.express as px\n",
        "import matplotlib.pyplot as plt"
      ]
    },
    {
      "cell_type": "code",
      "execution_count": 28,
      "metadata": {
        "id": "TOQlD_ZTko2y",
        "colab": {
          "base_uri": "https://localhost:8080/",
          "height": 457
        },
        "outputId": "16837e45-091d-4b56-fc8c-aed106664229"
      },
      "outputs": [
        {
          "output_type": "display_data",
          "data": {
            "text/plain": [
              "<Figure size 640x480 with 1 Axes>"
            ],
            "image/png": "[encoded data removed]"
          },
          "metadata": {}
        }
      ],
      "source": [
        "plt.title(\"Loss\", fontdict={'fontsize':18})\n",
        "plt.plot(history.history['loss'],label='train')\n",
        "plt.plot(history.history['val_loss'],label='validation')\n",
        "plt.legend()\n",
        "plt.show()"
      ]
    },
    {
      "cell_type": "code",
      "execution_count": 29,
      "metadata": {
        "id": "7pwYMz2Bkyt5",
        "colab": {
          "base_uri": "https://localhost:8080/",
          "height": 457
        },
        "outputId": "c92e964c-42cf-45d2-8a23-1e9f4191c9ce"
      },
      "outputs": [
        {
          "output_type": "display_data",
          "data": {
            "text/plain": [
              "<Figure size 640x480 with 1 Axes>"
            ],
            "image/png": "[encoded data removed]"
          },
          "metadata": {}
        }
      ],
      "source": [
        "plt.title(\"Accuracy\", fontdict={'fontsize':18})\n",
        "plt.plot(history.history['accuracy'],label='train')\n",
        "plt.plot(history.history['val_accuracy'],label='validation')\n",
        "plt.legend()\n",
        "plt.show()"
      ]
    },
    {
      "cell_type": "code",
      "execution_count": 30,
      "metadata": {
        "id": "93F3DoWUk7Oa"
      },
      "outputs": [],
      "source": [
        "Y_train = []\n",
        "X_train = []\n",
        "for data in train_generator:\n",
        "    X_train.extend(data[0].numpy())\n",
        "    Y_train.extend(data[1].numpy())\n",
        "Y_train = np.array(Y_train)\n",
        "X_train = np.array(X_train)"
      ]
    },
    {
      "cell_type": "code",
      "execution_count": 31,
      "metadata": {
        "id": "IAbUM7JblMA6",
        "colab": {
          "base_uri": "https://localhost:8080/"
        },
        "outputId": "a7f115e4-292d-4469-f76e-34e84b8b27d4"
      },
      "outputs": [
        {
          "output_type": "stream",
          "name": "stdout",
          "text": [
            "106/106 [==============================] - 7s 44ms/step\n"
          ]
        }
      ],
      "source": [
        "y_train_pred_prob = model.predict(X_train)\n",
        "y_train_pred = [np.argmax(i) for i in y_train_pred_prob]"
      ]
    },
    {
      "cell_type": "code",
      "execution_count": 32,
      "metadata": {
        "id": "ubgm_cWxlUrD",
        "colab": {
          "base_uri": "https://localhost:8080/"
        },
        "outputId": "07e513b4-87e1-4306-bfc6-9a78899532b2"
      },
      "outputs": [
        {
          "output_type": "execute_result",
          "data": {
            "text/plain": [
              "(3369, 10)"
            ]
          },
          "metadata": {},
          "execution_count": 32
        }
      ],
      "source": [
        "y_train_pred_prob.shape"
      ]
    },
    {
      "cell_type": "code",
      "execution_count": 33,
      "metadata": {
        "id": "A5Ywk5jrlVYi"
      },
      "outputs": [],
      "source": [
        "#function to plot roc-auc curve\n",
        "def roc_auc_curve(y_scores, y_true):\n",
        "    # One hot encode the labels in order to plot them\n",
        "    y_onehot = pd.get_dummies(y_true, columns=classLabels)\n",
        "\n",
        "    # Create an empty figure, and iteratively add new lines\n",
        "    # every time we compute a new class\n",
        "    fig = go.Figure()\n",
        "    fig.add_shape(\n",
        "        type='line', line=dict(dash='dash'),\n",
        "        x0=0, x1=1, y0=0, y1=1\n",
        "    )\n",
        "\n",
        "    for i in range(y_scores.shape[1]):\n",
        "        y_true = y_onehot.iloc[:, i]\n",
        "        y_score = y_scores[:, i]\n",
        "\n",
        "        fpr, tpr, _ = roc_curve(y_true, y_score)\n",
        "        auc_score = roc_auc_score(y_true, y_score)\n",
        "\n",
        "        name = f\"{classLabels[i]} (AUC={auc_score:.2f})\"\n",
        "        fig.add_trace(go.Scatter(x=fpr, y=tpr, name=name, mode='lines'))\n",
        "\n",
        "    fig.update_layout(\n",
        "        title=\"ROC Curve\",\n",
        "        xaxis_title='False Positive Rate',\n",
        "        yaxis_title='True Positive Rate',\n",
        "        yaxis=dict(scaleanchor=\"x\", scaleratio=1),\n",
        "        xaxis=dict(constrain='domain'),\n",
        "        width=900, height=800\n",
        "    )\n",
        "\n",
        "    return fig"
      ]
    },
    {
      "cell_type": "code",
      "execution_count": 34,
      "metadata": {
        "id": "YlYX57A4lj1J"
      },
      "outputs": [],
      "source": [
        "import seaborn as sb"
      ]
    },
    {
      "cell_type": "code",
      "execution_count": 35,
      "metadata": {
        "id": "sZZQfWeDl9wq",
        "colab": {
          "base_uri": "https://localhost:8080/",
          "height": 367
        },
        "outputId": "20df58ff-f219-46b3-aa9d-0364da3734c0"
      },
      "outputs": [
        {
          "output_type": "display_data",
          "data": {
            "text/plain": [
              "<Figure size 2500x700 with 2 Axes>"
            ],
            "image/png": "[encoded data removed]"
          },
          "metadata": {}
        }
      ],
      "source": [
        "plt.figure(figsize=(25,7))\n",
        "sb.heatmap(tf.math.confusion_matrix(labels=Y_train,predictions=y_train_pred),annot=True,fmt='.1f', cmap='hot_r')\n",
        "plt.xlabel('Predicted Values')\n",
        "plt.ylabel('Actual Values')\n",
        "plt.title('Confusion Matrix (Training)')\n",
        "plt.tight_layout()\n",
        "plt.show()"
      ]
    },
    {
      "cell_type": "code",
      "execution_count": 36,
      "metadata": {
        "id": "iLpnqOcGmEks",
        "colab": {
          "base_uri": "https://localhost:8080/"
        },
        "outputId": "9bb5be5f-d84f-467d-dae2-9fafd1e41ab0"
      },
      "outputs": [
        {
          "output_type": "stream",
          "name": "stdout",
          "text": [
            "Classification Report for Training\n",
            "              precision    recall  f1-score   support\n",
            "\n",
            "           0       0.88      0.72      0.79       320\n",
            "           1       0.71      0.41      0.52       224\n",
            "           2       0.85      0.35      0.49       347\n",
            "           3       1.00      0.00      0.01       320\n",
            "           4       0.56      0.88      0.68       313\n",
            "           5       0.27      0.98      0.42       408\n",
            "           6       1.00      0.00      0.01       220\n",
            "           7       1.00      0.20      0.34       320\n",
            "           8       1.00      0.47      0.64       410\n",
            "           9       0.78      0.96      0.86       487\n",
            "\n",
            "    accuracy                           0.55      3369\n",
            "   macro avg       0.80      0.50      0.48      3369\n",
            "weighted avg       0.79      0.55      0.51      3369\n",
            "\n"
          ]
        }
      ],
      "source": [
        "print(\"Classification Report for Training\")\n",
        "print(classification_report(Y_train, y_train_pred))"
      ]
    },
    {
      "cell_type": "code",
      "execution_count": 37,
      "metadata": {
        "id": "mu3MhzQnmKR5",
        "colab": {
          "base_uri": "https://localhost:8080/"
        },
        "outputId": "06679bf3-5a55-4295-e903-dd9d42d972d8"
      },
      "outputs": [
        {
          "output_type": "stream",
          "name": "stdout",
          "text": [
            "Found 1051 files belonging to 10 classes.\n"
          ]
        }
      ],
      "source": [
        "roc_auc_curve(y_train_pred_prob, Y_train)\n",
        "X_test = []\n",
        "y_test = []\n",
        "test_generator = tf.keras.utils.image_dataset_from_directory(\n",
        "        test_path,\n",
        "        image_size=(IMG_SIZE[0], IMG_SIZE[1]),\n",
        "        batch_size=batch_size,\n",
        "\n",
        "          # only data, no labels\n",
        "        #shuffle=False\n",
        "        )\n",
        "for data in test_generator:\n",
        "    X_test.extend(data[0].numpy())\n",
        "    y_test.extend(data[1].numpy())\n",
        "X_test = np.array(X_test)\n",
        "y_test = np.array(y_test)"
      ]
    },
    {
      "cell_type": "code",
      "execution_count": 38,
      "metadata": {
        "id": "peCIJs3KmT5a",
        "colab": {
          "base_uri": "https://localhost:8080/"
        },
        "outputId": "15694e6c-d8c1-4a94-82b4-5502751c6332"
      },
      "outputs": [
        {
          "output_type": "stream",
          "name": "stdout",
          "text": [
            "33/33 [==============================] - 2s 59ms/step\n"
          ]
        }
      ],
      "source": [
        "y_test_pred_prob = model.predict(X_test)\n",
        "y_test_pred = [np.argmax(i) for i in y_test_pred_prob]"
      ]
    },
    {
      "cell_type": "code",
      "execution_count": 39,
      "metadata": {
        "id": "an7a0Ymplmh5",
        "colab": {
          "base_uri": "https://localhost:8080/"
        },
        "outputId": "783cf0c8-00e9-4ff1-f221-3e6cf7b6c6a5"
      },
      "outputs": [
        {
          "output_type": "execute_result",
          "data": {
            "text/plain": [
              "array([0, 1, 2, 3, 4, 5, 6, 7, 8, 9], dtype=int32)"
            ]
          },
          "metadata": {},
          "execution_count": 39
        }
      ],
      "source": [
        "np.unique(y_test)"
      ]
    },
    {
      "cell_type": "code",
      "execution_count": 40,
      "metadata": {
        "id": "AxCwvhHVk-vY",
        "colab": {
          "base_uri": "https://localhost:8080/",
          "height": 367
        },
        "outputId": "204f7aa0-ff57-4ede-aa26-33569100c861"
      },
      "outputs": [
        {
          "output_type": "display_data",
          "data": {
            "text/plain": [
              "<Figure size 2500x700 with 2 Axes>"
            ],
            "image/png": "[encoded data removed]"
          },
          "metadata": {}
        }
      ],
      "source": [
        "plt.figure(figsize=(25,7))\n",
        "sb.heatmap(tf.math.confusion_matrix(labels=y_test,predictions=y_test_pred),annot=True,fmt='.1f', cmap='hot_r')\n",
        "plt.xlabel('Predicted Values')\n",
        "plt.ylabel('Actual Values')\n",
        "plt.title('Confusion Matrix')\n",
        "plt.tight_layout()\n",
        "plt.show()"
      ]
    },
    {
      "cell_type": "code",
      "execution_count": 41,
      "metadata": {
        "id": "LFm0u6zSmaGj",
        "colab": {
          "base_uri": "https://localhost:8080/"
        },
        "outputId": "98345d95-a975-42d8-e16f-9195b79517dd"
      },
      "outputs": [
        {
          "output_type": "stream",
          "name": "stdout",
          "text": [
            "Classification Report for Test\n",
            "              precision    recall  f1-score   support\n",
            "\n",
            "           0       0.85      0.73      0.78       100\n",
            "           1       0.68      0.40      0.50        70\n",
            "           2       0.91      0.39      0.55       108\n",
            "           3       0.00      0.00      0.00       100\n",
            "           4       0.57      0.89      0.69        97\n",
            "           5       0.28      1.00      0.44       127\n",
            "           6       0.00      0.00      0.00        69\n",
            "           7       1.00      0.27      0.43       100\n",
            "           8       1.00      0.48      0.65       128\n",
            "           9       0.81      0.97      0.88       152\n",
            "\n",
            "    accuracy                           0.56      1051\n",
            "   macro avg       0.61      0.51      0.49      1051\n",
            "weighted avg       0.64      0.56      0.53      1051\n",
            "\n"
          ]
        },
        {
          "output_type": "stream",
          "name": "stderr",
          "text": [
            "/usr/local/lib/python3.10/dist-packages/sklearn/metrics/_classification.py:1344: UndefinedMetricWarning:\n",
            "\n",
            "Precision and F-score are ill-defined and being set to 0.0 in labels with no predicted samples. Use `zero_division` parameter to control this behavior.\n",
            "\n",
            "/usr/local/lib/python3.10/dist-packages/sklearn/metrics/_classification.py:1344: UndefinedMetricWarning:\n",
            "\n",
            "Precision and F-score are ill-defined and being set to 0.0 in labels with no predicted samples. Use `zero_division` parameter to control this behavior.\n",
            "\n",
            "/usr/local/lib/python3.10/dist-packages/sklearn/metrics/_classification.py:1344: UndefinedMetricWarning:\n",
            "\n",
            "Precision and F-score are ill-defined and being set to 0.0 in labels with no predicted samples. Use `zero_division` parameter to control this behavior.\n",
            "\n"
          ]
        }
      ],
      "source": [
        "print(\"Classification Report for Test\")\n",
        "print(classification_report(y_test, y_test_pred))"
      ]
    },
    {
      "cell_type": "code",
      "execution_count": 42,
      "metadata": {
        "id": "LGL2Ta5xmf5r",
        "colab": {
          "base_uri": "https://localhost:8080/",
          "height": 817
        },
        "outputId": "7a601d1c-d6c5-4577-8362-607966cbec82"
      },
      "outputs": [
        {
          "output_type": "display_data",
          "data": {
            "text/html": [
              "<html>\n",
              "<head><meta charset=\"utf-8\" /></head>\n",
              "<body>\n",
              "    <div>            <script src=\"https://cdnjs.cloudflare.com/ajax/libs/mathjax/2.7.5/MathJax.js?config=TeX-AMS-MML_SVG\"></script><script type=\"text/javascript\">if (window.MathJax && window.MathJax.Hub && window.MathJax.Hub.Config) {window.MathJax.Hub.Config({SVG: {font: \"STIX-Web\"}});}</script>                <script type=\"text/javascript\">window.PlotlyConfig = {MathJaxConfig: 'local'};</script>\n",
              "        <script charset=\"utf-8\" src=\"https://cdn.plot.ly/plotly-2.24.1.min.js\"></script>                <div id=\"9f097123-3dbe-4766-9b82-665c0a801773\" class=\"plotly-graph-div\" style=\"height:800px; width:900px;\"></div>            <script type=\"text/javascript\">                                    window.PLOTLYENV=window.PLOTLYENV || {};                                    if (document.getElementById(\"9f097123-3dbe-4766-9b82-665c0a801773\")) {                    Plotly.newPlot(                        \"9f097123-3dbe-4766-9b82-665c0a801773\",                        [{\"mode\":\"lines\",\"name\":\"01 ChiangMai60 (AUC=0.94)\",\"x\":[0.0,0.0,0.0,0.0,0.0,0.0010515247108307045,0.0010515247108307045,0.002103049421661409,0.002103049421661409,0.0031545741324921135,0.0031545741324921135,0.005257623554153523,0.005257623554153523,0.006309148264984227,0.006309148264984227,0.007360672975814932,0.007360672975814932,0.010515247108307046,0.010515247108307046,0.012618296529968454,0.012618296529968454,0.013669821240799159,0.013669821240799159,0.014721345951629864,0.014721345951629864,0.01892744479495268,0.01892744479495268,0.019978969505783387,0.019978969505783387,0.028391167192429023,0.028391167192429023,0.04942166140904311,0.04942166140904311,0.052576235541535225,0.052576235541535225,0.05993690851735016,0.05993690851735016,0.0683491062039958,0.0683491062039958,0.07045215562565721,0.07045215562565721,0.08622502628811778,0.08622502628811778,0.09884332281808622,0.09884332281808622,0.11461619348054679,0.11461619348054679,0.12933753943217666,0.12933753943217666,0.17560462670872765,0.17560462670872765,0.2565720294426919,0.2565720294426919,0.26919032597266035,0.26919032597266035,0.29863301787592006,0.29863301787592006,0.33648790746582546,0.33648790746582546,0.3449001051524711,0.3449001051524711,0.42797055730809674,0.42797055730809674,0.5825446898002103,0.5825446898002103,0.7528916929547844,0.7528916929547844,0.8569926393270242,0.8569926393270242,0.9400630914826499,0.9400630914826499,1.0],\"y\":[0.0,0.02,0.03,0.05,0.46,0.46,0.47,0.47,0.56,0.56,0.57,0.57,0.59,0.59,0.64,0.64,0.69,0.69,0.72,0.72,0.73,0.73,0.74,0.74,0.77,0.77,0.78,0.78,0.79,0.79,0.8,0.8,0.81,0.81,0.82,0.82,0.83,0.83,0.84,0.84,0.85,0.85,0.86,0.86,0.87,0.87,0.88,0.88,0.89,0.89,0.9,0.9,0.91,0.91,0.92,0.92,0.93,0.93,0.94,0.94,0.95,0.95,0.96,0.96,0.97,0.97,0.98,0.98,0.99,0.99,1.0,1.0],\"type\":\"scatter\"},{\"mode\":\"lines\",\"name\":\"02 RedKing (AUC=0.85)\",\"x\":[0.0,0.0,0.0,0.0010193679918450561,0.0010193679918450561,0.0020387359836901123,0.0020387359836901123,0.0030581039755351682,0.0030581039755351682,0.004077471967380225,0.004077471967380225,0.0050968399592252805,0.0050968399592252805,0.0061162079510703364,0.0061162079510703364,0.007135575942915392,0.007135575942915392,0.010193679918450561,0.010193679918450561,0.012232415902140673,0.012232415902140673,0.014271151885830785,0.014271151885830785,0.01529051987767584,0.01529051987767584,0.024464831804281346,0.024464831804281346,0.029561671763506627,0.029561671763506627,0.03058103975535168,0.03058103975535168,0.03160040774719674,0.03160040774719674,0.03363914373088685,0.03363914373088685,0.040774719673802244,0.040774719673802244,0.045871559633027525,0.045871559633027525,0.047910295616717634,0.047910295616717634,0.0744138634046891,0.0744138634046891,0.07849133537206932,0.07849133537206932,0.09785932721712538,0.09785932721712538,0.11722731906218145,0.11722731906218145,0.1651376146788991,0.1651376146788991,0.21406727828746178,0.21406727828746178,0.22426095820591233,0.22426095820591233,0.24260958205912334,0.24260958205912334,0.2945973496432212,0.2945973496432212,0.35881753312945974,0.35881753312945974,0.3730886850152905,0.3730886850152905,0.3781855249745158,0.3781855249745158,0.43119266055045874,0.43119266055045874,0.4872579001019368,0.4872579001019368,0.5147808358817533,0.5147808358817533,0.5667686034658511,0.5667686034658511,0.6615698267074414,0.6615698267074414,0.6941896024464832,0.6941896024464832,0.7054026503567788,0.7054026503567788,0.8481141692150866,0.8481141692150866,0.8746177370030581,0.8746177370030581,0.890927624872579,0.890927624872579,1.0],\"y\":[0.0,0.014285714285714285,0.21428571428571427,0.21428571428571427,0.22857142857142856,0.22857142857142856,0.2571428571428571,0.2571428571428571,0.2714285714285714,0.2714285714285714,0.3142857142857143,0.3142857142857143,0.32857142857142857,0.32857142857142857,0.37142857142857144,0.37142857142857144,0.38571428571428573,0.38571428571428573,0.4,0.4,0.4142857142857143,0.4142857142857143,0.5,0.5,0.5142857142857142,0.5142857142857142,0.5285714285714286,0.5285714285714286,0.5428571428571428,0.5428571428571428,0.5571428571428572,0.5571428571428572,0.6,0.6,0.6142857142857143,0.6142857142857143,0.6428571428571429,0.6428571428571429,0.6571428571428571,0.6571428571428571,0.6714285714285714,0.6714285714285714,0.6857142857142857,0.6857142857142857,0.7,0.7,0.7142857142857143,0.7142857142857143,0.7285714285714285,0.7285714285714285,0.7428571428571429,0.7428571428571429,0.7571428571428571,0.7571428571428571,0.7714285714285715,0.7714285714285715,0.7857142857142857,0.7857142857142857,0.8,0.8,0.8142857142857143,0.8142857142857143,0.8285714285714286,0.8285714285714286,0.8428571428571429,0.8428571428571429,0.8571428571428571,0.8571428571428571,0.8714285714285714,0.8714285714285714,0.9,0.9,0.9142857142857143,0.9142857142857143,0.9285714285714286,0.9285714285714286,0.9428571428571428,0.9428571428571428,0.9571428571428572,0.9571428571428572,0.9714285714285714,0.9714285714285714,0.9857142857142858,0.9857142857142858,1.0,1.0],\"type\":\"scatter\"},{\"mode\":\"lines\",\"name\":\"03 WhiteKing (AUC=0.85)\",\"x\":[0.0,0.0,0.0,0.0010604453870625664,0.0010604453870625664,0.0021208907741251328,0.0021208907741251328,0.003181336161187699,0.003181336161187699,0.0042417815482502655,0.0042417815482502655,0.005302226935312832,0.005302226935312832,0.007423117709437964,0.007423117709437964,0.008483563096500531,0.008483563096500531,0.012725344644750796,0.012725344644750796,0.014846235418875928,0.014846235418875928,0.018027571580063628,0.018027571580063628,0.019088016967126194,0.019088016967126194,0.022269353128313893,0.022269353128313893,0.02545068928950159,0.02545068928950159,0.02863202545068929,0.02863202545068929,0.029692470837751856,0.029692470837751856,0.04665959703075292,0.04665959703075292,0.04772004241781548,0.04772004241781548,0.04984093319194061,0.04984093319194061,0.05090137857900318,0.05090137857900318,0.053022269353128315,0.053022269353128315,0.05514316012725345,0.05514316012725345,0.05726405090137858,0.05726405090137858,0.060445387062566275,0.060445387062566275,0.06362672322375397,0.06362672322375397,0.06786850477200425,0.06786850477200425,0.07635206786850478,0.07635206786850478,0.08271474019088017,0.08271474019088017,0.088016967126193,0.088016967126193,0.09968186638388123,0.09968186638388123,0.10286320254506894,0.10286320254506894,0.13891834570519618,0.13891834570519618,0.15906680805938495,0.15906680805938495,0.16755037115588547,0.16755037115588547,0.17709437963944857,0.17709437963944857,0.18027571580063625,0.18027571580063625,0.2067868504772004,0.2067868504772004,0.2110286320254507,0.2110286320254507,0.21845174973488865,0.21845174973488865,0.23647932131495228,0.23647932131495228,0.24284199363732767,0.24284199363732767,0.2651113467656416,0.2651113467656416,0.27465535524920465,0.27465535524920465,0.2767762460233298,0.2767762460233298,0.32873806998939553,0.32873806998939553,0.34782608695652173,0.34782608695652173,0.35949098621421,0.35949098621421,0.3743372216330859,0.3743372216330859,0.39766702014846234,0.39766702014846234,0.46553552492046657,0.46553552492046657,0.4687168610816543,0.4687168610816543,0.4909862142099682,0.4909862142099682,0.5068928950159067,0.5068928950159067,0.5090137857900318,0.5090137857900318,0.5153764581124072,0.5153764581124072,0.5493107104984093,0.5493107104984093,0.559915164369035,0.559915164369035,0.5715800636267232,0.5715800636267232,0.6086956521739131,0.6086956521739131,0.6564156945917285,0.6564156945917285,0.6755037115588547,0.6755037115588547,0.694591728525981,0.694591728525981,0.7401908801696713,0.7401908801696713,0.8186638388123012,0.8186638388123012,0.8579003181336161,0.8579003181336161,0.8632025450689289,0.8632025450689289,1.0],\"y\":[0.0,0.009259259259259259,0.12037037037037036,0.12037037037037036,0.25925925925925924,0.25925925925925924,0.26851851851851855,0.26851851851851855,0.32407407407407407,0.32407407407407407,0.37037037037037035,0.37037037037037035,0.39814814814814814,0.39814814814814814,0.4074074074074074,0.4074074074074074,0.4166666666666667,0.4166666666666667,0.42592592592592593,0.42592592592592593,0.4351851851851852,0.4351851851851852,0.4444444444444444,0.4444444444444444,0.4537037037037037,0.4537037037037037,0.46296296296296297,0.46296296296296297,0.48148148148148145,0.48148148148148145,0.49074074074074076,0.49074074074074076,0.5185185185185185,0.5185185185185185,0.5277777777777778,0.5277777777777778,0.5370370370370371,0.5370370370370371,0.5462962962962963,0.5462962962962963,0.5648148148148148,0.5648148148148148,0.5740740740740741,0.5740740740740741,0.5833333333333334,0.5833333333333334,0.6018518518518519,0.6018518518518519,0.6111111111111112,0.6111111111111112,0.6203703703703703,0.6203703703703703,0.6296296296296297,0.6296296296296297,0.6388888888888888,0.6388888888888888,0.6481481481481481,0.6481481481481481,0.6574074074074074,0.6574074074074074,0.6666666666666666,0.6666666666666666,0.6759259259259259,0.6759259259259259,0.6851851851851852,0.6851851851851852,0.6944444444444444,0.6944444444444444,0.7037037037037037,0.7037037037037037,0.7129629629629629,0.7129629629629629,0.7222222222222222,0.7222222222222222,0.7314814814814815,0.7314814814814815,0.7407407407407407,0.7407407407407407,0.75,0.75,0.7592592592592593,0.7592592592592593,0.7685185185185185,0.7685185185185185,0.7777777777777778,0.7777777777777778,0.7870370370370371,0.7870370370370371,0.7962962962962963,0.7962962962962963,0.8055555555555556,0.8055555555555556,0.8148148148148148,0.8148148148148148,0.8240740740740741,0.8240740740740741,0.8333333333333334,0.8333333333333334,0.8425925925925926,0.8425925925925926,0.8518518518518519,0.8518518518518519,0.8611111111111112,0.8611111111111112,0.8703703703703703,0.8703703703703703,0.8796296296296297,0.8796296296296297,0.8888888888888888,0.8888888888888888,0.8981481481481481,0.8981481481481481,0.9074074074074074,0.9074074074074074,0.9166666666666666,0.9166666666666666,0.9259259259259259,0.9259259259259259,0.9351851851851852,0.9351851851851852,0.9444444444444444,0.9444444444444444,0.9537037037037037,0.9537037037037037,0.9629629629629629,0.9629629629629629,0.9722222222222222,0.9722222222222222,0.9814814814814815,0.9814814814814815,0.9907407407407407,0.9907407407407407,1.0,1.0],\"type\":\"scatter\"},{\"mode\":\"lines\",\"name\":\"04 BlackOodTurkey (AUC=0.73)\",\"x\":[0.0,0.0,0.0,0.0010515247108307045,0.0010515247108307045,0.0031545741324921135,0.0031545741324921135,0.004206098843322818,0.004206098843322818,0.008412197686645636,0.008412197686645636,0.010515247108307046,0.010515247108307046,0.012618296529968454,0.012618296529968454,0.022082018927444796,0.022082018927444796,0.026288117770767613,0.026288117770767613,0.028391167192429023,0.028391167192429023,0.03259726603575184,0.03259726603575184,0.033648790746582544,0.033648790746582544,0.03785488958990536,0.03785488958990536,0.04100946372239748,0.04100946372239748,0.052576235541535225,0.052576235541535225,0.06309148264984227,0.06309148264984227,0.07991587802313355,0.07991587802313355,0.08201892744479496,0.08201892744479496,0.0946372239747634,0.0946372239747634,0.09674027339642481,0.09674027339642481,0.10410094637223975,0.10410094637223975,0.12092534174553102,0.12092534174553102,0.12197686645636173,0.12197686645636173,0.12302839116719243,0.12302839116719243,0.15562565720294427,0.15562565720294427,0.15772870662460567,0.15772870662460567,0.19242902208201892,0.19242902208201892,0.19558359621451105,0.19558359621451105,0.19873817034700317,0.19873817034700317,0.20399579390115669,0.20399579390115669,0.20715036803364878,0.20715036803364878,0.21766561514195584,0.21766561514195584,0.21976866456361724,0.21976866456361724,0.22712933753943218,0.22712933753943218,0.24815983175604628,0.24815983175604628,0.2912723449001052,0.2912723449001052,0.3028391167192429,0.3028391167192429,0.3070452155625657,0.3070452155625657,0.3175604626708728,0.3175604626708728,0.3512092534174553,0.3512092534174553,0.35751840168243953,0.35751840168243953,0.3627760252365931,0.3627760252365931,0.3785488958990536,0.3785488958990536,0.38696109358569925,0.38696109358569925,0.3943217665615142,0.3943217665615142,0.39852786540483703,0.39852786540483703,0.40168243953732913,0.40168243953732913,0.4027339642481598,0.4027339642481598,0.42691903259726605,0.42691903259726605,0.4384858044164038,0.4384858044164038,0.4395373291272345,0.4395373291272345,0.47108307045215564,0.47108307045215564,0.480546792849632,0.480546792849632,0.5404837013669821,0.5404837013669821,0.5436382754994742,0.5436382754994742,0.573080967402734,0.573080967402734,0.5825446898002103,0.5825446898002103,0.5951629863301787,0.5951629863301787,0.6004206098843323,0.6004206098843323,0.6025236593059937,0.6025236593059937,0.6666666666666666,0.6666666666666666,0.6677181913774973,0.6677181913774973,0.6740273396424816,0.6740273396424816,0.68664563617245,0.68664563617245,0.6929547844374343,0.6929547844374343,0.6961093585699264,0.6961093585699264,0.7160883280757098,0.7160883280757098,0.7202944269190326,0.7202944269190326,0.7276550998948476,0.7276550998948476,0.7423764458464774,0.7423764458464774,0.7444794952681388,0.7444794952681388,0.7581493165089379,0.7581493165089379,0.807570977917981,0.807570977917981,0.8454258675078864,0.8454258675078864,0.8706624605678234,0.8706624605678234,1.0],\"y\":[0.0,0.01,0.1,0.1,0.13,0.13,0.18,0.18,0.22,0.22,0.23,0.23,0.25,0.25,0.26,0.26,0.27,0.27,0.29,0.29,0.31,0.31,0.32,0.32,0.33,0.33,0.34,0.34,0.35,0.35,0.36,0.36,0.37,0.37,0.38,0.38,0.39,0.39,0.4,0.4,0.41,0.41,0.42,0.42,0.43,0.43,0.44,0.44,0.45,0.45,0.46,0.46,0.47,0.47,0.48,0.48,0.49,0.49,0.5,0.5,0.51,0.51,0.52,0.52,0.53,0.53,0.54,0.54,0.55,0.55,0.56,0.56,0.57,0.57,0.59,0.59,0.6,0.6,0.61,0.61,0.62,0.62,0.63,0.63,0.65,0.65,0.66,0.66,0.67,0.67,0.68,0.68,0.7,0.7,0.71,0.71,0.72,0.72,0.73,0.73,0.74,0.74,0.75,0.75,0.76,0.76,0.77,0.77,0.78,0.78,0.79,0.79,0.8,0.8,0.81,0.81,0.82,0.82,0.83,0.83,0.84,0.84,0.85,0.85,0.86,0.86,0.87,0.87,0.88,0.88,0.89,0.89,0.91,0.91,0.92,0.92,0.93,0.93,0.94,0.94,0.95,0.95,0.96,0.96,0.97,0.97,0.98,0.98,0.99,0.99,1.0,1.0],\"type\":\"scatter\"},{\"mode\":\"lines\",\"name\":\"05 TaiwanStraberry (AUC=0.97)\",\"x\":[0.0,0.0,0.0,0.0,0.0,0.0,0.0,0.0,0.0,0.0010482180293501049,0.0010482180293501049,0.0020964360587002098,0.0020964360587002098,0.0031446540880503146,0.0031446540880503146,0.005241090146750524,0.005241090146750524,0.006289308176100629,0.006289308176100629,0.010482180293501049,0.010482180293501049,0.012578616352201259,0.012578616352201259,0.013626834381551363,0.013626834381551363,0.014675052410901468,0.014675052410901468,0.016771488469601678,0.016771488469601678,0.018867924528301886,0.018867924528301886,0.0220125786163522,0.0220125786163522,0.02410901467505241,0.02410901467505241,0.02830188679245283,0.02830188679245283,0.029350104821802937,0.029350104821802937,0.033542976939203356,0.033542976939203356,0.03773584905660377,0.03773584905660377,0.040880503144654086,0.040880503144654086,0.041928721174004195,0.041928721174004195,0.0440251572327044,0.0440251572327044,0.04507337526205451,0.04507337526205451,0.051362683438155136,0.051362683438155136,0.0639412997903564,0.0639412997903564,0.07442348008385745,0.07442348008385745,0.09014675052410902,0.09014675052410902,0.10482180293501048,0.10482180293501048,0.11740041928721175,0.11740041928721175,0.13522012578616352,0.13522012578616352,0.18658280922431866,0.18658280922431866,0.22431865828092243,0.22431865828092243,0.2358490566037736,0.2358490566037736,0.469601677148847,0.469601677148847,1.0],\"y\":[0.0,0.08247422680412371,0.1134020618556701,0.1958762886597938,0.23711340206185566,0.25773195876288657,0.29896907216494845,0.31958762886597936,0.36082474226804123,0.36082474226804123,0.4639175257731959,0.4639175257731959,0.5154639175257731,0.5154639175257731,0.5463917525773195,0.5463917525773195,0.5876288659793815,0.5876288659793815,0.6391752577319587,0.6391752577319587,0.6494845360824743,0.6494845360824743,0.6597938144329897,0.6597938144329897,0.6804123711340206,0.6804123711340206,0.6907216494845361,0.6907216494845361,0.7010309278350515,0.7010309278350515,0.7319587628865979,0.7319587628865979,0.7422680412371134,0.7422680412371134,0.7525773195876289,0.7525773195876289,0.7835051546391752,0.7835051546391752,0.8144329896907216,0.8144329896907216,0.8247422680412371,0.8247422680412371,0.8350515463917526,0.8350515463917526,0.845360824742268,0.845360824742268,0.8556701030927835,0.8556701030927835,0.865979381443299,0.865979381443299,0.8762886597938144,0.8762886597938144,0.8865979381443299,0.8865979381443299,0.8969072164948454,0.8969072164948454,0.9072164948453608,0.9072164948453608,0.9278350515463918,0.9278350515463918,0.9381443298969072,0.9381443298969072,0.9484536082474226,0.9484536082474226,0.9587628865979382,0.9587628865979382,0.9690721649484536,0.9690721649484536,0.979381443298969,0.979381443298969,0.9896907216494846,0.9896907216494846,1.0,1.0],\"type\":\"scatter\"},{\"mode\":\"lines\",\"name\":\"06 BlackAustralia (AUC=0.91)\",\"x\":[0.0,0.04004329004329004,0.05303030303030303,0.05844155844155844,0.06277056277056277,0.06926406926406926,0.07251082251082251,0.0735930735930736,0.07792207792207792,0.07900432900432901,0.08116883116883117,0.08333333333333333,0.0854978354978355,0.0854978354978355,0.08658008658008658,0.08658008658008658,0.08766233766233766,0.08766233766233766,0.09090909090909091,0.09199134199134198,0.09307359307359307,0.09415584415584416,0.09415584415584416,0.09523809523809523,0.09523809523809523,0.09632034632034632,0.09632034632034632,0.09632034632034632,0.09740259740259741,0.09956709956709957,0.09956709956709957,0.10173160173160173,0.10281385281385282,0.10281385281385282,0.10930735930735931,0.11147186147186147,0.11471861471861472,0.11471861471861472,0.11688311688311688,0.11904761904761904,0.12012987012987013,0.12229437229437229,0.12445887445887446,0.12445887445887446,0.1277056277056277,0.1277056277056277,0.12878787878787878,0.12878787878787878,0.1331168831168831,0.1331168831168831,0.13636363636363635,0.13636363636363635,0.13744588744588745,0.13744588744588745,0.14177489177489178,0.14177489177489178,0.1461038961038961,0.1471861471861472,0.1471861471861472,0.14935064935064934,0.14935064935064934,0.15151515151515152,0.15151515151515152,0.1525974025974026,0.1525974025974026,0.15584415584415584,0.15584415584415584,0.15800865800865802,0.15800865800865802,0.1645021645021645,0.1645021645021645,0.16666666666666666,0.16666666666666666,0.17532467532467533,0.17532467532467533,0.1774891774891775,0.1774891774891775,0.18073593073593072,0.18073593073593072,0.18181818181818182,0.18181818181818182,0.18506493506493507,0.18506493506493507,0.18722943722943722,0.18722943722943722,0.18831168831168832,0.18831168831168832,0.1937229437229437,0.1937229437229437,0.1958874458874459,0.1958874458874459,0.19913419913419914,0.19913419913419914,0.2196969696969697,0.2196969696969697,0.23376623376623376,0.23376623376623376,0.23484848484848486,0.23484848484848486,0.237012987012987,0.237012987012987,0.24458874458874458,0.24458874458874458,0.2564935064935065,0.2564935064935065,0.25865800865800864,0.25865800865800864,0.3008658008658009,0.3008658008658009,0.3116883116883117,0.3116883116883117,0.35173160173160173,0.35173160173160173,1.0],\"y\":[0.0,0.33070866141732286,0.4015748031496063,0.41732283464566927,0.4251968503937008,0.4566929133858268,0.48031496062992124,0.4881889763779528,0.4881889763779528,0.4881889763779528,0.5039370078740157,0.5118110236220472,0.5118110236220472,0.5196850393700787,0.5196850393700787,0.5275590551181102,0.5275590551181102,0.5354330708661418,0.5354330708661418,0.5433070866141733,0.5590551181102362,0.5590551181102362,0.5748031496062992,0.5905511811023622,0.5984251968503937,0.5984251968503937,0.6062992125984252,0.6220472440944882,0.6377952755905512,0.6377952755905512,0.6456692913385826,0.6456692913385826,0.6456692913385826,0.6535433070866141,0.6535433070866141,0.6535433070866141,0.6535433070866141,0.6692913385826772,0.6692913385826772,0.6692913385826772,0.6692913385826772,0.6692913385826772,0.6692913385826772,0.6771653543307087,0.6771653543307087,0.6929133858267716,0.7007874015748031,0.7086614173228346,0.7086614173228346,0.7165354330708661,0.7165354330708661,0.7244094488188977,0.7244094488188977,0.7322834645669292,0.7322834645669292,0.7401574803149606,0.7401574803149606,0.7480314960629921,0.7559055118110236,0.7559055118110236,0.7716535433070866,0.7716535433070866,0.7795275590551181,0.7795275590551181,0.7874015748031497,0.7874015748031497,0.7952755905511811,0.7952755905511811,0.8031496062992126,0.8031496062992126,0.8110236220472441,0.8110236220472441,0.8188976377952756,0.8188976377952756,0.8346456692913385,0.8346456692913385,0.8503937007874016,0.8503937007874016,0.8661417322834646,0.8661417322834646,0.8740157480314961,0.8740157480314961,0.8818897637795275,0.8818897637795275,0.889763779527559,0.889763779527559,0.8976377952755905,0.8976377952755905,0.905511811023622,0.905511811023622,0.9133858267716536,0.9133858267716536,0.9212598425196851,0.9212598425196851,0.9291338582677166,0.9291338582677166,0.937007874015748,0.937007874015748,0.9448818897637795,0.9448818897637795,0.952755905511811,0.952755905511811,0.9606299212598425,0.9606299212598425,0.968503937007874,0.968503937007874,0.9763779527559056,0.9763779527559056,0.984251968503937,0.984251968503937,0.9921259842519685,0.9921259842519685,1.0,1.0],\"type\":\"scatter\"},{\"mode\":\"lines\",\"name\":\"07 Buriram60 (AUC=0.65)\",\"x\":[0.0,0.0,0.0,0.0010183299389002036,0.0010183299389002036,0.0050916496945010185,0.0050916496945010185,0.006109979633401222,0.006109979633401222,0.007128309572301426,0.007128309572301426,0.018329938900203666,0.018329938900203666,0.021384928716904276,0.021384928716904276,0.0274949083503055,0.0274949083503055,0.031568228105906315,0.031568228105906315,0.03665987780040733,0.03665987780040733,0.04480651731160896,0.04480651731160896,0.051934826883910386,0.051934826883910386,0.0539714867617108,0.0539714867617108,0.06517311608961303,0.06517311608961303,0.07942973523421588,0.07942973523421588,0.0814663951120163,0.0814663951120163,0.11507128309572301,0.11507128309572301,0.1364562118126273,0.1364562118126273,0.1415478615071283,0.1415478615071283,0.159877800407332,0.159877800407332,0.17209775967413443,0.17209775967413443,0.17718940936863545,0.17718940936863545,0.17922606924643583,0.17922606924643583,0.1924643584521385,0.1924643584521385,0.20162932790224034,0.20162932790224034,0.20773930753564154,0.20773930753564154,0.23319755600814665,0.23319755600814665,0.269857433808554,0.269857433808554,0.2973523421588595,0.2973523421588595,0.31466395112016293,0.31466395112016293,0.3289205702647658,0.3289205702647658,0.3564154786150713,0.3564154786150713,0.3594704684317719,0.3594704684317719,0.3635437881873727,0.3635437881873727,0.4378818737270876,0.4378818737270876,0.439918533604888,0.439918533604888,0.4429735234215886,0.4429735234215886,0.4694501018329939,0.4694501018329939,0.5020366598778004,0.5020366598778004,0.5081466395112016,0.5081466395112016,0.5407331975560081,0.5407331975560081,0.5733197556008147,0.5733197556008147,0.5835030549898167,0.5835030549898167,0.5865580448065173,0.5865580448065173,0.6405295315682281,0.6405295315682281,0.6466395112016293,0.6466395112016293,0.6558044806517311,0.6558044806517311,0.6802443991853361,0.6802443991853361,0.6955193482688391,0.6955193482688391,0.7016293279022403,0.7016293279022403,0.7179226069246436,0.7179226069246436,0.7230142566191446,0.7230142566191446,0.7423625254582484,0.7423625254582484,0.7484725050916496,0.7484725050916496,0.7535641547861507,0.7535641547861507,0.7596741344195519,0.7596741344195519,0.7688391038696538,0.7688391038696538,0.7830957230142567,0.7830957230142567,0.7892057026476579,0.7892057026476579,0.7983706720977597,0.7983706720977597,0.835030549898167,0.835030549898167,0.8441955193482689,0.8441955193482689,0.860488798370672,0.860488798370672,1.0],\"y\":[0.0,0.014492753623188406,0.028985507246376812,0.028985507246376812,0.043478260869565216,0.043478260869565216,0.07246376811594203,0.07246376811594203,0.08695652173913043,0.08695652173913043,0.11594202898550725,0.11594202898550725,0.13043478260869565,0.13043478260869565,0.17391304347826086,0.17391304347826086,0.2028985507246377,0.2028985507246377,0.21739130434782608,0.21739130434782608,0.2318840579710145,0.2318840579710145,0.2463768115942029,0.2463768115942029,0.2608695652173913,0.2608695652173913,0.2753623188405797,0.2753623188405797,0.2898550724637681,0.2898550724637681,0.30434782608695654,0.30434782608695654,0.3188405797101449,0.3188405797101449,0.3333333333333333,0.3333333333333333,0.34782608695652173,0.34782608695652173,0.36231884057971014,0.36231884057971014,0.37681159420289856,0.37681159420289856,0.391304347826087,0.391304347826087,0.4057971014492754,0.4057971014492754,0.42028985507246375,0.42028985507246375,0.43478260869565216,0.43478260869565216,0.4492753623188406,0.4492753623188406,0.463768115942029,0.463768115942029,0.4782608695652174,0.4782608695652174,0.4927536231884058,0.4927536231884058,0.5072463768115942,0.5072463768115942,0.5217391304347826,0.5217391304347826,0.5362318840579711,0.5362318840579711,0.5507246376811594,0.5507246376811594,0.5652173913043478,0.5652173913043478,0.5797101449275363,0.5797101449275363,0.5942028985507246,0.5942028985507246,0.6086956521739131,0.6086956521739131,0.6231884057971014,0.6231884057971014,0.6376811594202898,0.6376811594202898,0.6521739130434783,0.6521739130434783,0.6666666666666666,0.6666666666666666,0.6811594202898551,0.6811594202898551,0.6956521739130435,0.6956521739130435,0.7101449275362319,0.7101449275362319,0.7246376811594203,0.7246376811594203,0.7391304347826086,0.7391304347826086,0.7536231884057971,0.7536231884057971,0.7681159420289855,0.7681159420289855,0.782608695652174,0.782608695652174,0.7971014492753623,0.7971014492753623,0.8115942028985508,0.8115942028985508,0.8260869565217391,0.8260869565217391,0.8405797101449275,0.8405797101449275,0.855072463768116,0.855072463768116,0.8695652173913043,0.8695652173913043,0.8840579710144928,0.8840579710144928,0.8985507246376812,0.8985507246376812,0.9130434782608695,0.9130434782608695,0.927536231884058,0.927536231884058,0.9420289855072463,0.9420289855072463,0.9565217391304348,0.9565217391304348,0.9710144927536232,0.9710144927536232,0.9855072463768116,0.9855072463768116,1.0,1.0],\"type\":\"scatter\"},{\"mode\":\"lines\",\"name\":\"08 Kamphaengsaeng42 (AUC=0.99)\",\"x\":[0.0,0.0,0.0,0.0010515247108307045,0.0010515247108307045,0.002103049421661409,0.002103049421661409,0.0031545741324921135,0.0031545741324921135,0.005257623554153523,0.005257623554153523,0.00946372239747634,0.00946372239747634,0.010515247108307046,0.010515247108307046,0.01892744479495268,0.01892744479495268,0.03890641430073607,0.03890641430073607,0.04100946372239748,0.04100946372239748,0.05783385909568875,0.05783385909568875,0.07360672975814932,0.07360672975814932,0.10620399579390116,0.10620399579390116,0.13144058885383805,0.13144058885383805,0.17034700315457413,0.17034700315457413,0.19873817034700317,0.19873817034700317,0.20294426919032596,0.20294426919032596,0.2502628811777077,0.2502628811777077,1.0],\"y\":[0.0,0.01,0.61,0.61,0.77,0.77,0.79,0.79,0.81,0.81,0.84,0.84,0.85,0.85,0.87,0.87,0.88,0.88,0.89,0.89,0.92,0.92,0.93,0.93,0.94,0.94,0.95,0.95,0.96,0.96,0.97,0.97,0.98,0.98,0.99,0.99,1.0,1.0],\"type\":\"scatter\"},{\"mode\":\"lines\",\"name\":\"09 TaiwanMeacho (AUC=0.97)\",\"x\":[0.0,0.0,0.0,0.0021668472372697724,0.0021668472372697724,0.005417118093174431,0.005417118093174431,0.0065005417118093175,0.0065005417118093175,0.009750812567713976,0.009750812567713976,0.011917659804983749,0.011917659804983749,0.013001083423618635,0.013001083423618635,0.015167930660888408,0.015167930660888408,0.016251354279523293,0.016251354279523293,0.018418201516793065,0.018418201516793065,0.01950162513542795,0.01950162513542795,0.023835319609967497,0.023835319609967497,0.027085590465872156,0.027085590465872156,0.0314192849404117,0.0314192849404117,0.03358613217768147,0.03358613217768147,0.03791982665222102,0.03791982665222102,0.0390032502708559,0.0390032502708559,0.04225352112676056,0.04225352112676056,0.050920910075839654,0.050920910075839654,0.059588299024918745,0.059588299024918745,0.06392199349945829,0.06392199349945829,0.06933911159263272,0.06933911159263272,0.07583965330444203,0.07583965330444203,0.07692307692307693,0.07692307692307693,0.0780065005417118,0.0780065005417118,0.08450704225352113,0.08450704225352113,0.08559046587215602,0.08559046587215602,0.09209100758396534,0.09209100758396534,0.09425785482123511,0.09425785482123511,0.12351029252437704,0.12351029252437704,0.12892741061755147,0.12892741061755147,0.13001083423618634,0.13001083423618634,0.13867822318526543,0.13867822318526543,0.14301191765980498,0.14301191765980498,0.1646803900325027,0.1646803900325027,0.24702058504875407,0.24702058504875407,0.2524377031419285,0.2524377031419285,0.3066088840736728,0.3066088840736728,0.4723726977248104,0.4723726977248104,1.0],\"y\":[0.0,0.0078125,0.5234375,0.5234375,0.5546875,0.5546875,0.5625,0.5625,0.6640625,0.6640625,0.671875,0.671875,0.6953125,0.6953125,0.703125,0.703125,0.7265625,0.7265625,0.734375,0.734375,0.75,0.75,0.7578125,0.7578125,0.765625,0.765625,0.78125,0.78125,0.7890625,0.7890625,0.796875,0.796875,0.8125,0.8125,0.8203125,0.8203125,0.828125,0.828125,0.8359375,0.8359375,0.84375,0.84375,0.8515625,0.8515625,0.859375,0.859375,0.8671875,0.8671875,0.875,0.875,0.8828125,0.8828125,0.890625,0.890625,0.8984375,0.8984375,0.90625,0.90625,0.9140625,0.9140625,0.921875,0.921875,0.9375,0.9375,0.9453125,0.9453125,0.953125,0.953125,0.9609375,0.9609375,0.96875,0.96875,0.9765625,0.9765625,0.984375,0.984375,0.9921875,0.9921875,1.0,1.0],\"type\":\"scatter\"},{\"mode\":\"lines\",\"name\":\"10 ChiangMaiBuriram60 (AUC=0.99)\",\"x\":[0.0,0.0,0.0,0.0,0.0,0.0,0.0,0.0,0.0,0.0,0.0,0.0,0.0011123470522803114,0.0011123470522803114,0.0011123470522803114,0.0011123470522803114,0.002224694104560623,0.002224694104560623,0.0033370411568409346,0.0033370411568409346,0.004449388209121246,0.004449388209121246,0.0055617352614015575,0.0055617352614015575,0.00778642936596218,0.00778642936596218,0.008898776418242492,0.008898776418242492,0.010011123470522803,0.010011123470522803,0.011123470522803115,0.011123470522803115,0.012235817575083427,0.012235817575083427,0.013348164627363738,0.013348164627363738,0.014460511679644048,0.014460511679644048,0.01557285873192436,0.01557285873192436,0.01668520578420467,0.01668520578420467,0.020022246941045607,0.020022246941045607,0.021134593993325918,0.021134593993325918,0.026696329254727477,0.026696329254727477,0.030033370411568408,0.030033370411568408,0.03337041156840934,0.03337041156840934,0.03670745272525028,0.03670745272525028,0.04449388209121246,0.04449388209121246,0.047830923248053395,0.047830923248053395,0.10011123470522804,0.10011123470522804,0.13348164627363737,0.13348164627363737,1.0],\"y\":[0.0,0.21052631578947367,0.24342105263157895,0.28289473684210525,0.3092105263157895,0.34210526315789475,0.35526315789473684,0.3684210526315789,0.3815789473684211,0.40789473684210525,0.42105263157894735,0.4473684210526316,0.4473684210526316,0.45394736842105265,0.46710526315789475,0.48026315789473684,0.4868421052631579,0.506578947368421,0.506578947368421,0.5197368421052632,0.5197368421052632,0.618421052631579,0.618421052631579,0.6381578947368421,0.6381578947368421,0.6907894736842105,0.6907894736842105,0.6973684210526315,0.6973684210526315,0.7236842105263158,0.7236842105263158,0.7368421052631579,0.7368421052631579,0.8026315789473685,0.8026315789473685,0.8552631578947368,0.8552631578947368,0.881578947368421,0.881578947368421,0.8881578947368421,0.8881578947368421,0.8947368421052632,0.8947368421052632,0.9210526315789473,0.9210526315789473,0.9342105263157895,0.9342105263157895,0.9473684210526315,0.9473684210526315,0.9605263157894737,0.9605263157894737,0.9671052631578947,0.9671052631578947,0.9736842105263158,0.9736842105263158,0.9802631578947368,0.9802631578947368,0.9868421052631579,0.9868421052631579,0.993421052631579,0.993421052631579,1.0,1.0],\"type\":\"scatter\"}],                        {\"template\":{\"data\":{\"histogram2dcontour\":[{\"type\":\"histogram2dcontour\",\"colorbar\":{\"outlinewidth\":0,\"ticks\":\"\"},\"colorscale\":[[0.0,\"#0d0887\"],[0.1111111111111111,\"#46039f\"],[0.2222222222222222,\"#7201a8\"],[0.3333333333333333,\"#9c179e\"],[0.4444444444444444,\"#bd3786\"],[0.5555555555555556,\"#d8576b\"],[0.6666666666666666,\"#ed7953\"],[0.7777777777777778,\"#fb9f3a\"],[0.8888888888888888,\"#fdca26\"],[1.0,\"#f0f921\"]]}],\"choropleth\":[{\"type\":\"choropleth\",\"colorbar\":{\"outlinewidth\":0,\"ticks\":\"\"}}],\"histogram2d\":[{\"type\":\"histogram2d\",\"colorbar\":{\"outlinewidth\":0,\"ticks\":\"\"},\"colorscale\":[[0.0,\"#0d0887\"],[0.1111111111111111,\"#46039f\"],[0.2222222222222222,\"#7201a8\"],[0.3333333333333333,\"#9c179e\"],[0.4444444444444444,\"#bd3786\"],[0.5555555555555556,\"#d8576b\"],[0.6666666666666666,\"#ed7953\"],[0.7777777777777778,\"#fb9f3a\"],[0.8888888888888888,\"#fdca26\"],[1.0,\"#f0f921\"]]}],\"heatmap\":[{\"type\":\"heatmap\",\"colorbar\":{\"outlinewidth\":0,\"ticks\":\"\"},\"colorscale\":[[0.0,\"#0d0887\"],[0.1111111111111111,\"#46039f\"],[0.2222222222222222,\"#7201a8\"],[0.3333333333333333,\"#9c179e\"],[0.4444444444444444,\"#bd3786\"],[0.5555555555555556,\"#d8576b\"],[0.6666666666666666,\"#ed7953\"],[0.7777777777777778,\"#fb9f3a\"],[0.8888888888888888,\"#fdca26\"],[1.0,\"#f0f921\"]]}],\"heatmapgl\":[{\"type\":\"heatmapgl\",\"colorbar\":{\"outlinewidth\":0,\"ticks\":\"\"},\"colorscale\":[[0.0,\"#0d0887\"],[0.1111111111111111,\"#46039f\"],[0.2222222222222222,\"#7201a8\"],[0.3333333333333333,\"#9c179e\"],[0.4444444444444444,\"#bd3786\"],[0.5555555555555556,\"#d8576b\"],[0.6666666666666666,\"#ed7953\"],[0.7777777777777778,\"#fb9f3a\"],[0.8888888888888888,\"#fdca26\"],[1.0,\"#f0f921\"]]}],\"contourcarpet\":[{\"type\":\"contourcarpet\",\"colorbar\":{\"outlinewidth\":0,\"ticks\":\"\"}}],\"contour\":[{\"type\":\"contour\",\"colorbar\":{\"outlinewidth\":0,\"ticks\":\"\"},\"colorscale\":[[0.0,\"#0d0887\"],[0.1111111111111111,\"#46039f\"],[0.2222222222222222,\"#7201a8\"],[0.3333333333333333,\"#9c179e\"],[0.4444444444444444,\"#bd3786\"],[0.5555555555555556,\"#d8576b\"],[0.6666666666666666,\"#ed7953\"],[0.7777777777777778,\"#fb9f3a\"],[0.8888888888888888,\"#fdca26\"],[1.0,\"#f0f921\"]]}],\"surface\":[{\"type\":\"surface\",\"colorbar\":{\"outlinewidth\":0,\"ticks\":\"\"},\"colorscale\":[[0.0,\"#0d0887\"],[0.1111111111111111,\"#46039f\"],[0.2222222222222222,\"#7201a8\"],[0.3333333333333333,\"#9c179e\"],[0.4444444444444444,\"#bd3786\"],[0.5555555555555556,\"#d8576b\"],[0.6666666666666666,\"#ed7953\"],[0.7777777777777778,\"#fb9f3a\"],[0.8888888888888888,\"#fdca26\"],[1.0,\"#f0f921\"]]}],\"mesh3d\":[{\"type\":\"mesh3d\",\"colorbar\":{\"outlinewidth\":0,\"ticks\":\"\"}}],\"scatter\":[{\"fillpattern\":{\"fillmode\":\"overlay\",\"size\":10,\"solidity\":0.2},\"type\":\"scatter\"}],\"parcoords\":[{\"type\":\"parcoords\",\"line\":{\"colorbar\":{\"outlinewidth\":0,\"ticks\":\"\"}}}],\"scatterpolargl\":[{\"type\":\"scatterpolargl\",\"marker\":{\"colorbar\":{\"outlinewidth\":0,\"ticks\":\"\"}}}],\"bar\":[{\"error_x\":{\"color\":\"#2a3f5f\"},\"error_y\":{\"color\":\"#2a3f5f\"},\"marker\":{\"line\":{\"color\":\"#E5ECF6\",\"width\":0.5},\"pattern\":{\"fillmode\":\"overlay\",\"size\":10,\"solidity\":0.2}},\"type\":\"bar\"}],\"scattergeo\":[{\"type\":\"scattergeo\",\"marker\":{\"colorbar\":{\"outlinewidth\":0,\"ticks\":\"\"}}}],\"scatterpolar\":[{\"type\":\"scatterpolar\",\"marker\":{\"colorbar\":{\"outlinewidth\":0,\"ticks\":\"\"}}}],\"histogram\":[{\"marker\":{\"pattern\":{\"fillmode\":\"overlay\",\"size\":10,\"solidity\":0.2}},\"type\":\"histogram\"}],\"scattergl\":[{\"type\":\"scattergl\",\"marker\":{\"colorbar\":{\"outlinewidth\":0,\"ticks\":\"\"}}}],\"scatter3d\":[{\"type\":\"scatter3d\",\"line\":{\"colorbar\":{\"outlinewidth\":0,\"ticks\":\"\"}},\"marker\":{\"colorbar\":{\"outlinewidth\":0,\"ticks\":\"\"}}}],\"scattermapbox\":[{\"type\":\"scattermapbox\",\"marker\":{\"colorbar\":{\"outlinewidth\":0,\"ticks\":\"\"}}}],\"scatterternary\":[{\"type\":\"scatterternary\",\"marker\":{\"colorbar\":{\"outlinewidth\":0,\"ticks\":\"\"}}}],\"scattercarpet\":[{\"type\":\"scattercarpet\",\"marker\":{\"colorbar\":{\"outlinewidth\":0,\"ticks\":\"\"}}}],\"carpet\":[{\"aaxis\":{\"endlinecolor\":\"#2a3f5f\",\"gridcolor\":\"white\",\"linecolor\":\"white\",\"minorgridcolor\":\"white\",\"startlinecolor\":\"#2a3f5f\"},\"baxis\":{\"endlinecolor\":\"#2a3f5f\",\"gridcolor\":\"white\",\"linecolor\":\"white\",\"minorgridcolor\":\"white\",\"startlinecolor\":\"#2a3f5f\"},\"type\":\"carpet\"}],\"table\":[{\"cells\":{\"fill\":{\"color\":\"#EBF0F8\"},\"line\":{\"color\":\"white\"}},\"header\":{\"fill\":{\"color\":\"#C8D4E3\"},\"line\":{\"color\":\"white\"}},\"type\":\"table\"}],\"barpolar\":[{\"marker\":{\"line\":{\"color\":\"#E5ECF6\",\"width\":0.5},\"pattern\":{\"fillmode\":\"overlay\",\"size\":10,\"solidity\":0.2}},\"type\":\"barpolar\"}],\"pie\":[{\"automargin\":true,\"type\":\"pie\"}]},\"layout\":{\"autotypenumbers\":\"strict\",\"colorway\":[\"#636efa\",\"#EF553B\",\"#00cc96\",\"#ab63fa\",\"#FFA15A\",\"#19d3f3\",\"#FF6692\",\"#B6E880\",\"#FF97FF\",\"#FECB52\"],\"font\":{\"color\":\"#2a3f5f\"},\"hovermode\":\"closest\",\"hoverlabel\":{\"align\":\"left\"},\"paper_bgcolor\":\"white\",\"plot_bgcolor\":\"#E5ECF6\",\"polar\":{\"bgcolor\":\"#E5ECF6\",\"angularaxis\":{\"gridcolor\":\"white\",\"linecolor\":\"white\",\"ticks\":\"\"},\"radialaxis\":{\"gridcolor\":\"white\",\"linecolor\":\"white\",\"ticks\":\"\"}},\"ternary\":{\"bgcolor\":\"#E5ECF6\",\"aaxis\":{\"gridcolor\":\"white\",\"linecolor\":\"white\",\"ticks\":\"\"},\"baxis\":{\"gridcolor\":\"white\",\"linecolor\":\"white\",\"ticks\":\"\"},\"caxis\":{\"gridcolor\":\"white\",\"linecolor\":\"white\",\"ticks\":\"\"}},\"coloraxis\":{\"colorbar\":{\"outlinewidth\":0,\"ticks\":\"\"}},\"colorscale\":{\"sequential\":[[0.0,\"#0d0887\"],[0.1111111111111111,\"#46039f\"],[0.2222222222222222,\"#7201a8\"],[0.3333333333333333,\"#9c179e\"],[0.4444444444444444,\"#bd3786\"],[0.5555555555555556,\"#d8576b\"],[0.6666666666666666,\"#ed7953\"],[0.7777777777777778,\"#fb9f3a\"],[0.8888888888888888,\"#fdca26\"],[1.0,\"#f0f921\"]],\"sequentialminus\":[[0.0,\"#0d0887\"],[0.1111111111111111,\"#46039f\"],[0.2222222222222222,\"#7201a8\"],[0.3333333333333333,\"#9c179e\"],[0.4444444444444444,\"#bd3786\"],[0.5555555555555556,\"#d8576b\"],[0.6666666666666666,\"#ed7953\"],[0.7777777777777778,\"#fb9f3a\"],[0.8888888888888888,\"#fdca26\"],[1.0,\"#f0f921\"]],\"diverging\":[[0,\"#8e0152\"],[0.1,\"#c51b7d\"],[0.2,\"#de77ae\"],[0.3,\"#f1b6da\"],[0.4,\"#fde0ef\"],[0.5,\"#f7f7f7\"],[0.6,\"#e6f5d0\"],[0.7,\"#b8e186\"],[0.8,\"#7fbc41\"],[0.9,\"#4d9221\"],[1,\"#276419\"]]},\"xaxis\":{\"gridcolor\":\"white\",\"linecolor\":\"white\",\"ticks\":\"\",\"title\":{\"standoff\":15},\"zerolinecolor\":\"white\",\"automargin\":true,\"zerolinewidth\":2},\"yaxis\":{\"gridcolor\":\"white\",\"linecolor\":\"white\",\"ticks\":\"\",\"title\":{\"standoff\":15},\"zerolinecolor\":\"white\",\"automargin\":true,\"zerolinewidth\":2},\"scene\":{\"xaxis\":{\"backgroundcolor\":\"#E5ECF6\",\"gridcolor\":\"white\",\"linecolor\":\"white\",\"showbackground\":true,\"ticks\":\"\",\"zerolinecolor\":\"white\",\"gridwidth\":2},\"yaxis\":{\"backgroundcolor\":\"#E5ECF6\",\"gridcolor\":\"white\",\"linecolor\":\"white\",\"showbackground\":true,\"ticks\":\"\",\"zerolinecolor\":\"white\",\"gridwidth\":2},\"zaxis\":{\"backgroundcolor\":\"#E5ECF6\",\"gridcolor\":\"white\",\"linecolor\":\"white\",\"showbackground\":true,\"ticks\":\"\",\"zerolinecolor\":\"white\",\"gridwidth\":2}},\"shapedefaults\":{\"line\":{\"color\":\"#2a3f5f\"}},\"annotationdefaults\":{\"arrowcolor\":\"#2a3f5f\",\"arrowhead\":0,\"arrowwidth\":1},\"geo\":{\"bgcolor\":\"white\",\"landcolor\":\"#E5ECF6\",\"subunitcolor\":\"white\",\"showland\":true,\"showlakes\":true,\"lakecolor\":\"white\"},\"title\":{\"x\":0.05},\"mapbox\":{\"style\":\"light\"}}},\"shapes\":[{\"line\":{\"dash\":\"dash\"},\"type\":\"line\",\"x0\":0,\"x1\":1,\"y0\":0,\"y1\":1}],\"yaxis\":{\"title\":{\"text\":\"True Positive Rate\"},\"scaleanchor\":\"x\",\"scaleratio\":1},\"xaxis\":{\"title\":{\"text\":\"False Positive Rate\"},\"constrain\":\"domain\"},\"title\":{\"text\":\"ROC Curve\"},\"width\":900,\"height\":800},                        {\"responsive\": true}                    ).then(function(){\n",
              "                            \n",
              "var gd = document.getElementById('9f097123-3dbe-4766-9b82-665c0a801773');\n",
              "var x = new MutationObserver(function (mutations, observer) {{\n",
              "        var display = window.getComputedStyle(gd).display;\n",
              "        if (!display || display === 'none') {{\n",
              "            console.log([gd, 'removed!']);\n",
              "            Plotly.purge(gd);\n",
              "            observer.disconnect();\n",
              "        }}\n",
              "}});\n",
              "\n",
              "// Listen for the removal of the full notebook cells\n",
              "var notebookContainer = gd.closest('#notebook-container');\n",
              "if (notebookContainer) {{\n",
              "    x.observe(notebookContainer, {childList: true});\n",
              "}}\n",
              "\n",
              "// Listen for the clearing of the current output cell\n",
              "var outputEl = gd.closest('.output');\n",
              "if (outputEl) {{\n",
              "    x.observe(outputEl, {childList: true});\n",
              "}}\n",
              "\n",
              "                        })                };                            </script>        </div>\n",
              "</body>\n",
              "</html>"
            ]
          },
          "metadata": {}
        }
      ],
      "source": [
        "roc_auc_curve(y_test_pred_prob, y_test)"
      ]
    },
    {
      "cell_type": "code",
      "execution_count": 43,
      "metadata": {
        "id": "AymS4krnmhuC"
      },
      "outputs": [],
      "source": [
        "#from tensorflow.keras.models import save_model\n"
      ]
    },
    {
      "cell_type": "code",
      "execution_count": 44,
      "metadata": {
        "id": "Bp4G0LZqm0Sq"
      },
      "outputs": [],
      "source": [
        "#MODEL_FILENAMEs=root_path+\"model_5fold_EfficientNetB4_16e3.h5\"\n",
        "#model.save(MODEL_FILENAMEs)"
      ]
    }
  ],
  "metadata": {
    "accelerator": "GPU",
    "colab": {
      "provenance": [],
      "toc_visible": true,
      "gpuType": "T4",
      "include_colab_link": true
    },
    "kernelspec": {
      "display_name": "Python 3",
      "name": "python3"
    },
    "language_info": {
      "name": "python"
    }
  },
  "nbformat": 4,
  "nbformat_minor": 0
}