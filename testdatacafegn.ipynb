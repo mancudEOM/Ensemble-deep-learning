{
  "nbformat": 4,
  "nbformat_minor": 0,
  "metadata": {
    "colab": {
      "provenance": [],
      "include_colab_link": true
    },
    "kernelspec": {
      "name": "python3",
      "display_name": "Python 3"
    },
    "language_info": {
      "name": "python"
    }
  },
  "cells": [
    {
      "cell_type": "markdown",
      "metadata": {
        "id": "view-in-github",
        "colab_type": "text"
      },
      "source": [
        "<a href=\"https://colab.research.google.com/github/mancudEOM/Ensemble-deep-learning/blob/main/testdatacafegn.ipynb\" target=\"_parent\"><img src=\"https://colab.research.google.com/assets/colab-badge.svg\" alt=\"Open In Colab\"/></a>"
      ]
    },
    {
      "cell_type": "code",
      "execution_count": 9,
      "metadata": {
        "colab": {
          "base_uri": "https://localhost:8080/"
        },
        "id": "TPlHMOzn-dOF",
        "outputId": "5b239ab7-5d06-4019-d67b-132dfaf55958"
      },
      "outputs": [
        {
          "output_type": "stream",
          "name": "stdout",
          "text": [
            "Drive already mounted at /content/drive; to attempt to forcibly remount, call drive.mount(\"/content/drive\", force_remount=True).\n"
          ]
        }
      ],
      "source": [
        "  from google.colab import drive\n",
        "  drive.mount('/content/drive')"
      ]
    },
    {
      "cell_type": "code",
      "source": [
        "!ls"
      ],
      "metadata": {
        "colab": {
          "base_uri": "https://localhost:8080/"
        },
        "id": "NNMYdAqUj8LH",
        "outputId": "1d1316b1-1987-44d6-82f4-641e80016c14"
      },
      "execution_count": 10,
      "outputs": [
        {
          "output_type": "stream",
          "name": "stdout",
          "text": [
            "drive  sample_data\n"
          ]
        }
      ]
    },
    {
      "cell_type": "code",
      "source": [
        "  import sys\n",
        "  root_path = '/content/drive/My Drive/Groundnut_Leaf_dataset/' # This is the path to where in google drive the code is stored!\n",
        "  sys.path.append(root_path)"
      ],
      "metadata": {
        "id": "bLva7VF3AHuZ"
      },
      "execution_count": 11,
      "outputs": []
    },
    {
      "cell_type": "code",
      "source": [
        "from tensorflow.keras.models import Model, load_model\n",
        "from tensorflow.keras.layers import Input, Average\n",
        "from keras.models import Model\n",
        "from keras.layers import Input, Dense\n",
        "import tensorflow as tf"
      ],
      "metadata": {
        "id": "Sfm3POstsWiA"
      },
      "execution_count": 12,
      "outputs": []
    },
    {
      "cell_type": "code",
      "source": [
        "datasetFolderName=root_path+'dataset'\n",
        "MODEL_FILENAME=root_path+\"model_cv.h5\"\n",
        "sourceFiles=[]\n",
        "classLabels=['early_leaf_spot_1','early_rust_1','healthy_leaf_1',\n",
        "              'late_leaf_spot_1','nutrition_deficiency_1','rust_1']\n",
        "X=[]\n",
        "Y=[]\n",
        "\n",
        "img_rows, img_cols =  224, 224\n",
        "test_path=datasetFolderName+'/test/'+'/rust_1/'\n",
        "#+'Lot_2 (250).JPG'"
      ],
      "metadata": {
        "id": "o8uCd72HlcMf"
      },
      "execution_count": 13,
      "outputs": []
    },
    {
      "cell_type": "code",
      "source": [
        "class WeightedAverageLayer(tf.keras.layers.Layer):\n",
        "    def __init__(self, w1, w2, w3, **kwargs):\n",
        "        super(WeightedAverageLayer, self).__init__(**kwargs)\n",
        "        self.w1 = w1\n",
        "        self.w2 = w2\n",
        "        self.w3 = w3\n",
        "\n",
        "    def call(self, inputs):\n",
        "        return self.w1 * inputs[0] + self.w2 * inputs[1] + self.w3 * inputs[2]"
      ],
      "metadata": {
        "id": "Ehpwr4lMr0kV"
      },
      "execution_count": 14,
      "outputs": []
    },
    {
      "cell_type": "code",
      "source": [
        "\n",
        "\n",
        "# Disable scientific notation for clarity\n",
        "#np.set_printoptions(suppress=True)\n",
        "# Load the model\n",
        "model_1 =load_model(root_path+\"model_5fold_MobileNetV2_GN07mm.h5\",\n",
        "                    compile=False)\n",
        "model_1 = Model(inputs=model_1.inputs,\n",
        "                outputs=model_1.outputs,\n",
        "                name='model_5fold_MobileNetV2_GN07mm')\n",
        "model_2 = load_model(root_path+\"model_5fold_ResNet50V2_GN07.h5\",\n",
        "                     compile=False)\n",
        "model_2 = Model(inputs=model_1.inputs,\n",
        "                outputs=model_1.outputs,\n",
        "                name='model_5fold_ResNet50V2_GN07')\n",
        "model_3 = load_model(root_path+\"model_5fold_InceptionV3_GN07mm.h5\",\n",
        "                     compile=False)\n",
        "model_3 = Model(inputs=model_1.inputs,\n",
        "                outputs=model_1.outputs,\n",
        "                name='model_5fold_InceptionV3_GN07mm')\n",
        "models = [model_1, model_2, model_3]\n",
        "model_input = Input(shape=(224, 224, 3))\n",
        "model_outputs = [model(model_input) for model in models]\n",
        "#ensemble_output = Average()(model_outputs)\n",
        "ensemble_output = WeightedAverageLayer(0.1, 0.575, 0.325)(model_outputs)\n",
        "ensemble_model= Model(inputs=model_input, outputs=ensemble_output, name='ensemble')"
      ],
      "metadata": {
        "id": "PBmwwizb81oN"
      },
      "execution_count": 15,
      "outputs": []
    },
    {
      "cell_type": "code",
      "source": [
        "from keras.models import load_model\n",
        "import cv2\n",
        "import numpy as np\n",
        "\n",
        "\n",
        "class_names = ['early_leaf_spot_1','early_rust_1','healthy_leaf_1',\n",
        "              'late_leaf_spot_1','nutrition_deficiency_1','rust_1'] # fill the rest\n",
        "\n",
        "#model = load_model(root_path+\"model_5fold_DNMv2_10575325.h5\")\n",
        "\n",
        "ensemble_model.compile(loss='categorical_crossentropy',\n",
        "              optimizer='adam',\n",
        "              metrics=['accuracy'])\n",
        "\n",
        "img = cv2.imread(test_path+\"dr_0_25.jpg\")\n",
        "print(img)\n",
        "img = cv2.resize(img,(224,224))\n",
        "img = np.reshape(img,[1,224,224,3])\n",
        "\n",
        "classes = np.argmax(ensemble_model.predict(img), axis = -1)\n",
        "\n",
        "print(classes)\n",
        "\n",
        "names = [class_names[i] for i in classes]\n",
        "\n",
        "print(names)"
      ],
      "metadata": {
        "colab": {
          "base_uri": "https://localhost:8080/"
        },
        "id": "8kLxohgomwN2",
        "outputId": "179b9ebd-a4b4-4371-f644-8843a8b6c256"
      },
      "execution_count": 16,
      "outputs": [
        {
          "output_type": "stream",
          "name": "stdout",
          "text": [
            "[[[ 34  61  45]\n",
            "  [ 34  61  45]\n",
            "  [ 34  61  45]\n",
            "  ...\n",
            "  [152 211 207]\n",
            "  [156 210 205]\n",
            "  [159 211 204]]\n",
            "\n",
            " [[ 36  63  47]\n",
            "  [ 36  63  47]\n",
            "  [ 36  63  47]\n",
            "  ...\n",
            "  [152 211 207]\n",
            "  [156 210 205]\n",
            "  [159 211 204]]\n",
            "\n",
            " [[ 38  66  47]\n",
            "  [ 38  66  47]\n",
            "  [ 38  66  47]\n",
            "  ...\n",
            "  [154 211 208]\n",
            "  [158 209 205]\n",
            "  [160 211 204]]\n",
            "\n",
            " ...\n",
            "\n",
            " [[ 32  51  58]\n",
            "  [ 33  53  58]\n",
            "  [ 36  57  59]\n",
            "  ...\n",
            "  [100 164 164]\n",
            "  [100 164 164]\n",
            "  [101 165 165]]\n",
            "\n",
            " [[ 32  51  58]\n",
            "  [ 34  54  59]\n",
            "  [ 36  57  59]\n",
            "  ...\n",
            "  [ 96 162 161]\n",
            "  [ 95 161 160]\n",
            "  [ 95 161 160]]\n",
            "\n",
            " [[ 32  51  58]\n",
            "  [ 34  54  59]\n",
            "  [ 36  57  59]\n",
            "  ...\n",
            "  [ 99 165 164]\n",
            "  [101 167 166]\n",
            "  [101 167 166]]]\n",
            "1/1 [==============================] - 3s 3s/step\n",
            "[5]\n",
            "['rust_1']\n"
          ]
        }
      ]
    },
    {
      "cell_type": "code",
      "source": [
        "from tensorflow.keras.models import save_model"
      ],
      "metadata": {
        "id": "wWbqLmoRdA1Z"
      },
      "execution_count": 17,
      "outputs": []
    },
    {
      "cell_type": "code",
      "source": [
        "#MODEL_FILENAMEs=root_path+\"model_5fold_DNMv2_10775125.h5\"\n",
        "#ensemble_model.save(MODEL_FILENAMEs)"
      ],
      "metadata": {
        "id": "eIW-pBRzdyUz"
      },
      "execution_count": 18,
      "outputs": []
    },
    {
      "cell_type": "code",
      "source": [
        "import tensorflow as tf\n",
        "\n",
        "model = tf.keras.models.load_model(root_path+\"model_5fold_ResNet50V2_GN07.h5\")\n",
        "converter = tf.lite.TFLiteConverter.from_keras_model(model)\n",
        "tflite_model = converter.convert()\n",
        "open(\"model_5fold_ResNet50V2_GN07.tflite\", \"wb\").write(tflite_model)"
      ],
      "metadata": {
        "id": "LWqWXnqrYp21",
        "outputId": "b2e73ed1-66db-41d9-a2a9-8bbd615aaf52",
        "colab": {
          "base_uri": "https://localhost:8080/"
        }
      },
      "execution_count": 19,
      "outputs": [
        {
          "output_type": "stream",
          "name": "stderr",
          "text": [
            "WARNING:absl:Found untraced functions such as _update_step_xla, _jit_compiled_convolution_op, _jit_compiled_convolution_op, _jit_compiled_convolution_op, _jit_compiled_convolution_op while saving (showing 5 of 54). These functions will not be directly callable after loading.\n"
          ]
        },
        {
          "output_type": "execute_result",
          "data": {
            "text/plain": [
              "94150760"
            ]
          },
          "metadata": {},
          "execution_count": 19
        }
      ]
    },
    {
      "cell_type": "code",
      "source": [],
      "metadata": {
        "id": "t18RSrladXHR"
      },
      "execution_count": 19,
      "outputs": []
    }
  ]
}